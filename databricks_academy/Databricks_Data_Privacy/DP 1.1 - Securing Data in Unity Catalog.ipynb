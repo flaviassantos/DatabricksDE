{
 "cells": [
  {
   "cell_type": "markdown",
   "metadata": {
    "application/vnd.databricks.v1+cell": {
     "cellMetadata": {},
     "inputWidgets": {},
     "nuid": "11240cdb-4f10-49d0-8c50-1891b110be63",
     "showTitle": false,
     "tableResultSettingsMap": {},
     "title": ""
    }
   },
   "source": [
    "\n",
    "<div style=\"text-align: center; line-height: 0; padding-top: 9px;\">\n",
    "  <img src=\"https://databricks.com/wp-content/uploads/2018/03/db-academy-rgb-1200px.png\" alt=\"Databricks Learning\">\n",
    "</div>\n"
   ]
  },
  {
   "cell_type": "markdown",
   "metadata": {
    "application/vnd.databricks.v1+cell": {
     "cellMetadata": {},
     "inputWidgets": {},
     "nuid": "91af609c-247a-4d6f-8b12-61c54b12e3dd",
     "showTitle": false,
     "tableResultSettingsMap": {},
     "title": ""
    }
   },
   "source": [
    "# Securing Data in Unity Catalog\n",
    "\n",
    "In this demo you will learn how to hide sensitive data using 3 different approaches:\n",
    "* Views \n",
    "* Dynamic Views\n",
    "* Row Filter and Column Masks on Tables (introduced in 2024)\n",
    "\n",
    "Further, you will also learn data governance features of Unity Catalog\n",
    "* Introduction to Catalog Explorer \n",
    "* Enable data access to users using inherited and explicit privileges \n",
    "* Tagging + AI generated Documentation\n",
    "* Use Lineage and Insight features in Unity Catalog to understand data flow and access patterns.\n"
   ]
  },
  {
   "cell_type": "markdown",
   "metadata": {
    "application/vnd.databricks.v1+cell": {
     "cellMetadata": {},
     "inputWidgets": {},
     "nuid": "832a1e78-37fe-42a0-bc0f-24a5e446d59e",
     "showTitle": false,
     "tableResultSettingsMap": {},
     "title": ""
    }
   },
   "source": [
    "## REQUIRED - SELECT SERVERLESS\n",
    "\n",
    "Before executing cells in this notebook, please select Serverless cluster in the lab. Be aware that **Serverless** is enabled by default.\n",
    "\n",
    "Follow these steps to select the Serverless cluster:\n",
    "\n",
    "1. Navigate to the top-right of this notebook and click the drop-down menu to select your cluster. By default, the notebook will use **Serverless**.\n",
    "\n",
    "1. If your cluster is available, select it and continue to the next cell. If the cluster is not shown:\n",
    "\n",
    "  - In the drop-down, select **More**.\n",
    "\n",
    "  - In the **Attach to an existing compute resource** pop-up, select the first drop-down. You will see a unique cluster name in that drop-down. Please select that cluster."
   ]
  },
  {
   "cell_type": "markdown",
   "metadata": {
    "application/vnd.databricks.v1+cell": {
     "cellMetadata": {},
     "inputWidgets": {},
     "nuid": "56a25784-3bbc-4f7f-945f-072517aa33c5",
     "showTitle": false,
     "tableResultSettingsMap": {},
     "title": ""
    }
   },
   "source": [
    "## A. Classroom Setup\n",
    "\n",
    "Run the following cell to configure your working environment for this course. It will also set your default catalog to your unique catalog name and the schema to your specific schema name shown below using the `USE` statements.\n",
    "<br></br>\n",
    "\n",
    "\n",
    "```\n",
    "USE CATALOG your-catalog;\n",
    "USE SCHEMA your-catalog.pii_data;\n",
    "```\n",
    "\n",
    "**NOTE:** The `DA` object is only used in Databricks Academy courses and is not available outside of these courses. It will dynamically reference the information needed to run the course."
   ]
  },
  {
   "cell_type": "code",
   "execution_count": 0,
   "metadata": {
    "application/vnd.databricks.v1+cell": {
     "cellMetadata": {},
     "inputWidgets": {},
     "nuid": "42bcd25c-4bb6-48fd-a76f-b44e89b7944c",
     "showTitle": false,
     "tableResultSettingsMap": {},
     "title": ""
    }
   },
   "outputs": [],
   "source": [
    "%run ./Includes/Classroom-Setup-1.1"
   ]
  },
  {
   "cell_type": "markdown",
   "metadata": {
    "application/vnd.databricks.v1+cell": {
     "cellMetadata": {},
     "inputWidgets": {},
     "nuid": "69d7bde5-aff9-408d-a619-7c8cfea70f3e",
     "showTitle": false,
     "tableResultSettingsMap": {},
     "title": ""
    }
   },
   "source": [
    "Run the code below to view your current default catalog and schema. Confirm that they have the same name as the cell above.\n"
   ]
  },
  {
   "cell_type": "code",
   "execution_count": 0,
   "metadata": {
    "application/vnd.databricks.v1+cell": {
     "cellMetadata": {},
     "inputWidgets": {},
     "nuid": "a4fa965a-94ac-4ea8-b081-dac5d2e3d88c",
     "showTitle": false,
     "tableResultSettingsMap": {},
     "title": ""
    }
   },
   "outputs": [],
   "source": [
    "SELECT current_catalog(), current_schema()"
   ]
  },
  {
   "cell_type": "markdown",
   "metadata": {
    "application/vnd.databricks.v1+cell": {
     "cellMetadata": {},
     "inputWidgets": {},
     "nuid": "ed7f5a4c-5fde-434d-8225-7739044c77e5",
     "showTitle": false,
     "tableResultSettingsMap": {},
     "title": ""
    }
   },
   "source": [
    "## B. Setting up PII data\n"
   ]
  },
  {
   "cell_type": "markdown",
   "metadata": {
    "application/vnd.databricks.v1+cell": {
     "cellMetadata": {},
     "inputWidgets": {},
     "nuid": "5d192d74-17db-4bbc-9e7c-1eeb593e7a68",
     "showTitle": false,
     "tableResultSettingsMap": {},
     "title": ""
    }
   },
   "source": [
    "### B1. Explore the customers_silver table\n",
    "\n",
    "In the classroom setup above, we created a table named **customers_silver** within the **pii_data** schema in Unity Catalog. This table contains PII data, such as individuals names, addresses, and loyalty scores.\n",
    "\n",
    "1. Let's review the customer data in the next cell using the default catalog and schema by specifying just the table name."
   ]
  },
  {
   "cell_type": "code",
   "execution_count": 0,
   "metadata": {
    "application/vnd.databricks.v1+cell": {
     "cellMetadata": {},
     "inputWidgets": {},
     "nuid": "00cd65b6-b1df-48c5-9254-fcfd973b9d07",
     "showTitle": false,
     "tableResultSettingsMap": {},
     "title": ""
    }
   },
   "outputs": [],
   "source": [
    "SELECT * \n",
    "FROM customers_silver\n",
    "LIMIT 10;"
   ]
  },
  {
   "cell_type": "markdown",
   "metadata": {
    "application/vnd.databricks.v1+cell": {
     "cellMetadata": {},
     "inputWidgets": {},
     "nuid": "44986898-fc8c-4dda-85c6-1a24f1d66294",
     "showTitle": false,
     "tableResultSettingsMap": {},
     "title": ""
    }
   },
   "source": [
    "### B2. Create the View customers_gold_view\n",
    "\n",
    "1. Let's create a view named **customers_gold_view** that presents a processed view of the **customers_silver** table data by averaging the units purchased by each customer.\n"
   ]
  },
  {
   "cell_type": "code",
   "execution_count": 0,
   "metadata": {
    "application/vnd.databricks.v1+cell": {
     "cellMetadata": {},
     "inputWidgets": {},
     "nuid": "72b5ea13-cc76-4737-9c20-ac8c92c5acaa",
     "showTitle": false,
     "tableResultSettingsMap": {},
     "title": ""
    }
   },
   "outputs": [],
   "source": [
    "CREATE OR REPLACE VIEW customers_gold_view AS\n",
    "SELECT \n",
    "  customer_id, \n",
    "  state, \n",
    "  avg(units_purchased) as average_units_purchased, \n",
    "  loyalty_segment\n",
    "FROM customers_silver\n",
    "GROUP BY customer_id, state, loyalty_segment;"
   ]
  },
  {
   "cell_type": "markdown",
   "metadata": {
    "application/vnd.databricks.v1+cell": {
     "cellMetadata": {},
     "inputWidgets": {},
     "nuid": "9d799812-4cac-4974-a3c6-d2a91243441c",
     "showTitle": false,
     "tableResultSettingsMap": {},
     "title": ""
    }
   },
   "source": [
    "2. Let's display the view **customers_gold_view**. Confirm it contains aggregated information for each **customer_id**."
   ]
  },
  {
   "cell_type": "code",
   "execution_count": 0,
   "metadata": {
    "application/vnd.databricks.v1+cell": {
     "cellMetadata": {},
     "inputWidgets": {},
     "nuid": "3b33438e-24ad-43b6-b77a-fd701661d0b8",
     "showTitle": false,
     "tableResultSettingsMap": {},
     "title": ""
    }
   },
   "outputs": [],
   "source": [
    "SELECT * \n",
    "FROM customers_gold_view\n",
    "ORDER BY customer_id;"
   ]
  },
  {
   "cell_type": "markdown",
   "metadata": {
    "application/vnd.databricks.v1+cell": {
     "cellMetadata": {},
     "inputWidgets": {},
     "nuid": "366aaa0a-ebb9-47a4-99d1-2857d50fd8cd",
     "showTitle": false,
     "tableResultSettingsMap": {},
     "title": ""
    }
   },
   "source": [
    "### B3. View the Catalog Explorer\n",
    "\n",
    "Catalog Explorer is a user interface tool that allows users to browse, explore, and manage data assets such as schemas, tables, models, and functions within a data catalog. It provides functionality for data discovery, including viewing schema details, previewing sample data, and exploring entity relationships, as well as management capabilities for catalogs, permissions, and data sharing\n",
    "\n",
    "1. Run the below cell to print out the name of your catalog in Unity Catalog."
   ]
  },
  {
   "cell_type": "code",
   "execution_count": 0,
   "metadata": {
    "application/vnd.databricks.v1+cell": {
     "cellMetadata": {},
     "inputWidgets": {},
     "nuid": "28e7108f-1475-43b2-9417-f25d85e1cb6e",
     "showTitle": false,
     "tableResultSettingsMap": {},
     "title": ""
    }
   },
   "outputs": [],
   "source": [
    "%python\n",
    "print(f\"Your Catalog Name: {DA.catalog_name}\")"
   ]
  },
  {
   "cell_type": "markdown",
   "metadata": {
    "application/vnd.databricks.v1+cell": {
     "cellMetadata": {},
     "inputWidgets": {},
     "nuid": "baa17808-3566-4ef8-9307-7074640d9a41",
     "showTitle": false,
     "tableResultSettingsMap": {},
     "title": ""
    }
   },
   "source": [
    "\n",
    "To open the Catalog Explorer, complete the following:\n",
    "\n",
    "1. Click the **Catalog** icon in the sidebar directly to the left of this notebook. It is the third icon from the top.\n",
    "\n",
    "2. Find and expand your catalog name using the information from above.\n",
    "\n",
    "3. Expand the schema **pii_data**. This will display a list of available objects, such as tables, views, volumes, and functions.\n",
    "\n",
    "4. Expand the **Tables** option if it's available; otherwise, you'll directly see the available tables.\n",
    "\n",
    "5. Select the schema **pii_data**, right-click on it, and select *Open in Catalog Explorer* to see detailed information regarding the schema. This will open in a new tab.\n",
    "\n",
    "6. In the Catalog Explorer, you will see the available objects in the schema. Select **customers_gold_view**.\n",
    "\n",
    "7. In the view, you can see tabs such as **Sample Data**, **Details**, and **Permissions** (which we'll cover shortly).\n",
    "\n",
    "8. Leave the Catalog Explorer tab open and return back to this notebook.\n",
    "\n",
    "\n",
    "<br></br>\n",
    "**Example**\n",
    "\n",
    "![View Catalog Explorer](./Includes/images/view_catalog_explorer.png)"
   ]
  },
  {
   "cell_type": "markdown",
   "metadata": {
    "application/vnd.databricks.v1+cell": {
     "cellMetadata": {},
     "inputWidgets": {},
     "nuid": "1cb6a0a8-74be-4863-9b15-0240d8d0de96",
     "showTitle": false,
     "tableResultSettingsMap": {},
     "title": ""
    }
   },
   "source": [
    "## C. Controlling access to data\n",
    "\n",
    "In this section we're going to configure permissions on data objects we created. To keep things simple, we will show you how to grant privileges to everyone. \n",
    "\n",
    "If you're working with a group, you can have others in the group test your work by attempting to access your data objects."
   ]
  },
  {
   "cell_type": "markdown",
   "metadata": {
    "application/vnd.databricks.v1+cell": {
     "cellMetadata": {},
     "inputWidgets": {},
     "nuid": "f2b8f2ec-78d2-4628-81a3-1acb9a6533df",
     "showTitle": false,
     "tableResultSettingsMap": {},
     "title": ""
    }
   },
   "source": [
    "### C1. Three Level Namespace Query for Your View\n",
    "\n",
    "The output of the following cell represents a query you could have others in your group run to attempt to access your **customers_gold_view**, using the three-level namespace: **Catalog.Schema.View**.\n",
    "\n",
    "1. Run the code below to view the dynamically set `DA.catalog_name` course variable in a simple print statement. Remember, the `DA` object is a Databricks Academy variable set dynamically during the classroom setup scripts for the labs."
   ]
  },
  {
   "cell_type": "code",
   "execution_count": 0,
   "metadata": {
    "application/vnd.databricks.v1+cell": {
     "cellMetadata": {},
     "inputWidgets": {},
     "nuid": "2845fbcf-097a-4257-9551-5c631dc27bfd",
     "showTitle": false,
     "tableResultSettingsMap": {},
     "title": ""
    }
   },
   "outputs": [],
   "source": [
    "%python\n",
    "\n",
    "print(f\"SELECT * FROM {DA.catalog_name}.pii_data.customers_gold_view\")"
   ]
  },
  {
   "cell_type": "markdown",
   "metadata": {
    "application/vnd.databricks.v1+cell": {
     "cellMetadata": {},
     "inputWidgets": {},
     "nuid": "211a483f-1a09-467c-872b-7c9f5d79acfe",
     "showTitle": false,
     "tableResultSettingsMap": {},
     "title": ""
    }
   },
   "source": [
    "2. Run the query below to view the results of the **customers_gold_view** you created earlier using the three level naming convention."
   ]
  },
  {
   "cell_type": "code",
   "execution_count": 0,
   "metadata": {
    "application/vnd.databricks.v1+cell": {
     "cellMetadata": {},
     "inputWidgets": {},
     "nuid": "a0d37a5c-e4b3-443d-95bd-06083d2ceccb",
     "showTitle": false,
     "tableResultSettingsMap": {},
     "title": ""
    }
   },
   "outputs": [],
   "source": [
    "%python\n",
    "r = spark.sql(f'''\n",
    "              SELECT * \n",
    "              FROM {DA.catalog_name}.pii_data.customers_gold_view\n",
    "''')\n",
    "\n",
    "display(r)"
   ]
  },
  {
   "cell_type": "markdown",
   "metadata": {
    "application/vnd.databricks.v1+cell": {
     "cellMetadata": {},
     "inputWidgets": {},
     "nuid": "5649b7b5-3317-4a4b-8b6c-ffe9e8ac230b",
     "showTitle": false,
     "tableResultSettingsMap": {},
     "title": ""
    }
   },
   "source": [
    "3. Run the query below using just the view name **customers_gold_view**. Notice that this works as well. \n",
    "\n",
    "    This is because the classroom setup script sets the default catalog to your catalog, and the default schema to **pii_data** and enables you to simply reference the table name without the catalog and schema."
   ]
  },
  {
   "cell_type": "code",
   "execution_count": 0,
   "metadata": {
    "application/vnd.databricks.v1+cell": {
     "cellMetadata": {},
     "inputWidgets": {},
     "nuid": "94e535b1-712e-41de-87c5-78e5548ea46d",
     "showTitle": false,
     "tableResultSettingsMap": {},
     "title": ""
    }
   },
   "outputs": [],
   "source": [
    "SELECT *\n",
    "FROM customers_gold_view"
   ]
  },
  {
   "cell_type": "markdown",
   "metadata": {
    "application/vnd.databricks.v1+cell": {
     "cellMetadata": {},
     "inputWidgets": {},
     "nuid": "d67afca4-cead-4572-9111-5c5d6a9a2dfd",
     "showTitle": false,
     "tableResultSettingsMap": {},
     "title": ""
    }
   },
   "source": [
    "\n",
    "#### C1.1 View Privileges Notes\n",
    "If someone else were to run this query, this would currently fail since no privileges have been granted yet. Only you (the owner) can access the view at the current time. **By default, only data owners (and admins) can see the data objects that were just created**. \n",
    "\n",
    "In order to access any data objects, users need appropriate permissions for the data object in question (a view, in this case), as well as all containing elements (the schema and catalog).\n",
    "\n",
    "Unity catalog's security model accommodates two distinct patterns for managing data access permissions:\n",
    "\n",
    "1. Granting permissions en masse by taking advantage of Unity Catalog's privilege inheritance.\n",
    "\n",
    "1. Explicitly granting permissions to specific objects. This pattern is quite secure, but involves more work to set up and administer.\n",
    "\n",
    "We'll explore both approaches to provide an understanding of how each one works."
   ]
  },
  {
   "cell_type": "markdown",
   "metadata": {
    "application/vnd.databricks.v1+cell": {
     "cellMetadata": {},
     "inputWidgets": {},
     "nuid": "256e3c22-69c7-4644-bcc5-557f5d96d2f6",
     "showTitle": false,
     "tableResultSettingsMap": {},
     "title": ""
    }
   },
   "source": [
    "### C2. Inherited privileges\n",
    "\n",
    "As we've seen, securable objects in Unity Catalog are hierarchical and follow a Three Level Namespace. Privileges are inherited downward and using this feature makes it easy to set up default access rules for your data. \n",
    "\n",
    "Using privilege inheritance, let's build a permission chain that will allow anyone to access the view **customers_gold_view** and other objects in the same catalog and schema.\n",
    "<br></br>\n",
    "```\n",
    "\n",
    "  GRANT USE CATALOG ON CATALOG ${DA.catalog} TO `account users`;\n",
    "\n",
    "  GRANT USE SCHEMA,SELECT ON CATALOG ${DA.catalog}.example TO `account users`\n",
    "```\n",
    "All of these permissions were granted at the catalog level with one single statement. As convenient as this is, there are some very important things to keep in mind with this approach:\n",
    "\n",
    "* The grantee (everyone, in this case) now has the **`SELECT`** privilege on **all** applicable objects (that is, tables and views) in **all** schemas within the catalog\n",
    "\n",
    "* This privilege will also be extended to any future tables/views, as well as any future schemas that appear within the catalog\n",
    "\n",
    "While this can be very convenient for granting access to hundreds or thousands of tables, we must be very careful how we set this up when using privilege inheritance because it's much easier to grant permissions to the wrong things accidentally. Also keep in mind the above approach is extreme. A slightly less permissive compromise can be made, while still leveraging privilege inheritance, with the following two grants. Note, you don't need to run these statements; they're merely provided as an example to illustrate the different types of privilege structures you can create that take advantage of inheritance.\n",
    "\n",
    "Basically, this pushes the `USE SCHEMA` and `SELECT` down a level, so that grantees only have access to all applicable objects in the newly created schema."
   ]
  },
  {
   "cell_type": "markdown",
   "metadata": {
    "application/vnd.databricks.v1+cell": {
     "cellMetadata": {},
     "inputWidgets": {},
     "nuid": "31e5c18b-02b5-4ce6-bf3d-0bd45003cf19",
     "showTitle": false,
     "tableResultSettingsMap": {},
     "title": ""
    }
   },
   "source": [
    "\n",
    "1. Below is an *example* query to grant permissions to do the following:\n",
    "\n",
    "  - The ability to use/access your catalog specified by **${DA.catalog_name}**.\n",
    "\n",
    "  - The ability to use/access any schemas within your catalog.\n",
    "\n",
    "  - The ability to perform SELECT operations (read data) in your catalog.\n",
    "\n",
    "  - This allows members of the *account users* group to browse and query data within the catalog and its schemas.\n",
    "\n",
    "**NOTE: The query result will return an UNAUTHORIZED_ACCESS error. Why? You must be the catalog's owner to grant such privileges, and you are not the owner of the catalog. This shared training workspace and your catalog has been created for you by the admin. Depending on your organization's permissions, you may also encounter this scenario in your environment.**\n",
    "\n",
    "**With the correct permissions this would enable all account users to access the specified catalog.**"
   ]
  },
  {
   "cell_type": "code",
   "execution_count": 0,
   "metadata": {
    "application/vnd.databricks.v1+cell": {
     "cellMetadata": {},
     "inputWidgets": {},
     "nuid": "5934df62-143c-46bc-b861-3bb00f7d5d81",
     "showTitle": false,
     "tableResultSettingsMap": {},
     "title": ""
    }
   },
   "outputs": [],
   "source": [
    "%python\n",
    "# spark.sql(f'GRANT USE CATALOG, USE SCHEMA, SELECT ON CATALOG {DA.catalog_name} TO `account users`')"
   ]
  },
  {
   "cell_type": "markdown",
   "metadata": {
    "application/vnd.databricks.v1+cell": {
     "cellMetadata": {},
     "inputWidgets": {},
     "nuid": "799f5fb4-dd20-4446-a38a-7431c47e16e2",
     "showTitle": false,
     "tableResultSettingsMap": {},
     "title": ""
    }
   },
   "source": [
    "2. Run the `DESCRIBE CATALOG` statement to view information about the catalog. View the results. Notice that you can view the *Owner* of a catalog. In this example, you are not the owner of the catalog and do not have the ability to grant permissions."
   ]
  },
  {
   "cell_type": "code",
   "execution_count": 0,
   "metadata": {
    "application/vnd.databricks.v1+cell": {
     "cellMetadata": {},
     "inputWidgets": {},
     "nuid": "ec013f56-cced-4b74-b850-38a5e0813660",
     "showTitle": false,
     "tableResultSettingsMap": {},
     "title": ""
    }
   },
   "outputs": [],
   "source": [
    "%python\n",
    "r = spark.sql(f'DESCRIBE CATALOG {DA.catalog_name}')\n",
    "display(r)"
   ]
  },
  {
   "cell_type": "markdown",
   "metadata": {
    "application/vnd.databricks.v1+cell": {
     "cellMetadata": {},
     "inputWidgets": {},
     "nuid": "7f615c0e-d153-4fb1-b3b7-31188f0bcad9",
     "showTitle": false,
     "tableResultSettingsMap": {},
     "title": ""
    }
   },
   "source": [
    "### C3. Check Privileges in Unity Catalog\n",
    "\n",
    "There are two ways to check the applied permissions on objects: \n",
    "\n",
    "- Catalog Explorer\n",
    "- Code"
   ]
  },
  {
   "cell_type": "markdown",
   "metadata": {
    "application/vnd.databricks.v1+cell": {
     "cellMetadata": {},
     "inputWidgets": {},
     "nuid": "0b2e60e6-fea8-474e-8c17-891aef8c8518",
     "showTitle": false,
     "tableResultSettingsMap": {},
     "title": ""
    }
   },
   "source": [
    "#### C3.1 Check Permissions in Catalog Explorer\n",
    "\n",
    "Check privileges on a catalog using the Catalog Explorer by completing the following steps:\n",
    "\n",
    "1. Click the **Catalog** icon in the sidebar, directly to the left of this notebook. It is the third icon from the top.\n",
    "   \n",
    "2. Find and expand your unique catalog name.\n",
    "\n",
    "3. Right-click on your catalog name and select *Open in Catalog Explorer* to view detailed information about the catalog. This will open in a new tab.\n",
    "\n",
    "4. In the Catalog Explorer, you will see the available schemas in the catalog.\n",
    "\n",
    "5. In the top navigation bar, you will see **Overview**, **Details**, and **Permissions**.\n",
    "\n",
    "6. Select **Permissions**.\n",
    "\n",
    "7. Notice that in **Permissions** you see that you have *ALL PRIVILEGES* on this catalog. *ALL PRIVILEGES* current provides the following:\n",
    "\n",
    "- **Prerequisite:** *USE CATALOG, USE SCHEMA*\n",
    "- **Metadata:** *APPLY TAG, BROWSE*\n",
    "- **Read:** *EXECUTE, READ VOLUME, SELECT*\n",
    "- **Edit:** *MODIFY, REFRESH, WRITE VOLUME*\n",
    "- **Create:** *CREATE FUNCTION, CREATE MATERIALIZED VIEW, CREATE MODEL, CREATE SCHEMA, CREATE TABLE, CREATE VOLUME*\n",
    "\n",
    "For more information view the [Privilege types by securable object in Unity Catalog](https://docs.databricks.com/en/data-governance/unity-catalog/manage-privileges/privileges.html) documentation.\n",
    "\n",
    "**Example Catalog Explorer Image**\n",
    "\n",
    "![Unity Catalog Privileges](./Includes/images/uc_permissions.png)"
   ]
  },
  {
   "cell_type": "markdown",
   "metadata": {
    "application/vnd.databricks.v1+cell": {
     "cellMetadata": {},
     "inputWidgets": {},
     "nuid": "7abfc3c8-7e1e-4b72-aeb3-b8336b3ca3a1",
     "showTitle": false,
     "tableResultSettingsMap": {},
     "title": ""
    }
   },
   "source": [
    "#### C3.2 Check Permissions with Code\n",
    "1. You can also use the [`SHOW GRANTS` command](https://docs.databricks.com/en/sql/language-manual/security-show-grant.html) to check the grants for your catalog. This command is a versatile SQL statement used to display grants about various database objects. In this case, we'll apply it to a catalog following the next syntax: \n",
    "```\n",
    "SHOW GRANTS [ principal ] ON securable_object\n",
    "```\n",
    "\n",
    "Execute the cell below and view the results.\n"
   ]
  },
  {
   "cell_type": "code",
   "execution_count": 0,
   "metadata": {
    "application/vnd.databricks.v1+cell": {
     "cellMetadata": {},
     "inputWidgets": {},
     "nuid": "f5e1f8e3-68fa-4caa-9b52-12a3c921dd9f",
     "showTitle": false,
     "tableResultSettingsMap": {},
     "title": ""
    }
   },
   "outputs": [],
   "source": [
    "%python\n",
    "r = spark.sql(f'SHOW GRANTS ON CATALOG {DA.catalog_name}')\n",
    "display(r)"
   ]
  },
  {
   "cell_type": "markdown",
   "metadata": {
    "application/vnd.databricks.v1+cell": {
     "cellMetadata": {},
     "inputWidgets": {},
     "nuid": "f6c9a6b3-5aa1-4eec-9f4a-a6c33de55071",
     "showTitle": false,
     "tableResultSettingsMap": {},
     "title": ""
    }
   },
   "source": [
    "### C4. Grant Explicit privileges on Schema or Objects\n"
   ]
  },
  {
   "cell_type": "markdown",
   "metadata": {
    "application/vnd.databricks.v1+cell": {
     "cellMetadata": {},
     "inputWidgets": {},
     "nuid": "80da80f1-eafb-4243-ba0d-9b50d1973669",
     "showTitle": false,
     "tableResultSettingsMap": {},
     "title": ""
    }
   },
   "source": [
    "1. Show privileges on the **pii_data** schema within your catalog. Notice that only you have access to that schema."
   ]
  },
  {
   "cell_type": "code",
   "execution_count": 0,
   "metadata": {
    "application/vnd.databricks.v1+cell": {
     "cellMetadata": {},
     "inputWidgets": {},
     "nuid": "5878b396-0970-4d36-bc8c-a8963580d7d9",
     "showTitle": false,
     "tableResultSettingsMap": {},
     "title": ""
    }
   },
   "outputs": [],
   "source": [
    "SHOW GRANTS ON SCHEMA pii_data;"
   ]
  },
  {
   "cell_type": "markdown",
   "metadata": {
    "application/vnd.databricks.v1+cell": {
     "cellMetadata": {},
     "inputWidgets": {},
     "nuid": "83eac1ac-b6a3-4355-86af-8d57f1c1d3d3",
     "showTitle": false,
     "tableResultSettingsMap": {},
     "title": ""
    }
   },
   "source": [
    "2. Show privileges on the **customers_gold_view** view within your catalog's **pii_data** schema. Notice that only you have access to that view."
   ]
  },
  {
   "cell_type": "code",
   "execution_count": 0,
   "metadata": {
    "application/vnd.databricks.v1+cell": {
     "cellMetadata": {},
     "inputWidgets": {},
     "nuid": "46b223ee-1753-4865-9e29-b409c32975ca",
     "showTitle": false,
     "tableResultSettingsMap": {},
     "title": ""
    }
   },
   "outputs": [],
   "source": [
    "SHOW GRANTS ON VIEW customers_gold_view;"
   ]
  },
  {
   "cell_type": "markdown",
   "metadata": {
    "application/vnd.databricks.v1+cell": {
     "cellMetadata": {},
     "inputWidgets": {},
     "nuid": "8015c1e9-17a7-4f07-869d-8a926bf8c7d3",
     "showTitle": false,
     "tableResultSettingsMap": {},
     "title": ""
    }
   },
   "source": [
    "3. Using explicit privilege grants on Schema level, let's build a permission chain that will allow anyone to access the **customers_gold_view** view.\n",
    "\n",
    "**NOTE:** This code will execute successfully because you created the schema and view within the catalog. However, you will need to provide access to the catalog for other users to access the objects within it. In this lab environment, we have restricted you from granting privileges on your catalog."
   ]
  },
  {
   "cell_type": "code",
   "execution_count": 0,
   "metadata": {
    "application/vnd.databricks.v1+cell": {
     "cellMetadata": {},
     "inputWidgets": {},
     "nuid": "67c1fb2a-78f7-42d6-8cd0-e07c1b429e36",
     "showTitle": false,
     "tableResultSettingsMap": {},
     "title": ""
    }
   },
   "outputs": [],
   "source": [
    "%python\n",
    "## This permission grants users the ability to access and interact with the specified catalog, allowing them to see and query schemas within it.\n",
    "## Granting privileges on your catalog will not work in this lab - commented out\n",
    "##\n",
    "## spark.sql(f'GRANT USE CATALOG ON CATALOG {DA.catalog_name} TO `account users`')\n",
    "##\n",
    "\n",
    "## This permission grants the account users group the ability to access and interact with the pii_data schema in the specified catalog.\n",
    "spark.sql(f'GRANT USE SCHEMA ON SCHEMA {DA.catalog_name}.pii_data TO `account users`')\n",
    "\n",
    "## This permission grants the account users group the ability to query (select data from) the customers_gold_view view in the pii_data schema of the specified catalog.\n",
    "spark.sql(f'GRANT SELECT ON VIEW {DA.catalog_name}.pii_data.customers_gold_view TO `account users`')"
   ]
  },
  {
   "cell_type": "markdown",
   "metadata": {
    "application/vnd.databricks.v1+cell": {
     "cellMetadata": {},
     "inputWidgets": {},
     "nuid": "04caee54-674e-42d2-ae35-930ac71c3836",
     "showTitle": false,
     "tableResultSettingsMap": {},
     "title": ""
    }
   },
   "source": [
    "With these grants in place (if you had permission to grant all access), if anyone else were to query the view again, the query still succeeds because all the appropriate permissions are in place; we've just taken a very different approach to establishing them.\n",
    "\n",
    "This seems more complicated. One statement from earlier has been replaced with three, and this only provides access to a single view. \n",
    "\n",
    "Following this pattern, we'd have to do an additional `SELECT` grant for each additional table or view we wanted to permit. But this complication comes with the benefit of security. Now, user can only read the *gold* view, but nothing else. There's no chance they could accidentally get access to some other object. So this is very explicit and secure, but one can imagine it would be very cumbersome when dealing with lots of tables and views."
   ]
  },
  {
   "cell_type": "markdown",
   "metadata": {
    "application/vnd.databricks.v1+cell": {
     "cellMetadata": {},
     "inputWidgets": {},
     "nuid": "1a086c5c-5146-4127-bf9c-f7e4960bd17e",
     "showTitle": false,
     "tableResultSettingsMap": {},
     "title": ""
    }
   },
   "source": [
    "### C5. Check Explicit privileges"
   ]
  },
  {
   "cell_type": "markdown",
   "metadata": {
    "application/vnd.databricks.v1+cell": {
     "cellMetadata": {},
     "inputWidgets": {},
     "nuid": "6f11315e-9d9f-4b59-8339-e4ab853f22b3",
     "showTitle": false,
     "tableResultSettingsMap": {},
     "title": ""
    }
   },
   "source": [
    "\n",
    "#### C5.1 Show Schema Privileges"
   ]
  },
  {
   "cell_type": "markdown",
   "metadata": {
    "application/vnd.databricks.v1+cell": {
     "cellMetadata": {},
     "inputWidgets": {},
     "nuid": "58eb7ac7-769c-4c0f-9650-b9515b830449",
     "showTitle": false,
     "tableResultSettingsMap": {},
     "title": ""
    }
   },
   "source": [
    "1. Similarly to previous steps, we'll leverage the `SHOW GRANTS` statement again to check the explicit privileges granted to your schema **pii_data**.\n",
    "\n",
    "    Notice that in the results `account users` have been added to the **pii_data** schema."
   ]
  },
  {
   "cell_type": "code",
   "execution_count": 0,
   "metadata": {
    "application/vnd.databricks.v1+cell": {
     "cellMetadata": {},
     "inputWidgets": {},
     "nuid": "a7a7b0c1-4d95-46ad-bbaf-78210057336d",
     "showTitle": false,
     "tableResultSettingsMap": {},
     "title": ""
    }
   },
   "outputs": [],
   "source": [
    "SHOW GRANTS ON SCHEMA pii_data;"
   ]
  },
  {
   "cell_type": "markdown",
   "metadata": {
    "application/vnd.databricks.v1+cell": {
     "cellMetadata": {},
     "inputWidgets": {},
     "nuid": "5b23901c-10a2-4a30-8315-924a52dbf712",
     "showTitle": false,
     "tableResultSettingsMap": {},
     "title": ""
    }
   },
   "source": [
    "#### C5.2 Show View Privileges"
   ]
  },
  {
   "cell_type": "markdown",
   "metadata": {
    "application/vnd.databricks.v1+cell": {
     "cellMetadata": {},
     "inputWidgets": {},
     "nuid": "a7de9007-5cd0-471e-93f9-4c0d9a9a62b6",
     "showTitle": false,
     "tableResultSettingsMap": {},
     "title": ""
    }
   },
   "source": [
    "1. View the privileges on the **customers_gold_view**. Notice that in the results, `account users` have been granted access to the view **customers_gold_view**.\n"
   ]
  },
  {
   "cell_type": "code",
   "execution_count": 0,
   "metadata": {
    "application/vnd.databricks.v1+cell": {
     "cellMetadata": {},
     "inputWidgets": {},
     "nuid": "e9fd87d0-6c64-420e-8d7b-87bedd4f7af1",
     "showTitle": false,
     "tableResultSettingsMap": {},
     "title": ""
    }
   },
   "outputs": [],
   "source": [
    "SHOW GRANTS ON VIEW pii_data.customers_gold_view;"
   ]
  },
  {
   "cell_type": "markdown",
   "metadata": {
    "application/vnd.databricks.v1+cell": {
     "cellMetadata": {},
     "inputWidgets": {},
     "nuid": "94939453-71c9-4b0b-b206-9745eebd2d1c",
     "showTitle": false,
     "tableResultSettingsMap": {},
     "title": ""
    }
   },
   "source": [
    "2. View the grants on your catalog. Notice that `account users` does not have access to grant access to the catalog."
   ]
  },
  {
   "cell_type": "code",
   "execution_count": 0,
   "metadata": {
    "application/vnd.databricks.v1+cell": {
     "cellMetadata": {},
     "inputWidgets": {},
     "nuid": "4bf39b04-2a93-4b9c-a506-da18c3a99688",
     "showTitle": false,
     "tableResultSettingsMap": {},
     "title": ""
    }
   },
   "outputs": [],
   "source": [
    "%python\n",
    "r = spark.sql(f'SHOW GRANTS ON CATALOG {DA.catalog_name}')\n",
    "display(r)"
   ]
  },
  {
   "cell_type": "markdown",
   "metadata": {
    "application/vnd.databricks.v1+cell": {
     "cellMetadata": {},
     "inputWidgets": {},
     "nuid": "efff21d8-824d-4383-a0cc-58b00b1fcdd7",
     "showTitle": false,
     "tableResultSettingsMap": {},
     "title": ""
    }
   },
   "source": [
    "### C6. Revoking Privileges\n",
    "\n",
    "No data governance platform would be complete without the ability to revoke previously issued grants. In preparation for testing the next approach to granting privileges, let's unwind what we just did using `REVOKE`.\n",
    "\n",
    "1. Revoke the usage of `account users` on your schema."
   ]
  },
  {
   "cell_type": "code",
   "execution_count": 0,
   "metadata": {
    "application/vnd.databricks.v1+cell": {
     "cellMetadata": {},
     "inputWidgets": {},
     "nuid": "fdcc32a8-d022-4515-a060-75f6d60ca91a",
     "showTitle": false,
     "tableResultSettingsMap": {},
     "title": ""
    }
   },
   "outputs": [],
   "source": [
    "REVOKE USAGE ON SCHEMA pii_data FROM `account users`;\n",
    "REVOKE SELECT ON VIEW pii_data.customers_gold_view FROM `account users`;"
   ]
  },
  {
   "cell_type": "markdown",
   "metadata": {
    "application/vnd.databricks.v1+cell": {
     "cellMetadata": {},
     "inputWidgets": {},
     "nuid": "0f1622ac-c988-45f9-8d98-b1430f0b5208",
     "showTitle": false,
     "tableResultSettingsMap": {},
     "title": ""
    }
   },
   "source": [
    "2. After revoking the access to our schema, you check the permissions again by running the query below.\n",
    "\n"
   ]
  },
  {
   "cell_type": "code",
   "execution_count": 0,
   "metadata": {
    "application/vnd.databricks.v1+cell": {
     "cellMetadata": {},
     "inputWidgets": {},
     "nuid": "1f2a90d3-17ce-4285-a436-5910a441289d",
     "showTitle": false,
     "tableResultSettingsMap": {},
     "title": ""
    }
   },
   "outputs": [],
   "source": [
    "SHOW GRANTS ON SCHEMA pii_data;"
   ]
  },
  {
   "cell_type": "code",
   "execution_count": 0,
   "metadata": {
    "application/vnd.databricks.v1+cell": {
     "cellMetadata": {},
     "inputWidgets": {},
     "nuid": "6db35f3c-8014-44d6-b650-408f56b37f17",
     "showTitle": false,
     "tableResultSettingsMap": {},
     "title": ""
    }
   },
   "outputs": [],
   "source": [
    "SHOW GRANTS ON VIEW pii_data.customers_gold_view;"
   ]
  },
  {
   "cell_type": "markdown",
   "metadata": {
    "application/vnd.databricks.v1+cell": {
     "cellMetadata": {},
     "inputWidgets": {},
     "nuid": "1b009be0-a5b2-48df-8d86-428870ff1b5f",
     "showTitle": false,
     "tableResultSettingsMap": {},
     "title": ""
    }
   },
   "source": [
    "### C7. Views versus tables\n",
    "\n",
    "We've explored two different approaches to managing permissions, and we have now shown how permissions can configured such that anyone can access the **customers_gold_view** view, which processes and displays data from the **customers_silver** table. \n",
    "\n",
    "But suppose someone else were to try to directly access the **customers_silver** table. This could be accomplished by replacing **customers_gold_view** in the previous query with **customers_silver**.\n",
    "\n",
    "With explicit privileges in place, the query would fail. How then, does the query against the **customers_gold_view** view work? Because the view's **owner** has appropriate privileges on the **customers_silver** table (through ownership). This property gives rise to interesting applications of views in table security, which we cover in the next section."
   ]
  },
  {
   "cell_type": "markdown",
   "metadata": {
    "application/vnd.databricks.v1+cell": {
     "cellMetadata": {},
     "inputWidgets": {},
     "nuid": "9b14ae7f-d32a-496a-90cc-ec45a497c847",
     "showTitle": false,
     "tableResultSettingsMap": {},
     "title": ""
    }
   },
   "source": [
    "## D. Protecting columns and rows\n",
    "\n",
    "Databricks provides several options for protecting columns and rows, in this section we'll use the **customers_silver** table as a source for creating **dynamic views** and applying **row filtering and column masks** to protect sensitive data:\n",
    "- Dynamic View: **customers_gold_dynamic_view**\n",
    "- Table: **customers_silver_with_row_filter_and_column_masks** with `ROW_FILTER` and `MASK COLUMN`"
   ]
  },
  {
   "cell_type": "markdown",
   "metadata": {
    "application/vnd.databricks.v1+cell": {
     "cellMetadata": {},
     "inputWidgets": {},
     "nuid": "638c2582-6fb8-4cfc-9f7a-b319c1ad18d7",
     "showTitle": false,
     "tableResultSettingsMap": {},
     "title": ""
    }
   },
   "source": [
    "### D1. Preview the customers_silver table\n",
    "\n",
    "1. Run the query and view the **customers_silver** table.\n",
    "\n",
    "    Notice that the **customers_silver** table contains detailed customer information, including various attributes such as customer ID, name, contact details, and loyalty segment."
   ]
  },
  {
   "cell_type": "code",
   "execution_count": 0,
   "metadata": {
    "application/vnd.databricks.v1+cell": {
     "cellMetadata": {},
     "inputWidgets": {},
     "nuid": "b1f4e441-9f16-4059-b9a7-b99b1b2deecb",
     "showTitle": false,
     "tableResultSettingsMap": {},
     "title": ""
    }
   },
   "outputs": [],
   "source": [
    "SELECT *\n",
    "FROM customers_silver\n",
    "LIMIT 10;"
   ]
  },
  {
   "cell_type": "markdown",
   "metadata": {
    "application/vnd.databricks.v1+cell": {
     "cellMetadata": {},
     "inputWidgets": {},
     "nuid": "8c120e3d-5111-441d-80e2-48634637f1cc",
     "showTitle": false,
     "tableResultSettingsMap": {},
     "title": ""
    }
   },
   "source": [
    "2. We'll use the **loyalty_segment** column to filter rows in our dynamic view and table with ROW_FILTER. \n",
    "\n",
    "    Run the query below to view distinct values in the **loyalty_segment** column. Notice that currently, four values are shown in the cell below."
   ]
  },
  {
   "cell_type": "code",
   "execution_count": 0,
   "metadata": {
    "application/vnd.databricks.v1+cell": {
     "cellMetadata": {},
     "inputWidgets": {},
     "nuid": "8249d01e-ed86-4daf-a660-b48c71711528",
     "showTitle": false,
     "tableResultSettingsMap": {},
     "title": ""
    }
   },
   "outputs": [],
   "source": [
    "SELECT DISTINCT(loyalty_segment)\n",
    "FROM customers_silver\n",
    "ORDER BY loyalty_segment DESC;"
   ]
  },
  {
   "cell_type": "markdown",
   "metadata": {
    "application/vnd.databricks.v1+cell": {
     "cellMetadata": {},
     "inputWidgets": {},
     "nuid": "5384b1cc-bab2-4174-bdd3-b1fe3e13fd46",
     "showTitle": false,
     "tableResultSettingsMap": {},
     "title": ""
    }
   },
   "source": [
    "3. Count the number of rows in the **customers_silver** table. Confirm the table contains *28,813* rows."
   ]
  },
  {
   "cell_type": "code",
   "execution_count": 0,
   "metadata": {
    "application/vnd.databricks.v1+cell": {
     "cellMetadata": {},
     "inputWidgets": {},
     "nuid": "73dd1253-90b9-46a0-a615-2fc0d3613dde",
     "showTitle": false,
     "tableResultSettingsMap": {},
     "title": ""
    }
   },
   "outputs": [],
   "source": [
    "SELECT count(*) as TotalRows\n",
    "FROM customers_silver;"
   ]
  },
  {
   "cell_type": "markdown",
   "metadata": {
    "application/vnd.databricks.v1+cell": {
     "cellMetadata": {},
     "inputWidgets": {},
     "nuid": "50760218-41c6-49f0-9739-24c105b9f244",
     "showTitle": false,
     "tableResultSettingsMap": {},
     "title": ""
    }
   },
   "source": [
    "### D2. Dynamic Views\n",
    "\n",
    "We have seen that Unity Catalog's treatment of views provides the ability for views to protect access to tables; users can be granted access to views that manipulate, transform, or obscure data from a source table, without needing to provide direct access to the source table.\n",
    "\n",
    "Dynamic views provide the ability to do fine-grained access control of columns and rows within a table, conditional on the principal running the query. Dynamic views are an extension to standard views that allow us to do things like:\n",
    "* partially obscure column values or redact them entirely\n",
    "* omit rows based on specific criteria\n",
    "\n",
    "Access control with dynamic views is achieved through the use of functions within the definition of the view. These functions include:\n",
    "* `current_user()`: returns the email address of the user querying the view\n",
    "* `is_account_group_member()`: returns TRUE if the user querying the view is a member of the specified group\n",
    "* `is_member()`: returns TRUE if the user querying the view is a member of the specified workspace-local group\n",
    "\n",
    "**NOTE:** Databricks generally advises against using the `is_member()` function in production, since it references workspace-local groups and hence introduces a workspace dependency into a metastore that potentially spans multiple workspaces."
   ]
  },
  {
   "cell_type": "markdown",
   "metadata": {
    "application/vnd.databricks.v1+cell": {
     "cellMetadata": {},
     "inputWidgets": {},
     "nuid": "ce4a891c-1e44-4a28-bc78-3c160c9d907c",
     "showTitle": false,
     "tableResultSettingsMap": {},
     "title": ""
    }
   },
   "source": [
    "1. Run the cell below to use the `is_account_group_member()` function to check if you are part of the `supervisors` group.\n",
    "\n",
    "    Notice that it returns the value *false*, indicating that you are not part of the `supervisors` group."
   ]
  },
  {
   "cell_type": "code",
   "execution_count": 0,
   "metadata": {
    "application/vnd.databricks.v1+cell": {
     "cellMetadata": {},
     "inputWidgets": {},
     "nuid": "92a538c2-b10c-4fee-bc03-11a119582850",
     "showTitle": false,
     "tableResultSettingsMap": {},
     "title": ""
    }
   },
   "outputs": [],
   "source": [
    "SELECT is_account_group_member('supervisors')"
   ]
  },
  {
   "cell_type": "markdown",
   "metadata": {
    "application/vnd.databricks.v1+cell": {
     "cellMetadata": {},
     "inputWidgets": {},
     "nuid": "08df8012-afa4-4aac-88f0-d3bbad4b97bb",
     "showTitle": false,
     "tableResultSettingsMap": {},
     "title": ""
    }
   },
   "source": [
    "### D3. Redacting 'Customer ID' and hiding 'Loyalty > 2' customers\n",
    "\n",
    "Suppose we want everyone to be able to see aggregated data trends from the **customers_silver** table, but we don't want to disclose customer PII to everyone. \n",
    "\n",
    "2. Let's create a view to redact the **customer_id** column and hide high loyalty customers, so that only members of `supervisors` group can see it using the `is_account_group_member()` function.\n",
    "\n",
    "    Column redactions are performed using `CASE` statements and row filtering is done by applying the conditional as a `WHERE` clause.\n",
    "    \n",
    "    This view performs the following:\n",
    "    - This view dynamically redacts **customer_id** based on the user's group membership.\n",
    "    - `Supervisors` see the actual customer_id, others see 9999999.\n",
    "    - Non-supervisors only see customers with a **loyalty_segment** less than *3*.\n",
    "    - The view calculates the average units purchased and includes **state** and **loyalty_segment**."
   ]
  },
  {
   "cell_type": "code",
   "execution_count": 0,
   "metadata": {
    "application/vnd.databricks.v1+cell": {
     "cellMetadata": {},
     "inputWidgets": {},
     "nuid": "74b685e9-f68d-43ae-985c-ab46cb003939",
     "showTitle": false,
     "tableResultSettingsMap": {},
     "title": ""
    }
   },
   "outputs": [],
   "source": [
    "CREATE OR REPLACE VIEW customers_gold_dynamic_view AS\n",
    "SELECT \n",
    "  CASE WHEN        -- Redact customer_id column if user is not a supervisor\n",
    "    is_account_group_member('supervisors') THEN customer_id \n",
    "    ELSE 9999999\n",
    "  END AS customer_id,\n",
    "  state, \n",
    "  avg(units_purchased) as average_units_purchased, \n",
    "  loyalty_segment\n",
    "FROM customers_silver\n",
    "WHERE\n",
    "  CASE WHEN          -- Redact rows where loyalty_segment 3 or above if the user is not a supervisor\n",
    "    is_account_group_member('supervisors') THEN TRUE  -- When true, return all rows\n",
    "    ELSE loyalty_segment < 3                          -- When false, return rows less than 3\n",
    "  END\n",
    "GROUP BY customer_id, state, loyalty_segment\n",
    "ORDER BY customer_id;"
   ]
  },
  {
   "cell_type": "markdown",
   "metadata": {
    "application/vnd.databricks.v1+cell": {
     "cellMetadata": {},
     "inputWidgets": {},
     "nuid": "ffa15408-1f3a-40db-ae56-0a9f45bfd85a",
     "showTitle": false,
     "tableResultSettingsMap": {},
     "title": ""
    }
   },
   "source": [
    "### D4. Dynamic View Results\n",
    "\n",
    "1. Now, let's query the view. Notice the **customer_id** column is now *9999999* and displaying only rows with **loyalty_segment** below 3"
   ]
  },
  {
   "cell_type": "code",
   "execution_count": 0,
   "metadata": {
    "application/vnd.databricks.v1+cell": {
     "cellMetadata": {},
     "inputWidgets": {},
     "nuid": "c9d5378a-f7ca-4e5a-b9c4-37031b6a8577",
     "showTitle": false,
     "tableResultSettingsMap": {},
     "title": ""
    }
   },
   "outputs": [],
   "source": [
    "SELECT * \n",
    "FROM customers_gold_dynamic_view\n",
    "ORDER BY loyalty_segment DESC;"
   ]
  },
  {
   "cell_type": "markdown",
   "metadata": {
    "application/vnd.databricks.v1+cell": {
     "cellMetadata": {},
     "inputWidgets": {},
     "nuid": "a70e5766-4703-461c-9439-cfe71eb14210",
     "showTitle": false,
     "tableResultSettingsMap": {},
     "title": ""
    }
   },
   "source": [
    "2. Count the number of rows in the **customers_gold_dynamic_view** dynamic view. Confirm the table contains 19,176 rows (original table had 28,813), filtering out rows that you are not allowed to view because you are not part of the `supervisors` group."
   ]
  },
  {
   "cell_type": "code",
   "execution_count": 0,
   "metadata": {
    "application/vnd.databricks.v1+cell": {
     "cellMetadata": {},
     "inputWidgets": {},
     "nuid": "80bfe664-03da-4377-83e4-3dbf834627bb",
     "showTitle": false,
     "tableResultSettingsMap": {},
     "title": ""
    }
   },
   "outputs": [],
   "source": [
    "SELECT count(*) as TotalRows\n",
    "FROM customers_gold_dynamic_view;"
   ]
  },
  {
   "cell_type": "markdown",
   "metadata": {
    "application/vnd.databricks.v1+cell": {
     "cellMetadata": {},
     "inputWidgets": {},
     "nuid": "e437e660-5766-4fc0-ab61-0aa9af54a904",
     "showTitle": false,
     "tableResultSettingsMap": {},
     "title": ""
    }
   },
   "source": [
    "**Does this output surprise you?**\n",
    "\n",
    "As the owner of the view and table, you do not need any privileges to access these objects, yet when querying the view, we see redacted columns. This is because of the way the view is defined. As a regular user (one who is not a member of the `supervisors` group), the **customer_id** column is redacted and the high loyalty customer records are hidden."
   ]
  },
  {
   "cell_type": "markdown",
   "metadata": {
    "application/vnd.databricks.v1+cell": {
     "cellMetadata": {},
     "inputWidgets": {},
     "nuid": "2c95218a-3fcd-4b28-9251-f75aa4bc0bb3",
     "showTitle": false,
     "tableResultSettingsMap": {},
     "title": ""
    }
   },
   "source": [
    "## E. Row Filters and Column Masks (Introduced in 2024) \n",
    "\n",
    "This newly introduced feature enables data owners to mask columns and hide rows in similar ways to Dynamic Views - without having to create another data object.\n",
    "\n",
    "- **Row filters** allow you to apply a filter to a table so that queries return only rows that meet the filter criteria. You implement a row filter as a SQL user-defined function (UDF). Python and Scala UDFs are also supported, but only when they are wrapped in a SQL UDF.\n",
    "\n",
    "- **Column masks** let you apply a masking function to a table column. The masking function gets evaluated at query runtime, substituting each reference of the target column with the results of the masking function. For most use cases, column masks determine whether to return the original column value or redact it based on the identity of the invoking user. Column masks are expressions written as SQL UDFs or as Python or Scala UDFs that are wrapped in a SQL UDF."
   ]
  },
  {
   "cell_type": "markdown",
   "metadata": {
    "application/vnd.databricks.v1+cell": {
     "cellMetadata": {},
     "inputWidgets": {},
     "nuid": "3404b193-be61-4351-a1d1-a1d0b2460fc8",
     "showTitle": false,
     "tableResultSettingsMap": {},
     "title": ""
    }
   },
   "source": [
    "### E1. Creating a Row Filter\n",
    "\n",
    "1. To create a row filter, you need to write a UDF to define the filter policy and then apply it to a table with an ALTER TABLE statement. Alternatively, you can specify a row filter for a table in the initial CREATE TABLE statement. Each table can have only one row filter. A row filter accepts zero or more input parameters where each input parameter binds to one column of the corresponding table.\n",
    "\n",
    "    Our UDF will leverage `is_account_group_member()` function to evaluate if the current user is a member of the 'supervisors' account group. Run the code and view the output. Again, you are not part of the group."
   ]
  },
  {
   "cell_type": "code",
   "execution_count": 0,
   "metadata": {
    "application/vnd.databricks.v1+cell": {
     "cellMetadata": {},
     "inputWidgets": {},
     "nuid": "59b48646-0a6b-4e4a-b0dc-700786dc0386",
     "showTitle": false,
     "tableResultSettingsMap": {},
     "title": ""
    }
   },
   "outputs": [],
   "source": [
    "SELECT is_account_group_member('supervisors')"
   ]
  },
  {
   "cell_type": "markdown",
   "metadata": {
    "application/vnd.databricks.v1+cell": {
     "cellMetadata": {},
     "inputWidgets": {},
     "nuid": "33605944-ca1b-4e86-ad5d-4716a2bec911",
     "showTitle": false,
     "tableResultSettingsMap": {},
     "title": ""
    }
   },
   "source": [
    "2. Let's create the UDF `loyalty_row_filter` using the `is_account_group_member` function to drive the behavior for row filtering: if the user is not a member of the group, it will filter the **loyalty_segment** column for values less than 3."
   ]
  },
  {
   "cell_type": "code",
   "execution_count": 0,
   "metadata": {
    "application/vnd.databricks.v1+cell": {
     "cellMetadata": {},
     "inputWidgets": {},
     "nuid": "6d2149cf-1117-4996-99f3-7bd047b45421",
     "showTitle": false,
     "tableResultSettingsMap": {},
     "title": ""
    }
   },
   "outputs": [],
   "source": [
    "DROP FUNCTION IF EXISTS loyalty_row_filter;\n",
    "\n",
    "CREATE OR REPLACE FUNCTION loyalty_row_filter(loyalty_segment STRING)\n",
    "RETURNS BOOLEAN\n",
    "RETURN IF(is_account_group_member('supervisors'), true, loyalty_segment < 3);"
   ]
  },
  {
   "cell_type": "markdown",
   "metadata": {
    "application/vnd.databricks.v1+cell": {
     "cellMetadata": {},
     "inputWidgets": {},
     "nuid": "4418cf5f-169f-4591-b7ed-208068052299",
     "showTitle": false,
     "tableResultSettingsMap": {},
     "title": ""
    }
   },
   "source": [
    "3. Now create lets the table **customers_silver_with_row_filter_and_column_masks** from the **customers_silver** table and view it's results. \n",
    "\n",
    "    Notice since the `ROW_FILTER` from above is not applied yet, the query below will retrieve and include all rows for a total of 28,670 rows."
   ]
  },
  {
   "cell_type": "code",
   "execution_count": 0,
   "metadata": {
    "application/vnd.databricks.v1+cell": {
     "cellMetadata": {},
     "inputWidgets": {},
     "nuid": "3d57158e-5f39-4529-b10c-722b8df3e7ca",
     "showTitle": false,
     "tableResultSettingsMap": {},
     "title": ""
    }
   },
   "outputs": [],
   "source": [
    "-- Drop the table if it exists for demo purposes\n",
    "DROP TABLE IF EXISTS customers_silver_with_row_filter_and_column_masks;\n",
    "\n",
    "-- Create a new table and apply the row filter\n",
    "CREATE OR REPLACE TABLE customers_silver_with_row_filter_and_column_masks AS \n",
    "SELECT \n",
    "  customer_id,\n",
    "  state, \n",
    "  avg(units_purchased) as average_units_purchased, \n",
    "  loyalty_segment\n",
    "FROM customers_silver\n",
    "GROUP BY customer_id, state, loyalty_segment\n",
    "ORDER BY customer_id;\n",
    "\n",
    "\n",
    "-- View the new table\n",
    "SELECT count(*) AS TotalRows\n",
    "FROM customers_silver_with_row_filter_and_column_masks;"
   ]
  },
  {
   "cell_type": "markdown",
   "metadata": {
    "application/vnd.databricks.v1+cell": {
     "cellMetadata": {},
     "inputWidgets": {},
     "nuid": "5bc5928c-032c-42f1-8b5a-f1aa60e95bfa",
     "showTitle": false,
     "tableResultSettingsMap": {},
     "title": ""
    }
   },
   "source": [
    "4. Now let's assign the `loyalty_filter` function with `WITH ROW FILTER` using an `ALTER TABLE` statement on the table `customers_silver_with_row_filter_and_column_masks` to the **loyalty_segment** column.\n",
    "\n",
    "    [ROW FILTER clause](https://docs.databricks.com/en/sql/language-manual/sql-ref-syntax-ddl-row-filter.html#row-filter-clause) documentation."
   ]
  },
  {
   "cell_type": "code",
   "execution_count": 0,
   "metadata": {
    "application/vnd.databricks.v1+cell": {
     "cellMetadata": {},
     "inputWidgets": {},
     "nuid": "3a0fba2b-8379-40f6-82b2-d17c392f211c",
     "showTitle": false,
     "tableResultSettingsMap": {},
     "title": ""
    }
   },
   "outputs": [],
   "source": [
    "ALTER TABLE customers_silver_with_row_filter_and_column_masks \n",
    "SET ROW FILTER loyalty_row_filter ON (loyalty_segment);"
   ]
  },
  {
   "cell_type": "markdown",
   "metadata": {
    "application/vnd.databricks.v1+cell": {
     "cellMetadata": {},
     "inputWidgets": {},
     "nuid": "bfbe5d91-054f-4512-a301-d358d5827ef6",
     "showTitle": false,
     "tableResultSettingsMap": {},
     "title": ""
    }
   },
   "source": [
    "5. Let's confirm the `ROW FILTER` has been applied to the table with a [`DESCRIBE EXTENDED`](https://docs.databricks.com/en/sql/language-manual/sql-ref-syntax-aux-describe-table.html) statement.\n",
    "\n",
    "    Run the query and view the results. Scroll to the bottom of the table to the **Row Filter** row in the **col_name** column. Notice that a row filter has been applied."
   ]
  },
  {
   "cell_type": "code",
   "execution_count": 0,
   "metadata": {
    "application/vnd.databricks.v1+cell": {
     "cellMetadata": {},
     "inputWidgets": {},
     "nuid": "0b9d7838-6d2f-42e0-9698-e17f9b3ddc2a",
     "showTitle": false,
     "tableResultSettingsMap": {},
     "title": ""
    }
   },
   "outputs": [],
   "source": [
    "DESCRIBE EXTENDED customers_silver_with_row_filter_and_column_masks;"
   ]
  },
  {
   "cell_type": "markdown",
   "metadata": {
    "application/vnd.databricks.v1+cell": {
     "cellMetadata": {},
     "inputWidgets": {},
     "nuid": "aa28abf4-a8f5-419c-b483-2c3c6f0e05ed",
     "showTitle": false,
     "tableResultSettingsMap": {},
     "title": ""
    }
   },
   "source": [
    "6. Let's confirm that the `ROW_FILTER` is working by applying a `DISTINCT` on the **loyalty_segment** column in the table. The results should be between *0* and *2*."
   ]
  },
  {
   "cell_type": "code",
   "execution_count": 0,
   "metadata": {
    "application/vnd.databricks.v1+cell": {
     "cellMetadata": {},
     "inputWidgets": {},
     "nuid": "ed850baf-e389-4dc1-9473-c010ea55da07",
     "showTitle": false,
     "tableResultSettingsMap": {},
     "title": ""
    }
   },
   "outputs": [],
   "source": [
    "SELECT distinct(loyalty_segment)\n",
    "FROM customers_silver_with_row_filter_and_column_masks\n",
    "ORDER BY loyalty_segment DESC;"
   ]
  },
  {
   "cell_type": "markdown",
   "metadata": {
    "application/vnd.databricks.v1+cell": {
     "cellMetadata": {},
     "inputWidgets": {},
     "nuid": "971a38d9-f425-4f73-9a81-4ee1d03d7d43",
     "showTitle": false,
     "tableResultSettingsMap": {},
     "title": ""
    }
   },
   "source": [
    "7. Let's count the total number of rows in the **customers_silver_with_row_filter_and_column_masks** table. Notice that the table now contains *19,176* rows instead of the original *28,670*, with rows filtered out because you are not part of the assigned `supervisors` group.\n"
   ]
  },
  {
   "cell_type": "code",
   "execution_count": 0,
   "metadata": {
    "application/vnd.databricks.v1+cell": {
     "cellMetadata": {},
     "inputWidgets": {},
     "nuid": "18a24f98-84ae-4c28-8837-1a0b52f48bfb",
     "showTitle": false,
     "tableResultSettingsMap": {},
     "title": ""
    }
   },
   "outputs": [],
   "source": [
    "SELECT count(*) AS TotalRows\n",
    "FROM customers_silver_with_row_filter_and_column_masks;"
   ]
  },
  {
   "cell_type": "markdown",
   "metadata": {
    "application/vnd.databricks.v1+cell": {
     "cellMetadata": {},
     "inputWidgets": {},
     "nuid": "60bcd8db-bc41-4f48-ae4b-4e13acfcb2fe",
     "showTitle": false,
     "tableResultSettingsMap": {},
     "title": ""
    }
   },
   "source": [
    "### E2. Create a Column Mask\n",
    "\n",
    "To apply column masks, create a UDF and apply it to a table column using an `ALTER TABLE` statement."
   ]
  },
  {
   "cell_type": "markdown",
   "metadata": {
    "application/vnd.databricks.v1+cell": {
     "cellMetadata": {},
     "inputWidgets": {},
     "nuid": "353d3a57-bf1a-46dd-b978-71064ee10d1b",
     "showTitle": false,
     "tableResultSettingsMap": {},
     "title": ""
    }
   },
   "source": [
    "1. Let's create the function `redact_customer_id` and use the `is_account_group_member` function to control its behavior. If `is_account_group_member` returns `true`, it returns the actual **customer_id**. Otherwise, it returns the value *9999999*.\n"
   ]
  },
  {
   "cell_type": "code",
   "execution_count": 0,
   "metadata": {
    "application/vnd.databricks.v1+cell": {
     "cellMetadata": {},
     "inputWidgets": {},
     "nuid": "e7c4a728-d522-406a-84ae-e50167754e4b",
     "showTitle": false,
     "tableResultSettingsMap": {},
     "title": ""
    }
   },
   "outputs": [],
   "source": [
    "DROP FUNCTION IF EXISTS redact_customer_id;\n",
    "\n",
    "CREATE OR REPLACE FUNCTION redact_customer_id(customer_id BIGINT)\n",
    "RETURN CASE WHEN is_account_group_member('supervisors') \n",
    "  THEN customer_id \n",
    "  ELSE 9999999\n",
    "END;"
   ]
  },
  {
   "cell_type": "markdown",
   "metadata": {
    "application/vnd.databricks.v1+cell": {
     "cellMetadata": {},
     "inputWidgets": {},
     "nuid": "f0f494a5-c460-47e4-9c61-e61c2ea794eb",
     "showTitle": false,
     "tableResultSettingsMap": {},
     "title": ""
    }
   },
   "source": [
    "2. Now, let's assign the `redacted_customer_id` function using `SET MASK` in an `ALTER TABLE` statement for the table **customers_silver_with_row_filter_and_column_masks**.\n",
    "\n",
    "    [Column mask clause](https://docs.databricks.com/en/sql/language-manual/sql-ref-syntax-ddl-column-mask.html#column-mask-clause) documentation.\n",
    "\n",
    "    [ALTER COLUMN clause](https://docs.databricks.com/en/sql/language-manual/sql-ref-syntax-ddl-alter-table-manage-column.html#alter-column-clause) documentation.\n"
   ]
  },
  {
   "cell_type": "code",
   "execution_count": 0,
   "metadata": {
    "application/vnd.databricks.v1+cell": {
     "cellMetadata": {},
     "inputWidgets": {},
     "nuid": "b8d16b0b-6b5e-4667-947d-52548d49e231",
     "showTitle": false,
     "tableResultSettingsMap": {},
     "title": ""
    }
   },
   "outputs": [],
   "source": [
    "ALTER TABLE customers_silver_with_row_filter_and_column_masks\n",
    "  ALTER COLUMN customer_id \n",
    "  SET MASK redact_customer_id;"
   ]
  },
  {
   "cell_type": "markdown",
   "metadata": {
    "application/vnd.databricks.v1+cell": {
     "cellMetadata": {},
     "inputWidgets": {},
     "nuid": "f5d30ccd-ca0f-4ea9-8446-b3af57ec6b3d",
     "showTitle": false,
     "tableResultSettingsMap": {},
     "title": ""
    }
   },
   "source": [
    "3. Let's confirm that the `Column Mask` has been applied to the table using a [`DESCRIBE EXTENDED`](https://docs.databricks.com/en/sql/language-manual/sql-ref-syntax-aux-describe-table.html).\n",
    "\n",
    "    Run the query and view the results. Scroll to the bottom of the output to the **Column Mask** row in the **col_name** column. You should notice that a column mask has been applied.\n"
   ]
  },
  {
   "cell_type": "code",
   "execution_count": 0,
   "metadata": {
    "application/vnd.databricks.v1+cell": {
     "cellMetadata": {},
     "inputWidgets": {},
     "nuid": "199c201c-af66-4131-b8d5-a3057420edce",
     "showTitle": false,
     "tableResultSettingsMap": {},
     "title": ""
    }
   },
   "outputs": [],
   "source": [
    "DESCRIBE EXTENDED customers_silver_with_row_filter_and_column_masks"
   ]
  },
  {
   "cell_type": "markdown",
   "metadata": {
    "application/vnd.databricks.v1+cell": {
     "cellMetadata": {},
     "inputWidgets": {},
     "nuid": "83ccfc8a-829e-4205-9f34-d1923e8a4c0a",
     "showTitle": false,
     "tableResultSettingsMap": {},
     "title": ""
    }
   },
   "source": [
    "### E3. Table with Row Filtering and Column Mask Results\n",
    "\n",
    "1. Now, let's query the table. You should notice that the column masking in **customer_id** shows the value *9999999*, and the row filtering displays only rows where the **loyalty_segment** is below 3.\n"
   ]
  },
  {
   "cell_type": "code",
   "execution_count": 0,
   "metadata": {
    "application/vnd.databricks.v1+cell": {
     "cellMetadata": {},
     "inputWidgets": {},
     "nuid": "e1356abf-f31b-4805-b68a-435366448e5f",
     "showTitle": false,
     "tableResultSettingsMap": {},
     "title": ""
    }
   },
   "outputs": [],
   "source": [
    "SELECT * \n",
    "FROM customers_silver_with_row_filter_and_column_masks\n",
    "ORDER BY loyalty_segment DESC\n",
    "LIMIT 20;"
   ]
  },
  {
   "cell_type": "markdown",
   "metadata": {
    "application/vnd.databricks.v1+cell": {
     "cellMetadata": {},
     "inputWidgets": {},
     "nuid": "dc7cb5a2-aa9b-420a-a287-7f6ad334b936",
     "showTitle": false,
     "tableResultSettingsMap": {},
     "title": ""
    }
   },
   "source": [
    "## F. Compare Results of Dynamic Views with Row Filters and Column Masks\n",
    "\n",
    "The query below provides a quick row count comparison between the two tables we've created, with matching values, to demonstrate that both can achieve the same results: **customers_gold_dynamic_view** and **customers_silver_with_row_filter_and_column_masks**.\n",
    "\n",
    "1. Run the query and view the results. You should notice that the view and table return the same row count."
   ]
  },
  {
   "cell_type": "code",
   "execution_count": 0,
   "metadata": {
    "application/vnd.databricks.v1+cell": {
     "cellMetadata": {},
     "inputWidgets": {},
     "nuid": "c5a8a415-14be-42a0-aa08-905baaaa551b",
     "showTitle": false,
     "tableResultSettingsMap": {},
     "title": ""
    }
   },
   "outputs": [],
   "source": [
    "SELECT \n",
    "  (SELECT count(*) FROM customers_silver_with_row_filter_and_column_masks) = \n",
    "  (SELECT count(*) FROM customers_gold_dynamic_view) AS equal_row_count"
   ]
  },
  {
   "cell_type": "markdown",
   "metadata": {
    "application/vnd.databricks.v1+cell": {
     "cellMetadata": {},
     "inputWidgets": {},
     "nuid": "bacca128-0d43-4553-9f7b-5f137835e7c2",
     "showTitle": false,
     "tableResultSettingsMap": {},
     "title": ""
    }
   },
   "source": [
    "### F1. Dynamic Views vs Row Filters - Discuss\n",
    "\n",
    "- Dynamic views, row filters, and column masks all let you apply complex logic to tables and process their filtering decisions at query runtime.\n",
    "\n",
    "- Use dynamic views if you need to apply transformation logic such as filters and masks to read-only tables, and if it is acceptable for users to refer to the dynamic views using different names. \n",
    "\n",
    "- Use row filters and column masks if you want to filter or compute expressions over specific data but still provide users access to the tables using their original names.\n",
    "\n",
    "\n"
   ]
  },
  {
   "cell_type": "markdown",
   "metadata": {
    "application/vnd.databricks.v1+cell": {
     "cellMetadata": {},
     "inputWidgets": {},
     "nuid": "6f4c51e5-d4df-4e95-a7e2-1608f6617615",
     "showTitle": false,
     "tableResultSettingsMap": {},
     "title": ""
    }
   },
   "source": [
    "## G. Tagging \n",
    "Tags are attributes with keys and optional values that can be applied to securable objects in Unity Catalog to organize and categorize them.\n",
    "\n",
    "- Supported objects for tagging include catalogs, schemas, tables, columns, volumes, views, registered models, and model versions.\n",
    "\n",
    "- Tags simplify search and discovery of tables and views using workspace search functionality.\n",
    "\n",
    "- You can assign up to 20 tags per object, with key length up to 255 characters and value length up to 1000 characters.\n",
    "\n",
    "- Tags can be added and managed through Catalog Explorer UI or SQL commands (for Databricks Runtime 13.3+).\n",
    "\n",
    "- Tags can be used for data classification, security, lifecycle management, compliance, and project management."
   ]
  },
  {
   "cell_type": "markdown",
   "metadata": {
    "application/vnd.databricks.v1+cell": {
     "cellMetadata": {},
     "inputWidgets": {},
     "nuid": "0401187f-7738-4813-96b8-b21108dc5e87",
     "showTitle": false,
     "tableResultSettingsMap": {},
     "title": ""
    }
   },
   "source": [
    "### G.1 Set Tags to Table and Column\n",
    "Let's set a tag to the **customers_silver** table, this can be achieved using an `ALTER TABLE` statement or via the UI in Catalog Explorer. \n",
    "\n",
    "**NOTE:** Remember this can be set to other objects stated above (catalogs, schemas, columns, etc):"
   ]
  },
  {
   "cell_type": "markdown",
   "metadata": {
    "application/vnd.databricks.v1+cell": {
     "cellMetadata": {},
     "inputWidgets": {},
     "nuid": "bf224804-0c2f-435a-83ee-0cf3aee33f69",
     "showTitle": false,
     "tableResultSettingsMap": {},
     "title": ""
    }
   },
   "source": [
    "### G2. Tagging via ALTER TABLE"
   ]
  },
  {
   "cell_type": "code",
   "execution_count": 0,
   "metadata": {
    "application/vnd.databricks.v1+cell": {
     "cellMetadata": {},
     "inputWidgets": {},
     "nuid": "f3d07ae1-f4f4-4f16-9b9a-71ef2ea9b4f4",
     "showTitle": false,
     "tableResultSettingsMap": {},
     "title": ""
    }
   },
   "outputs": [],
   "source": [
    "-- TABLE TAGS\n",
    "ALTER TABLE customers_silver \n",
    "SET TAGS (\n",
    "  'quality'='silver',\n",
    "  'domain'='customer'\n",
    "  );\n",
    "\n",
    "\n",
    "-- COLUMN TAGS\n",
    "ALTER TABLE customers_silver \n",
    "  ALTER COLUMN customer_id SET TAGS (\"compliance\" = \"GDPR\");"
   ]
  },
  {
   "cell_type": "markdown",
   "metadata": {
    "application/vnd.databricks.v1+cell": {
     "cellMetadata": {},
     "inputWidgets": {},
     "nuid": "c8425e6c-8e3a-491b-a85f-e84434a5f26d",
     "showTitle": false,
     "tableResultSettingsMap": {},
     "title": ""
    }
   },
   "source": [
    "### G3. Tagging via Catalog Explorer\n",
    "\n",
    "1. Using the Catalog Explorer, navigate to the **customers_silver** table in your catalog within the **pii_schema**. \n",
    "\n",
    "    In the **Overview** tab, you will find the \"Tagging\" section on the right side of the panel. Notice the tags we defined in the previous cell\n",
    "\n",
    "**Example Tag in Catalog Explorer**\n",
    "\n",
    "![Tagging in Catalog Explorer](./Includes/images/uc_tag.png)"
   ]
  },
  {
   "cell_type": "markdown",
   "metadata": {
    "application/vnd.databricks.v1+cell": {
     "cellMetadata": {},
     "inputWidgets": {},
     "nuid": "c4fc100c-48b8-49d2-a0b5-f5f90b8e89d1",
     "showTitle": false,
     "tableResultSettingsMap": {},
     "title": ""
    }
   },
   "source": [
    "## H. Discoverability\n",
    "\n",
    "Unity Catalog offers robust data discovery capabilities, allowing users to easily search for and locate data assets across their organization. The platform provides a structured way to tag, document, and manage metadata, enabling comprehensive search functionality that utilizes lineage information and enforces security based on user permissions\n",
    "\n",
    "There are two ways to leverage tags for discoverability:"
   ]
  },
  {
   "cell_type": "markdown",
   "metadata": {
    "application/vnd.databricks.v1+cell": {
     "cellMetadata": {},
     "inputWidgets": {},
     "nuid": "b0fbf871-0159-4b17-b43e-274984a5634e",
     "showTitle": false,
     "tableResultSettingsMap": {},
     "title": ""
    }
   },
   "source": [
    "\n",
    "### H1. Search Bar\n",
    "\n",
    "1. Using the syntax such as `tag:value`. In our example should be `domain:customer`. The more tags added, the finer the results.\n",
    "\n",
    "    Run the query below and copy the values and paste them into the search bar on top and press enter to see the results. \n",
    "\n",
    "\n",
    "\n",
    "**Example Results**\n",
    "\n",
    "![Discoverability](./Includes/images/search_bar.png)\n",
    "\n",
    "**NOTE:** Please take into consideration the image may have a different catalog name from yours."
   ]
  },
  {
   "cell_type": "code",
   "execution_count": 0,
   "metadata": {
    "application/vnd.databricks.v1+cell": {
     "cellMetadata": {},
     "inputWidgets": {},
     "nuid": "fa50d87d-bb13-443c-9be4-2c9b87794416",
     "showTitle": false,
     "tableResultSettingsMap": {},
     "title": ""
    }
   },
   "outputs": [],
   "source": [
    "SELECT 'catalog:${DA.catalog_name} domain:customer' as use_in_search_bar"
   ]
  },
  {
   "cell_type": "markdown",
   "metadata": {
    "application/vnd.databricks.v1+cell": {
     "cellMetadata": {},
     "inputWidgets": {},
     "nuid": "2d4acd2e-aa63-41be-a53d-8da8fa37ad81",
     "showTitle": false,
     "tableResultSettingsMap": {},
     "title": ""
    }
   },
   "source": [
    "\n",
    "### H2. Queries\n",
    "\n",
    "Alternatively, run the query below leveraging the `INFORMATION_SCHEMA.TABLE_TAGS` filtering with the `customers_silver` table.\n",
    "Be aware of the tables below to retrieve tags from the different objects:\n",
    "\n",
    "- `INFORMATION_SCHEMA.CATALOG_TAGS`\n",
    "- `INFORMATION_SCHEMA.SCHEMA_TAGS`\n",
    "- `INFORMATION_SCHEMA.TABLE_TAGS`\n",
    "- `INFORMATION_SCHEMA.COLUMN_TAGS`\n",
    "- `INFORMATION_SCHEMA.VOLUME_TAGS`\n"
   ]
  },
  {
   "cell_type": "code",
   "execution_count": 0,
   "metadata": {
    "application/vnd.databricks.v1+cell": {
     "cellMetadata": {},
     "inputWidgets": {},
     "nuid": "690e9ce2-8f17-4e66-8c20-71100911f83d",
     "showTitle": false,
     "tableResultSettingsMap": {},
     "title": ""
    }
   },
   "outputs": [],
   "source": [
    "SELECT * \n",
    "FROM INFORMATION_SCHEMA.TABLE_TAGS\n",
    "WHERE TABLE_NAME = 'customers_silver'"
   ]
  },
  {
   "cell_type": "markdown",
   "metadata": {
    "application/vnd.databricks.v1+cell": {
     "cellMetadata": {},
     "inputWidgets": {},
     "nuid": "01dc6a11-5ebb-4b7d-8e3b-b6c137d96a74",
     "showTitle": false,
     "tableResultSettingsMap": {},
     "title": ""
    }
   },
   "source": [
    "## I. Lineage\n",
    "\n",
    "1. Data lineage is a key pillar of any data governance solution. In the **Lineage** tab, we can identify elements that are related to the selected object:\n",
    "* With **Upstream** selected, we see objects that gave rise to this object, or that this object uses. This is useful for tracing the source of your data.\n",
    "* With **Downstream** selected, we see objects that are using this object. This is useful for performing impact analyses.\n",
    "* The lineage graph provides a visualization of the lineage relationships.\n",
    "\n",
    "You can access the lineage of a table in Catalog Explorer by selecting your table, in this case **customers_silver**, in the _\"lineage\"_ tab there is a button _\"see lineage graph\"_ to display the results shown below. \n",
    "\n",
    "**Example**\n",
    "\n",
    "**Note:** Take into consideration some information such as catalog won't match your view.\n",
    "\n",
    "![Lineage](./Includes/images/lineage.png)"
   ]
  },
  {
   "cell_type": "markdown",
   "metadata": {
    "application/vnd.databricks.v1+cell": {
     "cellMetadata": {},
     "inputWidgets": {},
     "nuid": "078ae5bb-09b7-4f0f-a087-679c4d71c510",
     "showTitle": false,
     "tableResultSettingsMap": {},
     "title": ""
    }
   },
   "source": [
    "## J. AI generated Documentation\n",
    "\n",
    "AI-generated documentation for Unity Catalog enables automatically generate descriptions for tables and columns. The feature uses a custom-built large language model (LLM) to generate metadata based on table schemas and column names.\n",
    "\n",
    "- Available for catalogs, schemas, tables, columns, functions, models, and volumes.\n",
    "- Saves time and reduces manual effort in documenting data assets.\n",
    "- Improves search functionality within Databricks workspaces.\n",
    "- Users need appropriate permissions (object owner or MODIFY privilege) to view, edit, and save AI-generated comments."
   ]
  },
  {
   "cell_type": "markdown",
   "metadata": {
    "application/vnd.databricks.v1+cell": {
     "cellMetadata": {},
     "inputWidgets": {},
     "nuid": "31ec3bef-0e7e-4e98-989e-1fc6bc7ba69b",
     "showTitle": false,
     "tableResultSettingsMap": {},
     "title": ""
    }
   },
   "source": [
    "\n",
    "### J1. Tables\n",
    "1. We'll auto-generate concise and informative table and column comments for Unity Catalog, leveraging DatabricksIQ. \n",
    "\n",
    "    In the Catalog Explorer search for the \"customers_silver\" table and in the \"Overview\" Tab, DatabricksIQ will suggest a \"_AI Suggested Description_\", you can edit and adjust it as per your needs or accept such a recommendation. Also is possible to update the description later if needed.\n",
    "\n",
    "**Example**\n",
    "\n",
    "![AI Generated Table Description](./Includes/images/table_ai_desc.png)"
   ]
  },
  {
   "cell_type": "markdown",
   "metadata": {
    "application/vnd.databricks.v1+cell": {
     "cellMetadata": {},
     "inputWidgets": {},
     "nuid": "c8bcdc9a-2120-4f78-92fd-9e1747cddf01",
     "showTitle": false,
     "tableResultSettingsMap": {},
     "title": ""
    }
   },
   "source": [
    "\n",
    "### J2. Columns\n",
    "\n",
    "1. In the same manner with the table description, under the \"Overview\" tab, below where the schema is presented. There is a button \"AI Generate\", after clicked, DatabricksIQ will generate a description for each column as shown in the image below, you can also revert or adjust as needed.\n",
    "\n",
    "**Example**\n",
    "\n",
    "\n",
    "![AI Generated Column Description](./Includes/images/table_column_ai_desc.png)"
   ]
  },
  {
   "cell_type": "markdown",
   "metadata": {
    "application/vnd.databricks.v1+cell": {
     "cellMetadata": {},
     "inputWidgets": {},
     "nuid": "92dc642c-e035-443d-8d7d-a09cf8c593de",
     "showTitle": false,
     "tableResultSettingsMap": {},
     "title": ""
    }
   },
   "source": [
    "## K. Insights\n",
    "You can use the Insights tab in Catalog Explorer to view the most frequent recent queries and users of any table registered in Unity Catalog. The Insights tab reports on frequent queries and user access for the past 30 days.\n",
    "\n",
    "You must have the following permissions to view frequent queries and user data on the Insights tab.\n",
    "* SELECT privilege on the table.\n",
    "* USE SCHEMA privilege on the table’s parent schema.\n",
    "* USE CATALOG privilege on the table’s parent catalog.\n",
    "\n",
    "Metastore admins have these privileges by default.\n",
    "\n",
    "In the Insights tab for a table, you can view \n",
    "1. Frequently used queries and notebooks\n",
    "1. Frequently used dashboards\n",
    "1. Frequent Users\n",
    "1. Other tables frequently joined with the table in question\n",
    "\n",
    "The Insights tab can also help identify tables that are no longer used by applications. These tables can then be tagged for future cleanup.\n"
   ]
  },
  {
   "cell_type": "markdown",
   "metadata": {
    "application/vnd.databricks.v1+cell": {
     "cellMetadata": {},
     "inputWidgets": {},
     "nuid": "d68adf7b-af03-4b24-a600-15ab2f1abf1d",
     "showTitle": false,
     "tableResultSettingsMap": {},
     "title": ""
    }
   },
   "source": [
    "\n",
    "&copy; 2025 Databricks, Inc. All rights reserved.<br/>\n",
    "Apache, Apache Spark, Spark and the Spark logo are trademarks of the \n",
    "<a href=\"https://www.apache.org/\">Apache Software Foundation</a>.<br/>\n",
    "<br/><a href=\"https://databricks.com/privacy-policy\">Privacy Policy</a> | \n",
    "<a href=\"https://databricks.com/terms-of-use\">Terms of Use</a> | \n",
    "<a href=\"https://help.databricks.com/\">Support</a>"
   ]
  }
 ],
 "metadata": {
  "application/vnd.databricks.v1+notebook": {
   "computePreferences": null,
   "dashboards": [],
   "environmentMetadata": null,
   "inputWidgetPreferences": null,
   "language": "sql",
   "notebookMetadata": {
    "pythonIndentUnit": 4
   },
   "notebookName": "DP 1.1 - Securing Data in Unity Catalog",
   "widgets": {}
  },
  "language_info": {
   "name": "sql"
  }
 },
 "nbformat": 4,
 "nbformat_minor": 0
}