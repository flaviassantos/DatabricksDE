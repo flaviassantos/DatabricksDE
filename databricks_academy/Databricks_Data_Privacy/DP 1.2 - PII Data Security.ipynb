{
 "cells": [
  {
   "cell_type": "markdown",
   "metadata": {
    "application/vnd.databricks.v1+cell": {
     "cellMetadata": {},
     "inputWidgets": {},
     "nuid": "a35a68c4-988b-40ba-88d7-178cb19c2b23",
     "showTitle": false,
     "tableResultSettingsMap": {},
     "title": ""
    }
   },
   "source": [
    "\n",
    "<div style=\"text-align: center; line-height: 0; padding-top: 9px;\">\n",
    "  <img src=\"https://databricks.com/wp-content/uploads/2018/03/db-academy-rgb-1200px.png\" alt=\"Databricks Learning\">\n",
    "</div>\n"
   ]
  },
  {
   "cell_type": "markdown",
   "metadata": {
    "application/vnd.databricks.v1+cell": {
     "cellMetadata": {},
     "inputWidgets": {},
     "nuid": "acd196d7-553a-4326-978b-e2c0a9e92aa1",
     "showTitle": false,
     "tableResultSettingsMap": {},
     "title": ""
    }
   },
   "source": [
    "# PII Data Security\n",
    "\n",
    "In this demo you will learn how to:\n",
    "\n",
    "* How to handle PII Data Security with **Pseudonymization and Anonymization**\n",
    "\n",
    "Further, you will also learn:\n",
    "* Generate and trigger a Delta Live Table pipeline that manages both processes\n",
    "* Explore the resultant DAG\n",
    "* Land a new batch of data"
   ]
  },
  {
   "cell_type": "markdown",
   "metadata": {
    "application/vnd.databricks.v1+cell": {
     "cellMetadata": {},
     "inputWidgets": {},
     "nuid": "0675a01d-630b-41f5-adfa-53d79fe78c82",
     "showTitle": false,
     "tableResultSettingsMap": {},
     "title": ""
    }
   },
   "source": [
    "## REQUIRED - SELECT CLASSIC COMPUTE\n",
    "\n",
    "Before executing cells in this notebook, please select your classic compute cluster in the lab. Be aware that **Serverless** is enabled by default.\n",
    "\n",
    "Follow these steps to select the classic compute cluster:\n",
    "\n",
    "1. Navigate to the top-right of this notebook and click the drop-down menu to select your cluster. By default, the notebook will use **Serverless**.\n",
    "\n",
    "1. If your cluster is available, select it and continue to the next cell. If the cluster is not shown:\n",
    "\n",
    "  - In the drop-down, select **More**.\n",
    "\n",
    "  - In the **Attach to an existing compute resource** pop-up, select the first drop-down. You will see a unique cluster name in that drop-down. Please select that cluster.\n",
    "\n",
    "**NOTE:** If your cluster has terminated, you might need to restart it in order to select it. To do this:\n",
    "\n",
    "1. Right-click on **Compute** in the left navigation pane and select *Open in new tab*.\n",
    "\n",
    "1. Find the triangle icon to the right of your compute cluster name and click it.\n",
    "\n",
    "1. Wait a few minutes for the cluster to start.\n",
    "\n",
    "1. Once the cluster is running, complete the steps above to select your cluster."
   ]
  },
  {
   "cell_type": "markdown",
   "metadata": {
    "application/vnd.databricks.v1+cell": {
     "cellMetadata": {},
     "inputWidgets": {},
     "nuid": "308401b5-2d14-45dd-a8a5-93e6473ef6fe",
     "showTitle": false,
     "tableResultSettingsMap": {},
     "title": ""
    }
   },
   "source": [
    "## A. Classroom Setup\n",
    "\n",
    "Run the following cell to configure your working environment for this course. It will also set your default catalog to your unique catalog name and the schema to your specific schema name shown below using the `USE` statements.\n",
    "<br></br>\n",
    "\n",
    "\n",
    "```\n",
    "USE CATALOG your-catalog;\n",
    "USE SCHEMA your-catalog.pii_data;\n",
    "```\n",
    "\n",
    "**NOTE:** The `DA` object is only used in Databricks Academy courses and is not available outside of these courses. It will dynamically reference the information needed to run the course."
   ]
  },
  {
   "cell_type": "code",
   "execution_count": 0,
   "metadata": {
    "application/vnd.databricks.v1+cell": {
     "cellMetadata": {},
     "inputWidgets": {},
     "nuid": "5e9593bb-e144-48e3-8fa5-ab0bcdb7ef68",
     "showTitle": false,
     "tableResultSettingsMap": {},
     "title": ""
    }
   },
   "outputs": [],
   "source": [
    "%run ./Includes/Classroom-Setup-1.2"
   ]
  },
  {
   "cell_type": "markdown",
   "metadata": {
    "application/vnd.databricks.v1+cell": {
     "cellMetadata": {},
     "inputWidgets": {},
     "nuid": "e01efcab-25a2-4266-a328-dce160958d14",
     "showTitle": false,
     "tableResultSettingsMap": {},
     "title": ""
    }
   },
   "source": [
    "Run the code below to view your current default catalog and schema. Confirm that they have the same name as the cell above."
   ]
  },
  {
   "cell_type": "code",
   "execution_count": 0,
   "metadata": {
    "application/vnd.databricks.v1+cell": {
     "cellMetadata": {},
     "inputWidgets": {},
     "nuid": "92cd719b-3758-4b6f-88e8-e7be8a069d47",
     "showTitle": false,
     "tableResultSettingsMap": {},
     "title": ""
    }
   },
   "outputs": [],
   "source": [
    "%sql\n",
    "SELECT current_catalog(), current_schema()"
   ]
  },
  {
   "cell_type": "markdown",
   "metadata": {
    "application/vnd.databricks.v1+cell": {
     "cellMetadata": {},
     "inputWidgets": {},
     "nuid": "96021bc5-0699-4c06-9da5-42dbb0c9feb2",
     "showTitle": false,
     "tableResultSettingsMap": {},
     "title": ""
    }
   },
   "source": [
    "\n",
    "## B. Generate and Trigger DLT Pipeline\n",
    "Run the cell below to auto-generate your DLT pipeline using the provided configuration values.\n",
    "\n",
    "After creation, the pipeline will run. The initial run will take a few minutes while a cluster is provisioned."
   ]
  },
  {
   "cell_type": "code",
   "execution_count": 0,
   "metadata": {
    "application/vnd.databricks.v1+cell": {
     "cellMetadata": {},
     "inputWidgets": {},
     "nuid": "751fa19c-f836-4c79-9630-68905359e782",
     "showTitle": false,
     "tableResultSettingsMap": {},
     "title": ""
    }
   },
   "outputs": [],
   "source": [
    "# Generate and Configure Pipeline\n",
    "DA.generate_pipeline(\n",
    "    pipeline_name=f\"1.2_PII_Data_Security\", \n",
    "    use_schema = 'pii_data',\n",
    "    notebooks_folder='Pipeline', \n",
    "    pipeline_notebooks=[\n",
    "        'DP 1.2.1 - Pseudonymized PII Lookup Table',\n",
    "        'DP 1.2.2 - Anonymized Users Age'\n",
    "        ],\n",
    "    use_configuration = {\n",
    "        'user_reg_source':DA.paths.stream_source.user_reg,\n",
    "        'daily_user_events_source':DA.paths.stream_source.daily,\n",
    "        'lookup_catalog': DA.catalog_name\n",
    "        }\n",
    "    )\n",
    "\n",
    "# Trigger the pipeline\n",
    "DA.start_pipeline()"
   ]
  },
  {
   "cell_type": "markdown",
   "metadata": {
    "application/vnd.databricks.v1+cell": {
     "cellMetadata": {},
     "inputWidgets": {},
     "nuid": "7b3f1257-b9d4-4e1a-ac9e-04bd85bf6f26",
     "showTitle": false,
     "tableResultSettingsMap": {},
     "title": ""
    }
   },
   "source": [
    "\n",
    "#### Pipeline Overview\n",
    "\n",
    "This Delta Live Tables Pipeline is based in two notebooks located in the \"Pipeline\" folder:\n",
    "\n",
    "- [DP 1.2.1 - Pseudonymized PII Lookup Table]($./Pipeline/DP 1.2.1 - Pseudonymized PII Lookup Table): Provides an overview of how to ingest and stream **registered_user_data** to apply two **Pseudonymization** techniques such as:\n",
    "  - Hashing\n",
    "  - Tokenization\n",
    " \n",
    "- [DP 1.2.2 - Anonymized Users Age]($./Pipeline/DP 1.2.2 - Anonymized Users Age): Provides an overview of how to ingest and stream **user_events_raw** data into a **users_bronze** and apply **Binning Anonymization** on User's Ages into a materialized view **user_bins**."
   ]
  },
  {
   "cell_type": "markdown",
   "metadata": {
    "application/vnd.databricks.v1+cell": {
     "cellMetadata": {},
     "inputWidgets": {},
     "nuid": "854dc664-0ad3-4f65-bcfc-f1675767bf49",
     "showTitle": false,
     "tableResultSettingsMap": {},
     "title": ""
    }
   },
   "source": [
    "### B1. Open the DLT Pipeline\n",
    "\n",
    "In the left navigation bar, complete the following to open your DLT pipeline:\n",
    "\n",
    "1. Right-click on Pipelines and select *Open in New Tab*.\n",
    "\n",
    "2. Find and select your DLT pipeline named **your_catalog_name_1.2_PII_Data_Security**.\n",
    "\n",
    "3. Leave the DLT pipeline page open and continue to the next steps.\n",
    "\n",
    "4. Once the pipeline completes, here is the graphed execution flow:\n",
    "\n",
    "![PII Data Security DLT Pipeline DAG](./Includes/images/piidata_security_dag.png)"
   ]
  },
  {
   "cell_type": "markdown",
   "metadata": {
    "application/vnd.databricks.v1+cell": {
     "cellMetadata": {},
     "inputWidgets": {},
     "nuid": "0ab0732f-0f04-40b8-a0e9-45e5dd18e138",
     "showTitle": false,
     "tableResultSettingsMap": {},
     "title": ""
    }
   },
   "source": [
    "## C. Pseudonymization\n",
    "\n",
    "As a recap:\n",
    "\n",
    "- Switches original data point with pseudonym for later re-identification\n",
    "- Only authorized users will have access to keys/hash/table for re-identification\n",
    "- Protects datasets on record level for machine learning\n",
    "- A pseudonym is still considered to be personal data according to the GDPR\n",
    "Two main pseudonymization methods: hashing and tokenization\n",
    "\n",
    "\n",
    "[DP 1.2.1 - Pseudonymized PII Lookup Table]($./Pipeline/DP 1.2.1 - Pseudonymized PII Lookup Table): Provides an overview of how to ingest and stream **registered_users** to apply two **Pseudonymization** techniques such as:\n",
    "  1. Creates the **registered_users** table from the source JSON files with PII.\n",
    "\n",
    "  1. Hashing: Handled in table **user_lookup_hashed**\n",
    "\n",
    "  1. Tokenization: Handled in tables **registered_users_tokens** and **user_lookup_tokenized**\n",
    "\n",
    "\n",
    "#### Pseudonymization section in DAG\n",
    "\n",
    "![Pseudonymization DAG](./Includes/images/pii_data_security_pseudo_dag.png)"
   ]
  },
  {
   "cell_type": "markdown",
   "metadata": {
    "application/vnd.databricks.v1+cell": {
     "cellMetadata": {},
     "inputWidgets": {},
     "nuid": "5032b7ca-9d81-425f-8d9e-dd3748168131",
     "showTitle": false,
     "tableResultSettingsMap": {},
     "title": ""
    }
   },
   "source": [
    "### C1. Preview the registered_users Table\n",
    "\n",
    "The table **registered_users** will be our source for the ingested users, where we'll apply *Pseudonymization* and *Anonymization*. \n",
    "\n",
    "Run the cell and view the original source data. Notice that no data has been anonymized.\n"
   ]
  },
  {
   "cell_type": "code",
   "execution_count": 0,
   "metadata": {
    "application/vnd.databricks.v1+cell": {
     "cellMetadata": {},
     "inputWidgets": {},
     "nuid": "caf1839f-7c94-485d-a462-0816dee87dcd",
     "showTitle": false,
     "tableResultSettingsMap": {},
     "title": ""
    }
   },
   "outputs": [],
   "source": [
    "%sql\n",
    "SELECT\n",
    "    user_id,\n",
    "    device_id,\n",
    "    mac_address\n",
    "FROM registered_users \n",
    "LIMIT 5;"
   ]
  },
  {
   "cell_type": "markdown",
   "metadata": {
    "application/vnd.databricks.v1+cell": {
     "cellMetadata": {},
     "inputWidgets": {},
     "nuid": "9c60c06d-2f3f-4061-b125-6143c9f86403",
     "showTitle": false,
     "tableResultSettingsMap": {},
     "title": ""
    }
   },
   "source": [
    "\n",
    "### C2. Option 1 - Hashing\n",
    "\n",
    "Objectives:\n",
    "\n",
    "- Apply SHA or other hashes to all PII.\n",
    "- Add a random string \"salt\" to values before hashing.\n",
    "- Databricks secrets can be leveraged for obfuscating the salt value.\n",
    "- This leads to a slight increase in data size.\n",
    "- Some operations may be less efficient.\n",
    "\n",
    "In our pipeline, we leverage the **registered_users** table and apply hashing to the **user_id** column using a salt value of *BEANS*, creating a column **alt_id** in the **user_lookup_hashed** table.\n",
    "\n",
    "See the cell below for the results and compare both the **user_id** and **alt_id** columns.\n",
    "\n",
    "**NOTE:** The **user_id** column should be removed after processing. It is kept for demo purposes."
   ]
  },
  {
   "cell_type": "code",
   "execution_count": 0,
   "metadata": {
    "application/vnd.databricks.v1+cell": {
     "cellMetadata": {},
     "inputWidgets": {},
     "nuid": "a672eb15-4ad3-4cb6-b4e2-c72de9d08f32",
     "showTitle": false,
     "tableResultSettingsMap": {},
     "title": ""
    }
   },
   "outputs": [],
   "source": [
    "%sql\n",
    "SELECT \n",
    "  alt_id,\n",
    "  user_id,\n",
    "  device_id,\n",
    "  mac_address \n",
    "FROM user_lookup_hashed"
   ]
  },
  {
   "cell_type": "markdown",
   "metadata": {
    "application/vnd.databricks.v1+cell": {
     "cellMetadata": {},
     "inputWidgets": {},
     "nuid": "4e09ba34-dc63-4217-877a-55de54412d28",
     "showTitle": false,
     "tableResultSettingsMap": {},
     "title": ""
    }
   },
   "source": [
    "### C3. Option 2 - Tokenization\n",
    "\n",
    "**Tokenization** objectives:\n",
    "\n",
    "- Converts all PII to keys.\n",
    "- Values are stored in a secure lookup table.\n",
    "- Slow to write, but fast to read.\n",
    "- De-identified data is stored in fewer bytes.\n",
    "\n",
    "Similar to the previous step, our pipeline leverages the **registered_users** table. This time, the pipeline creates a new table called **registered_users_tokens** to store the relationship between the generated token (using the [uuid function](https://docs.databricks.com/en/sql/language-manual/functions/uuid.html)) and the **user_id** column.\n",
    "\n",
    "See the token column generated for each **user_id** in the **registered_users_tokens** table below.\n",
    "\n"
   ]
  },
  {
   "cell_type": "code",
   "execution_count": 0,
   "metadata": {
    "application/vnd.databricks.v1+cell": {
     "cellMetadata": {},
     "inputWidgets": {},
     "nuid": "28f771bb-509a-4dbc-bca1-c38109b0b3a6",
     "showTitle": false,
     "tableResultSettingsMap": {},
     "title": ""
    }
   },
   "outputs": [],
   "source": [
    "%sql\n",
    "SELECT * \n",
    "FROM registered_users_tokens"
   ]
  },
  {
   "cell_type": "markdown",
   "metadata": {
    "application/vnd.databricks.v1+cell": {
     "cellMetadata": {},
     "inputWidgets": {},
     "nuid": "4ef2c42b-25cb-4d11-a4dc-aaeb0a6cd4c1",
     "showTitle": false,
     "tableResultSettingsMap": {},
     "title": ""
    }
   },
   "source": [
    "Now we can use and leverage the table **registered_users_tokens** and create a new lookup table with tokenized **user_id** column, held in **user_lookup_tokenized** table."
   ]
  },
  {
   "cell_type": "code",
   "execution_count": 0,
   "metadata": {
    "application/vnd.databricks.v1+cell": {
     "cellMetadata": {},
     "inputWidgets": {},
     "nuid": "78b41e6d-ac61-4717-9589-f8dad6bf6893",
     "showTitle": false,
     "tableResultSettingsMap": {},
     "title": ""
    }
   },
   "outputs": [],
   "source": [
    "%sql\n",
    "SELECT \n",
    "  alt_id as Tokenized,\n",
    "  device_id,\n",
    "  mac_address, \n",
    "  registration_timestamp \n",
    "FROM user_lookup_tokenized"
   ]
  },
  {
   "cell_type": "markdown",
   "metadata": {
    "application/vnd.databricks.v1+cell": {
     "cellMetadata": {},
     "inputWidgets": {},
     "nuid": "5349b926-e8a0-41d5-b7d6-99fa4eef555a",
     "showTitle": false,
     "tableResultSettingsMap": {},
     "title": ""
    }
   },
   "source": [
    "## D. Anonymization\n",
    "\n",
    "As a recap:\n",
    "\n",
    "- Protects entire dataset (tables, databases or entire data catalogues) mostly for Business Intelligence\n",
    "- Personal data is irreversibly altered in such a way that a data subject can no longer be identified directly or indirectly\n",
    "- Usually a combination of more than one technique used in real-world scenarios\n",
    "- Two main anonymization methods: data suppression and generalization\n",
    "\n",
    "\n",
    "[DP 1.2.2 - Anonymized Users Age]($./Pipeline/DP 1.2.2 - Anonymized Users Age): Provides an overview of how to ingest and stream **user_events_raw** data into a **users_bronze** and apply **Binning Anonymization** on User's Ages into a materialized view **user_age_bins**.\n",
    "\n",
    "#### Anonymization section in DAG\n",
    "\n",
    "![Anonymization DAG](./Includes/images/piidata_security_anon_dag.png)"
   ]
  },
  {
   "cell_type": "markdown",
   "metadata": {
    "application/vnd.databricks.v1+cell": {
     "cellMetadata": {},
     "inputWidgets": {},
     "nuid": "8e0b8174-5c18-496e-b006-4c6e01356a4e",
     "showTitle": false,
     "tableResultSettingsMap": {},
     "title": ""
    }
   },
   "source": [
    "### D1. Explore the Date Lookup and User Events Raw tables\n",
    "\n",
    "- The **date_lookup** table is used for the **date** and **week_part** association. It is joined with the **user_events_raw** data to identify which **week_part** the **Date of Birth (DOB)** belongs to. \n",
    "  - For example: (date) 2020-07-02 = (week_part) 2020-27."
   ]
  },
  {
   "cell_type": "code",
   "execution_count": 0,
   "metadata": {
    "application/vnd.databricks.v1+cell": {
     "cellMetadata": {},
     "inputWidgets": {},
     "nuid": "c99f6eeb-1eb2-4e71-9567-902fa01a5f2d",
     "showTitle": false,
     "tableResultSettingsMap": {},
     "title": ""
    }
   },
   "outputs": [],
   "source": [
    "%sql\n",
    "SELECT * \n",
    "FROM date_lookup\n",
    "LIMIT 5;"
   ]
  },
  {
   "cell_type": "markdown",
   "metadata": {
    "application/vnd.databricks.v1+cell": {
     "cellMetadata": {},
     "inputWidgets": {},
     "nuid": "278a71a5-cc53-415a-b0e0-303ff9374dac",
     "showTitle": false,
     "tableResultSettingsMap": {},
     "title": ""
    }
   },
   "source": [
    "- The **user_events_raw** table represents the ingested user event data in JSON format, which is later unpacked and filtered to retrieve only user information."
   ]
  },
  {
   "cell_type": "code",
   "execution_count": 0,
   "metadata": {
    "application/vnd.databricks.v1+cell": {
     "cellMetadata": {},
     "inputWidgets": {},
     "nuid": "6522a83f-e9aa-4425-aee4-e06222af263a",
     "showTitle": false,
     "tableResultSettingsMap": {},
     "title": ""
    }
   },
   "outputs": [],
   "source": [
    "%sql\n",
    "SELECT \n",
    "  string(key), \n",
    "  string(value)\n",
    "FROM user_events_raw\n",
    "LIMIT 5;"
   ]
  },
  {
   "cell_type": "markdown",
   "metadata": {
    "application/vnd.databricks.v1+cell": {
     "cellMetadata": {},
     "inputWidgets": {},
     "nuid": "72e42c50-4f30-436e-b1dc-914ab70130cf",
     "showTitle": false,
     "tableResultSettingsMap": {},
     "title": ""
    }
   },
   "source": [
    "### D2. Users Bronze\n",
    "\n",
    "The table **users_bronze** is our focus and will be our source for the ingested user information, where we'll apply **Binning Anonymization** to the **Date of Birth (DOB)**.\n",
    "\n"
   ]
  },
  {
   "cell_type": "code",
   "execution_count": 0,
   "metadata": {
    "application/vnd.databricks.v1+cell": {
     "cellMetadata": {},
     "inputWidgets": {},
     "nuid": "8041f2ac-1355-47c9-8339-e27ef8e39d46",
     "showTitle": false,
     "tableResultSettingsMap": {},
     "title": ""
    }
   },
   "outputs": [],
   "source": [
    "%sql\n",
    "SELECT \n",
    "  user_id,\n",
    "  dob,\n",
    "  gender,\n",
    "  city,\n",
    "  state \n",
    "FROM users_bronze"
   ]
  },
  {
   "cell_type": "markdown",
   "metadata": {
    "application/vnd.databricks.v1+cell": {
     "cellMetadata": {},
     "inputWidgets": {},
     "nuid": "8f24e31f-4194-4b58-880b-fd35870fff58",
     "showTitle": false,
     "tableResultSettingsMap": {},
     "title": ""
    }
   },
   "source": [
    "### D3. User Age Bins\n",
    "\n",
    "The table **user_age_bins** shows the results of the **binning anonymization** applied, check **age** column and the range provide for each user.\n"
   ]
  },
  {
   "cell_type": "code",
   "execution_count": 0,
   "metadata": {
    "application/vnd.databricks.v1+cell": {
     "cellMetadata": {},
     "inputWidgets": {},
     "nuid": "0eadf082-7264-4223-97f8-04b942bd3861",
     "showTitle": false,
     "tableResultSettingsMap": {},
     "title": ""
    }
   },
   "outputs": [],
   "source": [
    "%sql\n",
    "SELECT * \n",
    "FROM user_age_bins"
   ]
  },
  {
   "cell_type": "markdown",
   "metadata": {
    "application/vnd.databricks.v1+cell": {
     "cellMetadata": {},
     "inputWidgets": {},
     "nuid": "ec936483-c86d-441c-b2f2-da7d4ebd7ebd",
     "showTitle": false,
     "tableResultSettingsMap": {},
     "title": ""
    }
   },
   "source": [
    "## E. Land New Data and Trigger the Pipeline\n",
    "\n",
    "Run the cell below to land more data in the source directory, then navigate to the Delta Live Table UI and manually trigger a pipeline update.\n",
    "\n",
    "As we continue through the course, you can return to this notebook and use the method provided below to land new data. Running this entire notebook again will delete the underlying data files for both the source data and your DLT Pipeline and enable you to start over."
   ]
  },
  {
   "cell_type": "code",
   "execution_count": 0,
   "metadata": {
    "application/vnd.databricks.v1+cell": {
     "cellMetadata": {},
     "inputWidgets": {},
     "nuid": "c6935b3a-6ef8-49f3-b388-82b7cd13743b",
     "showTitle": false,
     "tableResultSettingsMap": {},
     "title": ""
    }
   },
   "outputs": [],
   "source": [
    "## Load files into (your catalog -> pii_data -> volumes -> pii -> stream_source -> daily)\n",
    "DA.load(copy_from=DA.paths.stream_source.daily_working_dir,\n",
    "        copy_to=DA.paths.stream_source.daily,\n",
    "        n=4)"
   ]
  },
  {
   "cell_type": "markdown",
   "metadata": {
    "application/vnd.databricks.v1+cell": {
     "cellMetadata": {},
     "inputWidgets": {},
     "nuid": "0d337f1e-7f6d-4d39-9efb-7e7176ee9883",
     "showTitle": false,
     "tableResultSettingsMap": {},
     "title": ""
    }
   },
   "source": [
    "\n",
    "&copy; 2025 Databricks, Inc. All rights reserved.<br/>\n",
    "Apache, Apache Spark, Spark and the Spark logo are trademarks of the \n",
    "<a href=\"https://www.apache.org/\">Apache Software Foundation</a>.<br/>\n",
    "<br/><a href=\"https://databricks.com/privacy-policy\">Privacy Policy</a> | \n",
    "<a href=\"https://databricks.com/terms-of-use\">Terms of Use</a> | \n",
    "<a href=\"https://help.databricks.com/\">Support</a>"
   ]
  }
 ],
 "metadata": {
  "application/vnd.databricks.v1+notebook": {
   "computePreferences": null,
   "dashboards": [],
   "environmentMetadata": null,
   "inputWidgetPreferences": null,
   "language": "python",
   "notebookMetadata": {},
   "notebookName": "DP 1.2 - PII Data Security",
   "widgets": {}
  },
  "language_info": {
   "name": "python"
  }
 },
 "nbformat": 4,
 "nbformat_minor": 0
}