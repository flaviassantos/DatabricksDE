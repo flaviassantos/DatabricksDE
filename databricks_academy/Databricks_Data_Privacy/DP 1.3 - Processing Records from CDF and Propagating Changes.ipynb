{
 "cells": [
  {
   "cell_type": "markdown",
   "metadata": {
    "application/vnd.databricks.v1+cell": {
     "cellMetadata": {},
     "inputWidgets": {},
     "nuid": "05120bb5-141a-4842-9633-61f726c9986d",
     "showTitle": false,
     "tableResultSettingsMap": {},
     "title": ""
    }
   },
   "source": [
    "\n",
    "<div style=\"text-align: center; line-height: 0; padding-top: 9px;\">\n",
    "  <img src=\"https://databricks.com/wp-content/uploads/2018/03/db-academy-rgb-1200px.png\" alt=\"Databricks Learning\">\n",
    "</div>\n"
   ]
  },
  {
   "cell_type": "markdown",
   "metadata": {
    "application/vnd.databricks.v1+cell": {
     "cellMetadata": {},
     "inputWidgets": {},
     "nuid": "16783c7a-c803-4c9a-9f97-804cc0786951",
     "showTitle": false,
     "tableResultSettingsMap": {},
     "title": ""
    }
   },
   "source": [
    "# Processing Records from CDF and Propagating Changes\n",
    "\n",
    "In this notebook, we'll demonstrate how you can easily propagate changes (inserts, updates and deletes) through a Lakehouse with Delta Lake [Change Data Feed (CDF)](https://docs.databricks.com/en/delta/delta-change-data-feed.html) via Stream or queried by its specific version.\n",
    "\n",
    "For this demo, we'll work with a slightly different dataset representing patient information for medical records. Descriptions of the data at various stages follow.\n",
    "\n",
    "#### Raw Files\n",
    "We will be loading JSON files into a Delta table.\n",
    "\n",
    "#### Bronze Table (bronze_users)\n",
    "Here we store all records as consumed. A row represents:\n",
    "1. A new patient providing data for the first time\n",
    "1. An existing patient confirming that their information is still correct\n",
    "1. An existing patient updating some of their information\n",
    "\n",
    "The type of action a row represents is not captured.\n",
    "\n",
    "#### Silver Table\n",
    "This is the validated view of our data. Each patient will appear only once in this table. An upsert statement will be used to identify rows that have changed.\n",
    "\n",
    "\n",
    "#### Gold Table\n",
    "For this example, we'll create a simple gold table leveraging the silver table.\n",
    "\n",
    "\n",
    "By the end of this lesson, students will be able to:\n",
    "- Enable Change Data Feed on a cluster or for a particular table\n",
    "- Describe how changes (insert, update and delete) are recorded\n",
    "- Read CDF output with Spark SQL or PySpark\n",
    "- Leverage the `change_table` function for tracking changes and `_change_type` column to get specific actions in your data. \n",
    "- Retrieve the latest history version from a table\n"
   ]
  },
  {
   "cell_type": "markdown",
   "metadata": {
    "application/vnd.databricks.v1+cell": {
     "cellMetadata": {},
     "inputWidgets": {},
     "nuid": "3e9713cb-fb16-43bd-8406-7b39e73dc952",
     "showTitle": false,
     "tableResultSettingsMap": {},
     "title": ""
    }
   },
   "source": [
    "## REQUIRED - SELECT CLASSIC COMPUTE\n",
    "\n",
    "Before executing cells in this notebook, please select your classic compute cluster in the lab. Be aware that **Serverless** is enabled by default.\n",
    "\n",
    "Follow these steps to select the classic compute cluster:\n",
    "\n",
    "1. Navigate to the top-right of this notebook and click the drop-down menu to select your cluster. By default, the notebook will use **Serverless**.\n",
    "\n",
    "1. If your cluster is available, select it and continue to the next cell. If the cluster is not shown:\n",
    "\n",
    "  - In the drop-down, select **More**.\n",
    "\n",
    "  - In the **Attach to an existing compute resource** pop-up, select the first drop-down. You will see a unique cluster name in that drop-down. Please select that cluster.\n",
    "\n",
    "**NOTE:** If your cluster has terminated, you might need to restart it in order to select it. To do this:\n",
    "\n",
    "1. Right-click on **Compute** in the left navigation pane and select *Open in new tab*.\n",
    "\n",
    "1. Find the triangle icon to the right of your compute cluster name and click it.\n",
    "\n",
    "1. Wait a few minutes for the cluster to start.\n",
    "\n",
    "1. Once the cluster is running, complete the steps above to select your cluster."
   ]
  },
  {
   "cell_type": "markdown",
   "metadata": {
    "application/vnd.databricks.v1+cell": {
     "cellMetadata": {},
     "inputWidgets": {},
     "nuid": "2df1af8f-d167-4aba-b474-79a9e2ea113d",
     "showTitle": false,
     "tableResultSettingsMap": {},
     "title": ""
    }
   },
   "source": [
    "## A. Classroom Setup\n",
    "\n",
    "Run the following cell to configure your working environment for this course. It will also set your default catalog to your unique catalog name and the schema to your specific schema name shown below using the `USE` statements.\n",
    "<br></br>\n",
    "\n",
    "\n",
    "```\n",
    "USE CATALOG your-catalog;\n",
    "USE SCHEMA your-catalog.pii_data;\n",
    "```\n",
    "\n",
    "**NOTE:** The `DA` object is only used in Databricks Academy courses and is not available outside of these courses. It will dynamically reference the information needed to run the course."
   ]
  },
  {
   "cell_type": "code",
   "execution_count": 0,
   "metadata": {
    "application/vnd.databricks.v1+cell": {
     "cellMetadata": {},
     "inputWidgets": {},
     "nuid": "2daa59c5-d8ad-4586-b4d5-b2f184757061",
     "showTitle": false,
     "tableResultSettingsMap": {},
     "title": ""
    }
   },
   "outputs": [],
   "source": [
    "%run ./Includes/Classroom-Setup-1.3"
   ]
  },
  {
   "cell_type": "markdown",
   "metadata": {
    "application/vnd.databricks.v1+cell": {
     "cellMetadata": {},
     "inputWidgets": {},
     "nuid": "6f5de3e0-d58c-4419-b8ca-6e0e0eed60d7",
     "showTitle": false,
     "tableResultSettingsMap": {},
     "title": ""
    }
   },
   "source": [
    "### A1. Catalog and Schema\n",
    "\n",
    "Run the code below to view your current default catalog and schema. Ensure that their names match the ones from the cell above."
   ]
  },
  {
   "cell_type": "code",
   "execution_count": 0,
   "metadata": {
    "application/vnd.databricks.v1+cell": {
     "cellMetadata": {},
     "inputWidgets": {},
     "nuid": "f833aa0a-9672-4930-887b-fbde9a12c865",
     "showTitle": false,
     "tableResultSettingsMap": {},
     "title": ""
    }
   },
   "outputs": [],
   "source": [
    "%sql\n",
    "SELECT current_catalog(), current_schema()"
   ]
  },
  {
   "cell_type": "markdown",
   "metadata": {
    "application/vnd.databricks.v1+cell": {
     "cellMetadata": {},
     "inputWidgets": {},
     "nuid": "9a67fac2-45af-4a97-ae6b-b691a39f5f39",
     "showTitle": false,
     "tableResultSettingsMap": {},
     "title": ""
    }
   },
   "source": [
    "### A2. Source Data Volume\n",
    "\n",
    "Run the code below to view the volume path where the data will be stored for streaming. You can also check the contents in the Catalog Explorer, located in the left navigation pane. Currently no files are loaded to the volume."
   ]
  },
  {
   "cell_type": "code",
   "execution_count": 0,
   "metadata": {
    "application/vnd.databricks.v1+cell": {
     "cellMetadata": {},
     "inputWidgets": {},
     "nuid": "3ae2ab13-953c-4993-a96f-1631249d9ef0",
     "showTitle": false,
     "tableResultSettingsMap": {},
     "title": ""
    }
   },
   "outputs": [],
   "source": [
    "print(f\"Source Data Volume:{DA.paths.cdc_stream}\")"
   ]
  },
  {
   "cell_type": "markdown",
   "metadata": {
    "application/vnd.databricks.v1+cell": {
     "cellMetadata": {},
     "inputWidgets": {},
     "nuid": "150c14a8-cb7a-414c-b44a-e588aa36ff40",
     "showTitle": false,
     "tableResultSettingsMap": {},
     "title": ""
    }
   },
   "source": [
    "### A3. Structure Streaming Checkpoint folder\n",
    "\n",
    "The [checkpoint](https://docs.databricks.com/en/structured-streaming/checkpoints.html) location tracks information that identifies the query, including state data and processed records. When you delete files in a checkpoint directory or switch to a new checkpoint location, the next run of the query starts fresh.\n",
    "\n",
    "Run the code below to view the checkpoint path to use in our structured streaming process. You can also check this in the Catalog Explorer.Currently no files are loaded to the **_checkpoint** folder in the volume."
   ]
  },
  {
   "cell_type": "code",
   "execution_count": 0,
   "metadata": {
    "application/vnd.databricks.v1+cell": {
     "cellMetadata": {},
     "inputWidgets": {},
     "nuid": "6c11493b-76a9-42a3-a169-ade49b278798",
     "showTitle": false,
     "tableResultSettingsMap": {},
     "title": ""
    }
   },
   "outputs": [],
   "source": [
    "print(f\"Checkpoint Volume:{DA.paths.checkpoints}\")"
   ]
  },
  {
   "cell_type": "markdown",
   "metadata": {
    "application/vnd.databricks.v1+cell": {
     "cellMetadata": {},
     "inputWidgets": {},
     "nuid": "ce00fdf4-a4f6-4a55-9b94-eac62317026e",
     "showTitle": false,
     "tableResultSettingsMap": {},
     "title": ""
    }
   },
   "source": [
    "## B. Create a Bronze Users Table and Ingest Data with Auto Loader\n",
    "\n",
    "In this section, we'll use Auto Loader to ingest data as it arrives.\n",
    "\n",
    "The steps below include:\n",
    "* Declaring the target table\n",
    "* Creating and starting the stream\n",
    "* Loading data into the source directory"
   ]
  },
  {
   "cell_type": "markdown",
   "metadata": {
    "application/vnd.databricks.v1+cell": {
     "cellMetadata": {},
     "inputWidgets": {},
     "nuid": "1b802fb9-b40c-45ab-9c27-6347db7d8694",
     "showTitle": false,
     "tableResultSettingsMap": {},
     "title": ""
    }
   },
   "source": [
    "\n",
    "\n",
    "### B1. Create the bronze_users table"
   ]
  },
  {
   "cell_type": "code",
   "execution_count": 0,
   "metadata": {
    "application/vnd.databricks.v1+cell": {
     "cellMetadata": {},
     "inputWidgets": {},
     "nuid": "b0fdf646-d87e-4931-a349-d3ecf92a2eba",
     "showTitle": false,
     "tableResultSettingsMap": {},
     "title": ""
    }
   },
   "outputs": [],
   "source": [
    "%sql\n",
    "-- Drop Table if exists\n",
    "DROP TABLE IF EXISTS bronze_users;  \n",
    "\n",
    "-- Create bronze_users table\n",
    "CREATE TABLE IF NOT EXISTS bronze_users ( \n",
    "  mrn BIGINT, \n",
    "  dob DATE, \n",
    "  sex STRING, \n",
    "  gender STRING, \n",
    "  first_name STRING, \n",
    "  last_name STRING, \n",
    "  street_address STRING, \n",
    "  zip BIGINT, city STRING, \n",
    "  state STRING, \n",
    "  updated timestamp\n",
    ");"
   ]
  },
  {
   "cell_type": "markdown",
   "metadata": {
    "application/vnd.databricks.v1+cell": {
     "cellMetadata": {},
     "inputWidgets": {},
     "nuid": "6024a784-c192-4466-b194-36551ea5c547",
     "showTitle": false,
     "tableResultSettingsMap": {},
     "title": ""
    }
   },
   "source": [
    "### B2. Create, Start, and Load Stream Data into the Bronze Table\n",
    "\n",
    "The cell below completes the following:\n",
    "- defines a schema for our the stream\n",
    "- creates a stream into the **bronze_users** table that runs every **3 seconds**\n",
    "- loads the first batch of JSON files to your *../pii_data/cdf_demo/stream_source/cdc* volume.\n",
    "\n",
    "**Note**: The stream will continue running every 3 seconds until it is terminated later in the notebook. Wait for the stream to finish reading the file before continuing to the next cell.\n"
   ]
  },
  {
   "cell_type": "code",
   "execution_count": 0,
   "metadata": {
    "application/vnd.databricks.v1+cell": {
     "cellMetadata": {},
     "inputWidgets": {},
     "nuid": "ba11946c-906e-4ece-b6c1-d9295297b660",
     "showTitle": false,
     "tableResultSettingsMap": {},
     "title": ""
    }
   },
   "outputs": [],
   "source": [
    "# Define the schema for the incoming data\n",
    "schema = \"\"\"\n",
    "  mrn BIGINT, \n",
    "  dob DATE, \n",
    "  sex STRING, \n",
    "  gender STRING, \n",
    "  first_name STRING, \n",
    "  last_name STRING, \n",
    "  street_address STRING, \n",
    "  zip BIGINT, \n",
    "  city STRING, \n",
    "  state STRING, \n",
    "  updated TIMESTAMP\n",
    "\"\"\"\n",
    "\n",
    "# Read the streaming data from the specified path with the defined schema into the Bronze Table\n",
    "from pyspark.sql.functions import col, expr,date_add\n",
    "\n",
    "bronze_users_stream = (\n",
    "      spark\n",
    "      .readStream\n",
    "        .format(\"cloudFiles\")                 # Specify the format as cloudFiles for auto loader\n",
    "        .option(\"cloudFiles.format\", \"json\")  # Specify the file format as JSON\n",
    "        .schema(schema)                       # Apply the defined schema to the incoming data\n",
    "        .load(DA.paths.cdc_stream)            # Load the data from the specified path\n",
    "      .writeStream\n",
    "        .format(\"delta\")                      # Write the stream data in Delta format\n",
    "        .outputMode(\"append\")                 # Append new records to the table\n",
    "        .trigger(processingTime='3 seconds')\n",
    "        .option(\"checkpointLocation\", f\"{DA.paths.checkpoints}/bronze\")  # Specify the checkpoint location\n",
    "        .table(\"bronze_users\"))               # Write the stream data to the Bronze table\n",
    "\n",
    "\n",
    "# Load a file into the volume: DA.paths.cdc_stream\n",
    "DA.load(copy_from=DA.paths.stream_source.cdf_demo, \n",
    "        copy_to=DA.paths.cdc_stream, \n",
    "        n=1)"
   ]
  },
  {
   "cell_type": "markdown",
   "metadata": {
    "application/vnd.databricks.v1+cell": {
     "cellMetadata": {},
     "inputWidgets": {},
     "nuid": "1c062eb5-8a3c-4197-bede-c4c40036b080",
     "showTitle": false,
     "tableResultSettingsMap": {},
     "title": ""
    }
   },
   "source": [
    "### B3. Validate a File has been placed in your volume\n",
    "\n",
    "Wait for the stream to initialize and process the file that has been placed to be ingested into the **bronze_users** table. Run the cell below to get the exact names of your volumes. \n",
    "\n",
    "In the catalog explorer check your source files and checkpoint volumes and confirm files have been added. You should see the following:\n",
    "- In the  **cdc** folder a file named *batch01.json*\n",
    "- In the **_checkpoints** a folder named **bronze** corresponding to the **bronze_users** table.\n",
    "\n",
    "**Example**\n",
    "\n",
    "![Source and Checkpoint Folders](./Includes/images/stream_folders.png)\n"
   ]
  },
  {
   "cell_type": "code",
   "execution_count": 0,
   "metadata": {
    "application/vnd.databricks.v1+cell": {
     "cellMetadata": {},
     "inputWidgets": {},
     "nuid": "ad6c61f6-f3b1-4761-bbeb-520b61dca2b6",
     "showTitle": false,
     "tableResultSettingsMap": {},
     "title": ""
    }
   },
   "outputs": [],
   "source": [
    "print(f\"Source Data Volume:{DA.paths.cdc_stream}\")\n",
    "print(f\"Checkpoint Volume:{DA.paths.checkpoints}\")"
   ]
  },
  {
   "cell_type": "markdown",
   "metadata": {
    "application/vnd.databricks.v1+cell": {
     "cellMetadata": {},
     "inputWidgets": {},
     "nuid": "db4a38e0-40aa-4127-bd2c-b3cd5108cf88",
     "showTitle": false,
     "tableResultSettingsMap": {},
     "title": ""
    }
   },
   "source": [
    "### B4. Validate Ingested Data in the **bronze_users** Table\n",
    "\n",
    "Query the **bronze_users** table and confirm that *829* users have been loaded into the table from the first batch of JSON files (one file).\n"
   ]
  },
  {
   "cell_type": "code",
   "execution_count": 0,
   "metadata": {
    "application/vnd.databricks.v1+cell": {
     "cellMetadata": {},
     "inputWidgets": {},
     "nuid": "b25efdb3-772d-4a75-9453-61d8fbff95f1",
     "showTitle": false,
     "tableResultSettingsMap": {},
     "title": ""
    }
   },
   "outputs": [],
   "source": [
    "%sql\n",
    "SELECT * \n",
    "FROM bronze_users;"
   ]
  },
  {
   "cell_type": "markdown",
   "metadata": {
    "application/vnd.databricks.v1+cell": {
     "cellMetadata": {},
     "inputWidgets": {},
     "nuid": "530ae7ca-3b83-424c-b43e-59d3d06bcb57",
     "showTitle": false,
     "tableResultSettingsMap": {},
     "title": ""
    }
   },
   "source": [
    "\n",
    "## C. Create a **silver_users** Target Table and Load It with Our Production Data\n",
    "\n",
    "Our **silver_users** table will be loaded with production data from our users to serve as a baseline. Here, we use `DEEP CLONE` to move read-only data from PROD to our environment, where we have full write/delete access.\n",
    "\n",
    "In this case, our production data is stored as a Delta table in the following location: `Volumes/dbacademy_gym_data/v01/pii/silver`"
   ]
  },
  {
   "cell_type": "code",
   "execution_count": 0,
   "metadata": {
    "application/vnd.databricks.v1+cell": {
     "cellMetadata": {},
     "inputWidgets": {},
     "nuid": "9ee8ef83-1cac-411d-82c1-ffbeedbed1d8",
     "showTitle": false,
     "tableResultSettingsMap": {},
     "title": ""
    }
   },
   "outputs": [],
   "source": [
    "%sql\n",
    "DROP TABLE IF EXISTS silver_users;\n",
    "\n",
    "CREATE OR REPLACE TABLE silver_users\n",
    "DEEP CLONE delta.`/Volumes/dbacademy_gym_data/v01/pii/silver/`;"
   ]
  },
  {
   "cell_type": "markdown",
   "metadata": {
    "application/vnd.databricks.v1+cell": {
     "cellMetadata": {},
     "inputWidgets": {},
     "nuid": "bfdbdde3-6a01-443a-95ea-1b7909a31dd5",
     "showTitle": false,
     "tableResultSettingsMap": {},
     "title": ""
    }
   },
   "source": [
    "### C1. Enable Change Data Feed (CDF)\n",
    "\n",
    "You can enable CDF on both new and existing tables.\n",
    "\n",
    "To globally enable CDF on every new table, use the following syntax:\n",
    "\n",
    "```spark.conf.set(\"spark.databricks.delta.properties.defaults.enableChangeDataFeed\", True)```\n",
    "\n",
    "Tables that were not created with CDF enabled will not have it turned on by default, but they can be altered to capture changes with the `ALTER TABLE` statement.\n",
    "\n",
    "For more information, see the [Enable Change Data Feed](https://docs.databricks.com/en/delta/delta-change-data-feed.html#enable-change-data-feed) documentation.\n",
    "\n"
   ]
  },
  {
   "cell_type": "code",
   "execution_count": 0,
   "metadata": {
    "application/vnd.databricks.v1+cell": {
     "cellMetadata": {},
     "inputWidgets": {},
     "nuid": "24e34f49-c665-489e-9e0c-fbb48a5d0e41",
     "showTitle": false,
     "tableResultSettingsMap": {},
     "title": ""
    }
   },
   "outputs": [],
   "source": [
    "%sql\n",
    "ALTER TABLE silver_users \n",
    "SET TBLPROPERTIES (delta.enableChangeDataFeed = true);"
   ]
  },
  {
   "cell_type": "markdown",
   "metadata": {
    "application/vnd.databricks.v1+cell": {
     "cellMetadata": {},
     "inputWidgets": {},
     "nuid": "b173461e-79fe-4155-99c4-809be626deb8",
     "showTitle": false,
     "tableResultSettingsMap": {},
     "title": ""
    }
   },
   "source": [
    "### C2. Check if CDF is Enabled\n",
    "\n",
    "Use the `DESCRIBE TABLE EXTENDED` command on the silver table to check if CDF is enabled. In the output, look at the last row under **Table Properties** and confirm that CDF is set with the `[delta.enableChangeDataFeed=true]` property.\n"
   ]
  },
  {
   "cell_type": "code",
   "execution_count": 0,
   "metadata": {
    "application/vnd.databricks.v1+cell": {
     "cellMetadata": {},
     "inputWidgets": {},
     "nuid": "2bfd0c2a-e3aa-4f5b-b75b-ae6b356a0ee2",
     "showTitle": false,
     "tableResultSettingsMap": {},
     "title": ""
    }
   },
   "outputs": [],
   "source": [
    "%sql\n",
    "DESCRIBE TABLE EXTENDED silver_users;"
   ]
  },
  {
   "cell_type": "markdown",
   "metadata": {
    "application/vnd.databricks.v1+cell": {
     "cellMetadata": {},
     "inputWidgets": {},
     "nuid": "b7ed1ea3-6481-41d4-9edc-275918dee987",
     "showTitle": false,
     "tableResultSettingsMap": {},
     "title": ""
    }
   },
   "source": [
    "Query the **silver_users** table and confirm that it contains *3,132* rows.\n"
   ]
  },
  {
   "cell_type": "code",
   "execution_count": 0,
   "metadata": {
    "application/vnd.databricks.v1+cell": {
     "cellMetadata": {},
     "inputWidgets": {},
     "nuid": "2bf5fe8c-9667-4ac5-8a44-e4a3546d730a",
     "showTitle": false,
     "tableResultSettingsMap": {},
     "title": ""
    }
   },
   "outputs": [],
   "source": [
    "%sql\n",
    "SELECT * \n",
    "FROM silver_users;"
   ]
  },
  {
   "cell_type": "markdown",
   "metadata": {
    "application/vnd.databricks.v1+cell": {
     "cellMetadata": {},
     "inputWidgets": {},
     "nuid": "8427c184-5958-4606-8eb1-89dfc8fb7932",
     "showTitle": false,
     "tableResultSettingsMap": {},
     "title": ""
    }
   },
   "source": [
    "## D. Upsert Data from Bronze to Silver Users\n",
    "\n",
    "In this section, we'll stream data from the **bronze_users** table to the **silver_users** table.\n",
    "\n",
    "We will create the `upsert_to_delta` function to handle the streaming `MERGE INTO` operation for the **silver_users** table."
   ]
  },
  {
   "cell_type": "markdown",
   "metadata": {
    "application/vnd.databricks.v1+cell": {
     "cellMetadata": {},
     "inputWidgets": {},
     "nuid": "0f3eff95-77f5-41da-9cea-bb64f3381a88",
     "showTitle": false,
     "tableResultSettingsMap": {},
     "title": ""
    }
   },
   "source": [
    "### D1. `upsert_to_delta` Function\n",
    "\n",
    "Here, we create the upsert logic for the **silver_users** table using a streaming read from the **bronze_users** table.\n",
    "\n",
    "The function below performs the following steps:\n",
    "- The `microBatchDF.createOrReplaceTempView(\"updates\")` line takes the incoming micro-batch DataFrame (`microBatchDF`) and registers it as a temporary SQL view named **updates**.\n",
    "- The `MERGE INTO` statement combines `UPDATE` and `INSERT` actions into one operation using our unique identifier **mrn** as the MERGE condition. This statement uses the incoming micro-batch data view **updates** as the source to update the target **silver_users**."
   ]
  },
  {
   "cell_type": "code",
   "execution_count": 0,
   "metadata": {
    "application/vnd.databricks.v1+cell": {
     "cellMetadata": {},
     "inputWidgets": {},
     "nuid": "8f422d3f-0591-4f6c-a206-f5465a017456",
     "showTitle": false,
     "tableResultSettingsMap": {},
     "title": ""
    }
   },
   "outputs": [],
   "source": [
    "def upsert_to_delta(microBatchDF, batchId):\n",
    "    # Create or replace a temporary view for the micro-batch DataFrame\n",
    "    microBatchDF.createOrReplaceTempView(\"updates\")\n",
    "    \n",
    "    # Perform a MERGE operation to upsert data into the silver table\n",
    "    # The MERGE statement matches records in the 'silver' table with records in the 'updates' view based on the 'mrn' field\n",
    "    # If a match is found and any of the specified fields are different, the existing record in 'silver' is updated with the new values from 'updates'\n",
    "    # If no match is found, a new record is inserted into 'silver' with the values from 'updates'\n",
    "    microBatchDF._jdf.sparkSession().sql(\"\"\"\n",
    "        MERGE INTO silver_users s\n",
    "        USING updates u\n",
    "        ON s.mrn = u.mrn\n",
    "        WHEN MATCHED AND s.dob <> u.dob OR\n",
    "                         s.sex <> u.sex OR\n",
    "                         s.gender <> u.gender OR\n",
    "                         s.first_name <> u.first_name OR\n",
    "                         s.last_name <> u.last_name OR\n",
    "                         s.street_address <> u.street_address OR\n",
    "                         s.zip <> u.zip OR\n",
    "                         s.city <> u.city OR\n",
    "                         s.state <> u.state OR\n",
    "                         s.updated <> u.updated\n",
    "            THEN UPDATE SET *\n",
    "        WHEN NOT MATCHED\n",
    "            THEN INSERT *\n",
    "    \"\"\")"
   ]
  },
  {
   "cell_type": "markdown",
   "metadata": {
    "application/vnd.databricks.v1+cell": {
     "cellMetadata": {},
     "inputWidgets": {},
     "nuid": "3bbdbe4c-5af3-4624-a994-50acf8e6dd37",
     "showTitle": false,
     "tableResultSettingsMap": {},
     "title": ""
    }
   },
   "source": [
    "### D2. Stream user's data from Bronze into Silver tables\n",
    "\n",
    "Now lets create and start the stream from **bronze_users** into **silver_users**. The `foreachBatch` method uses the `upsert_to_delta` function from above to upsert from a streaming query.\n",
    "\n",
    "Check the [Upsert from streaming queries using foreachBatch](https://docs.databricks.com/en/structured-streaming/delta-lake.html#merge-in-streaming) documentation for more information.\n"
   ]
  },
  {
   "cell_type": "code",
   "execution_count": 0,
   "metadata": {
    "application/vnd.databricks.v1+cell": {
     "cellMetadata": {},
     "inputWidgets": {},
     "nuid": "8c999829-5669-470c-9ea6-7c0c75b1e700",
     "showTitle": false,
     "tableResultSettingsMap": {},
     "title": ""
    }
   },
   "outputs": [],
   "source": [
    "silver_users_stream = (\n",
    "              spark\n",
    "              .readStream\n",
    "                .table(\"bronze_users\")\n",
    "              .writeStream\n",
    "                .foreachBatch(upsert_to_delta)  # Upsert micro-batch data into the silver table\n",
    "                .trigger(processingTime='3 seconds')  # Trigger the stream processing every 3 seconds\n",
    "                .start()\n",
    "        )"
   ]
  },
  {
   "cell_type": "markdown",
   "metadata": {
    "application/vnd.databricks.v1+cell": {
     "cellMetadata": {},
     "inputWidgets": {},
     "nuid": "c517d656-ebe9-4804-9974-5b7604bec911",
     "showTitle": false,
     "tableResultSettingsMap": {},
     "title": ""
    }
   },
   "source": [
    "### D3. Check the History of the Silver Users Table\n",
    "\n",
    "Wait for the stream to initialize and process.\n",
    "\n",
    "Once complete, let's check the changes applied to our **silver_users** table.\n",
    "\n",
    "Running the cell below will show the history for this table, and there should be three log entries:\n",
    "- Version 0: The initial clone\n",
    "- Version 1: Setting table properties to enable CDF on the table\n",
    "- Version 2: The MERGE stream from the **bronze_users** table.\n",
    "\n",
    "**NOTE:** If the results show only two versions, please wait for the stream to complete and then rerun the cell below.\n"
   ]
  },
  {
   "cell_type": "code",
   "execution_count": 0,
   "metadata": {
    "application/vnd.databricks.v1+cell": {
     "cellMetadata": {},
     "inputWidgets": {},
     "nuid": "4d308c13-9775-4e44-bd3e-c4bbe0892016",
     "showTitle": false,
     "tableResultSettingsMap": {},
     "title": ""
    }
   },
   "outputs": [],
   "source": [
    "%sql\n",
    "DESCRIBE HISTORY silver_users"
   ]
  },
  {
   "cell_type": "markdown",
   "metadata": {
    "application/vnd.databricks.v1+cell": {
     "cellMetadata": {},
     "inputWidgets": {},
     "nuid": "d4baef04-874d-4854-bd04-67d0d0003e0b",
     "showTitle": false,
     "tableResultSettingsMap": {},
     "title": ""
    }
   },
   "source": [
    "## E. Access and Read the Change Data Feed (CDF)\n",
    "\n",
    "The [Change Data Feed (CDF)](https://docs.databricks.com/en/delta/delta-change-data-feed.html) feature allows tracking of row-level changes between versions of a Delta table. When enabled, it records change events for all data written to the table, including metadata that indicates whether a row was inserted, deleted, or updated.\n",
    "\n",
    "To capture the recorded CDC data in a stream, we'll add two options:\n",
    "- **`readChangeData` = True**\n",
    "- **`startingVersion` = 2** (This refers to the version history; alternatively, you can use **`startingTimestamp`**)\n",
    "\n",
    "## CDF Schema in Results\n",
    "When reading from the change data feed, the schema includes the following metadata columns:\n",
    "\n",
    "| Column name        | Type      | Description                                    |\n",
    "|--------------------|-----------|------------------------------------------------|\n",
    "| _change_type       | String    | The type of change event: `insert`, `delete`, `update_preimage`, `update_postimage`. |\n",
    "| _commit_version    | Long      | The Delta log or table version containing the change |\n",
    "| _commit_timestamp  | Timestamp | The timestamp when the commit was created      |\n",
    "\n",
    "\n"
   ]
  },
  {
   "cell_type": "markdown",
   "metadata": {
    "application/vnd.databricks.v1+cell": {
     "cellMetadata": {},
     "inputWidgets": {},
     "nuid": "fd5e2849-714c-423d-abc2-d612156df9ad",
     "showTitle": false,
     "tableResultSettingsMap": {},
     "title": ""
    }
   },
   "source": [
    "In this section, we’ll display all changes to patients in the **silver_users** table starting at version *2*.\n",
    "\n",
    "Run the cell below and view the results. Notice that the results show 1,530 records have been modified.\n",
    "\n",
    "Then, scroll to the right of the table. You will notice the new columns: **_change_type**, **_commit_version**, and **_commit_timestamp**.\n",
    "\n",
    "**NOTE:** Users with changes will have two records: one corresponding to *update_preimage* and one corresponding to *update_postimage*."
   ]
  },
  {
   "cell_type": "code",
   "execution_count": 0,
   "metadata": {
    "application/vnd.databricks.v1+cell": {
     "cellMetadata": {},
     "inputWidgets": {},
     "nuid": "9901fe62-4016-4c96-9290-35ef9b81b4e9",
     "showTitle": false,
     "tableResultSettingsMap": {},
     "title": ""
    }
   },
   "outputs": [],
   "source": [
    "cdf_df = (spark.read\n",
    "               .format(\"delta\")\n",
    "               .option(\"readChangeData\", True)   # Read the change data\n",
    "               .option(\"startingVersion\", 2)     # Since we want to start reading changes from version 2 (when we merged the data)\n",
    "               .table(\"silver_users\"))\n",
    "\n",
    "## Display the changed data\n",
    "display(cdf_df)"
   ]
  },
  {
   "cell_type": "markdown",
   "metadata": {
    "application/vnd.databricks.v1+cell": {
     "cellMetadata": {},
     "inputWidgets": {},
     "nuid": "f28b6d54-e7f6-4f17-b9f0-7ce7715b5f6c",
     "showTitle": false,
     "tableResultSettingsMap": {},
     "title": ""
    }
   },
   "source": [
    "### E1. Land New Data to Stream\n",
    "\n",
    "As a recap, we currently have two active streams:\n",
    "\n",
    "1. The first stream ingests data from our source folder (raw JSON files) into the **bronze_users** table.\n",
    "2. The second stream syncs data via `MERGE INTO` from the **bronze_users** table to the **silver_users** table.\n",
    "\n",
    "Run the cell below to land another JSON file in our source directory and stream additional data into the pipeline."
   ]
  },
  {
   "cell_type": "code",
   "execution_count": 0,
   "metadata": {
    "application/vnd.databricks.v1+cell": {
     "cellMetadata": {},
     "inputWidgets": {},
     "nuid": "ecf96b07-f556-41ed-8d6c-cb2155b3617f",
     "showTitle": false,
     "tableResultSettingsMap": {},
     "title": ""
    }
   },
   "outputs": [],
   "source": [
    "# Load files into the volume: DA.paths.cdc_stream\n",
    "DA.load(copy_from=DA.paths.stream_source.cdf_demo, \n",
    "        copy_to=DA.paths.cdc_stream, \n",
    "        n=2)"
   ]
  },
  {
   "cell_type": "markdown",
   "metadata": {
    "application/vnd.databricks.v1+cell": {
     "cellMetadata": {},
     "inputWidgets": {},
     "nuid": "615910ea-4607-455e-b472-4a94c0ba3be5",
     "showTitle": false,
     "tableResultSettingsMap": {},
     "title": ""
    }
   },
   "source": [
    "### E2. Check again silver_users Table History\n",
    "\n",
    "#### NOTE: Wait a few seconds for the stream to process the newly added JSON file and upsert data into the **silver_users** table.\n",
    "\n",
    "Our objective is to validate the captured CDC changes for **`_commit_version` number 3** (you can change the sort order of the **`_commit_version`** column in the display above to see this).\n",
    "\n",
    "Run the cell below to view the history of the **silver_users** table after the new file was added to the volume. \n",
    "\n",
    "After running the cell, view the results and confirm that version *3* is now available in the history with a *MERGE* operation. This should correspond to the last cell where new files were loaded.\n",
    "\n",
    "**NOTE:** If three rows are returned in the results, please wait a few more seconds for the stream to complete, then rerun the cell. The history should display 4 rows.\n"
   ]
  },
  {
   "cell_type": "code",
   "execution_count": 0,
   "metadata": {
    "application/vnd.databricks.v1+cell": {
     "cellMetadata": {},
     "inputWidgets": {},
     "nuid": "72615d07-98c6-4ec4-8f7e-484516011cbd",
     "showTitle": false,
     "tableResultSettingsMap": {},
     "title": ""
    }
   },
   "outputs": [],
   "source": [
    "%sql\n",
    "DESCRIBE HISTORY silver_users;"
   ]
  },
  {
   "cell_type": "markdown",
   "metadata": {
    "application/vnd.databricks.v1+cell": {
     "cellMetadata": {},
     "inputWidgets": {},
     "nuid": "15be2aa0-8b7a-4a87-a70a-1e6d56ad379e",
     "showTitle": false,
     "tableResultSettingsMap": {},
     "title": ""
    }
   },
   "source": [
    "## F. Table Changes Function\n",
    "\n",
    "To pick up the recorded CDC data for a specific range of table's history versions there is the [table_changes](https://docs.databricks.com/en/sql/language-manual/functions/table_changes.html) function is part of the Delta Lake Change Data Feed (CDF) feature, which tracks row-level changes between versions of a Delta table. It returns a log of changes to a Delta Lake table with Change Data Feed enabled, including inserts, updates, and deletes.\n",
    "\n",
    "Use the following syntax: `table_changes(table_str, start [, end])`\n",
    "- _table_str_:  The table name\n",
    "- _start_: starting history version or timestamp\n",
    "- _end_: optional ending version or timestamp"
   ]
  },
  {
   "cell_type": "markdown",
   "metadata": {
    "application/vnd.databricks.v1+cell": {
     "cellMetadata": {},
     "inputWidgets": {},
     "nuid": "5d3cddc8-4439-4323-8463-c8846e8b0d48",
     "showTitle": false,
     "tableResultSettingsMap": {},
     "title": ""
    }
   },
   "source": [
    "### F1. Get the Latest Version of the Table's History\n",
    "\n",
    "The cell below will capture the most recent version of the **silver_users** table and store it in an SQL variable.\n",
    "\n",
    "Confirm that the variable **latest_version** equals *3*.\n"
   ]
  },
  {
   "cell_type": "code",
   "execution_count": 0,
   "metadata": {
    "application/vnd.databricks.v1+cell": {
     "cellMetadata": {},
     "inputWidgets": {},
     "nuid": "7a317193-221e-4243-8e23-f92002c982dc",
     "showTitle": false,
     "tableResultSettingsMap": {},
     "title": ""
    }
   },
   "outputs": [],
   "source": [
    "%sql\n",
    "-- Drop the existing variable if it exists\n",
    "DROP TEMPORARY VARIABLE IF EXISTS latest_version;\n",
    "\n",
    "-- Declare the variable\n",
    "DECLARE VARIABLE latest_version INT;\n",
    "\n",
    "-- Set the variable to the latest version of the table\n",
    "SET VARIABLE latest_version = (\n",
    "  SELECT max(version) AS latest_version\n",
    "  FROM (DESCRIBE HISTORY silver_users)\n",
    ");\n",
    "\n",
    "-- Select the variable\n",
    "SELECT latest_version;"
   ]
  },
  {
   "cell_type": "markdown",
   "metadata": {
    "application/vnd.databricks.v1+cell": {
     "cellMetadata": {},
     "inputWidgets": {},
     "nuid": "e5991818-3cc0-4510-83c2-5d3b472740b2",
     "showTitle": false,
     "tableResultSettingsMap": {},
     "title": ""
    }
   },
   "source": [
    "### F2. Get Operation Metrics for Inserted, Updated, and Deleted Rows\n",
    "\n",
    "The cell below will query the table’s latest history using the **latest_version** variable and display the following operation metrics for the most recent update/insert/delete:\n",
    "- **numTargetRowsInserted**: The number of rows inserted in the latest version (147 inserted).\n",
    "- **numTargetRowsUpdated**: The number of rows updated in the latest version (809 updated).\n",
    "- **numTargetRowsDeleted**: The number of rows deleted in the latest version (0 deleted).\n"
   ]
  },
  {
   "cell_type": "code",
   "execution_count": 0,
   "metadata": {
    "application/vnd.databricks.v1+cell": {
     "cellMetadata": {},
     "inputWidgets": {},
     "nuid": "9e3794f6-abc3-496e-8226-35c7a33c139d",
     "showTitle": false,
     "tableResultSettingsMap": {},
     "title": ""
    }
   },
   "outputs": [],
   "source": [
    "%sql\n",
    "SELECT \n",
    "  operationMetrics['numTargetRowsInserted'],\n",
    "  operationMetrics['numTargetRowsUpdated'],\n",
    "  operationMetrics['numTargetRowsDeleted']\n",
    "FROM (DESCRIBE HISTORY silver_users)\n",
    "WHERE version = latest_version"
   ]
  },
  {
   "cell_type": "markdown",
   "metadata": {
    "application/vnd.databricks.v1+cell": {
     "cellMetadata": {},
     "inputWidgets": {},
     "nuid": "56b5853e-378e-4076-966d-16ce7d856b1c",
     "showTitle": false,
     "tableResultSettingsMap": {},
     "title": ""
    }
   },
   "source": [
    "### F3. View Modified Rows (Inserted, Updated or Deleted)"
   ]
  },
  {
   "cell_type": "markdown",
   "metadata": {
    "application/vnd.databricks.v1+cell": {
     "cellMetadata": {},
     "inputWidgets": {},
     "nuid": "33622dd4-bb98-4fdb-a107-651f28deb78c",
     "showTitle": false,
     "tableResultSettingsMap": {},
     "title": ""
    }
   },
   "source": [
    "The **_change_type** column allows us to easily see how rows were modified.\n",
    "\n",
    "- *insert*: Indicates a new row was added to the table.\n",
    "- *delete*: Indicates a row was removed from the table.\n",
    "- *update_preimage*: Represents the value of a row before it was updated.\n",
    "- *update_postimage*: Represents the value of a row after it was updated."
   ]
  },
  {
   "cell_type": "markdown",
   "metadata": {
    "application/vnd.databricks.v1+cell": {
     "cellMetadata": {},
     "inputWidgets": {},
     "nuid": "95521cf0-2896-45ef-80f7-5c7fb2aa930f",
     "showTitle": false,
     "tableResultSettingsMap": {},
     "title": ""
    }
   },
   "source": [
    "#### F3.1 View All Rows That Were Inserted (insert)\n",
    "\n",
    "In the cell below, use the `table_changes` function to query most recent update to the **silver_users** table and filter for all rows that were inserted. Use the **_change_type** column to filter for rows with the value *insert*. Run the cell.\n",
    "\n",
    "Notice that the resulting row count matches the one provided in the previous cell: ('numTargetRowsInserted') = *147*. \n",
    "\n",
    "Scroll to the right of the table and view the columns **_change_type**, **_commit_version** and **_commit_timestamp**.\n",
    "\n",
    "\n",
    "With CDF, you can easily inspect every row that was inserted."
   ]
  },
  {
   "cell_type": "code",
   "execution_count": 0,
   "metadata": {
    "application/vnd.databricks.v1+cell": {
     "cellMetadata": {},
     "inputWidgets": {},
     "nuid": "4fab2a5f-cf2b-4066-8998-003f311272ae",
     "showTitle": false,
     "tableResultSettingsMap": {},
     "title": ""
    }
   },
   "outputs": [],
   "source": [
    "%sql\n",
    "SELECT * \n",
    "FROM table_changes(\"silver_users\", latest_version)    -- Query the latest update\n",
    "WHERE _change_type = \"insert\"                         -- View all rows that were inserted\n",
    "ORDER BY _commit_version"
   ]
  },
  {
   "cell_type": "markdown",
   "metadata": {
    "application/vnd.databricks.v1+cell": {
     "cellMetadata": {},
     "inputWidgets": {},
     "nuid": "ece6186a-a539-4cb7-999f-4ae66739e38f",
     "showTitle": false,
     "tableResultSettingsMap": {},
     "title": ""
    }
   },
   "source": [
    "#### F3.2 View Updated Row (update_postimage)\n",
    "\n",
    "In the cell below, use the `table_changes` function to query the most recent update to the **silver_users** table and filter for all updated rows. Use the **_change_type** column to filter for rows with the value *update_postimage*. Run the cell.\n",
    "\n",
    "Notice that the resulting row count matches the one provided in the previous cell: ('numTargetRowsUpdated'): *809*. \n",
    "\n",
    "Scroll to the right of the table and view the columns **_change_type**, **_commit_version** and **_commit_timestamp**.\n",
    "\n",
    "With CDF, you can easily inspect every updated row."
   ]
  },
  {
   "cell_type": "code",
   "execution_count": 0,
   "metadata": {
    "application/vnd.databricks.v1+cell": {
     "cellMetadata": {},
     "inputWidgets": {},
     "nuid": "40c56d72-2154-4c04-9420-25d7027b50d0",
     "showTitle": false,
     "tableResultSettingsMap": {},
     "title": ""
    }
   },
   "outputs": [],
   "source": [
    "%sql\n",
    "SELECT * \n",
    "FROM table_changes(\"silver_users\", latest_version)\n",
    "WHERE _change_type = \"update_postimage\"\n",
    "ORDER BY _commit_version"
   ]
  },
  {
   "cell_type": "markdown",
   "metadata": {
    "application/vnd.databricks.v1+cell": {
     "cellMetadata": {},
     "inputWidgets": {},
     "nuid": "5ee78a4c-5faa-4cff-97d7-4177d4a184dc",
     "showTitle": false,
     "tableResultSettingsMap": {},
     "title": ""
    }
   },
   "source": [
    "#### F3.3 View Row Prior to Update (update_preimage)\n",
    "\n",
    "In the cell below, use the `table_changes` function to query the most recent update to the **silver_users** table and filter for all rows prior to the update. Use the **_change_type** column to filter for rows with the value *update_preimage*. Run the cell.\n",
    "\n",
    "Notice that the resulting row count matches the one provided in the previous cell: ('numTargetRowsUpdated'): *809*. \n",
    "\n",
    "Scroll to the right of the table and view the columns **_change_type**, **_commit_version** and **_commit_timestamp**.\n",
    "\n",
    "With CDF, you can easily inspect every row prior to the update."
   ]
  },
  {
   "cell_type": "code",
   "execution_count": 0,
   "metadata": {
    "application/vnd.databricks.v1+cell": {
     "cellMetadata": {},
     "inputWidgets": {},
     "nuid": "12e5ea7f-da9d-4baf-8521-6145f0243d77",
     "showTitle": false,
     "tableResultSettingsMap": {},
     "title": ""
    }
   },
   "outputs": [],
   "source": [
    "%sql\n",
    "SELECT * \n",
    "FROM table_changes(\"silver_users\", latest_version)\n",
    "WHERE _change_type = \"update_preimage\"\n",
    "ORDER BY _commit_version"
   ]
  },
  {
   "cell_type": "markdown",
   "metadata": {
    "application/vnd.databricks.v1+cell": {
     "cellMetadata": {},
     "inputWidgets": {},
     "nuid": "e5c64863-80dc-482e-b748-d3576093f638",
     "showTitle": false,
     "tableResultSettingsMap": {},
     "title": ""
    }
   },
   "source": [
    "#### F3.4 View All Deleted Rows (delete)\n",
    "\n",
    "In the cell below, use the `table_changes` function to query the most recent update to the **silver_users** table and filter for all rows that were deleted. Use the **_change_type** column to filter for rows with the value *delete*. Run the cell.\n",
    "\n",
    "Notice that the resulting row count matches the one provided in the previous cell: ('numTargetRowsDeleted'): *0*. \n",
    "\n",
    "With CDF, you can easily inspect every deleted row.\n",
    "\n",
    "**NOTE:** Don't worry! We'll review how to apply deletes and propagate them in the next section."
   ]
  },
  {
   "cell_type": "code",
   "execution_count": 0,
   "metadata": {
    "application/vnd.databricks.v1+cell": {
     "cellMetadata": {},
     "inputWidgets": {},
     "nuid": "419d5e3e-db5e-45e6-ab45-48713fd6e21c",
     "showTitle": false,
     "tableResultSettingsMap": {},
     "title": ""
    }
   },
   "outputs": [],
   "source": [
    "%sql\n",
    "SELECT * \n",
    "FROM table_changes(\"silver_users\", latest_version)\n",
    "WHERE _change_type in (\"delete\")\n",
    "ORDER BY _commit_version"
   ]
  },
  {
   "cell_type": "markdown",
   "metadata": {
    "application/vnd.databricks.v1+cell": {
     "cellMetadata": {},
     "inputWidgets": {},
     "nuid": "60b22857-bf0f-4d5e-a2af-b5b08da3c776",
     "showTitle": false,
     "tableResultSettingsMap": {},
     "title": ""
    }
   },
   "source": [
    "\n",
    "## G. Propagating Deletes\n",
    "\n",
    "While some use cases may require processing deletes alongside updates and inserts, the most important delete requests are those that allow companies to maintain compliance with privacy regulations such as GDPR and CCPA. Most companies have stated SLAs around how long these requests will take to process, but for various reasons, these are often handled in pipelines separate from their core ETL.\n",
    "\n",
    "This section is focused to Propagate Deletes applied in the **silver_users** to propagate into the **gold_users** table.\n",
    "\n",
    "**NOTE:** Please follow all regulatory standards for your data."
   ]
  },
  {
   "cell_type": "markdown",
   "metadata": {
    "application/vnd.databricks.v1+cell": {
     "cellMetadata": {},
     "inputWidgets": {},
     "nuid": "00137968-9cc0-466a-9269-fe7b7034aadc",
     "showTitle": false,
     "tableResultSettingsMap": {},
     "title": ""
    }
   },
   "source": [
    "\n",
    "### G1. Gold Users Table Setup\n",
    "\n",
    "Let's first create the **gold_users** table, our final production table.\n",
    "\n",
    "Run the query below to create the **gold_users** table and populate it with the latest snapshot of the **silver_users** table. After running the query, view the results and confirm that the table contains *3,407* records."
   ]
  },
  {
   "cell_type": "code",
   "execution_count": 0,
   "metadata": {
    "application/vnd.databricks.v1+cell": {
     "cellMetadata": {},
     "inputWidgets": {},
     "nuid": "2a8bccf1-0b96-41cc-9ed1-d35d764d3f9a",
     "showTitle": false,
     "tableResultSettingsMap": {},
     "title": ""
    }
   },
   "outputs": [],
   "source": [
    "%sql\n",
    "DROP TABLE IF EXISTS gold_users;\n",
    "\n",
    "-- Create the gold_users table from the silver_users table\n",
    "CREATE OR REPLACE TABLE gold_users as\n",
    "SELECT \n",
    "     mrn,\n",
    "     street_address,\n",
    "     zip,\n",
    "     city,\n",
    "     state,\n",
    "     updated\n",
    "FROM silver_users;\n",
    "\n",
    "-- View the gold table\n",
    "SELECT * \n",
    "FROM gold_users;"
   ]
  },
  {
   "cell_type": "markdown",
   "metadata": {
    "application/vnd.databricks.v1+cell": {
     "cellMetadata": {},
     "inputWidgets": {},
     "nuid": "16a954b1-da46-447a-bf9b-569abd4c6ab5",
     "showTitle": false,
     "tableResultSettingsMap": {},
     "title": ""
    }
   },
   "source": [
    "\n",
    "### G2. Processing Right to Be Forgotten Requests\n",
    "\n",
    "While it is possible to process deletes at the same time as appends and updates, the fines around right to be forgotten requests may warrant a separate process.\n",
    "\n"
   ]
  },
  {
   "cell_type": "markdown",
   "metadata": {
    "application/vnd.databricks.v1+cell": {
     "cellMetadata": {},
     "inputWidgets": {},
     "nuid": "7c368dcb-41a1-4aa8-9fbe-51b7384b5dfd",
     "showTitle": false,
     "tableResultSettingsMap": {},
     "title": ""
    }
   },
   "source": [
    "Let's start by leveraging the **user_delete_requests** table. This table holds the **mrn**, and the **request_date** (as of today) for users to be deleted, as provided by the compliance team.\n",
    "\n",
    "Let's query the table and view the deletion requests. Confirm that the table currently contains 20 requests for deletion."
   ]
  },
  {
   "cell_type": "code",
   "execution_count": 0,
   "metadata": {
    "application/vnd.databricks.v1+cell": {
     "cellMetadata": {},
     "inputWidgets": {},
     "nuid": "4d37c854-57fb-4885-9f60-9bb0e5ace7e2",
     "showTitle": false,
     "tableResultSettingsMap": {},
     "title": ""
    }
   },
   "outputs": [],
   "source": [
    "%sql\n",
    "SELECT *\n",
    "FROM user_delete_requests;"
   ]
  },
  {
   "cell_type": "markdown",
   "metadata": {
    "application/vnd.databricks.v1+cell": {
     "cellMetadata": {},
     "inputWidgets": {},
     "nuid": "663eb022-7791-4c9d-970c-4e3fb248c7f2",
     "showTitle": false,
     "tableResultSettingsMap": {},
     "title": ""
    }
   },
   "source": [
    "\n",
    "We’ll create a new read stream from the **user_delete_requests** table to complete the following:\n",
    "- Add a column named **deadline** to indicate a 30-day period for action, with a default status of *requested*.\n",
    "- Add a column named **status** and update it from *requested* to *deleted* once the changes are propagated.\n",
    "\n",
    "\n",
    "Run the query and view the results."
   ]
  },
  {
   "cell_type": "code",
   "execution_count": 0,
   "metadata": {
    "application/vnd.databricks.v1+cell": {
     "cellMetadata": {},
     "inputWidgets": {},
     "nuid": "a09b5306-deed-4ee1-9460-ba2294e86b29",
     "showTitle": false,
     "tableResultSettingsMap": {},
     "title": ""
    }
   },
   "outputs": [],
   "source": [
    "requests_df = (spark.readStream\n",
    "                    .table(\"user_delete_requests\")\n",
    "                    .select(\n",
    "                            \"mrn\",\n",
    "                            \"request_date\",\n",
    "                            F.date_add(\"request_date\", 30).alias(\"deadline\"),\n",
    "                            F.lit(\"requested\").alias(\"status\")))\n",
    "\n",
    "\n",
    "display(requests_df)"
   ]
  },
  {
   "cell_type": "markdown",
   "metadata": {
    "application/vnd.databricks.v1+cell": {
     "cellMetadata": {},
     "inputWidgets": {},
     "nuid": "cf8390f5-9c96-4d47-9a0c-df3083496539",
     "showTitle": false,
     "tableResultSettingsMap": {},
     "title": ""
    }
   },
   "source": [
    "### G3. Adding Commit Messages in History\n",
    "\n",
    "Delta Lake supports arbitrary commit messages, which are recorded in the Delta transaction log and viewable in the table history. This feature can assist with auditing.\n",
    "\n",
    "Setting a global commit message with SQL will ensure it is used for all subsequent operations in the notebook.\n",
    "\n",
    "For more information, refer to the [Enrich Delta Lake tables with custom metadata](https://docs.databricks.com/en/delta/custom-metadata.html#enrich-delta-lake-tables-with-custom-metadata) documentation.\n"
   ]
  },
  {
   "cell_type": "code",
   "execution_count": 0,
   "metadata": {
    "application/vnd.databricks.v1+cell": {
     "cellMetadata": {},
     "inputWidgets": {},
     "nuid": "9e6c4e15-dff4-4512-ab27-b96bef48dea9",
     "showTitle": false,
     "tableResultSettingsMap": {},
     "title": ""
    }
   },
   "outputs": [],
   "source": [
    "%sql\n",
    "SET spark.databricks.delta.commitInfo.userMetadata=Deletes committed"
   ]
  },
  {
   "cell_type": "markdown",
   "metadata": {
    "application/vnd.databricks.v1+cell": {
     "cellMetadata": {},
     "inputWidgets": {},
     "nuid": "7a37aee1-edc0-4a84-b1ce-c59b42cb165d",
     "showTitle": false,
     "tableResultSettingsMap": {},
     "title": ""
    }
   },
   "source": [
    "\n",
    "\n",
    "\n",
    "With DataFrames, commit messages can also be specified as part of the write options using `option(\"userMetadata\",\"comment\")`.\n",
    "\n",
    "In this section, we will create a new streaming table named **delete_requests** to indicate that we are manually processing these requests in the notebook, rather than using an automated job.\n"
   ]
  },
  {
   "cell_type": "code",
   "execution_count": 0,
   "metadata": {
    "application/vnd.databricks.v1+cell": {
     "cellMetadata": {},
     "inputWidgets": {},
     "nuid": "94c7f8e9-d4f6-4f75-b48a-910bd29dc9ec",
     "showTitle": false,
     "tableResultSettingsMap": {},
     "title": ""
    }
   },
   "outputs": [],
   "source": [
    "query = (requests_df\n",
    "         .writeStream\n",
    "            .outputMode(\"append\")        # Append mode to add new rows to the output table\n",
    "            .option(\"checkpointLocation\", f\"{DA.paths.checkpoints}/delete_requests\")  # Specify checkpoint location\n",
    "            .option(\"userMetadata\", \"Requests processed interactively\")  # Add user metadata\n",
    "            .trigger(availableNow=True)  # Trigger the query to process all available data now\n",
    "            .table(\"delete_requests\"))   # Write the output to the delete_requests table\n",
    "\n",
    "\n",
    "query.awaitTermination()  # Wait for the streaming query to finish"
   ]
  },
  {
   "cell_type": "markdown",
   "metadata": {
    "application/vnd.databricks.v1+cell": {
     "cellMetadata": {},
     "inputWidgets": {},
     "nuid": "ceb09e31-5c3a-4831-a1b6-fdb9291b7485",
     "showTitle": false,
     "tableResultSettingsMap": {},
     "title": ""
    }
   },
   "source": [
    "View the history of the **delete_requests** table. Notice that the **operation** column messages clearly indicate *CREATE TABLE* and *STREAMING UPDATE* in the table history.\n",
    "\n",
    "Scroll to the right of the table. Notice the following:\n",
    "- that the **userMetadata** column contains the note metadata note *Requests processed interactively* that we set above for the stream.\n",
    "- the initial *CREATE TABLE* contains the user metadata *Deletes committed* for the creation of the table. \n"
   ]
  },
  {
   "cell_type": "code",
   "execution_count": 0,
   "metadata": {
    "application/vnd.databricks.v1+cell": {
     "cellMetadata": {},
     "inputWidgets": {},
     "nuid": "9fdfb52f-22a6-49f0-a0d9-3c05b7b626ee",
     "showTitle": false,
     "tableResultSettingsMap": {},
     "title": ""
    }
   },
   "outputs": [],
   "source": [
    "%sql\n",
    "DESCRIBE HISTORY delete_requests"
   ]
  },
  {
   "cell_type": "markdown",
   "metadata": {
    "application/vnd.databricks.v1+cell": {
     "cellMetadata": {},
     "inputWidgets": {},
     "nuid": "6e18f15f-700b-4300-b3de-24f8eb1784bc",
     "showTitle": false,
     "tableResultSettingsMap": {},
     "title": ""
    }
   },
   "source": [
    "\n",
    "\n",
    "\n",
    "### G4. Processing Delete Requests\n",
    "\n",
    "The **delete_requests** table will be used to track users' requests to be forgotten. \n",
    "\n",
    "It is possible to process delete requests alongside inserts and updates to existing data as part of a normal **`MERGE`** statement.\n",
    "\n",
    "Because PII exists in several places through the current lakehouse, tracking requests and processing them asynchronously may provide better performance for production jobs with low latency SLAs. The approach modeled here also indicates the time at which the delete was requested and the deadline, and provides a field to indicate the current processing status of the request."
   ]
  },
  {
   "cell_type": "markdown",
   "metadata": {
    "application/vnd.databricks.v1+cell": {
     "cellMetadata": {},
     "inputWidgets": {},
     "nuid": "ad77c4eb-3661-48a7-a56f-f9522535915b",
     "showTitle": false,
     "tableResultSettingsMap": {},
     "title": ""
    }
   },
   "source": [
    "Query the new **delete_requests** table and view the results. Notice that the deletion requests are active, with a **status** is *requested*.\n"
   ]
  },
  {
   "cell_type": "code",
   "execution_count": 0,
   "metadata": {
    "application/vnd.databricks.v1+cell": {
     "cellMetadata": {},
     "inputWidgets": {},
     "nuid": "18029eed-55c9-4caa-a074-83d1476e3efa",
     "showTitle": false,
     "tableResultSettingsMap": {},
     "title": ""
    }
   },
   "outputs": [],
   "source": [
    "%sql\n",
    "SELECT * \n",
    "FROM delete_requests;"
   ]
  },
  {
   "cell_type": "markdown",
   "metadata": {
    "application/vnd.databricks.v1+cell": {
     "cellMetadata": {},
     "inputWidgets": {},
     "nuid": "0fd0b567-e718-4424-8f51-b36b5afb3cfe",
     "showTitle": false,
     "tableResultSettingsMap": {},
     "title": ""
    }
   },
   "source": [
    "### G5. Check the Records to Delete\n",
    "\n",
    "When working with static data, committing deletes is straightforward. Run the cell below to preview the records to delete from the **silver_users** table. Notice that the **silver_users** table contains all users who have requested deletion."
   ]
  },
  {
   "cell_type": "code",
   "execution_count": 0,
   "metadata": {
    "application/vnd.databricks.v1+cell": {
     "cellMetadata": {},
     "inputWidgets": {},
     "nuid": "bcc97abe-790f-433e-b401-7f55023908fb",
     "showTitle": false,
     "tableResultSettingsMap": {},
     "title": ""
    }
   },
   "outputs": [],
   "source": [
    "%sql\n",
    "SELECT *\n",
    "FROM silver_users\n",
    "WHERE mrn IN (SELECT mrn FROM delete_requests)"
   ]
  },
  {
   "cell_type": "markdown",
   "metadata": {
    "application/vnd.databricks.v1+cell": {
     "cellMetadata": {},
     "inputWidgets": {},
     "nuid": "362e0b77-7088-44dd-b8f3-9ee3254f0695",
     "showTitle": false,
     "tableResultSettingsMap": {},
     "title": ""
    }
   },
   "source": [
    "\n",
    "### G6. Committing Deletes into Silver Users\n",
    "\n",
    "The following cell deletes records from the **silver_users** table by rewriting all data files containing records affected by the `DELETE` statement. \n",
    "\n",
    "**NOTE:** Recall that with Delta Lake, deleting data will create new data files rather than deleting existing data files."
   ]
  },
  {
   "cell_type": "code",
   "execution_count": 0,
   "metadata": {
    "application/vnd.databricks.v1+cell": {
     "cellMetadata": {},
     "inputWidgets": {},
     "nuid": "e5bc8c3f-9813-47c6-a5d4-60d148b80337",
     "showTitle": false,
     "tableResultSettingsMap": {},
     "title": ""
    }
   },
   "outputs": [],
   "source": [
    "%sql\n",
    "DELETE FROM silver_users\n",
    "WHERE mrn IN (SELECT mrn FROM delete_requests)"
   ]
  },
  {
   "cell_type": "markdown",
   "metadata": {
    "application/vnd.databricks.v1+cell": {
     "cellMetadata": {},
     "inputWidgets": {},
     "nuid": "80f391a5-bc5e-4e6b-a37f-ce9742a2a88d",
     "showTitle": false,
     "tableResultSettingsMap": {},
     "title": ""
    }
   },
   "source": [
    "Describe the history of the **silver_users** table and confirm *4* versions of the table exists. The latest version contains the *DELETE* value in the **operation** column."
   ]
  },
  {
   "cell_type": "code",
   "execution_count": 0,
   "metadata": {
    "application/vnd.databricks.v1+cell": {
     "cellMetadata": {},
     "inputWidgets": {},
     "nuid": "4c0db39a-4ccb-4df2-a181-67d49f7969e0",
     "showTitle": false,
     "tableResultSettingsMap": {},
     "title": ""
    }
   },
   "outputs": [],
   "source": [
    "%sql\n",
    "DESCRIBE HISTORY silver_users;"
   ]
  },
  {
   "cell_type": "markdown",
   "metadata": {
    "application/vnd.databricks.v1+cell": {
     "cellMetadata": {},
     "inputWidgets": {},
     "nuid": "ac91d00d-27fc-4bad-af70-69204e3c1c12",
     "showTitle": false,
     "tableResultSettingsMap": {},
     "title": ""
    }
   },
   "source": [
    "### G7. Collect Deleted Silver Users to Propagate with CDF\n",
    "\n",
    "The code below configures an incremental read of all changes committed to the **silver_users** table starting at version *4*, the delete operation.\n",
    "\n",
    "Run the cell and view the results. Scroll to the right of the table and notice that in this version *20* rows were deleted from the **silver_users** table. You can view the exact rows that were deleted with CDF.\n"
   ]
  },
  {
   "cell_type": "code",
   "execution_count": 0,
   "metadata": {
    "application/vnd.databricks.v1+cell": {
     "cellMetadata": {},
     "inputWidgets": {},
     "nuid": "5c236100-453c-421c-9ac9-d21112239882",
     "showTitle": false,
     "tableResultSettingsMap": {},
     "title": ""
    }
   },
   "outputs": [],
   "source": [
    "deleteDF = (spark.readStream\n",
    "                 .format(\"delta\")\n",
    "                 .option(\"readChangeFeed\", \"true\")\n",
    "                 .option(\"startingVersion\", 4)     # Start_version 4 where the delete operation occurred\n",
    "                 .table(\"silver_users\"))\n",
    "\n",
    "\n",
    "display(deleteDF)"
   ]
  },
  {
   "cell_type": "markdown",
   "metadata": {
    "application/vnd.databricks.v1+cell": {
     "cellMetadata": {},
     "inputWidgets": {},
     "nuid": "f3fc2c18-64dd-44d2-a5e4-71d3eb023088",
     "showTitle": false,
     "tableResultSettingsMap": {},
     "title": ""
    }
   },
   "source": [
    "### G8. Function to Propagate Deletes\n",
    "\n",
    "The relationships between our natural keys (**mrn**) are stored in the **silver_users** table. These keys allow us to link a user's data across various pipelines and sources. The Change Data Feed (CDF) from this table will retain all these fields, enabling successful identification of records to be deleted or modified in downstream tables. This approach can be expanded to use hashed values or other relevant keys.\n",
    "\n",
    "The function below demonstrates how to commit deletes to two tables using different keys and syntax. Note that, in this case, the `MERGE INTO` syntax is not necessarily the only method to process deletes to the **gold_users** table. However, this code block demonstrates the basic syntax that could be extended if inserts and updates were processed alongside deletes in the same operation.\n",
    "\n",
    "Assuming successful completion of these two table modifications, an update will be processed back to the **delete_requests** table as well. \n",
    "\n",
    "The code below completes the following for each batch:\n",
    "- Deletes rows in the **gold_users** table that have been requested.\n",
    "- Updates the status of the requested deletes in the **delete_requests** table.\n"
   ]
  },
  {
   "cell_type": "code",
   "execution_count": 0,
   "metadata": {
    "application/vnd.databricks.v1+cell": {
     "cellMetadata": {},
     "inputWidgets": {},
     "nuid": "006731f9-277d-460a-8cb5-57f4641a4990",
     "showTitle": false,
     "tableResultSettingsMap": {},
     "title": ""
    }
   },
   "outputs": [],
   "source": [
    "def process_deletes(microBatchDF, batchId):\n",
    "    \n",
    "    (microBatchDF\n",
    "        .createOrReplaceTempView(\"deletes\"))\n",
    "    \n",
    "    microBatchDF._jdf.sparkSession().sql(\"\"\"\n",
    "        MERGE INTO gold_users u\n",
    "        USING deletes d\n",
    "        ON u.mrn = d.mrn\n",
    "        WHEN MATCHED\n",
    "            THEN DELETE\n",
    "    \"\"\")\n",
    "\n",
    "    \n",
    "    microBatchDF._jdf.sparkSession().sql(\"\"\"\n",
    "        MERGE INTO delete_requests dr\n",
    "        USING deletes d\n",
    "        ON d.mrn = dr.mrn\n",
    "        WHEN MATCHED\n",
    "          THEN UPDATE SET status = \"deleted\"\n",
    "    \"\"\")"
   ]
  },
  {
   "cell_type": "markdown",
   "metadata": {
    "application/vnd.databricks.v1+cell": {
     "cellMetadata": {},
     "inputWidgets": {},
     "nuid": "c7a182af-6ae2-45d7-a4c5-d7e997cc09e8",
     "showTitle": false,
     "tableResultSettingsMap": {},
     "title": ""
    }
   },
   "source": [
    "\n",
    "### G9. Propagate Changes into Gold Users and Delete Requests\n",
    "\n",
    "Recall that this workload is driven by incremental changes to the **silver_users** table (tracked through the Change Data Feed).\n",
    "\n",
    "Executing the following cell will propagate deletes from a single table to multiple tables throughout the lakehouse.\n"
   ]
  },
  {
   "cell_type": "code",
   "execution_count": 0,
   "metadata": {
    "application/vnd.databricks.v1+cell": {
     "cellMetadata": {},
     "inputWidgets": {},
     "nuid": "9d856732-433a-4e18-8ee9-a60f7409e76b",
     "showTitle": false,
     "tableResultSettingsMap": {},
     "title": ""
    }
   },
   "outputs": [],
   "source": [
    "query = (deleteDF.writeStream\n",
    "                 .foreachBatch(process_deletes)\n",
    "                 .outputMode(\"update\")\n",
    "                 .option(\"checkpointLocation\", f\"{DA.paths.checkpoints}/deletes\")\n",
    "                 .trigger(availableNow=True)\n",
    "                 .start())\n",
    "\n",
    "query.awaitTermination()"
   ]
  },
  {
   "cell_type": "markdown",
   "metadata": {
    "application/vnd.databricks.v1+cell": {
     "cellMetadata": {},
     "inputWidgets": {},
     "nuid": "1ee259c4-3a34-4088-912c-366ff51fbf12",
     "showTitle": false,
     "tableResultSettingsMap": {},
     "title": ""
    }
   },
   "source": [
    "\n",
    "### G10. Review Delete Commits\n",
    "Notice the **status** for the records in the **delete_requests** table are now updated to *deleted*."
   ]
  },
  {
   "cell_type": "code",
   "execution_count": 0,
   "metadata": {
    "application/vnd.databricks.v1+cell": {
     "cellMetadata": {},
     "inputWidgets": {},
     "nuid": "2b752cf3-7e4d-4c67-a753-5f82258afb83",
     "showTitle": false,
     "tableResultSettingsMap": {},
     "title": ""
    }
   },
   "outputs": [],
   "source": [
    "%sql\n",
    "SELECT * \n",
    "FROM delete_requests;"
   ]
  },
  {
   "cell_type": "markdown",
   "metadata": {
    "application/vnd.databricks.v1+cell": {
     "cellMetadata": {},
     "inputWidgets": {},
     "nuid": "90e5f7f7-e736-4cb7-8988-6d8c3132aeac",
     "showTitle": false,
     "tableResultSettingsMap": {},
     "title": ""
    }
   },
   "source": [
    "\n",
    "Describe the history of the **gold_users** table.\n",
    "\n",
    "Notice that in the latest version that our commit message will be in the far right column of our history, under the column **userMetadata**.\n",
    "\n",
    "For the **gold_users** table, the **operation** column in the history will indicate a merge because of the chosen syntax, even though only deletes were committed. The number of deleted rows can be reviewed in the **operationMetrics** in the key *numTargetRowsDeleted*."
   ]
  },
  {
   "cell_type": "code",
   "execution_count": 0,
   "metadata": {
    "application/vnd.databricks.v1+cell": {
     "cellMetadata": {},
     "inputWidgets": {},
     "nuid": "b0014c87-5484-4bb8-b077-b6649b7b8180",
     "showTitle": false,
     "tableResultSettingsMap": {},
     "title": ""
    }
   },
   "outputs": [],
   "source": [
    "%sql\n",
    "DESCRIBE HISTORY gold_users;"
   ]
  },
  {
   "cell_type": "markdown",
   "metadata": {
    "application/vnd.databricks.v1+cell": {
     "cellMetadata": {},
     "inputWidgets": {},
     "nuid": "b9454513-1545-43c0-bd35-a487c18fa3a3",
     "showTitle": false,
     "tableResultSettingsMap": {},
     "title": ""
    }
   },
   "source": [
    "Count the number of rows in the current **gold_users** table. Confirm that the table now has *3,387* rows."
   ]
  },
  {
   "cell_type": "code",
   "execution_count": 0,
   "metadata": {
    "application/vnd.databricks.v1+cell": {
     "cellMetadata": {},
     "inputWidgets": {},
     "nuid": "8b88d266-25dd-4920-aa74-2015690f0f91",
     "showTitle": false,
     "tableResultSettingsMap": {},
     "title": ""
    }
   },
   "outputs": [],
   "source": [
    "%sql\n",
    "SELECT count(*) AS TotalRows\n",
    "FROM gold_users;"
   ]
  },
  {
   "cell_type": "markdown",
   "metadata": {
    "application/vnd.databricks.v1+cell": {
     "cellMetadata": {},
     "inputWidgets": {},
     "nuid": "8bbab4d8-192a-452f-a9c2-5cee6c8d7b5a",
     "showTitle": false,
     "tableResultSettingsMap": {},
     "title": ""
    }
   },
   "source": [
    "### G11. Are Deletes Fully Committed?\n",
    "\n",
    "Not exactly.\n",
    "\n",
    "Due to how Delta Lake's history and CDF features are implemented, deleted values are still present in older versions of the data.\n",
    "\n",
    "Run the query below to count the number of records from version 0 of the **gold_users** table. The results show that the original table has 3,407 rows, which includes the deleted rows.\n",
    "\n",
    "With Delta tables, you can still view the original data in an earlier version of the table.\n"
   ]
  },
  {
   "cell_type": "code",
   "execution_count": 0,
   "metadata": {
    "application/vnd.databricks.v1+cell": {
     "cellMetadata": {},
     "inputWidgets": {},
     "nuid": "7710031f-7277-4ce3-9b87-842bdbfb5b26",
     "showTitle": false,
     "tableResultSettingsMap": {},
     "title": ""
    }
   },
   "outputs": [],
   "source": [
    "%sql\n",
    "SELECT count(*) AS TotalRows\n",
    "FROM gold_users VERSION AS OF 0;"
   ]
  },
  {
   "cell_type": "markdown",
   "metadata": {
    "application/vnd.databricks.v1+cell": {
     "cellMetadata": {},
     "inputWidgets": {},
     "nuid": "63eb5586-2551-4c7b-a0fc-c2731aa600d1",
     "showTitle": false,
     "tableResultSettingsMap": {},
     "title": ""
    }
   },
   "source": [
    "For more information check out [GDPR and CCPA compliance with Delta Lake](https://docs.databricks.com/en/security/privacy/gdpr-delta.html#how-delta-lake-simplifies-point-deletes) and the [VACUUM](https://docs.databricks.com/en/sql/language-manual/delta-vacuum.html) statement."
   ]
  },
  {
   "cell_type": "markdown",
   "metadata": {
    "application/vnd.databricks.v1+cell": {
     "cellMetadata": {},
     "inputWidgets": {},
     "nuid": "950e9144-c47a-4825-bc7b-113dd6d5ed19",
     "showTitle": false,
     "tableResultSettingsMap": {},
     "title": ""
    }
   },
   "source": [
    "\n",
    "## H. Stop Active Streams\n",
    "Make sure to run the following cell to stop all active streams. Be careful when using streaming. If you do not stop an active stream, the cluster will continuously run. We are done with streaming data in this demonstration."
   ]
  },
  {
   "cell_type": "code",
   "execution_count": 0,
   "metadata": {
    "application/vnd.databricks.v1+cell": {
     "cellMetadata": {},
     "inputWidgets": {},
     "nuid": "e5c8de1b-1131-497a-a3db-ebe73f7e195a",
     "showTitle": false,
     "tableResultSettingsMap": {},
     "title": ""
    }
   },
   "outputs": [],
   "source": [
    "for stream in spark.streams.active:\n",
    "    stream.stop()\n",
    "    stream.awaitTermination()"
   ]
  },
  {
   "cell_type": "markdown",
   "metadata": {
    "application/vnd.databricks.v1+cell": {
     "cellMetadata": {},
     "inputWidgets": {},
     "nuid": "ceb81a1a-49da-4f69-9fba-ff0473b190eb",
     "showTitle": false,
     "tableResultSettingsMap": {},
     "title": ""
    }
   },
   "source": [
    "\n",
    "&copy; 2025 Databricks, Inc. All rights reserved.<br/>\n",
    "Apache, Apache Spark, Spark and the Spark logo are trademarks of the \n",
    "<a href=\"https://www.apache.org/\">Apache Software Foundation</a>.<br/>\n",
    "<br/><a href=\"https://databricks.com/privacy-policy\">Privacy Policy</a> | \n",
    "<a href=\"https://databricks.com/terms-of-use\">Terms of Use</a> | \n",
    "<a href=\"https://help.databricks.com/\">Support</a>"
   ]
  }
 ],
 "metadata": {
  "application/vnd.databricks.v1+notebook": {
   "computePreferences": null,
   "dashboards": [],
   "environmentMetadata": null,
   "inputWidgetPreferences": null,
   "language": "python",
   "notebookMetadata": {},
   "notebookName": "DP 1.3 - Processing Records from CDF and Propagating Changes",
   "widgets": {}
  },
  "language_info": {
   "name": "python"
  }
 },
 "nbformat": 4,
 "nbformat_minor": 0
}