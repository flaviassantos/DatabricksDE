{
 "cells": [
  {
   "cell_type": "markdown",
   "metadata": {
    "application/vnd.databricks.v1+cell": {
     "cellMetadata": {},
     "inputWidgets": {},
     "nuid": "ccb96c4d-19b0-449d-bd6f-e8109f86f007",
     "showTitle": false,
     "tableResultSettingsMap": {},
     "title": ""
    }
   },
   "source": [
    "\n",
    "<div style=\"text-align: center; line-height: 0; padding-top: 9px;\">\n",
    "  <img src=\"https://databricks.com/wp-content/uploads/2018/03/db-academy-rgb-1200px.png\" alt=\"Databricks Learning\">\n",
    "</div>\n"
   ]
  },
  {
   "cell_type": "markdown",
   "metadata": {
    "application/vnd.databricks.v1+cell": {
     "cellMetadata": {},
     "inputWidgets": {},
     "nuid": "c655a514-2680-49ac-9674-fc0035810730",
     "showTitle": false,
     "tableResultSettingsMap": {},
     "title": ""
    }
   },
   "source": [
    "## Databricks Data Privacy\n",
    "This module is part of the Data Engineer Learning Path by Databricks Academy.\n",
    "\n",
    "#### Notebooks\n",
    "[DP 1.1 - Securing Data in Unity Catalog]($./DP 1.1 - Securing Data in Unity Catalog) <br>\n",
    "[DP 1.2 - PII Data Security]($./DP 1.2 - PII Data Security) <br>\n",
    "[DP 1.3 - Processing Records from CDF and Propagating Changes]($./DP 1.3 - Processing Records from CDF and Propagating Changes) <br>\n",
    "[DP 1.4L - Propagating Changes with CDF Lab]($./DP 1.4L - Propagating Changes with CDF Lab) <br>\n",
    "\n",
    "\n",
    "#### Prerequisites\n",
    "* Ability to perform basic code development tasks using the Databricks Data Engineering & Data Science workspace (create clusters, run code in notebooks, use basic notebook operations, import repos from git, etc)\n",
    "* Intermediate programming experience with PySpark\n",
    "  * Extract data from a variety of file formats and data sources\n",
    "  * Apply a number of common transformations to clean data\n",
    "  * Reshape and manipulate complex data using advanced built-in functions\n",
    "* Intermediate programming experience with Delta Lake (create tables, perform complete and incremental updates, compact files, restore previous versions etc.)\n",
    "* Beginner experience configuring and scheduling data pipelines using the Delta Live Tables (DLT) UI\n",
    "* Beginner experience defining Delta Live Tables pipelines using PySpark\n",
    "  * Ingest and process data using Auto Loader and PySpark syntax\n",
    "  * Process Change Data Capture feeds with APPLY CHANGES INTO syntax\n",
    "  * Review pipeline event logs and results to troubleshoot DLT syntax\n",
    "\n",
    "\n",
    "#### Technical Considerations\n",
    "* This course cannot be delivered on Databricks Community Edition."
   ]
  },
  {
   "cell_type": "markdown",
   "metadata": {
    "application/vnd.databricks.v1+cell": {
     "cellMetadata": {},
     "inputWidgets": {},
     "nuid": "0fbd7542-e7ac-4535-a757-e91d5efafd81",
     "showTitle": false,
     "tableResultSettingsMap": {},
     "title": ""
    }
   },
   "source": [
    "\n",
    "&copy; 2025 Databricks, Inc. All rights reserved.<br/>\n",
    "Apache, Apache Spark, Spark and the Spark logo are trademarks of the \n",
    "<a href=\"https://www.apache.org/\">Apache Software Foundation</a>.<br/>\n",
    "<br/><a href=\"https://databricks.com/privacy-policy\">Privacy Policy</a> | \n",
    "<a href=\"https://databricks.com/terms-of-use\">Terms of Use</a> | \n",
    "<a href=\"https://help.databricks.com/\">Support</a>"
   ]
  }
 ],
 "metadata": {
  "application/vnd.databricks.v1+notebook": {
   "computePreferences": null,
   "dashboards": [],
   "environmentMetadata": null,
   "inputWidgetPreferences": null,
   "language": "python",
   "notebookMetadata": {},
   "notebookName": "DP 1.0 - Module Introduction",
   "widgets": {}
  },
  "language_info": {
   "name": "python"
  }
 },
 "nbformat": 4,
 "nbformat_minor": 0
}