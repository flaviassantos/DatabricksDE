{
 "cells": [
  {
   "cell_type": "markdown",
   "metadata": {
    "application/vnd.databricks.v1+cell": {
     "cellMetadata": {},
     "inputWidgets": {},
     "nuid": "7543acb2-8d4f-44bc-b531-c2d6eb709834",
     "showTitle": false,
     "tableResultSettingsMap": {},
     "title": ""
    }
   },
   "source": [
    "\n",
    "<div style=\"text-align: center; line-height: 0; padding-top: 9px;\">\n",
    "  <img src=\"https://databricks.com/wp-content/uploads/2018/03/db-academy-rgb-1200px.png\" alt=\"Databricks Learning\">\n",
    "</div>\n"
   ]
  },
  {
   "cell_type": "markdown",
   "metadata": {
    "application/vnd.databricks.v1+cell": {
     "cellMetadata": {},
     "inputWidgets": {},
     "nuid": "5db10bb5-63a3-47a5-b56a-4fd14d3c5b0e",
     "showTitle": false,
     "tableResultSettingsMap": {},
     "title": ""
    }
   },
   "source": [
    "\n",
    "\n",
    "\n",
    "# Propagating Changes with CDF Lab\n",
    "\n",
    "We'll be using [Change Data Feed](https://docs.databricks.com/en/delta/delta-change-data-feed.html) to propagate changes to many tables from a single source.\n",
    "\n",
    "For this lab, we'll work with the fitness tracker datasets to propagate changes through a Lakehouse with Delta Lake Change Data Feed (CDF).\n",
    "\n",
    "Because the **user_lookup** table links identifying information between different pipelines, we'll make this the point where changes propagate from.\n",
    "\n",
    "\n",
    "## Objectives\n",
    "By the end of this lab, you should be able to:\n",
    "- Enable Change Data Feed on a particular table\n",
    "- Read CDF output with Spark SQL or PySpark\n",
    "- Refactor ELT code to process CDF output"
   ]
  },
  {
   "cell_type": "markdown",
   "metadata": {
    "application/vnd.databricks.v1+cell": {
     "cellMetadata": {},
     "inputWidgets": {},
     "nuid": "6755d078-fe25-480e-b6ac-3c35e90f896c",
     "showTitle": false,
     "tableResultSettingsMap": {},
     "title": ""
    }
   },
   "source": [
    "## REQUIRED - SELECT CLASSIC COMPUTE\n",
    "\n",
    "Before executing cells in this notebook, please select your classic compute cluster in the lab. Be aware that **Serverless** is enabled by default.\n",
    "\n",
    "Follow these steps to select the classic compute cluster:\n",
    "\n",
    "1. Navigate to the top-right of this notebook and click the drop-down menu to select your cluster. By default, the notebook will use **Serverless**.\n",
    "\n",
    "1. If your cluster is available, select it and continue to the next cell. If the cluster is not shown:\n",
    "\n",
    "  - In the drop-down, select **More**.\n",
    "\n",
    "  - In the **Attach to an existing compute resource** pop-up, select the first drop-down. You will see a unique cluster name in that drop-down. Please select that cluster.\n",
    "\n",
    "**NOTE:** If your cluster has terminated, you might need to restart it in order to select it. To do this:\n",
    "\n",
    "1. Right-click on **Compute** in the left navigation pane and select *Open in new tab*.\n",
    "\n",
    "1. Find the triangle icon to the right of your compute cluster name and click it.\n",
    "\n",
    "1. Wait a few minutes for the cluster to start.\n",
    "\n",
    "1. Once the cluster is running, complete the steps above to select your cluster."
   ]
  },
  {
   "cell_type": "markdown",
   "metadata": {
    "application/vnd.databricks.v1+cell": {
     "cellMetadata": {},
     "inputWidgets": {},
     "nuid": "b94bccf8-0b32-4a4c-91de-29013dd3b67f",
     "showTitle": false,
     "tableResultSettingsMap": {},
     "title": ""
    }
   },
   "source": [
    "## A. Classroom Setup\n",
    "\n",
    "Run the following cell to configure your working environment for this course. It will also set your default catalog to your unique catalog name and the schema to your specific schema name shown below using the `USE` statements.\n",
    "<br></br>\n",
    "\n",
    "\n",
    "```\n",
    "USE CATALOG your-catalog;\n",
    "USE SCHEMA your-catalog.pii_data;\n",
    "```\n",
    "\n",
    "**NOTE:** The `DA` object is only used in Databricks Academy courses and is not available outside of these courses. It will dynamically reference the information needed to run the course."
   ]
  },
  {
   "cell_type": "code",
   "execution_count": 0,
   "metadata": {
    "application/vnd.databricks.v1+cell": {
     "cellMetadata": {},
     "inputWidgets": {},
     "nuid": "019c74b8-8be6-49e3-9832-c7ac7ef07e2a",
     "showTitle": false,
     "tableResultSettingsMap": {},
     "title": ""
    }
   },
   "outputs": [],
   "source": [
    "%run ./Includes/Classroom-Setup-1.4L"
   ]
  },
  {
   "cell_type": "markdown",
   "metadata": {
    "application/vnd.databricks.v1+cell": {
     "cellMetadata": {},
     "inputWidgets": {},
     "nuid": "dc6990ff-8b52-44a6-9438-ca0721c1f573",
     "showTitle": false,
     "tableResultSettingsMap": {},
     "title": ""
    }
   },
   "source": [
    "Check your default catalog and schema. Notice the lab uses a new schema named **cdf_lab**."
   ]
  },
  {
   "cell_type": "code",
   "execution_count": 0,
   "metadata": {
    "application/vnd.databricks.v1+cell": {
     "cellMetadata": {},
     "inputWidgets": {},
     "nuid": "ea9f339c-82fc-41af-b28b-3aeff1bde339",
     "showTitle": false,
     "tableResultSettingsMap": {},
     "title": ""
    }
   },
   "outputs": [],
   "source": [
    "SELECT current_catalog(), current_schema()"
   ]
  },
  {
   "cell_type": "markdown",
   "metadata": {
    "application/vnd.databricks.v1+cell": {
     "cellMetadata": {},
     "inputWidgets": {},
     "nuid": "86424843-8d64-4e26-8b23-7a01883445ce",
     "showTitle": false,
     "tableResultSettingsMap": {},
     "title": ""
    }
   },
   "source": [
    "## B. Show available tables\n",
    "\n",
    "We'll focus on the **user_lookup** table with the intent to delete a user, check the CDF changes and then propagate such changes into the tables **users** and **user_bins**.\n",
    "\n",
    "Run the `SHOW TABLES` command and confirm the following tables are available:\n",
    "\n",
    "- **user_lookup**: Table containing user lookup information.\n",
    "- **users**: Table containing detailed user information.\n",
    "- **user_bins**: Table containing user bin assignments."
   ]
  },
  {
   "cell_type": "code",
   "execution_count": 0,
   "metadata": {
    "application/vnd.databricks.v1+cell": {
     "cellMetadata": {},
     "inputWidgets": {},
     "nuid": "1dfc5cf4-b9df-4507-8a5a-dfd9d071bdf9",
     "showTitle": false,
     "tableResultSettingsMap": {},
     "title": ""
    }
   },
   "outputs": [],
   "source": [
    "SHOW TABLES;"
   ]
  },
  {
   "cell_type": "markdown",
   "metadata": {
    "application/vnd.databricks.v1+cell": {
     "cellMetadata": {},
     "inputWidgets": {},
     "nuid": "f103830d-9a1f-4206-b542-aa74aec8d9da",
     "showTitle": false,
     "tableResultSettingsMap": {},
     "title": ""
    }
   },
   "source": [
    "\n",
    "## C. Review the user_lookup table data\n",
    "\n",
    "Run the following query to view the **user_lookup** table. Notice that the table contains an **alt_id** column, as well as **device_id**, **mac_address**, and **user_id**.\n"
   ]
  },
  {
   "cell_type": "code",
   "execution_count": 0,
   "metadata": {
    "application/vnd.databricks.v1+cell": {
     "cellMetadata": {},
     "inputWidgets": {},
     "nuid": "16b2a002-5414-4cab-abe2-4239ec913217",
     "showTitle": false,
     "tableResultSettingsMap": {},
     "title": ""
    }
   },
   "outputs": [],
   "source": [
    "SELECT *\n",
    "FROM user_lookup\n",
    "LIMIT 10;"
   ]
  },
  {
   "cell_type": "markdown",
   "metadata": {
    "application/vnd.databricks.v1+cell": {
     "cellMetadata": {},
     "inputWidgets": {},
     "nuid": "7e990529-2319-4c58-949b-b189bb068b05",
     "showTitle": false,
     "tableResultSettingsMap": {},
     "title": ""
    }
   },
   "source": [
    "\n",
    "## D. Enable CDF for the user_lookup table\n",
    "\n",
    "Enable change data feed on the **user_lookup** table.\n",
    "\n",
    "**HINT:** Use the `ALTER TABLE` and `SET TBLPROPERTIES` to activate CDF. View the [Enable change data feed](https://docs.databricks.com/en/delta/delta-change-data-feed.html#enable-change-data-feed) documentation for more information.\n"
   ]
  },
  {
   "cell_type": "code",
   "execution_count": 0,
   "metadata": {
    "application/vnd.databricks.v1+cell": {
     "cellMetadata": {},
     "inputWidgets": {},
     "nuid": "fb1fd44e-92f8-4079-a438-6bf592477d07",
     "showTitle": false,
     "tableResultSettingsMap": {},
     "title": ""
    }
   },
   "outputs": [],
   "source": [
    "--<FILL IN>"
   ]
  },
  {
   "cell_type": "markdown",
   "metadata": {
    "application/vnd.databricks.v1+cell": {
     "cellMetadata": {},
     "inputWidgets": {},
     "nuid": "ccdeb60b-03ff-4b1a-b530-c019b6fcf750",
     "showTitle": false,
     "tableResultSettingsMap": {},
     "title": ""
    }
   },
   "source": [
    "\n",
    "## E. Confirm CDF is enabled on user_lookup table\n",
    "\n",
    "**HINT**: Use the `DESCRIBE TABLE EXTENDED` statement to view information about the **user_lookup** table. Scroll to the bottom of the results and view the *Table Properties* row. Confirm that this table has `delta.enableChangeDataFeed` activated.\n",
    "\n"
   ]
  },
  {
   "cell_type": "code",
   "execution_count": 0,
   "metadata": {
    "application/vnd.databricks.v1+cell": {
     "cellMetadata": {},
     "inputWidgets": {},
     "nuid": "49ff329a-cc09-4c6d-863c-97371d6ed441",
     "showTitle": false,
     "tableResultSettingsMap": {},
     "title": ""
    }
   },
   "outputs": [],
   "source": [
    "--<FILL IN>"
   ]
  },
  {
   "cell_type": "markdown",
   "metadata": {
    "application/vnd.databricks.v1+cell": {
     "cellMetadata": {},
     "inputWidgets": {},
     "nuid": "629cdc63-c18f-4b01-9d8d-e9f52bc4fca9",
     "showTitle": false,
     "tableResultSettingsMap": {},
     "title": ""
    }
   },
   "source": [
    "\n",
    "## F. View user_lookup table History\n",
    "\n",
    "Enabling CDF generates a new entry in the table's history.\n",
    "\n",
    "\n",
    "View the history of the **user_lookup** table. Confirm the entry is in the history of the **user_lookup** table as version `1` and that the **operation** column has updated the *SET TBLPROPERTIES*. \n"
   ]
  },
  {
   "cell_type": "code",
   "execution_count": 0,
   "metadata": {
    "application/vnd.databricks.v1+cell": {
     "cellMetadata": {},
     "inputWidgets": {},
     "nuid": "6335b875-739b-484b-a66d-ce4d0bf66e79",
     "showTitle": false,
     "tableResultSettingsMap": {},
     "title": ""
    }
   },
   "outputs": [],
   "source": [
    "--<FILL IN>"
   ]
  },
  {
   "cell_type": "markdown",
   "metadata": {
    "application/vnd.databricks.v1+cell": {
     "cellMetadata": {},
     "inputWidgets": {},
     "nuid": "6a9e0a01-1037-41f0-947c-0b66ba7829bc",
     "showTitle": false,
     "tableResultSettingsMap": {},
     "title": ""
    }
   },
   "source": [
    "\n",
    "## G. Delete a record from user_lookup table\n",
    "\n"
   ]
  },
  {
   "cell_type": "markdown",
   "metadata": {
    "application/vnd.databricks.v1+cell": {
     "cellMetadata": {},
     "inputWidgets": {},
     "nuid": "e4f3d0e2-c247-4a74-be91-4a9b4bd5fadb",
     "showTitle": false,
     "tableResultSettingsMap": {},
     "title": ""
    }
   },
   "source": [
    "### G1. Query and pick a record from the User Lookup table\n",
    "\n",
    "Run the query below and pick a **user_id** value to use in the next section. Notice that there are 100 records in the **user_lookup** table."
   ]
  },
  {
   "cell_type": "code",
   "execution_count": 0,
   "metadata": {
    "application/vnd.databricks.v1+cell": {
     "cellMetadata": {},
     "inputWidgets": {},
     "nuid": "ed67e4dd-a0a3-4c5e-adfb-b3d2c79e06d3",
     "showTitle": false,
     "tableResultSettingsMap": {},
     "title": ""
    }
   },
   "outputs": [],
   "source": [
    "SELECT * \n",
    "FROM user_lookup"
   ]
  },
  {
   "cell_type": "markdown",
   "metadata": {
    "application/vnd.databricks.v1+cell": {
     "cellMetadata": {},
     "inputWidgets": {},
     "nuid": "f1ade0b0-431c-4a03-b553-cdd45d1de0e3",
     "showTitle": false,
     "tableResultSettingsMap": {},
     "title": ""
    }
   },
   "source": [
    "### G2. Delete a record from User Lookup table\n",
    "\n",
    "To delete record from the table pick a value from the **device_id** column from above to delete. Then complete the following:\n",
    "\n",
    "- Place the picked **user_id** value after the `DEFAULT` keyword in the `DECLARE OR REPLACE VARIABLE` statement below. This will save the value into a variable named **user_id** that will be used across this lab.\n",
    "- Use `DELETE` statement with column_name of table\n",
    "- Run the cell below to proceed with the record's deletion from the table. \n",
    "- Confirm a row was deleted."
   ]
  },
  {
   "cell_type": "code",
   "execution_count": 0,
   "metadata": {
    "application/vnd.databricks.v1+cell": {
     "cellMetadata": {},
     "inputWidgets": {},
     "nuid": "c7580750-38bd-4aa9-b8b7-20a31288a82f",
     "showTitle": false,
     "tableResultSettingsMap": {},
     "title": ""
    }
   },
   "outputs": [],
   "source": [
    "<FILL IN>\n",
    "\n",
    "-- Define a variable for user_id to delete\n",
    "DECLARE OR REPLACE VARIABLE user_id INT DEFAULT <FILL IN>;       -- Place your user_id here\n",
    "\n",
    "-- Use the variable in the DELETE statement\n",
    "DELETE FROM user_lookup \n",
    "WHERE user_id = session.user_id;"
   ]
  },
  {
   "cell_type": "markdown",
   "metadata": {
    "application/vnd.databricks.v1+cell": {
     "cellMetadata": {},
     "inputWidgets": {},
     "nuid": "0bed863b-33ae-46fe-82d2-fad63419057a",
     "showTitle": false,
     "tableResultSettingsMap": {},
     "title": ""
    }
   },
   "source": [
    "### G3. Confirm the record is deleted from the User Lookup table\n",
    "\n",
    "Run the query below to confirm the selected **user_id** was deleted from the **user_lookup** table. Confirm no rows are returned."
   ]
  },
  {
   "cell_type": "code",
   "execution_count": 0,
   "metadata": {
    "application/vnd.databricks.v1+cell": {
     "cellMetadata": {},
     "inputWidgets": {},
     "nuid": "c6897b45-6f5f-44ff-90c8-df3b8d402b2a",
     "showTitle": false,
     "tableResultSettingsMap": {},
     "title": ""
    }
   },
   "outputs": [],
   "source": [
    "SELECT * \n",
    "FROM user_lookup\n",
    "WHERE user_id=session.user_id;"
   ]
  },
  {
   "cell_type": "markdown",
   "metadata": {
    "application/vnd.databricks.v1+cell": {
     "cellMetadata": {},
     "inputWidgets": {},
     "nuid": "d257643a-ed2b-42a6-aec2-cd62c31b0b6a",
     "showTitle": false,
     "tableResultSettingsMap": {},
     "title": ""
    }
   },
   "source": [
    "Run the query below and notice that the table now holds *99* records."
   ]
  },
  {
   "cell_type": "code",
   "execution_count": 0,
   "metadata": {
    "application/vnd.databricks.v1+cell": {
     "cellMetadata": {},
     "inputWidgets": {},
     "nuid": "302d1fe5-904c-4803-a7e2-07e4fb9c166c",
     "showTitle": false,
     "tableResultSettingsMap": {},
     "title": ""
    }
   },
   "outputs": [],
   "source": [
    "SELECT count(*)\n",
    "FROM user_lookup;"
   ]
  },
  {
   "cell_type": "markdown",
   "metadata": {
    "application/vnd.databricks.v1+cell": {
     "cellMetadata": {},
     "inputWidgets": {},
     "nuid": "792fafd4-7303-44c6-9177-a87206f288aa",
     "showTitle": false,
     "tableResultSettingsMap": {},
     "title": ""
    }
   },
   "source": [
    "## H. Review user_looup table History\n",
    "\n",
    "Now that our record is deleted, a new entry in the **user_lookup** table history is added corresponding to this event. Let's get a view to this table's history. \n",
    "\n",
    "  Run the query and confirm version **2** and that the **operation** column is *DELETE*."
   ]
  },
  {
   "cell_type": "code",
   "execution_count": 0,
   "metadata": {
    "application/vnd.databricks.v1+cell": {
     "cellMetadata": {},
     "inputWidgets": {},
     "nuid": "44d93f71-ad5c-42d3-abf9-1716e29e3243",
     "showTitle": false,
     "tableResultSettingsMap": {},
     "title": ""
    }
   },
   "outputs": [],
   "source": [
    "DESCRIBE HISTORY user_lookup;"
   ]
  },
  {
   "cell_type": "markdown",
   "metadata": {
    "application/vnd.databricks.v1+cell": {
     "cellMetadata": {},
     "inputWidgets": {},
     "nuid": "82c63df3-61a8-4e23-ab8c-69a94dd054c1",
     "showTitle": false,
     "tableResultSettingsMap": {},
     "title": ""
    }
   },
   "source": [
    "\n",
    "## I. Read the user_lookup CDF output (starting from version 1)\n",
    "\n",
    "This section we'll proceed to read CDF data from a the **user_lookup** table, well apply two approaches:\n",
    "- Using SQL via `table_changes` function\n",
    "- Using Python"
   ]
  },
  {
   "cell_type": "markdown",
   "metadata": {
    "application/vnd.databricks.v1+cell": {
     "cellMetadata": {},
     "inputWidgets": {},
     "nuid": "418ffaf3-f21a-4d2a-8f78-2a7ba49f0984",
     "showTitle": false,
     "tableResultSettingsMap": {},
     "title": ""
    }
   },
   "source": [
    "### I1. Using SQL to View Row Level Changes\n",
    "\n",
    "To read the CDF data:\n",
    "\n",
    "- Using [table_changes](https://docs.databricks.com/en/sql/language-manual/functions/table_changes.html) function\n",
    "- Select all changes from version **1** of the **user_lookup** table\n",
    "\n",
    "Confirm that one row is returned in the output. The row should be the row you deleted in the earlier step.\n",
    "\n",
    "**HINT:** [Use Delta Lake change data feed on Databricks](https://docs.databricks.com/en/delta/delta-change-data-feed.html#use-delta-lake-change-data-feed-on-databricks) documentation."
   ]
  },
  {
   "cell_type": "code",
   "execution_count": 0,
   "metadata": {
    "application/vnd.databricks.v1+cell": {
     "cellMetadata": {},
     "inputWidgets": {},
     "nuid": "4d6abc00-d54d-4f44-8a29-b44385544cdc",
     "showTitle": false,
     "tableResultSettingsMap": {},
     "title": ""
    }
   },
   "outputs": [],
   "source": [
    "<FILL IN>"
   ]
  },
  {
   "cell_type": "markdown",
   "metadata": {
    "application/vnd.databricks.v1+cell": {
     "cellMetadata": {},
     "inputWidgets": {},
     "nuid": "957db8ce-c826-44b8-9eac-a91de190c739",
     "showTitle": false,
     "tableResultSettingsMap": {},
     "title": ""
    }
   },
   "source": [
    "### I2. (OPTIONAL) Using Python to View Row Level Changes \n",
    "\n",
    "To read the CDF data:\n",
    "- Read the **user_lookup** table\n",
    "- Configure the stream to enable reading change data with the `readChangeData` option\n",
    "- Configure the stream to start reading from version **1** with `startingVersion` option\n",
    "\n",
    "Confirm that one row is returned in the output. The row should be the row you deleted in the earlier step.\n",
    "\n",
    "**HINT:** [Use Delta Lake change data feed on Databricks](https://docs.databricks.com/en/delta/delta-change-data-feed.html#use-delta-lake-change-data-feed-on-databricks) documentation."
   ]
  },
  {
   "cell_type": "code",
   "execution_count": 0,
   "metadata": {
    "application/vnd.databricks.v1+cell": {
     "cellMetadata": {},
     "inputWidgets": {},
     "nuid": "30d7341d-b382-4825-a57f-66072ec96e2f",
     "showTitle": false,
     "tableResultSettingsMap": {},
     "title": ""
    }
   },
   "outputs": [],
   "source": [
    "<FILL IN>"
   ]
  },
  {
   "cell_type": "markdown",
   "metadata": {
    "application/vnd.databricks.v1+cell": {
     "cellMetadata": {},
     "inputWidgets": {},
     "nuid": "0fdc969d-e471-40da-85f1-c83987aff4be",
     "showTitle": false,
     "tableResultSettingsMap": {},
     "title": ""
    }
   },
   "source": [
    "## J. Propagate Deletes To Multiple Tables"
   ]
  },
  {
   "cell_type": "markdown",
   "metadata": {
    "application/vnd.databricks.v1+cell": {
     "cellMetadata": {},
     "inputWidgets": {},
     "nuid": "e08d59fc-a7cf-47e5-8492-11859d111aec",
     "showTitle": false,
     "tableResultSettingsMap": {},
     "title": ""
    }
   },
   "source": [
    "### J1. Create a Temporary View of the user_lookup Table CDF Changes\n",
    "\n",
    "Let's create a temporary view to hold the CDF changes of **user_lookup** table.\n",
    "\n",
    "**HINTS**:\n",
    "- Use `CREATE OR REPLACE TEMPORARY VIEW` name it **user_lookup_deletes_vw**\n",
    "- Use `table_changes` and starting version of **2**\n",
    "- Select all records in view where **_change_type** is *delete*\n",
    "- Then display the results of the view. \n",
    "- Confirm one row is returned."
   ]
  },
  {
   "cell_type": "code",
   "execution_count": 0,
   "metadata": {
    "application/vnd.databricks.v1+cell": {
     "cellMetadata": {},
     "inputWidgets": {},
     "nuid": "c6827754-1b9a-41ce-b42b-3f5b0cb21f7a",
     "showTitle": false,
     "tableResultSettingsMap": {},
     "title": ""
    }
   },
   "outputs": [],
   "source": [
    "<FILL-IN>"
   ]
  },
  {
   "cell_type": "markdown",
   "metadata": {
    "application/vnd.databricks.v1+cell": {
     "cellMetadata": {},
     "inputWidgets": {},
     "nuid": "31dc48a4-3e6b-46ed-a44c-41bdaba4238b",
     "showTitle": false,
     "tableResultSettingsMap": {},
     "title": ""
    }
   },
   "source": [
    "### J2. Merge the Temporary View into **Users** Table\n",
    "\n",
    "Merge using **user_lookup_deletes_vw** as source into **users** table and **DELETE** when **alt_id** gets matched.\n",
    "\n",
    "The `MERGE` operation should return a value of *1* for **num_affected_rows** and **num_deleted_rows**.\n",
    "\n",
    "**HINTS**:\n",
    "- Use the [MERGE INTO](https://docs.databricks.com/en/sql/language-manual/delta-merge-into.html) Syntax:\n",
    "```\n",
    "MERGE [ WITH SCHEMA EVOLUTION ] INTO target_table_name [target_alias]\n",
    "   USING source_table_reference [source_alias]\n",
    "   ON merge_condition\n",
    "   { WHEN MATCHED [ AND matched_condition ] THEN matched_action |\n",
    "     WHEN NOT MATCHED [BY TARGET] [ AND not_matched_condition ] THEN not_matched_action |\n",
    "     WHEN NOT MATCHED BY SOURCE [ AND not_matched_by_source_condition ] THEN not_matched_by_source_action } [...]\n",
    "\n",
    "matched_action\n",
    " { DELETE |\n",
    "   UPDATE SET * |\n",
    "   UPDATE SET { column = { expr | DEFAULT } } [, ...] }\n",
    "\n",
    "not_matched_action\n",
    " { INSERT * |\n",
    "   INSERT (column1 [, ...] ) VALUES ( expr | DEFAULT ] [, ...] )\n",
    "\n",
    "not_matched_by_source_action\n",
    " { DELETE |\n",
    "   UPDATE SET { column = { expr | DEFAULT } } [, ...] }\n",
    "\n",
    "```"
   ]
  },
  {
   "cell_type": "code",
   "execution_count": 0,
   "metadata": {
    "application/vnd.databricks.v1+cell": {
     "cellMetadata": {},
     "inputWidgets": {},
     "nuid": "eeefbd00-fdfd-43bf-91c5-839299019e13",
     "showTitle": false,
     "tableResultSettingsMap": {},
     "title": ""
    }
   },
   "outputs": [],
   "source": [
    "<FILL_IN>"
   ]
  },
  {
   "cell_type": "markdown",
   "metadata": {
    "application/vnd.databricks.v1+cell": {
     "cellMetadata": {},
     "inputWidgets": {},
     "nuid": "1c2503ea-6a68-44d0-b786-7ba108a3c36f",
     "showTitle": false,
     "tableResultSettingsMap": {},
     "title": ""
    }
   },
   "source": [
    "Run the query below to check the record count in the **users** table, notice this reflects record deleted propagated via the `MERGE_INTO` executed in the cell above."
   ]
  },
  {
   "cell_type": "code",
   "execution_count": 0,
   "metadata": {
    "application/vnd.databricks.v1+cell": {
     "cellMetadata": {},
     "inputWidgets": {},
     "nuid": "a5ce531c-8959-4e70-9196-dd59aa396731",
     "showTitle": false,
     "tableResultSettingsMap": {},
     "title": ""
    }
   },
   "outputs": [],
   "source": [
    "SELECT count(*)\n",
    "FROM users"
   ]
  },
  {
   "cell_type": "markdown",
   "metadata": {
    "application/vnd.databricks.v1+cell": {
     "cellMetadata": {},
     "inputWidgets": {},
     "nuid": "c5d710f9-ce1d-45d4-8ac1-097aab9ffa55",
     "showTitle": false,
     "tableResultSettingsMap": {},
     "title": ""
    }
   },
   "source": [
    "### J3. Merge the Temporary View into the users_bin Table\n",
    "\n",
    "Similarly, merge using **user_lookup_deletes_vw** as source into **user_bins** table and `DELETE` when **user_id** gets matched.\n",
    "\n",
    "The `MERGE` operation should return a value of *1* for **num_affected_rows** and **num_deleted_rows**."
   ]
  },
  {
   "cell_type": "code",
   "execution_count": 0,
   "metadata": {
    "application/vnd.databricks.v1+cell": {
     "cellMetadata": {},
     "inputWidgets": {},
     "nuid": "8b0fca74-187f-44df-998e-2293d97f883f",
     "showTitle": false,
     "tableResultSettingsMap": {},
     "title": ""
    }
   },
   "outputs": [],
   "source": [
    "<FILL_IN>"
   ]
  },
  {
   "cell_type": "markdown",
   "metadata": {
    "application/vnd.databricks.v1+cell": {
     "cellMetadata": {},
     "inputWidgets": {},
     "nuid": "cf95ecfc-f359-4ed9-b235-5306e3acc21c",
     "showTitle": false,
     "tableResultSettingsMap": {},
     "title": ""
    }
   },
   "source": [
    "Run the query below to check for the deleted record in the **users_bin** table by filtering and using the selected **user_id** saved in a variable. \n",
    "\n",
    "Notice there are no results confirming the delete as correctly propagated via the `MERGE INTO`."
   ]
  },
  {
   "cell_type": "code",
   "execution_count": 0,
   "metadata": {
    "application/vnd.databricks.v1+cell": {
     "cellMetadata": {},
     "inputWidgets": {},
     "nuid": "1eff9268-7f1a-464a-b84b-998399c9579e",
     "showTitle": false,
     "tableResultSettingsMap": {},
     "title": ""
    }
   },
   "outputs": [],
   "source": [
    "SELECT *\n",
    "FROM users_bin\n",
    "WHERE user_id = session.user_id"
   ]
  },
  {
   "cell_type": "markdown",
   "metadata": {
    "application/vnd.databricks.v1+cell": {
     "cellMetadata": {},
     "inputWidgets": {},
     "nuid": "ac3a2f67-03b6-42ee-a1af-b052ae6591c0",
     "showTitle": false,
     "tableResultSettingsMap": {},
     "title": ""
    }
   },
   "source": [
    "\n",
    "&copy; 2025 Databricks, Inc. All rights reserved.<br/>\n",
    "Apache, Apache Spark, Spark and the Spark logo are trademarks of the \n",
    "<a href=\"https://www.apache.org/\">Apache Software Foundation</a>.<br/>\n",
    "<br/><a href=\"https://databricks.com/privacy-policy\">Privacy Policy</a> | \n",
    "<a href=\"https://databricks.com/terms-of-use\">Terms of Use</a> | \n",
    "<a href=\"https://help.databricks.com/\">Support</a>"
   ]
  }
 ],
 "metadata": {
  "application/vnd.databricks.v1+notebook": {
   "computePreferences": null,
   "dashboards": [],
   "environmentMetadata": null,
   "inputWidgetPreferences": null,
   "language": "sql",
   "notebookMetadata": {
    "pythonIndentUnit": 4
   },
   "notebookName": "DP 1.4L - Propagating Changes with CDF Lab",
   "widgets": {}
  },
  "language_info": {
   "name": "sql"
  }
 },
 "nbformat": 4,
 "nbformat_minor": 0
}