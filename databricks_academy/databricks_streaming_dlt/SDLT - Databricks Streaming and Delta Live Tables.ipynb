{
 "cells": [
  {
   "cell_type": "markdown",
   "metadata": {
    "application/vnd.databricks.v1+cell": {
     "cellMetadata": {},
     "inputWidgets": {},
     "nuid": "65607330-1fec-42b9-82cc-714d14d77265",
     "showTitle": false,
     "tableResultSettingsMap": {},
     "title": ""
    }
   },
   "source": [
    "\n",
    "<div style=\"text-align: center; line-height: 0; padding-top: 9px;\">\n",
    "  <img src=\"https://databricks.com/wp-content/uploads/2018/03/db-academy-rgb-1200px.png\" alt=\"Databricks Learning\">\n",
    "</div>\n"
   ]
  },
  {
   "cell_type": "markdown",
   "metadata": {
    "application/vnd.databricks.v1+cell": {
     "cellMetadata": {},
     "inputWidgets": {},
     "nuid": "868a3f57-979b-4e8d-bb15-bbde55223d25",
     "showTitle": false,
     "tableResultSettingsMap": {},
     "title": "--i18n-05e36320-5127-47c4-a17a-0095a67164e8"
    }
   },
   "source": [
    "# Databricks Streaming and Delta Live Tables\n",
    "\n",
    "The Databricks Streaming and Delta Live Tables (SDLT) course is designed to prepare students for the Databricks Certified Professional Data Engineer certification exam. The content for this course consists of the Professional-level modules of the Data Engineer Learning Path, and can be delivered as an instructor-led training (ILT) or self-paced (SP) course.\n",
    "\n",
    "## Course Agenda\n",
    "The following modules are part of the Data Engineer Learning Path by Databricks Academy.\n",
    "| # | Module Name |\n",
    "| --- | --- |\n",
    "| 1 | [Incremental Processing with Spark Structured Streaming]($../SDLT 1 - Incremental Processing with Spark Structured Streaming/SDLT 1.0 - Module Introduction) |\n",
    "| 2 | [Streaming ETL Patterns with DLT]($../SDLT 2 - Streaming ETL Patterns with DLT/SDLT 2.0 - Module Introduction) |"
   ]
  },
  {
   "cell_type": "markdown",
   "metadata": {
    "application/vnd.databricks.v1+cell": {
     "cellMetadata": {},
     "inputWidgets": {},
     "nuid": "f896f949-7f34-4175-aaac-8e6e46fee533",
     "showTitle": false,
     "tableResultSettingsMap": {},
     "title": ""
    }
   },
   "source": [
    "\n",
    "## Requirements\n",
    "\n",
    "Please review the following requirements before starting the lesson:\n",
    "\n",
    "* To run demo and lab notebooks, you need to use the following Databricks runtime: **15.4.x-scala2.12**"
   ]
  },
  {
   "cell_type": "markdown",
   "metadata": {
    "application/vnd.databricks.v1+cell": {
     "cellMetadata": {},
     "inputWidgets": {},
     "nuid": "ad1da587-e6be-414e-b6da-8223fbe8ddae",
     "showTitle": false,
     "tableResultSettingsMap": {},
     "title": ""
    }
   },
   "source": [
    "\n",
    "&copy; 2025 Databricks, Inc. All rights reserved.<br/>\n",
    "Apache, Apache Spark, Spark and the Spark logo are trademarks of the \n",
    "<a href=\"https://www.apache.org/\">Apache Software Foundation</a>.<br/>\n",
    "<br/><a href=\"https://databricks.com/privacy-policy\">Privacy Policy</a> | \n",
    "<a href=\"https://databricks.com/terms-of-use\">Terms of Use</a> | \n",
    "<a href=\"https://help.databricks.com/\">Support</a>"
   ]
  }
 ],
 "metadata": {
  "application/vnd.databricks.v1+notebook": {
   "computePreferences": null,
   "dashboards": [],
   "environmentMetadata": null,
   "inputWidgetPreferences": null,
   "language": "python",
   "notebookMetadata": {},
   "notebookName": "SDLT - Databricks Streaming and Delta Live Tables",
   "widgets": {}
  },
  "language_info": {
   "name": "python"
  }
 },
 "nbformat": 4,
 "nbformat_minor": 0
}