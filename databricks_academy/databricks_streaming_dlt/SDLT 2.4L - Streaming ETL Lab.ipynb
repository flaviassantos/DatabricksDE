{
 "cells": [
  {
   "cell_type": "markdown",
   "metadata": {
    "application/vnd.databricks.v1+cell": {
     "cellMetadata": {},
     "inputWidgets": {},
     "nuid": "e28cd2f9-b1d5-4531-97dd-b50a9e1f1af4",
     "showTitle": false,
     "tableResultSettingsMap": {},
     "title": ""
    }
   },
   "source": [
    "\n",
    "<div style=\"text-align: center; line-height: 0; padding-top: 9px;\">\n",
    "  <img src=\"https://databricks.com/wp-content/uploads/2018/03/db-academy-rgb-1200px.png\" alt=\"Databricks Learning\">\n",
    "</div>\n"
   ]
  },
  {
   "cell_type": "markdown",
   "metadata": {
    "application/vnd.databricks.v1+cell": {
     "cellMetadata": {},
     "inputWidgets": {},
     "nuid": "af9efd30-d82b-46be-ac5f-f3ae762e39fe",
     "showTitle": false,
     "tableResultSettingsMap": {},
     "title": ""
    }
   },
   "source": [
    "# Streaming ETL Lab\n",
    "\n",
    "This notebook programmatically generates and triggers an update of a DLT pipeline that consists of the following notebooks:\n",
    "\n",
    "|DLT Pipeline|\n",
    "|---|\n",
    "|Auto Load to Bronze|\n",
    "|Stream from Multiplex Bronze|\n",
    "|Quality Enforcement|\n",
    "|[Streaming ETL]($./Pipeline/SDLT 2.4.1L - Streaming ETL Lab)|\n",
    "\n",
    "As we continue through the course, you can return to this notebook and use the provided methods to:\n",
    "- Land a new batch of data\n",
    "- Trigger a pipeline update\n",
    "- Process all remaining data\n",
    "\n",
    "**NOTE:** Re-running the entire notebook will delete the underlying data files for both the source data and your DLT Pipeline."
   ]
  },
  {
   "cell_type": "markdown",
   "metadata": {
    "application/vnd.databricks.v1+cell": {
     "cellMetadata": {},
     "inputWidgets": {},
     "nuid": "3371b6c7-737f-47c5-8e26-ed2d63be9405",
     "showTitle": false,
     "tableResultSettingsMap": {},
     "title": ""
    }
   },
   "source": [
    "## Run Setup\n",
    "Run the following cell to reset and configure your working environment for this course."
   ]
  },
  {
   "cell_type": "code",
   "execution_count": 0,
   "metadata": {
    "application/vnd.databricks.v1+cell": {
     "cellMetadata": {},
     "inputWidgets": {},
     "nuid": "00a7fcce-fa3a-4b30-a76f-2aa75282cd75",
     "showTitle": false,
     "tableResultSettingsMap": {},
     "title": ""
    }
   },
   "outputs": [],
   "source": [
    "%run ./Includes/Classroom-Setup-04L"
   ]
  },
  {
   "cell_type": "markdown",
   "metadata": {
    "application/vnd.databricks.v1+cell": {
     "cellMetadata": {},
     "inputWidgets": {},
     "nuid": "86568466-d44f-4e91-bc61-11ab28ca857a",
     "showTitle": false,
     "tableResultSettingsMap": {},
     "title": ""
    }
   },
   "source": [
    "\n",
    "## Generate DLT Pipeline\n",
    "Run the cell below to auto-generate your DLT pipeline using the provided configuration values. \n",
    "Please navigate to Delta live table under workflows tab.\n"
   ]
  },
  {
   "cell_type": "code",
   "execution_count": 0,
   "metadata": {
    "application/vnd.databricks.v1+cell": {
     "cellMetadata": {},
     "inputWidgets": {},
     "nuid": "2f1c0fed-f2fc-4351-94ec-b96d55e9d69e",
     "showTitle": false,
     "tableResultSettingsMap": {},
     "title": ""
    }
   },
   "outputs": [],
   "source": [
    "DA.generate_pipeline(\n",
    "    pipeline_name=DA.generate_pipeline_name(), \n",
    "    use_schema = DA.schema_name,\n",
    "    notebooks_folder='Pipeline', \n",
    "    pipeline_notebooks=[\n",
    "        'SDLT 2.1.1 - Auto Load to Bronze',\n",
    "        'SDLT 2.2.1 - Stream from Multiplex Bronze',\n",
    "        'SDLT 2.3.1 - Data Quality Enforcement',\n",
    "        'SDLT 2.4.1L - Streaming ETL Lab'\n",
    "        ],\n",
    "    \n",
    "    use_configuration ={\"source\": DA.paths.stream_source, \"lookup_db\": DA.lookup_db}\n",
    "    )"
   ]
  },
  {
   "cell_type": "markdown",
   "metadata": {
    "application/vnd.databricks.v1+cell": {
     "cellMetadata": {},
     "inputWidgets": {},
     "nuid": "c437ea65-4b91-4b9c-ae9c-1a09e8e2ea61",
     "showTitle": false,
     "tableResultSettingsMap": {},
     "title": ""
    }
   },
   "source": [
    "## Trigger Pipeline Run\n",
    "\n",
    "With a pipeline created, you will now run the pipeline. The initial run will take several minutes while a cluster is provisioned. Subsequent runs will be appreciably quicker.\n",
    "\n",
    "Explore the DAG - As the pipeline completes, the execution flow is graphed. With each triggered update, all newly arriving data will be processed through your pipeline. Metrics will always be reported for current run."
   ]
  },
  {
   "cell_type": "markdown",
   "metadata": {
    "application/vnd.databricks.v1+cell": {
     "cellMetadata": {},
     "inputWidgets": {},
     "nuid": "4ca0c401-90ec-47fd-916a-c891ad024572",
     "showTitle": false,
     "tableResultSettingsMap": {},
     "title": ""
    }
   },
   "source": [
    "#### Note: Make sure to complete the lab in the DLT notebook linked above ([Streaming ETL Lab]($./Pipeline/SDLT 2.4.1L - Streaming ETL Lab)) before running this pipeline"
   ]
  },
  {
   "cell_type": "code",
   "execution_count": 0,
   "metadata": {
    "application/vnd.databricks.v1+cell": {
     "cellMetadata": {},
     "inputWidgets": {},
     "nuid": "b8122303-3cc7-45b1-8479-41515fc5523c",
     "showTitle": false,
     "tableResultSettingsMap": {},
     "title": ""
    }
   },
   "outputs": [],
   "source": [
    "DA.start_pipeline()"
   ]
  },
  {
   "cell_type": "markdown",
   "metadata": {
    "application/vnd.databricks.v1+cell": {
     "cellMetadata": {},
     "inputWidgets": {},
     "nuid": "c6555a1d-8c02-4853-85f6-1e3a330e4c45",
     "showTitle": false,
     "tableResultSettingsMap": {},
     "title": ""
    }
   },
   "source": [
    "##### 📌 NOTE: Please navigate to the Delta Live Table tab and ensure the pipeline has completed successfully before running further cells."
   ]
  },
  {
   "cell_type": "markdown",
   "metadata": {
    "application/vnd.databricks.v1+cell": {
     "cellMetadata": {},
     "inputWidgets": {},
     "nuid": "bb365ddd-70c1-491b-a925-68d8d8524e0c",
     "showTitle": false,
     "tableResultSettingsMap": {},
     "title": ""
    }
   },
   "source": [
    "## Land New Data\n",
    "\n",
    "Run the cell below to land more data in the source directory, then manually trigger another pipeline update using the UI or the cell above."
   ]
  },
  {
   "cell_type": "code",
   "execution_count": 0,
   "metadata": {
    "application/vnd.databricks.v1+cell": {
     "cellMetadata": {},
     "inputWidgets": {},
     "nuid": "6e010bbb-de14-481b-b0d0-9bf5f12c868c",
     "showTitle": false,
     "tableResultSettingsMap": {},
     "title": ""
    }
   },
   "outputs": [],
   "source": [
    "DA.daily_stream.load()"
   ]
  },
  {
   "cell_type": "markdown",
   "metadata": {
    "application/vnd.databricks.v1+cell": {
     "cellMetadata": {},
     "inputWidgets": {},
     "nuid": "806905e8-ddbe-4af5-96ee-6dabc1a8dd5e",
     "showTitle": false,
     "tableResultSettingsMap": {},
     "title": ""
    }
   },
   "source": [
    "## Process All Remaining Data\n",
    "\n",
    "To continuously load all remaining batches of data to the source directory, call the same load method above with the **`continuous`** parameter set to **`True`**.\n",
    "\n",
    "Trigger another update to process the remaining data."
   ]
  },
  {
   "cell_type": "code",
   "execution_count": 0,
   "metadata": {
    "application/vnd.databricks.v1+cell": {
     "cellMetadata": {},
     "inputWidgets": {},
     "nuid": "33d9ea30-a006-4621-a80e-11ec47941380",
     "showTitle": false,
     "tableResultSettingsMap": {},
     "title": ""
    }
   },
   "outputs": [],
   "source": [
    "DA.daily_stream.load(continuous=True)  # Load all remaining batches of data\n",
    "DA.start_pipeline()  # Trigger another pipeline update"
   ]
  },
  {
   "cell_type": "markdown",
   "metadata": {
    "application/vnd.databricks.v1+cell": {
     "cellMetadata": {},
     "inputWidgets": {},
     "nuid": "338f7d31-880d-4cc6-8ccd-48e2cebe039a",
     "showTitle": false,
     "tableResultSettingsMap": {},
     "title": ""
    }
   },
   "source": [
    "\n",
    "&copy; 2025 Databricks, Inc. All rights reserved.<br/>\n",
    "Apache, Apache Spark, Spark and the Spark logo are trademarks of the \n",
    "<a href=\"https://www.apache.org/\">Apache Software Foundation</a>.<br/>\n",
    "<br/><a href=\"https://databricks.com/privacy-policy\">Privacy Policy</a> | \n",
    "<a href=\"https://databricks.com/terms-of-use\">Terms of Use</a> | \n",
    "<a href=\"https://help.databricks.com/\">Support</a>"
   ]
  }
 ],
 "metadata": {
  "application/vnd.databricks.v1+notebook": {
   "computePreferences": null,
   "dashboards": [],
   "environmentMetadata": null,
   "inputWidgetPreferences": null,
   "language": "python",
   "notebookMetadata": {},
   "notebookName": "SDLT 2.4L - Streaming ETL Lab",
   "widgets": {}
  },
  "language_info": {
   "name": "python"
  }
 },
 "nbformat": 4,
 "nbformat_minor": 0
}