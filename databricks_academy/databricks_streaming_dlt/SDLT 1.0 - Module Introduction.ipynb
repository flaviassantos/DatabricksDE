{
 "cells": [
  {
   "cell_type": "markdown",
   "metadata": {
    "application/vnd.databricks.v1+cell": {
     "cellMetadata": {},
     "inputWidgets": {},
     "nuid": "fa898637-8386-401e-ae68-cc0e94c657a4",
     "showTitle": false,
     "tableResultSettingsMap": {},
     "title": ""
    }
   },
   "source": [
    "\n",
    "<div style=\"text-align: center; line-height: 0; padding-top: 9px;\">\n",
    "  <img src=\"https://databricks.com/wp-content/uploads/2018/03/db-academy-rgb-1200px.png\" alt=\"Databricks Learning\">\n",
    "</div>\n"
   ]
  },
  {
   "cell_type": "markdown",
   "metadata": {
    "application/vnd.databricks.v1+cell": {
     "cellMetadata": {},
     "inputWidgets": {},
     "nuid": "267615d9-d748-47c2-bbd9-d0e8a5bfaee5",
     "showTitle": false,
     "tableResultSettingsMap": {},
     "title": ""
    }
   },
   "source": [
    "## Incremental Processing with Spark Structured Streaming\n",
    "This module is part of the Data Engineer Learning Path by Databricks Academy. \n",
    "\n",
    "#### Lessons\n",
    "Lecture: Streaming Data Concepts (slides available in .pdf)<br>\n",
    "Lecture: Introduction to Structured Streaming (slides available in .pdf) <br>\n",
    "[SDLT 1.1 - Reading from a Streaming Query]($./SDLT 1.1 - Reading from a Streaming Query) <br>\n",
    "[SDLT 1.2L - Streaming Query Lab]($./SDLT 1.2L - Streaming Query Lab) <br>\n",
    "Lecture: Aggregations, Time Windows, Watermarks (slides available in .pdf) <br>\n",
    "[SDLT 1.3L - Stream Aggregations Lab]($./SDLT 1.3L - Stream Aggregations Lab) <br>\n",
    "[SDLT 1.4 - Windowed Aggregation with Watermark]($./SDLT 1.4 - Windowed Aggregation with Watermark) <br> \n",
    "[SDLT 1.5 - Stream-Stream Joins (Optional)]($./SDLT 1.5 - Optional - Stream-Stream Joins) <br> \n",
    "\n",
    "#### Prerequisites\n",
    "* Ability to perform basic code development tasks using the Databricks Data Engineering & Data Science workspace (create clusters, run code in notebooks, use basic notebook operations, import repos from git, etc)\n",
    "* Intermediate programming experience with PySpark\n",
    "  * Extract data from a variety of file formats and data sources\n",
    "  * Apply a number of common transformations to clean data\n",
    "  * Reshape and manipulate complex data using advanced built-in functions\n",
    "* Intermediate programming experience with Delta Lake (create tables, perform complete and incremental updates, compact files, restore previous versions etc.)\n",
    "\n",
    "#### Technical Considerations\n",
    "* This course runs on **15.4.x-scala2.12**.\n",
    "* This course cannot be delivered on Databricks Community Edition."
   ]
  },
  {
   "cell_type": "markdown",
   "metadata": {
    "application/vnd.databricks.v1+cell": {
     "cellMetadata": {},
     "inputWidgets": {},
     "nuid": "b9b18380-a46b-4480-9f74-3b31720fbe51",
     "showTitle": false,
     "tableResultSettingsMap": {},
     "title": ""
    }
   },
   "source": [
    "\n",
    "&copy; 2025 Databricks, Inc. All rights reserved.<br/>\n",
    "Apache, Apache Spark, Spark and the Spark logo are trademarks of the \n",
    "<a href=\"https://www.apache.org/\">Apache Software Foundation</a>.<br/>\n",
    "<br/><a href=\"https://databricks.com/privacy-policy\">Privacy Policy</a> | \n",
    "<a href=\"https://databricks.com/terms-of-use\">Terms of Use</a> | \n",
    "<a href=\"https://help.databricks.com/\">Support</a>"
   ]
  }
 ],
 "metadata": {
  "application/vnd.databricks.v1+notebook": {
   "computePreferences": null,
   "dashboards": [],
   "environmentMetadata": null,
   "inputWidgetPreferences": null,
   "language": "python",
   "notebookMetadata": {},
   "notebookName": "SDLT 1.0 - Module Introduction",
   "widgets": {}
  },
  "language_info": {
   "name": "python"
  }
 },
 "nbformat": 4,
 "nbformat_minor": 0
}