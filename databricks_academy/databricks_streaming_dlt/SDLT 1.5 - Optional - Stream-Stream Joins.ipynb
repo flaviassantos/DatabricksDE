{
 "cells": [
  {
   "cell_type": "markdown",
   "metadata": {
    "application/vnd.databricks.v1+cell": {
     "cellMetadata": {},
     "inputWidgets": {},
     "nuid": "6231e26b-a195-428a-a4a7-bd78bc9ebeb4",
     "showTitle": false,
     "tableResultSettingsMap": {},
     "title": ""
    }
   },
   "source": [
    "\n",
    "<div style=\"text-align: center; line-height: 0; padding-top: 9px;\">\n",
    "  <img src=\"https://databricks.com/wp-content/uploads/2018/03/db-academy-rgb-1200px.png\" alt=\"Databricks Learning\">\n",
    "</div>\n"
   ]
  },
  {
   "cell_type": "markdown",
   "metadata": {
    "application/vnd.databricks.v1+cell": {
     "cellMetadata": {},
     "inputWidgets": {},
     "nuid": "372269c8-cc0a-463b-a11b-434026c0593b",
     "showTitle": false,
     "tableResultSettingsMap": {},
     "title": ""
    }
   },
   "source": [
    "# (Optional) - Stream-Stream Joins\n",
    "\n",
    "##### Objectives\n",
    "1. Create streams using the Rate source\n",
    "1. Perform Stream-Stream Inner Join without Watermarking\n",
    "1. Perform Stream-Stream Inner Join with Watermarking\n",
    "2. Perform Stream-Stream Inner Join with Watermarking and Event Time Constraints\n",
    "\n",
    "##### Classes\n",
    "- <a href=\"https://spark.apache.org/docs/latest/api/python/reference/pyspark.ss/api/pyspark.sql.streaming.DataStreamReader.html\" target=\"_blank\">DataStreamReader</a>\n"
   ]
  },
  {
   "cell_type": "markdown",
   "metadata": {
    "application/vnd.databricks.v1+cell": {
     "cellMetadata": {},
     "inputWidgets": {},
     "nuid": "f730b912-4a0a-4fa2-9276-a793d4b6c9c1",
     "showTitle": false,
     "tableResultSettingsMap": {},
     "title": ""
    }
   },
   "source": [
    "#Stream-Stream Joins\n",
    "We are going to use the canonical example of ad monetization, where we want to find out which ad impressions led to user clicks. \n",
    "Typically, in such scenarios, there are two streams of data from different sources - ad impressions and ad clicks. \n",
    "\n",
    "Both type of events have a common ad identifier (say, `adId`), and we want to match clicks with impressions based on the `adId`. \n",
    "In addition, each event also has a timestamp, which we will use to specify additional conditions in the query to limit the streaming state.\n",
    "\n"
   ]
  },
  {
   "cell_type": "markdown",
   "metadata": {
    "application/vnd.databricks.v1+cell": {
     "cellMetadata": {},
     "inputWidgets": {},
     "nuid": "904e9060-3765-4b5e-a2d2-3b3d2bcc44a2",
     "showTitle": false,
     "tableResultSettingsMap": {},
     "title": ""
    }
   },
   "source": [
    "## Create two streams - Impressions and Clicks\n",
    "\n",
    "We simulate live streams in a lab setup by using the built-in `rate` format, that generates data at a given fixed rate. \n",
    "\n",
    "See   <a href=\"https://spark.apache.org/docs/3.5.1/structured-streaming-programming-guide.html#input-sources\" target=\"_blank\">Stream Input Sources</a>  for more information on stream sources for data generation.\n"
   ]
  },
  {
   "cell_type": "code",
   "execution_count": 0,
   "metadata": {
    "application/vnd.databricks.v1+cell": {
     "cellMetadata": {},
     "inputWidgets": {},
     "nuid": "a1efb7ce-0032-4d97-ba47-0dad708bc054",
     "showTitle": false,
     "tableResultSettingsMap": {},
     "title": ""
    }
   },
   "outputs": [],
   "source": [
    "from pyspark.sql.functions import rand\n",
    "\n",
    "spark.conf.set(\"spark.sql.shuffle.partitions\", \"1\")\n",
    "\n",
    "impressions = (\n",
    "  spark\n",
    "    .readStream.format(\"rate\").option(\"rowsPerSecond\", \"5\").option(\"numPartitions\", \"1\").load()\n",
    "    .selectExpr(\"value AS adId\", \"timestamp AS impressionTime\")\n",
    ")\n",
    "\n",
    "clicks = (\n",
    "  spark\n",
    "  .readStream.format(\"rate\").option(\"rowsPerSecond\", \"5\").option(\"numPartitions\", \"1\").load()\n",
    "  .where((rand() * 100).cast(\"integer\") < 10)      # 10 out of every 100 impressions result in a click\n",
    "  .selectExpr(\"(value - 50) AS adId \", \"timestamp AS clickTime\")      # -50 so that a click with same id as impression is generated later (i.e. delayed data).\n",
    "  .where(\"adId > 0\")\n",
    ")"
   ]
  },
  {
   "cell_type": "markdown",
   "metadata": {
    "application/vnd.databricks.v1+cell": {
     "cellMetadata": {},
     "inputWidgets": {},
     "nuid": "9c5b6646-7110-4872-9233-5856b1fcc953",
     "showTitle": false,
     "tableResultSettingsMap": {},
     "title": ""
    }
   },
   "source": [
    "Let's see what data these two streaming DataFrames generate.\n"
   ]
  },
  {
   "cell_type": "code",
   "execution_count": 0,
   "metadata": {
    "application/vnd.databricks.v1+cell": {
     "cellMetadata": {},
     "inputWidgets": {},
     "nuid": "faa1a10a-d5aa-421c-8e29-e1167f192917",
     "showTitle": false,
     "tableResultSettingsMap": {},
     "title": ""
    }
   },
   "outputs": [],
   "source": [
    "display(impressions, streamName=\"display_impressions\")\n",
    "\n",
    "##################################\n",
    "## Once finished viewing, click ##\n",
    "## 'Cancel' before proceeding   ##\n",
    "##################################"
   ]
  },
  {
   "cell_type": "code",
   "execution_count": 0,
   "metadata": {
    "application/vnd.databricks.v1+cell": {
     "cellMetadata": {},
     "inputWidgets": {},
     "nuid": "b7e63ef7-5720-41d5-8d00-fcc65c329c4b",
     "showTitle": false,
     "tableResultSettingsMap": {},
     "title": ""
    }
   },
   "outputs": [],
   "source": [
    "display(clicks, streamName=\"display_clicks\")\n",
    "\n",
    "##################################\n",
    "## Once finished viewing, click ##\n",
    "## 'Cancel' before proceeding   ##\n",
    "##################################"
   ]
  },
  {
   "cell_type": "markdown",
   "metadata": {
    "application/vnd.databricks.v1+cell": {
     "cellMetadata": {},
     "inputWidgets": {},
     "nuid": "a5dab97f-60f1-419d-afca-19cdc3607ddf",
     "showTitle": false,
     "tableResultSettingsMap": {},
     "title": ""
    }
   },
   "source": [
    "### Stream-Stream Inner Join without Watermark\n",
    "\n",
    "Let's join these two data streams. This is exactly the same as joining two batch DataFrames/Datasets by their common key `adId`."
   ]
  },
  {
   "cell_type": "code",
   "execution_count": 0,
   "metadata": {
    "application/vnd.databricks.v1+cell": {
     "cellMetadata": {},
     "inputWidgets": {},
     "nuid": "3664b9d8-992e-4cee-836c-f31bc0e2e4de",
     "showTitle": false,
     "tableResultSettingsMap": {},
     "title": ""
    }
   },
   "outputs": [],
   "source": [
    "################################################\n",
    "## Without Watermark, State continues to grow ##\n",
    "################################################\n",
    "\n",
    "display(impressions.join(clicks, \"adId\"), streamName=\"naive_streaming_join\")\n",
    "\n",
    "###################################\n",
    "## Once finished viewing, click  ##\n",
    "## 'Interrupt' before proceeding ##\n",
    "###################################"
   ]
  },
  {
   "cell_type": "markdown",
   "metadata": {
    "application/vnd.databricks.v1+cell": {
     "cellMetadata": {},
     "inputWidgets": {},
     "nuid": "b4f04b94-4a3e-49e4-8d96-7bb8287f731d",
     "showTitle": false,
     "tableResultSettingsMap": {},
     "title": ""
    }
   },
   "source": [
    "After you start this query, within a minute, you will start getting joined impressions and clicks. The delays of a minute is due to the fact that clicks are being generated with delay over the corresponding impressions.\n",
    "\n",
    "In addition, if you expand the details of the query above, you will find a few timelines of query metrics - the processing rates, the micro-batch durations, and the size of the state. \n",
    "If you keep running this query, you will notice that the state will keep growing in an unbounded manner. This is because the query must buffer all past input as any new input can match with any input from the past."
   ]
  },
  {
   "cell_type": "markdown",
   "metadata": {
    "application/vnd.databricks.v1+cell": {
     "cellMetadata": {},
     "inputWidgets": {},
     "nuid": "f58818ae-9bb8-4535-ac43-8180b92ed335",
     "showTitle": false,
     "tableResultSettingsMap": {},
     "title": ""
    }
   },
   "source": [
    "\n",
    "### Stream-Stream Inner Join with Watermarking\n",
    "\n",
    "To avoid unbounded state, you have to define additional join conditions such that indefinitely old inputs cannot match with future inputs and therefore can be cleared from the state. In other words, you will have to do the following additional steps in the join.\n",
    "\n",
    "1. Define watermark delays on both inputs such that the engine knows how delayed the input can be. \n",
    "\n",
    "1. Define a constraint on event-time across the two inputs such that the engine can figure out when old rows of one input is not going to be required (i.e. will not satisfy the time constraint) for matches with the other input. This constraint can be defined in one of the two ways.\n",
    "\n",
    "  a. Time range join conditions (e.g. `...JOIN ON leftTime BETWEEN rightTime AND rightTime + INTERVAL 1 HOUR`),\n",
    "  \n",
    "  b. Join on event-time windows (e.g. `...JOIN ON leftTimeWindow = rightTimeWindow`).\n",
    "\n",
    "Let's apply these steps to our use case. \n",
    "\n",
    "1. Watermark delays: Say, the impressions and the corresponding clicks can be delayed/late in event-time by at most \"10 seconds\" and \"20 seconds\", respectively. This is specified in the query as watermarks delays using `withWatermark`.\n",
    "\n",
    "1. Event-time range condition: Say, a click can occur within a time range of 0 seconds to 1 minute after the corresponding impression. This is specified in the query as a join condition between `impressionTime` and `clickTime`.\n",
    "\n"
   ]
  },
  {
   "cell_type": "code",
   "execution_count": 0,
   "metadata": {
    "application/vnd.databricks.v1+cell": {
     "cellMetadata": {},
     "inputWidgets": {},
     "nuid": "39e4bac3-5d6c-4ab9-9278-b7b75cadd7b3",
     "showTitle": false,
     "tableResultSettingsMap": {},
     "title": ""
    }
   },
   "outputs": [],
   "source": [
    "from pyspark.sql.functions import expr\n",
    "\n",
    "# Define watermarks\n",
    "impressionsWithWatermark = (impressions \n",
    "  .selectExpr(\"adId AS impressionAdId\", \"impressionTime\") \n",
    "  .withWatermark(\"impressionTime\", \"10 seconds \"))\n",
    "                            \n",
    "clicksWithWatermark = (clicks \n",
    "  .selectExpr(\"adId AS clickAdId\", \"clickTime\")\n",
    "  .withWatermark(\"clickTime\", \"20 seconds\"))        # max 20 seconds late"
   ]
  },
  {
   "cell_type": "code",
   "execution_count": 0,
   "metadata": {
    "application/vnd.databricks.v1+cell": {
     "cellMetadata": {},
     "inputWidgets": {},
     "nuid": "e3c736a8-002e-4a25-aa86-d7cebfe42174",
     "showTitle": false,
     "tableResultSettingsMap": {},
     "title": ""
    }
   },
   "outputs": [],
   "source": [
    "# Inner join with Watermark \n",
    "display(impressionsWithWatermark.join(\n",
    "    clicksWithWatermark,\n",
    "    expr(\"\"\" clickAdId = impressionAdId\"\"\")), streamName=\"streaming_join_with_watermarks\")"
   ]
  },
  {
   "cell_type": "markdown",
   "metadata": {
    "application/vnd.databricks.v1+cell": {
     "cellMetadata": {},
     "inputWidgets": {},
     "nuid": "2dabf644-e97a-40b4-b02b-d920a90a239b",
     "showTitle": false,
     "tableResultSettingsMap": {},
     "title": ""
    }
   },
   "source": [
    "### Stream-Stream Join with Watermark and Event Time Constraint\n",
    "\n",
    "This will enable Structured Streaming to perform full state cleanup. Use this for long-running stream processes."
   ]
  },
  {
   "cell_type": "code",
   "execution_count": 0,
   "metadata": {
    "application/vnd.databricks.v1+cell": {
     "cellMetadata": {},
     "inputWidgets": {},
     "nuid": "f0e6631d-2905-48b4-9321-125568a0fa1b",
     "showTitle": false,
     "tableResultSettingsMap": {},
     "title": ""
    }
   },
   "outputs": [],
   "source": [
    "# Inner join with watermark + Time conditions - Required for full state cleanup\n",
    "display(impressionsWithWatermark.join(\n",
    "    clicksWithWatermark,\n",
    "    expr(\"\"\" clickAdId = impressionAdId AND \n",
    "      clickTime >= impressionTime AND \n",
    "      clickTime <= impressionTime + interval 1 minutes\"\"\")), streamName=\"streaming_join_with_watermarks_and_event_time_constraints\")"
   ]
  },
  {
   "cell_type": "markdown",
   "metadata": {
    "application/vnd.databricks.v1+cell": {
     "cellMetadata": {},
     "inputWidgets": {},
     "nuid": "15737623-1f20-432b-a060-7387397adac9",
     "showTitle": false,
     "tableResultSettingsMap": {},
     "title": ""
    }
   },
   "source": [
    "We are getting the similar results as the previous simple join query. However, if you look at the query metrics now, you will find that after about a couple of minutes of running the query, the size of the state will stabilize as the old buffered events will start getting cleared up.\n"
   ]
  },
  {
   "cell_type": "markdown",
   "metadata": {
    "application/vnd.databricks.v1+cell": {
     "cellMetadata": {},
     "inputWidgets": {},
     "nuid": "7466d86c-bef7-4015-bd14-364e0d463a9d",
     "showTitle": false,
     "tableResultSettingsMap": {},
     "title": ""
    }
   },
   "source": [
    "### Further Information\n",
    "You can read more about stream-stream joins in the following places:\n",
    "\n",
    "- Databricks blog post on stream-stream joins - https://databricks.com/blog/2018/03/13/introducing-stream-stream-joins-in-apache-spark-2-3.html\n",
    "- Apache Programming Guide on Structured Streaming - https://spark.apache.org/docs/latest/structured-streaming-programming-guide.html#stream-stream-joins\n",
    "- Talk at Spark Summit Europe 2017 - https://databricks.com/session/deep-dive-into-stateful-stream-processing-in-structured-streaming\n"
   ]
  },
  {
   "cell_type": "code",
   "execution_count": 0,
   "metadata": {
    "application/vnd.databricks.v1+cell": {
     "cellMetadata": {},
     "inputWidgets": {},
     "nuid": "08ac4228-63fb-4fe8-b02d-6e45fc889955",
     "showTitle": false,
     "tableResultSettingsMap": {},
     "title": ""
    }
   },
   "outputs": [],
   "source": [
    "for s in spark.streams.active:\n",
    "    print(s.name)\n",
    "    s.stop()"
   ]
  },
  {
   "cell_type": "markdown",
   "metadata": {
    "application/vnd.databricks.v1+cell": {
     "cellMetadata": {},
     "inputWidgets": {},
     "nuid": "0b86fcfc-f779-4553-8e85-1a7dc43af451",
     "showTitle": false,
     "tableResultSettingsMap": {},
     "title": ""
    }
   },
   "source": [
    "\n",
    "&copy; 2025 Databricks, Inc. All rights reserved.<br/>\n",
    "Apache, Apache Spark, Spark and the Spark logo are trademarks of the \n",
    "<a href=\"https://www.apache.org/\">Apache Software Foundation</a>.<br/>\n",
    "<br/><a href=\"https://databricks.com/privacy-policy\">Privacy Policy</a> | \n",
    "<a href=\"https://databricks.com/terms-of-use\">Terms of Use</a> | \n",
    "<a href=\"https://help.databricks.com/\">Support</a>"
   ]
  }
 ],
 "metadata": {
  "application/vnd.databricks.v1+notebook": {
   "computePreferences": null,
   "dashboards": [],
   "environmentMetadata": null,
   "inputWidgetPreferences": null,
   "language": "python",
   "notebookMetadata": {},
   "notebookName": "SDLT 1.5 - Optional - Stream-Stream Joins",
   "widgets": {}
  },
  "language_info": {
   "name": "python"
  }
 },
 "nbformat": 4,
 "nbformat_minor": 0
}