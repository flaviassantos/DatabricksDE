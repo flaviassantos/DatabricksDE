{
 "cells": [
  {
   "cell_type": "markdown",
   "metadata": {
    "application/vnd.databricks.v1+cell": {
     "cellMetadata": {},
     "inputWidgets": {},
     "nuid": "302d1d4e-9b54-4278-ad85-1cf967aceef1",
     "showTitle": false,
     "tableResultSettingsMap": {},
     "title": ""
    }
   },
   "source": [
    "\n",
    "<div style=\"text-align: center; line-height: 0; padding-top: 9px;\">\n",
    "  <img src=\"https://databricks.com/wp-content/uploads/2018/03/db-academy-rgb-1200px.png\" alt=\"Databricks Learning\">\n",
    "</div>\n"
   ]
  },
  {
   "cell_type": "markdown",
   "metadata": {
    "application/vnd.databricks.v1+cell": {
     "cellMetadata": {},
     "inputWidgets": {},
     "nuid": "30d0b921-a708-41ac-b81c-fb8f583988ec",
     "showTitle": false,
     "tableResultSettingsMap": {},
     "title": ""
    }
   },
   "source": [
    "# 07L - Make a Machine Learning Task\n",
    "\n",
    "### Estimated Duration: 25-30 minutes\n",
    "\n",
    "In this lab, you will\n",
    "- Create and maintain variable configurations for data assets with DABs.\n",
    "- Understand and modify bundle YAML configuration files.\n",
    "- Use the Databricks CLI with Notebooks to validate and deploy DABs with a ML asset."
   ]
  },
  {
   "cell_type": "markdown",
   "metadata": {
    "application/vnd.databricks.v1+cell": {
     "cellMetadata": {},
     "inputWidgets": {},
     "nuid": "b9290e85-b324-4865-8b33-a1e70af0e8b3",
     "showTitle": false,
     "tableResultSettingsMap": {},
     "title": ""
    }
   },
   "source": [
    "## REQUIRED - SELECT CLASSIC COMPUTE\n",
    "\n",
    "Before executing cells in this notebook, please select your classic compute cluster in the lab. Be aware that **Serverless** is enabled by default.\n",
    "\n",
    "Follow these steps to select the classic compute cluster:\n",
    "\n",
    "1. Navigate to the top-right of this notebook and click the drop-down menu to select your cluster. By default, the notebook will use **Serverless**.\n",
    "\n",
    "1. If your cluster is available, select it and continue to the next cell. If the cluster is not shown:\n",
    "\n",
    "  - In the drop-down, select **More**.\n",
    "\n",
    "  - In the **Attach to an existing compute resource** pop-up, select the first drop-down. You will see a unique cluster name in that drop-down. Please select that cluster.\n",
    "\n",
    "**NOTE:** If your cluster has terminated, you might need to restart it in order to select it. To do this:\n",
    "\n",
    "1. Right-click on **Compute** in the left navigation pane and select *Open in new tab*.\n",
    "\n",
    "1. Find the triangle icon to the right of your compute cluster name and click it.\n",
    "\n",
    "1. Wait a few minutes for the cluster to start.\n",
    "\n",
    "1. Once the cluster is running, complete the steps above to select your cluster."
   ]
  },
  {
   "cell_type": "markdown",
   "metadata": {
    "application/vnd.databricks.v1+cell": {
     "cellMetadata": {},
     "inputWidgets": {},
     "nuid": "fab0606b-912a-4295-bc02-846eea85d074",
     "showTitle": false,
     "tableResultSettingsMap": {},
     "title": ""
    }
   },
   "source": [
    "## A. Classroom Setup\n",
    "\n",
    "Run the following cell to configure your working environment for this course.\n",
    "\n",
    "**NOTE:** The `DA` object is only used in Databricks Academy courses and is not available outside of these courses. It will dynamically reference the information needed to run the course."
   ]
  },
  {
   "cell_type": "code",
   "execution_count": 0,
   "metadata": {
    "application/vnd.databricks.v1+cell": {
     "cellMetadata": {},
     "inputWidgets": {},
     "nuid": "43f15f76-43c4-4686-aa55-4f85a0a28b3c",
     "showTitle": false,
     "tableResultSettingsMap": {},
     "title": ""
    }
   },
   "outputs": [],
   "source": [
    "%run ../Includes/Classroom-Setup-7L"
   ]
  },
  {
   "cell_type": "markdown",
   "metadata": {
    "application/vnd.databricks.v1+cell": {
     "cellMetadata": {},
     "inputWidgets": {},
     "nuid": "0a05c2b5-709d-4c87-a896-aa10833a63ac",
     "showTitle": false,
     "tableResultSettingsMap": {},
     "title": ""
    }
   },
   "source": [
    "## IMPORTANT LAB INFORMATION\n",
    "\n",
    "Recall that your credentials are stored in a file when running [0 - REQUIRED - Course Setup and Authentication]($../0 - REQUIRED - Course Setup and Authentication).\n",
    "\n",
    "If you end your lab or your lab session times out, your environment will be reset.\n",
    "\n",
    "If you encounter an error regarding unavailable catalogs or if your Databricks CLI is not authenticated, you will need to rerun the [0 - REQUIRED - Course Setup and Authentication]($../0 - REQUIRED - Course Setup and Authentication) notebook to recreate the catalogs and your Databricks CLI credentials.\n",
    "\n",
    "**Use classic compute to use the CLI through a notebook.**"
   ]
  },
  {
   "cell_type": "markdown",
   "metadata": {
    "application/vnd.databricks.v1+cell": {
     "cellMetadata": {},
     "inputWidgets": {},
     "nuid": "1abbd3f8-e15f-4fc7-8175-176a82a9f8db",
     "showTitle": false,
     "tableResultSettingsMap": {},
     "title": ""
    }
   },
   "source": [
    "## SCENARIO\n",
    "\n",
    "Congratulations! You’ve successfully built the bulk of your workflow. The ML team has asked you to ensure your tests meet their requirements for inferencing a model they've deployed in the Dev environment. You don’t need to learn ML—just know how to attach the model to the workflow using the bundle you’ve already built.\n",
    "\n",
    "**Optional task before starting:** For data scientists with ML knowledge, you can inspect the pre-trained model by navigating to experiments. For this demonstration, you don't need to understand the model—your goal is simply to add it to your bundle.\n"
   ]
  },
  {
   "cell_type": "markdown",
   "metadata": {
    "application/vnd.databricks.v1+cell": {
     "cellMetadata": {},
     "inputWidgets": {},
     "nuid": "d1e210c8-5da7-47d1-9841-e70ee54f6db0",
     "showTitle": false,
     "tableResultSettingsMap": {},
     "title": ""
    }
   },
   "source": [
    "Run the Databricks CLI command below to confirm the Databricks CLI is authenticated.\n",
    "\n",
    "<br></br>\n",
    "##### DATABRICKS CLI ERROR TROUBLESHOOTING:\n",
    "  - If you encounter an Databricks CLI authentication error, it means you haven't created the PAT token specified in notebook **0 - REQUIRED - Course Setup and Authentication**. You will need to set up Databricks CLI authentication as shown in that notebook.\n",
    "\n",
    "  - If you encounter the error below, it means your `databricks.yml` file is invalid due to a modification. Even for non-DAB CLI commands, the `databricks.yml` file is still required, as it may contain important authentication details, such as the host and profile, which are utilized by the CLI commands.\n",
    "\n",
    "![CLI Invalid YAML](../Includes/images/databricks_cli_error_invalid_yaml.png)"
   ]
  },
  {
   "cell_type": "code",
   "execution_count": 0,
   "metadata": {
    "application/vnd.databricks.v1+cell": {
     "cellMetadata": {},
     "inputWidgets": {},
     "nuid": "2ee758ea-5192-40f7-9d5f-e4cdc09d51dc",
     "showTitle": false,
     "tableResultSettingsMap": {},
     "title": ""
    }
   },
   "outputs": [],
   "source": [
    "%sh \n",
    "databricks workspace list /Users"
   ]
  },
  {
   "cell_type": "markdown",
   "metadata": {
    "application/vnd.databricks.v1+cell": {
     "cellMetadata": {},
     "inputWidgets": {},
     "nuid": "49f6b149-dcdd-4224-91fc-9e9053db7404",
     "showTitle": false,
     "tableResultSettingsMap": {},
     "title": ""
    }
   },
   "source": [
    "## B. Update **variables.yml**\n",
    "\n",
    "Within the folder where this notebook is located, you will find a folder called [**TODO - Lab DABs Workflows**]($./TODO - Lab DABs Workflow). You will be updating some of the files in this folder to attach a machine learning model to the workflow. You *do not* need to know what this model does. The goal of this exercise is to understand how to attach an additional Unity Catalog asset, which is a registered ML model in this case.\n",
    "\n",
    "### Instructions:\n",
    "1. Navigate to the **src** folder. Here you will find two folders, **dlt_pipelines** and **helpers**, and two notebooks, **Final Visualization** and **Inference**. The notebook we’ll focus on for the lab is **Inference**. Click on it and inspect the cells.\n",
    "\n",
    "2. In a separate tab, navigate to **resources** and click on **variables.yml**. We will need to update this YAML file with some additional variables.\n",
    "\n",
    "3. In the **Inference** notebook, you’ll see some variables being called in the cell under the header **Parameterize the notebook for our workflow and passing variables**—namely `base_model_name` and `silver_table_name`.\n",
    "\n",
    "    - We will need to point these to our bundle YAML files.\n",
    "\n",
    "    - Add two new variables, `base_model_name` and `silver_table_name`, to **variables.yml** in the section marked **PLEASE ONLY CHANGE THE VARIABLES IN THE FOLLOWING SECTION**.\n",
    "\n",
    "    - To find the default value for `base_model_name`, locate the model in the dev catalog under **Models**.\n",
    "\n",
    "    - The default value for `silver_table_name` is the silver table you created within the dev catalog. You can provide whatever description you like for these two new variables.\n",
    "\n",
    "        - **HINT**: If you didn't run through the previous demonstration, the silver table's name is also in the `ingest-bronze-silver_dlt` notebook located in **src/dlt_pipelines**.\n",
    "\n",
    "4. We will use a cluster for this ML task. Define a third variable called `cluster_id`. You have four options for defining this variable:\n",
    "\n",
    "    - Option 1: Define the lookup variable in username and use `${var.username}` to reference the `username` variable.\n",
    "\n",
    "    - Option 2: Use `lookup` and set the `cluster` value to `${workspace.current_user.userName}`.\n",
    "\n",
    "    - Option 3: Hardcode the default value using the `lookup` method.\n",
    "\n",
    "    - Option 4: Find your cluster ID by navigating to Compute on the left menu, clicking on your cluster, selecting the three vertical dots, and clicking **View JSON**. Copy the cluster ID near the top of the JSON. Alternatively, you can get the cluster ID by running the following code snippet in a new cell: `print(spark.conf.get(\"spark.databricks.clusterUsageTags.clusterId\"))`. Paste this value for the `default` value of `cluster_id` in the `variables.yml` file.\n",
    "\n",
    "### Summary:\n",
    "By completing the tasks, you should have created three new variables: `base_model_name`, `silver_table_name`, and `cluster_id`. Each variable will have a description and a default value."
   ]
  },
  {
   "cell_type": "markdown",
   "metadata": {
    "application/vnd.databricks.v1+cell": {
     "cellMetadata": {},
     "inputWidgets": {},
     "nuid": "43f856a8-3652-40fc-96c8-eecf4534ace8",
     "showTitle": false,
     "tableResultSettingsMap": {},
     "title": ""
    }
   },
   "source": [
    "## C. Update **dabs_workflow_with_ml.job.yml**\n",
    "\n",
    "Now that we’ve updated our **variables.yml** file, let's move on to updating our workflow. We will not be configuring the DLT pipeline in this step.\n",
    "\n",
    "### Instructions:\n",
    "Navigate to **resources** and open the **job** folder. Here you will find all the tasks previously created. Create a new task for inferencing the ML model with the following constraints:\n",
    "\n",
    "  - The task name can be anything you choose.\n",
    "  - The task must depend on **Health_ETL**.\n",
    "  - Add a key called `existing_cluster_id` and set its value to reference the `cluster_id` variable you created in the previous step.\n",
    "  - Add a `notebook_task` that contains a `notebook_path`, `base_parameters`, and `source`:\n",
    "    - `notebook_path` should reference our `Inference` notebook.\n",
    "    - `base_parameters` should have 3 keys. There are two keys that reference the variables we created earlier: `base_model_name` and `silver_table_name` and one that will reference the dev catalog (_Hint: use a variable that was already pre-configured in the `variables.yml` file_).\n",
    "  - You can also provide a description if desired.\n",
    "\n",
    "**HINT**: Use the existing tasks as templates to help with this step.\n",
    "\n",
    "### Summary:\n",
    "By completing this task, you should have created a new task in your workflow within `dabs_workflow.job.yml` and be ready to validate the bundle.\n"
   ]
  },
  {
   "cell_type": "markdown",
   "metadata": {
    "application/vnd.databricks.v1+cell": {
     "cellMetadata": {},
     "inputWidgets": {},
     "nuid": "5f8dcf08-4f9d-4c14-abeb-50842b602d0e",
     "showTitle": false,
     "tableResultSettingsMap": {},
     "title": ""
    }
   },
   "source": [
    "## D. Bundle Validation and Deployment\n",
    "Now that you have updated your **variables.yml** and **dabs_workflow.job.yml`** files, you are ready to validate your bundle before deployment!"
   ]
  },
  {
   "cell_type": "markdown",
   "metadata": {
    "application/vnd.databricks.v1+cell": {
     "cellMetadata": {},
     "inputWidgets": {},
     "nuid": "edd28a7c-771e-48c6-b789-e2711d0bddc1",
     "showTitle": false,
     "tableResultSettingsMap": {},
     "title": ""
    }
   },
   "source": [
    "Use the Databricks CLI to print out a summary of all of the resources defined in the project and the corresponding names which will be generated after deploying the bundle. Note, you will have to `cd` into the bundle folder."
   ]
  },
  {
   "cell_type": "code",
   "execution_count": 0,
   "metadata": {
    "application/vnd.databricks.v1+cell": {
     "cellMetadata": {},
     "inputWidgets": {},
     "nuid": "d5045fce-fa40-426d-a026-9af645f2171b",
     "showTitle": false,
     "tableResultSettingsMap": {},
     "title": ""
    }
   },
   "outputs": [],
   "source": [
    "%sh \n",
    "cd \"./TODO - Lab DABs Workflow\"\n",
    "databricks bundle summary"
   ]
  },
  {
   "cell_type": "markdown",
   "metadata": {
    "application/vnd.databricks.v1+cell": {
     "cellMetadata": {},
     "inputWidgets": {},
     "nuid": "3b72387a-ec30-49ae-8374-68a0e2b221a5",
     "showTitle": false,
     "tableResultSettingsMap": {},
     "title": ""
    }
   },
   "source": [
    "Use the Databricks CLI to validate the bundle. Note, you will have to `cd` into the bundle folder."
   ]
  },
  {
   "cell_type": "code",
   "execution_count": 0,
   "metadata": {
    "application/vnd.databricks.v1+cell": {
     "cellMetadata": {},
     "inputWidgets": {},
     "nuid": "62408f2f-30ae-46ea-aa26-6cb815d86ab6",
     "showTitle": false,
     "tableResultSettingsMap": {},
     "title": ""
    }
   },
   "outputs": [],
   "source": [
    "%sh \n",
    "cd \"./TODO - Lab DABs Workflow\"\n",
    "pwd;\n",
    "databricks bundle validate -t development;"
   ]
  },
  {
   "cell_type": "markdown",
   "metadata": {
    "application/vnd.databricks.v1+cell": {
     "cellMetadata": {},
     "inputWidgets": {},
     "nuid": "765f5402-15fd-4741-9516-47ef75c56bda",
     "showTitle": false,
     "tableResultSettingsMap": {},
     "title": ""
    }
   },
   "source": [
    "Deploy the bundle to the development environment. Note, you will have to `cd` into the bundle folder."
   ]
  },
  {
   "cell_type": "code",
   "execution_count": 0,
   "metadata": {
    "application/vnd.databricks.v1+cell": {
     "cellMetadata": {},
     "inputWidgets": {},
     "nuid": "36df22b8-cfe8-4f76-b4a2-e5054b33cad9",
     "showTitle": false,
     "tableResultSettingsMap": {},
     "title": ""
    }
   },
   "outputs": [],
   "source": [
    "%sh\n",
    "cd \"./TODO - Lab DABs Workflow\"\n",
    "databricks bundle deploy -t development"
   ]
  },
  {
   "cell_type": "markdown",
   "metadata": {
    "application/vnd.databricks.v1+cell": {
     "cellMetadata": {},
     "inputWidgets": {},
     "nuid": "2d25f208-a8e0-4a37-84ab-3d1cd279e186",
     "showTitle": false,
     "tableResultSettingsMap": {},
     "title": ""
    }
   },
   "source": [
    "## E. Run the Job\n",
    "Option 1: Use the UI to run the job and visually watch the tasks kick off. Click on each task to inspect the notebooks or DLT pipeline. \n",
    "\n",
    "Option 2: Run the job using the CLI."
   ]
  },
  {
   "cell_type": "markdown",
   "metadata": {
    "application/vnd.databricks.v1+cell": {
     "cellMetadata": {},
     "inputWidgets": {},
     "nuid": "95827be1-2803-47c6-8658-1346da1e14e3",
     "showTitle": false,
     "tableResultSettingsMap": {},
     "title": ""
    }
   },
   "source": [
    "Note: You will need to delete the DLT pipeline if you worked through the previous demonstration. The name of the pipeline created in the previous demonstration is of the form **[dev <usesrname>] health_etl_pipeline_development**."
   ]
  },
  {
   "cell_type": "code",
   "execution_count": 0,
   "metadata": {
    "application/vnd.databricks.v1+cell": {
     "cellMetadata": {},
     "inputWidgets": {},
     "nuid": "707ad6a1-8b34-40e5-a46e-fa6a720375a8",
     "showTitle": false,
     "tableResultSettingsMap": {},
     "title": ""
    }
   },
   "outputs": [],
   "source": [
    "%sh \n",
    "cd \"./TODO - Lab DABs Workflow\"\n",
    "databricks bundle run ml_health_etl_workflow -t development"
   ]
  },
  {
   "cell_type": "markdown",
   "metadata": {
    "application/vnd.databricks.v1+cell": {
     "cellMetadata": {},
     "inputWidgets": {},
     "nuid": "aa03c1cb-53d0-473b-b6d8-6107dbd15864",
     "showTitle": false,
     "tableResultSettingsMap": {},
     "title": ""
    }
   },
   "source": [
    "Destroy the bundle for development."
   ]
  },
  {
   "cell_type": "code",
   "execution_count": 0,
   "metadata": {
    "application/vnd.databricks.v1+cell": {
     "cellMetadata": {},
     "inputWidgets": {},
     "nuid": "288391f2-a4ca-416e-8424-c441239e0394",
     "showTitle": false,
     "tableResultSettingsMap": {},
     "title": ""
    }
   },
   "outputs": [],
   "source": [
    "%sh \n",
    "cd \"./TODO - Lab DABs Workflow\"\n",
    "databricks bundle destroy -t development --auto-approve"
   ]
  },
  {
   "cell_type": "markdown",
   "metadata": {
    "application/vnd.databricks.v1+cell": {
     "cellMetadata": {},
     "inputWidgets": {},
     "nuid": "a42b81ec-434a-43a2-8ac8-0544470c6f56",
     "showTitle": false,
     "tableResultSettingsMap": {},
     "title": ""
    }
   },
   "source": [
    "### Staging Bundle Validation, Deployment, and Run\n",
    "\n",
    "Imagine now that you have gone through the process of reviewing your code, analyzed code coverage, etc. and you are ready to now deploy and test within a staging environment. DABs makes this extremely easy by changing and passing a few parameter values. \n",
    "\n",
    "#### Instructions:\n",
    "Using the stage environment (catalog), do the following:\n",
    "1. Run a summary on the bundle. \n",
    "1. Validate the bundle. \n",
    "1. Deploy the bundle. \n",
    "1. Run the bundle. \n",
    "1. Destroy the bundle."
   ]
  },
  {
   "cell_type": "code",
   "execution_count": 0,
   "metadata": {
    "application/vnd.databricks.v1+cell": {
     "cellMetadata": {},
     "inputWidgets": {},
     "nuid": "74c7f2e1-bdd0-4268-bc96-288c2bbde7e2",
     "showTitle": false,
     "tableResultSettingsMap": {},
     "title": ""
    }
   },
   "outputs": [],
   "source": [
    "%sh \n",
    "cd \"./TODO - Lab DABs Workflow\"\n",
    "databricks bundle summary -t stage"
   ]
  },
  {
   "cell_type": "code",
   "execution_count": 0,
   "metadata": {
    "application/vnd.databricks.v1+cell": {
     "cellMetadata": {},
     "inputWidgets": {},
     "nuid": "f6cdbfda-879b-486a-9884-f610c2eb08a7",
     "showTitle": false,
     "tableResultSettingsMap": {},
     "title": ""
    }
   },
   "outputs": [],
   "source": [
    "%sh \n",
    "cd \"./TODO - Lab DABs Workflow\"\n",
    "databricks bundle validate -t stage"
   ]
  },
  {
   "cell_type": "code",
   "execution_count": 0,
   "metadata": {
    "application/vnd.databricks.v1+cell": {
     "cellMetadata": {},
     "inputWidgets": {},
     "nuid": "a2466902-d8d3-471c-85ee-ff57a2b24d86",
     "showTitle": false,
     "tableResultSettingsMap": {},
     "title": ""
    }
   },
   "outputs": [],
   "source": [
    "%sh \n",
    "cd \"./TODO - Lab DABs Workflow\"\n",
    "databricks bundle deploy -t stage"
   ]
  },
  {
   "cell_type": "code",
   "execution_count": 0,
   "metadata": {
    "application/vnd.databricks.v1+cell": {
     "cellMetadata": {},
     "inputWidgets": {},
     "nuid": "4b4c549e-31b0-48bf-99b8-0653c7fbf4d3",
     "showTitle": false,
     "tableResultSettingsMap": {},
     "title": ""
    }
   },
   "outputs": [],
   "source": [
    "%sh \n",
    "cd \"./TODO - Lab DABs Workflow\"\n",
    "databricks bundle run ml_health_etl_workflow -t stage"
   ]
  },
  {
   "cell_type": "markdown",
   "metadata": {
    "application/vnd.databricks.v1+cell": {
     "cellMetadata": {},
     "inputWidgets": {},
     "nuid": "372efe9f-6069-4a8c-a426-76865dc035e8",
     "showTitle": false,
     "tableResultSettingsMap": {},
     "title": ""
    }
   },
   "source": [
    "Destroy the bundle for stage."
   ]
  },
  {
   "cell_type": "code",
   "execution_count": 0,
   "metadata": {
    "application/vnd.databricks.v1+cell": {
     "cellMetadata": {},
     "inputWidgets": {},
     "nuid": "dad74ad7-d25a-47a5-8142-4025cde2e883",
     "showTitle": false,
     "tableResultSettingsMap": {},
     "title": ""
    }
   },
   "outputs": [],
   "source": [
    "%sh \n",
    "cd \"./TODO - Lab DABs Workflow\"\n",
    "databricks bundle destroy -t stage --auto-approve"
   ]
  },
  {
   "cell_type": "markdown",
   "metadata": {
    "application/vnd.databricks.v1+cell": {
     "cellMetadata": {},
     "inputWidgets": {},
     "nuid": "71be899d-fc1a-45de-8890-0a8d56aa081b",
     "showTitle": false,
     "tableResultSettingsMap": {},
     "title": ""
    }
   },
   "source": [
    "## Summary:\n",
    "\n",
    "In this lab you used a new data asset stored in Unity Catalog to create a new task for your workflow. By understanding how the YAML files are structured, you were able to update your workflow by defining new variables and create a new task - one that you didn't even necessarily need to know about.\n",
    "\n",
    "### Next Steps:\n",
    "Try to create your own DAB from scratch using the results from this lab. It's recommended that you incrementally build your workflow one task at a time and making small changes until you are comfortable with understanding the architecture of your workflow. \n",
    "\n",
    "* mention VSC for the next step"
   ]
  },
  {
   "cell_type": "markdown",
   "metadata": {
    "application/vnd.databricks.v1+cell": {
     "cellMetadata": {},
     "inputWidgets": {},
     "nuid": "ce63663e-80ce-4886-bd4a-83f00776fc30",
     "showTitle": false,
     "tableResultSettingsMap": {},
     "title": ""
    }
   },
   "source": [
    "\n",
    "&copy; 2025 Databricks, Inc. All rights reserved.<br/>\n",
    "Apache, Apache Spark, Spark and the Spark logo are trademarks of the \n",
    "<a href=\"https://www.apache.org/\">Apache Software Foundation</a>.<br/>\n",
    "<br/><a href=\"https://databricks.com/privacy-policy\">Privacy Policy</a> | \n",
    "<a href=\"https://databricks.com/terms-of-use\">Terms of Use</a> | \n",
    "<a href=\"https://help.databricks.com/\">Support</a>"
   ]
  }
 ],
 "metadata": {
  "application/vnd.databricks.v1+notebook": {
   "computePreferences": null,
   "dashboards": [],
   "environmentMetadata": null,
   "inputWidgetPreferences": null,
   "language": "python",
   "notebookMetadata": {},
   "notebookName": "Lab - Make a Machine Learning Task",
   "widgets": {}
  },
  "language_info": {
   "name": "python"
  }
 },
 "nbformat": 4,
 "nbformat_minor": 0
}