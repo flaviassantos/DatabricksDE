{
 "cells": [
  {
   "cell_type": "markdown",
   "metadata": {
    "application/vnd.databricks.v1+cell": {
     "cellMetadata": {},
     "inputWidgets": {},
     "nuid": "ed68b785-0980-447e-b33e-5c0594c8c9b8",
     "showTitle": false,
     "tableResultSettingsMap": {},
     "title": ""
    }
   },
   "source": [
    "\n",
    "<div style=\"text-align: center; line-height: 0; padding-top: 9px;\">\n",
    "  <img src=\"https://databricks.com/wp-content/uploads/2018/03/db-academy-rgb-1200px.png\" alt=\"Databricks Learning\">\n",
    "</div>\n"
   ]
  },
  {
   "cell_type": "markdown",
   "metadata": {
    "application/vnd.databricks.v1+cell": {
     "cellMetadata": {},
     "inputWidgets": {},
     "nuid": "9d0b8cf4-a692-4d2a-b4c4-818702123940",
     "showTitle": false,
     "tableResultSettingsMap": {},
     "title": ""
    }
   },
   "source": [
    "# 03 - Deploying a DAB to Multiple Environments\n",
    "\n",
    "In this demonstration, we will deploy a Databricks project to both a development and production environment using DABs and modify the configuration for each environment.\n",
    "\n",
    "### Objectives\n",
    "- Explore and modify variables within Databricks Asset Bundles.\n",
    "- Leverage the **includes** top-level mapping to define paths that contain configuration files for inclusion in the bundle.\n",
    "- Deploy projects across multiple environments using Databricks Asset Bundles."
   ]
  },
  {
   "cell_type": "markdown",
   "metadata": {
    "application/vnd.databricks.v1+cell": {
     "cellMetadata": {},
     "inputWidgets": {},
     "nuid": "3b748e9a-21a0-4e36-a7aa-6168cc1c3244",
     "showTitle": false,
     "tableResultSettingsMap": {},
     "title": ""
    }
   },
   "source": [
    "## REQUIRED - SELECT CLASSIC COMPUTE\n",
    "\n",
    "Before executing cells in this notebook, please select your classic compute cluster in the lab. Be aware that **Serverless** is enabled by default.\n",
    "\n",
    "Follow these steps to select the classic compute cluster:\n",
    "\n",
    "1. Navigate to the top-right of this notebook and click the drop-down menu to select your cluster. By default, the notebook will use **Serverless**.\n",
    "\n",
    "1. If your cluster is available, select it and continue to the next cell. If the cluster is not shown:\n",
    "\n",
    "  - In the drop-down, select **More**.\n",
    "\n",
    "  - In the **Attach to an existing compute resource** pop-up, select the first drop-down. You will see a unique cluster name in that drop-down. Please select that cluster.\n",
    "\n",
    "**NOTE:** If your cluster has terminated, you might need to restart it in order to select it. To do this:\n",
    "\n",
    "1. Right-click on **Compute** in the left navigation pane and select *Open in new tab*.\n",
    "\n",
    "1. Find the triangle icon to the right of your compute cluster name and click it.\n",
    "\n",
    "1. Wait a few minutes for the cluster to start.\n",
    "\n",
    "1. Once the cluster is running, complete the steps above to select your cluster."
   ]
  },
  {
   "cell_type": "markdown",
   "metadata": {
    "application/vnd.databricks.v1+cell": {
     "cellMetadata": {},
     "inputWidgets": {},
     "nuid": "583eedeb-a3ee-4cd6-9275-720be907fb82",
     "showTitle": false,
     "tableResultSettingsMap": {},
     "title": ""
    }
   },
   "source": [
    "## A. Classroom Setup\n",
    "\n",
    "Run the following cell to configure your working environment for this course.\n",
    "\n",
    "**NOTE:** The `DA` object is only used in Databricks Academy courses and is not available outside of these courses. It will dynamically reference the information needed to run the course."
   ]
  },
  {
   "cell_type": "code",
   "execution_count": 0,
   "metadata": {
    "application/vnd.databricks.v1+cell": {
     "cellMetadata": {},
     "inputWidgets": {},
     "nuid": "67d1dc87-b842-4f53-8a14-f212b6aaa28e",
     "showTitle": false,
     "tableResultSettingsMap": {},
     "title": ""
    }
   },
   "outputs": [],
   "source": [
    "%run ../Includes/Classroom-Setup-03"
   ]
  },
  {
   "cell_type": "markdown",
   "metadata": {
    "application/vnd.databricks.v1+cell": {
     "cellMetadata": {},
     "inputWidgets": {},
     "nuid": "18a1d0f3-c731-445a-aefd-1b2bc910e086",
     "showTitle": false,
     "tableResultSettingsMap": {},
     "title": ""
    }
   },
   "source": [
    "## IMPORTANT LAB INFORMATION\n",
    "\n",
    "Recall that your credentials are stored in a file when running [0 - REQUIRED - Course Setup and Authentication]($../0 - REQUIRED - Course Setup and Authentication).\n",
    "\n",
    "If you end your lab or your lab session times out, your environment will be reset.\n",
    "\n",
    "If you encounter an error regarding unavailable catalogs or if your Databricks CLI is not authenticated, you will need to rerun the [0 - REQUIRED - Course Setup and Authentication]($../0 - REQUIRED - Course Setup and Authentication) notebook to recreate the catalogs and your Databricks CLI credentials.\n",
    "\n",
    "**Use classic compute to use the CLI through a notebook.**"
   ]
  },
  {
   "cell_type": "markdown",
   "metadata": {
    "application/vnd.databricks.v1+cell": {
     "cellMetadata": {},
     "inputWidgets": {},
     "nuid": "7243de22-2169-4fde-9241-0e3972fd42ee",
     "showTitle": false,
     "tableResultSettingsMap": {},
     "title": ""
    }
   },
   "source": [
    "1. Run the Databricks CLI command below to confirm the Databricks CLI is authenticated.\n",
    "\n",
    "\n",
    "<br></br>\n",
    "##### DATABRICKS CLI ERROR TROUBLESHOOTING:\n",
    "  - If you encounter an Databricks CLI authentication error, it means you haven't created the PAT token specified in notebook **0 - REQUIRED - Course Setup and Authentication**. You will need to set up Databricks CLI authentication as shown in that notebook.\n",
    "\n",
    "  - If you encounter the error below, it means your `databricks.yml` file is invalid due to a modification. Even for non-DAB CLI commands, the `databricks.yml` file is still required, as it may contain important authentication details, such as the host and profile, which are utilized by the CLI commands.\n",
    "\n",
    "![CLI Invalid YAML](../Includes/images/databricks_cli_error_invalid_yaml.png)"
   ]
  },
  {
   "cell_type": "code",
   "execution_count": 0,
   "metadata": {
    "application/vnd.databricks.v1+cell": {
     "cellMetadata": {},
     "inputWidgets": {},
     "nuid": "6715382a-f651-4d39-84a0-76c70b86090e",
     "showTitle": false,
     "tableResultSettingsMap": {},
     "title": ""
    }
   },
   "outputs": [],
   "source": [
    "%sh\n",
    "databricks catalogs list"
   ]
  },
  {
   "cell_type": "markdown",
   "metadata": {
    "application/vnd.databricks.v1+cell": {
     "cellMetadata": {},
     "inputWidgets": {},
     "nuid": "403abb61-ac27-4e26-b0da-fb766e70e16b",
     "showTitle": false,
     "tableResultSettingsMap": {},
     "title": ""
    }
   },
   "source": [
    "2. Run the `databricks -v` command to view the version of the Databricks CLI. Confirm that the cell returns version **v0.240.0**."
   ]
  },
  {
   "cell_type": "code",
   "execution_count": 0,
   "metadata": {
    "application/vnd.databricks.v1+cell": {
     "cellMetadata": {},
     "inputWidgets": {},
     "nuid": "c402e6cc-7905-4883-bfdc-a61995d8b08f",
     "showTitle": false,
     "tableResultSettingsMap": {},
     "title": ""
    }
   },
   "outputs": [],
   "source": [
    "%sh\n",
    "databricks -v"
   ]
  },
  {
   "cell_type": "markdown",
   "metadata": {
    "application/vnd.databricks.v1+cell": {
     "cellMetadata": {},
     "inputWidgets": {},
     "nuid": "cec6f53a-ecc1-4fe4-9985-fbdbb9c45814",
     "showTitle": false,
     "tableResultSettingsMap": {},
     "title": ""
    }
   },
   "source": [
    "## B. Explore the Development and Production Data"
   ]
  },
  {
   "cell_type": "markdown",
   "metadata": {
    "application/vnd.databricks.v1+cell": {
     "cellMetadata": {},
     "inputWidgets": {},
     "nuid": "21a95040-01d7-4245-8850-bf26365b8258",
     "showTitle": false,
     "tableResultSettingsMap": {},
     "title": ""
    }
   },
   "source": [
    "1. Preview the development data in your **username_1_dev** catalog. Note the following:\n",
    "   - It contains 7,500 rows (excluding the header column).\n",
    "   - The PII data is masked.\n",
    "\n",
    "**NOTE:** In this scenario, the sample data in the development environment is a subset of production data used for testing. We will testing later."
   ]
  },
  {
   "cell_type": "code",
   "execution_count": 0,
   "metadata": {
    "application/vnd.databricks.v1+cell": {
     "cellMetadata": {},
     "inputWidgets": {},
     "nuid": "7ca875a9-392a-4f9a-a21c-5afc15c08da3",
     "showTitle": false,
     "tableResultSettingsMap": {},
     "title": ""
    }
   },
   "outputs": [],
   "source": [
    "spark.sql(f'''\n",
    "SELECT *\n",
    "FROM text.`/Volumes/{DA.catalog_dev}/default/health`\n",
    "''').display()"
   ]
  },
  {
   "cell_type": "markdown",
   "metadata": {
    "application/vnd.databricks.v1+cell": {
     "cellMetadata": {},
     "inputWidgets": {},
     "nuid": "4e3ada4c-feee-45be-aa9c-f557faa6f474",
     "showTitle": false,
     "tableResultSettingsMap": {},
     "title": ""
    }
   },
   "source": [
    "2. Preview the production data in your **username_3_prod** catalog. Note the following:\n",
    "   - It contains 70,695 rows.\n",
    "   - The PII data is available. <username>\n",
    "\n",
    "**NOTE:** In our scenario, a CSV file will be added to the **health** volume in the prod catalog daily. If you inspect the health volume in the production catalog, you will find 3 days already populated."
   ]
  },
  {
   "cell_type": "code",
   "execution_count": 0,
   "metadata": {
    "application/vnd.databricks.v1+cell": {
     "cellMetadata": {},
     "inputWidgets": {},
     "nuid": "9abf9811-d602-41eb-acf8-4aacfa07323f",
     "showTitle": false,
     "tableResultSettingsMap": {},
     "title": ""
    }
   },
   "outputs": [],
   "source": [
    "spark.sql(f'''\n",
    "SELECT count(*) AS Total\n",
    "FROM text.`/Volumes/{DA.catalog_prod}/default/health`\n",
    "''').display()"
   ]
  },
  {
   "cell_type": "code",
   "execution_count": 0,
   "metadata": {
    "application/vnd.databricks.v1+cell": {
     "cellMetadata": {},
     "inputWidgets": {},
     "nuid": "b59e81d6-3dac-4ada-8f18-c2ef9a8f55fb",
     "showTitle": false,
     "tableResultSettingsMap": {},
     "title": ""
    }
   },
   "outputs": [],
   "source": [
    "spark.sql(f'''\n",
    "SELECT *\n",
    "FROM text.`/Volumes/{DA.catalog_prod}/default/health`\n",
    "''').display()"
   ]
  },
  {
   "cell_type": "markdown",
   "metadata": {
    "application/vnd.databricks.v1+cell": {
     "cellMetadata": {},
     "inputWidgets": {},
     "nuid": "0612ce20-85aa-468f-810e-6b1ff722dacf",
     "showTitle": false,
     "tableResultSettingsMap": {},
     "title": ""
    }
   },
   "source": [
    "## C. Deploy a DAB to Multiple Environments (Development and Production)\n",
    "\n",
    "In this example, we will be using the same job from demonstration 01. Here are the desired configurations of each environment (catalog):\n",
    "\n",
    "#### Development target configuration requirements:\n",
    "- Use the value **username_1_dev** for the development catalog to read and write to.\n",
    "- Run the job using the **small lab cluster** since the development data is small and static.\n",
    "- Make the development environment the **default** environment.\n",
    "\n",
    "#### Production target configuration requirements:\n",
    "- Use the value **username_3_prod** for the production catalog to access the production data.\n",
    "- Run the job using serverless compute since the data will continually grow, letting Databricks Serverless adjust to the compute needs.\n"
   ]
  },
  {
   "cell_type": "markdown",
   "metadata": {
    "application/vnd.databricks.v1+cell": {
     "cellMetadata": {},
     "inputWidgets": {},
     "nuid": "c1f358ad-25f8-4d67-ae8f-d07264683b7c",
     "showTitle": false,
     "tableResultSettingsMap": {},
     "title": ""
    }
   },
   "source": [
    "1. Open the **./resources/demo_03_job.job.yml** file in a new tab and explore the job configuration.\n",
    "\n",
    "   a. The job key name is **demo03_job**.\n",
    "\n",
    "   b. The job name is **${bundle.target}\\_demo3_dab_${workspace.current_user.userName}**.\n",
    "\n",
    "   c. The job is using the **../src/create_bronze_table.py** and **../src/create_silver_table.py** notebooks. \n",
    "   \n",
    "   d. In the YAML file, scroll down and notice that the parameters for this job are using variables:\n",
    "   ```YAML\n",
    "      parameters:\n",
    "      - name: display_target\n",
    "        default: ${bundle.target}\n",
    "      - name: catalog_name\n",
    "        default: ${var.target_catalog}\n",
    "    ```\n",
    "\n",
    "   e. No cluster is being specified, so this job by default will run on Serverless compute.\n",
    "   \n",
    "   f. Leave this tab open."
   ]
  },
  {
   "cell_type": "markdown",
   "metadata": {
    "application/vnd.databricks.v1+cell": {
     "cellMetadata": {},
     "inputWidgets": {},
     "nuid": "0e8a9fa0-8e9f-4bda-8092-80791fb5ce06",
     "showTitle": false,
     "tableResultSettingsMap": {},
     "title": ""
    }
   },
   "source": [
    "2. Run the follow code to obtain your lab user name. You will need this for the next section."
   ]
  },
  {
   "cell_type": "code",
   "execution_count": 0,
   "metadata": {
    "application/vnd.databricks.v1+cell": {
     "cellMetadata": {},
     "inputWidgets": {},
     "nuid": "4aa1c395-bffd-4224-bc0e-aaa1d4549072",
     "showTitle": false,
     "tableResultSettingsMap": {},
     "title": ""
    }
   },
   "outputs": [],
   "source": [
    "print(DA.catalog_name)"
   ]
  },
  {
   "cell_type": "markdown",
   "metadata": {
    "application/vnd.databricks.v1+cell": {
     "cellMetadata": {},
     "inputWidgets": {},
     "nuid": "67ccbf13-bc8b-4642-92a3-cc706c432ab1",
     "showTitle": false,
     "tableResultSettingsMap": {},
     "title": ""
    }
   },
   "source": [
    "3. In your other tab, navigate to the **./databricks.yml** file located in the main demonstration folder and explore the bundle. Notice the following:\n",
    "\n",
    "   a. This bundle is named **demo03_bundle**.\n",
    "\n",
    "   b. This bundle contains an **include** top-level mapping, which specifies the path to the **./resources/demo_03_job.job.yml** file. This YAML file will define the job for the **resources** mapping as you saw in the previous step. \n",
    "   \n",
    "   **NOTE:** As your project grows, it's best practice to modularize the resources of the DAB.\n",
    "\n",
    "   c. This DAB also contains a **variable** top-level mapping. Let's modify and view the defined variables:\n",
    "\n",
    "      - The `my_lab_user_name` variable uses the substitute variable `${workspace.current_user.short_name}`. This will obtain your username for the lab and will be used to propagate the correct value to the remaining variables dynamically for each catalog.\n",
    "\n",
    "      - The `catalog_dev` variable uses the `my_lab_user_name` variable and appends **_1_dev** to your user name to reference your development catalog.\n",
    "\n",
    "      - The `catalog_prod` variable uses the `my_lab_user_name` variable and appends **_3_prod** to your user name to reference your production catalog.\n",
    "\n",
    "      - The `target_catalog` variable by default references your default catalog. Remember, this variable is being used in your job parameter specified in your **./resources/demo_03_job.job.yml** configuration:\n",
    "\n",
    "    ```YAML\n",
    "      parameters:\n",
    "      - name: display_target\n",
    "        default: ${bundle.target}\n",
    "      - name: catalog_name\n",
    "        default: ${var.target_catalog}\n",
    "    ```\n",
    "   <br></br>\n",
    "      - The `raw_data_path` variable references the **health** volume using the `target_catalog` value, which by default references the **health** volume in your default catalog. \n",
    "\n",
    "      - **TO DO:** The `cluster_id` variable will use a lookup variable to obtain the cluster ID for the specific lab user. By default, in the Databricks Academy lab, your cluster name is your user name. So, here get your username from the cell above and paste the cluster name next to cluster. This will look up the cluster id from the cluster name. \n",
    "\n",
    "\n",
    "   d. Leave this tab open.\n"
   ]
  },
  {
   "cell_type": "markdown",
   "metadata": {
    "application/vnd.databricks.v1+cell": {
     "cellMetadata": {},
     "inputWidgets": {},
     "nuid": "7d3674f9-3a65-4087-bc01-7adabe92550a",
     "showTitle": false,
     "tableResultSettingsMap": {},
     "title": ""
    }
   },
   "source": [
    "4. In the **databricks.yml** file, explore the **targets** first-level mapping. Notice the following:\n",
    "\n",
    "   a. When deploying to the **development** target:\n",
    "   \n",
    "      - It is set to **development** mode.\n",
    "      \n",
    "      - It is the **default** target.\n",
    "      \n",
    "      - The root path where the files are placed will end with the target name, **development**.\n",
    "      \n",
    "      - In development, we are modifying the compute for each task in the **resources** mapping. Here, we are adding our small lab compute to process the tasks using the lookup variable `my_cluster_id` we defined earlier. We are doing this because, in development, we know our data is small and don't need large compute resources.\n",
    "\n",
    "   b. When deploying to the **production** target:\n",
    "   \n",
    "      - It is set to **production** mode.\n",
    "      \n",
    "      - The `target_catalog` variable is modified from the default value of `${var.catalog_dev}` to `${var.catalog_prod}`. This will read from our production catalog and write to the production catalog when deployed in production.\n",
    "      \n",
    "      - The root path where the files are placed will end with the target name, **production**.\n",
    "\n",
    "      - The job will run in the **Serverless** mode since are not overriding the compute of the specified job in production. \n",
    "\n",
    "**NOTES:**\n",
    "- If available, we could specify the **host** and modify which Databricks Workspace to run this in. In our lab, we only have one Workspace, so we are isolating environments by catalogs.\n",
    "  \n",
    "- In this example, we kept it simple and modified a few configurations for the **production** target. [You can modify a variety of other configurations](https://docs.databricks.com/aws/en/dev-tools/bundles/settings).\n"
   ]
  },
  {
   "cell_type": "markdown",
   "metadata": {
    "application/vnd.databricks.v1+cell": {
     "cellMetadata": {},
     "inputWidgets": {},
     "nuid": "c095494a-92e1-42fd-af64-e44cb7229a55",
     "showTitle": false,
     "tableResultSettingsMap": {},
     "title": ""
    }
   },
   "source": [
    "5. Let's validate the bundle for this demonstration. Confirm that the bundle validated correctly.\n",
    "\n",
    "    **NOTE:** If the bundle does not validate, read the error and fix the issue. Common issues include:\n",
    "\n",
    "    - Missing file extensions on the notebook paths within the **demo_03_job.job.yml** file.\n",
    "\n",
    "    - Failing to modify the variables correctly in the **databricks.yml** file."
   ]
  },
  {
   "cell_type": "code",
   "execution_count": 0,
   "metadata": {
    "application/vnd.databricks.v1+cell": {
     "cellMetadata": {},
     "inputWidgets": {},
     "nuid": "1fea7089-dfa5-412a-b1c8-cb285dbe74f9",
     "showTitle": false,
     "tableResultSettingsMap": {},
     "title": ""
    }
   },
   "outputs": [],
   "source": [
    "%sh\n",
    "databricks bundle validate"
   ]
  },
  {
   "cell_type": "markdown",
   "metadata": {
    "application/vnd.databricks.v1+cell": {
     "cellMetadata": {},
     "inputWidgets": {},
     "nuid": "8828cfd0-6395-4fcc-8773-95ec658f0ea8",
     "showTitle": false,
     "tableResultSettingsMap": {},
     "title": ""
    }
   },
   "source": [
    "6. You can run the `databricks bundle validate --output json` to view details of the bundle configuration in JSON format. This helps you identify all of the configurations within your DAB. You can use these values as variable substitutions.\n",
    "\n",
    "\n",
    "Here are some commonly used substitutions:\n",
    "\n",
    "- ${bundle.name}\n",
    "\n",
    "- ${bundle.target}  # Use this substitution instead of ${bundle.environment}\n",
    "\n",
    "- ${workspace.host}\n",
    "\n",
    "- ${workspace.current_user.short_name}\n",
    "\n",
    "- ${workspace.current_user.userName}\n",
    "\n",
    "- ${workspace.file_path}\n",
    "\n",
    "- ${workspace.root_path}\n",
    "\n",
    "- ${resources.jobs.<job-name>.id}\n",
    "\n",
    "- ${resources.models.<model-name>.name}\n",
    "\n",
    "- ${resources.pipelines.<pipeline-name>.name}\n",
    "\n",
    "\n",
    "For example, in the JSON configuration below, notice that \n",
    "- `bundle.target` is *development* in out the JSON. Recall we use the `${bundle.target}` variable within our YAML file.\n",
    "- in the JSON output look for \"workspace\", then \"current_user\", then \"short_name\". Notice this value will return your user name without the vocareum extension."
   ]
  },
  {
   "cell_type": "code",
   "execution_count": 0,
   "metadata": {
    "application/vnd.databricks.v1+cell": {
     "cellMetadata": {},
     "inputWidgets": {},
     "nuid": "597ddd4f-1fde-469d-85b2-860358a51ac6",
     "showTitle": false,
     "tableResultSettingsMap": {},
     "title": ""
    }
   },
   "outputs": [],
   "source": [
    "%sh\n",
    "databricks bundle validate --output json"
   ]
  },
  {
   "cell_type": "markdown",
   "metadata": {
    "application/vnd.databricks.v1+cell": {
     "cellMetadata": {},
     "inputWidgets": {},
     "nuid": "4c084dd4-9a86-484e-8371-bc03244c3912",
     "showTitle": false,
     "tableResultSettingsMap": {},
     "title": ""
    }
   },
   "source": [
    "### C1. Deploy to the Development Environment"
   ]
  },
  {
   "cell_type": "markdown",
   "metadata": {
    "application/vnd.databricks.v1+cell": {
     "cellMetadata": {},
     "inputWidgets": {},
     "nuid": "ca0102e6-e664-4469-8126-81bf72f40d3f",
     "showTitle": false,
     "tableResultSettingsMap": {},
     "title": ""
    }
   },
   "source": [
    "1. Let's delete the tables **health_bronze_demo03** and **health_silver_demo03** if they exist in our development catalog to verify that our bundle is creating the tables correctly. Run the code and confirm that the tables are not in your **_1_dev** catalog. The output from the following cell will display any other table that exists inside the **default** schema except for `health_bronze_demo03` and `health_silver_demo03`. \n"
   ]
  },
  {
   "cell_type": "code",
   "execution_count": 0,
   "metadata": {
    "application/vnd.databricks.v1+cell": {
     "cellMetadata": {},
     "inputWidgets": {},
     "nuid": "af39ae7e-a382-48f4-8140-39ec823a26e6",
     "showTitle": false,
     "tableResultSettingsMap": {},
     "title": ""
    }
   },
   "outputs": [],
   "source": [
    "del_table(DA.catalog_dev, 'default', 'health_bronze_demo03')\n",
    "del_table(DA.catalog_dev, 'default', 'health_silver_demo03')\n",
    "\n",
    "spark.sql(f'''SHOW TABLES IN {DA.catalog_dev}.default''').display()"
   ]
  },
  {
   "cell_type": "markdown",
   "metadata": {
    "application/vnd.databricks.v1+cell": {
     "cellMetadata": {},
     "inputWidgets": {},
     "nuid": "5935ca85-6d76-49b3-aedb-71a6b1e2db23",
     "showTitle": false,
     "tableResultSettingsMap": {},
     "title": ""
    }
   },
   "source": [
    "2. Let's deploy the bundle to the **development** environment using the specific configurations.\n",
    "\n",
    "**NOTE:** If you do not specify `-t development`, it will deploy to this environment by default since the configuration `default: True` is used for the development target in the **databricks.yml** file. However, it's better to be explicit."
   ]
  },
  {
   "cell_type": "code",
   "execution_count": 0,
   "metadata": {
    "application/vnd.databricks.v1+cell": {
     "cellMetadata": {},
     "inputWidgets": {},
     "nuid": "e35f593d-d0b7-44fc-b65b-d403c6c2ae8d",
     "showTitle": false,
     "tableResultSettingsMap": {},
     "title": ""
    }
   },
   "outputs": [],
   "source": [
    "%sh\n",
    "databricks bundle deploy -t development"
   ]
  },
  {
   "cell_type": "markdown",
   "metadata": {
    "application/vnd.databricks.v1+cell": {
     "cellMetadata": {},
     "inputWidgets": {},
     "nuid": "616fe9c6-1df6-449a-97b6-be48b5bc00b8",
     "showTitle": false,
     "tableResultSettingsMap": {},
     "title": ""
    }
   },
   "source": [
    "3. When the cell above completes (in about a minute), view the deployed job named `[dev username] development_demo3_dab_<username>`\n",
    "\n",
    "In the job, check the following:\n",
    "\n",
    "- Select the job tasks and confirm that each task is using our lab compute cluster specified in the configuration.\n",
    "\n",
    "- Find the **Job parameters** section in the right details pane. Note the following values:\n",
    "\n",
    "    **Job parameters**\n",
    "    - **catalog_name** - `<username>_1_dev`\n",
    "    - **display_target** - `development`\n",
    "\n",
    "Recall that we deployed the job in development mode, and it’s using the default variables we created in the **databricks.yml** file to read from and write to our development catalog.\n",
    "\n",
    "Note: When running a job from the command line, you will need to pass the job key from the job YAML file. For example, in our scenario, we have the following in our job YAML file:\n",
    "\n",
    "\n",
    "```YAML\n",
    "  resources:\n",
    "    jobs:\n",
    "      demo03_job:\n",
    "        name: ${bundle.target}_demo3_dab_${workspace.current_user.userName}\n",
    "        ...\n",
    "```\n",
    "\n",
    "So, we will run `databricks bundle run -t development demo03_job` and _not_ `databricks bundle run -t development development_demo3_dab_<username>` or any variant."
   ]
  },
  {
   "cell_type": "markdown",
   "metadata": {
    "application/vnd.databricks.v1+cell": {
     "cellMetadata": {},
     "inputWidgets": {},
     "nuid": "14184ed1-e057-412e-8eb6-213758fae956",
     "showTitle": false,
     "tableResultSettingsMap": {},
     "title": ""
    }
   },
   "source": [
    "4. Run the job in the development environment.\n",
    "\n",
    "    **NOTE:** While the job is running, let's take a moment to address any specific questions.\n"
   ]
  },
  {
   "cell_type": "code",
   "execution_count": 0,
   "metadata": {
    "application/vnd.databricks.v1+cell": {
     "cellMetadata": {},
     "inputWidgets": {},
     "nuid": "97abed91-73af-47e2-b70a-0cded3de7518",
     "showTitle": false,
     "tableResultSettingsMap": {},
     "title": ""
    }
   },
   "outputs": [],
   "source": [
    "%sh\n",
    "databricks bundle run -t development demo03_job"
   ]
  },
  {
   "cell_type": "markdown",
   "metadata": {
    "application/vnd.databricks.v1+cell": {
     "cellMetadata": {},
     "inputWidgets": {},
     "nuid": "beee57f7-f4d1-41db-9125-d506dcefefa2",
     "showTitle": false,
     "tableResultSettingsMap": {},
     "title": ""
    }
   },
   "source": [
    "5. Run the following cell to view the available tables in the development catalog after the job completes (in about 2 minutes).\n",
    "\n",
    "    Notice that the two new tables, **health_bronze_demo03** and **health_silver_demo03**, were created."
   ]
  },
  {
   "cell_type": "code",
   "execution_count": 0,
   "metadata": {
    "application/vnd.databricks.v1+cell": {
     "cellMetadata": {},
     "inputWidgets": {},
     "nuid": "18fc6bd1-c5c5-4fc8-8019-e090f97441a1",
     "showTitle": false,
     "tableResultSettingsMap": {},
     "title": ""
    }
   },
   "outputs": [],
   "source": [
    "spark.sql(f'SHOW TABLES IN {DA.catalog_dev}.default').display()"
   ]
  },
  {
   "cell_type": "markdown",
   "metadata": {
    "application/vnd.databricks.v1+cell": {
     "cellMetadata": {},
     "inputWidgets": {},
     "nuid": "425922a8-d488-4416-806f-83ba19b3d89e",
     "showTitle": false,
     "tableResultSettingsMap": {},
     "title": ""
    }
   },
   "source": [
    "6. Count the number of rows in the **health_bronze_demo03** table in the **user_name_1_dev** catalog. Notice that it contains 7,500 rows, as we are using the development data.\n",
    "\n",
    "    This confirms that our job correctly read from and wrote to the development catalog."
   ]
  },
  {
   "cell_type": "code",
   "execution_count": 0,
   "metadata": {
    "application/vnd.databricks.v1+cell": {
     "cellMetadata": {},
     "inputWidgets": {},
     "nuid": "05b25b08-d902-4951-9ae4-0bede7f0779a",
     "showTitle": false,
     "tableResultSettingsMap": {},
     "title": ""
    }
   },
   "outputs": [],
   "source": [
    "spark.sql(f'''\n",
    "    SELECT count(*) \n",
    "    FROM {DA.catalog_dev}.default.health_bronze_demo03''').display()"
   ]
  },
  {
   "cell_type": "markdown",
   "metadata": {
    "application/vnd.databricks.v1+cell": {
     "cellMetadata": {},
     "inputWidgets": {},
     "nuid": "86b79cbb-efad-4c73-bacc-58dc6d170bf0",
     "showTitle": false,
     "tableResultSettingsMap": {},
     "title": ""
    }
   },
   "source": [
    "### C2. Deploy to the Production Environment\n",
    "Now that we've confirmed the job ran in the development environment let's easily deploy the job to run in our production environment!\n",
    "\n",
    "**NOTE:** Typically when running in production you will want to run the job using a service principal. For more information, check out the [Set a bundle run identity](https://docs.databricks.com/aws/en/dev-tools/bundles/run-as).\n",
    "\n",
    "For demonstration purposes, we are simply running the production job as the user."
   ]
  },
  {
   "cell_type": "markdown",
   "metadata": {
    "application/vnd.databricks.v1+cell": {
     "cellMetadata": {},
     "inputWidgets": {},
     "nuid": "1321b20c-72a9-41c3-b9a3-7939eb4414e4",
     "showTitle": false,
     "tableResultSettingsMap": {},
     "title": ""
    }
   },
   "source": [
    "1. Before we deploy to production let's check (and delete if necessary) the tables in the `<username>_3_prod` catalog. Notice that the tables `health_bronze_demo03` and `health_silver_demo03` are not present in the production catalog."
   ]
  },
  {
   "cell_type": "code",
   "execution_count": 0,
   "metadata": {
    "application/vnd.databricks.v1+cell": {
     "cellMetadata": {},
     "inputWidgets": {},
     "nuid": "f3273538-4c5b-450a-b88b-43ce4c28d1a1",
     "showTitle": false,
     "tableResultSettingsMap": {},
     "title": ""
    }
   },
   "outputs": [],
   "source": [
    "del_table(DA.catalog_prod, 'default', 'health_bronze_demo03')\n",
    "del_table(DA.catalog_prod, 'default', 'health_silver_demo03')\n",
    "\n",
    "spark.sql(f'SHOW TABLES IN {DA.catalog_prod}.default').display()"
   ]
  },
  {
   "cell_type": "markdown",
   "metadata": {
    "application/vnd.databricks.v1+cell": {
     "cellMetadata": {},
     "inputWidgets": {},
     "nuid": "7d6bfc00-c937-49f5-b23f-bbc12fc6abeb",
     "showTitle": false,
     "tableResultSettingsMap": {},
     "title": ""
    }
   },
   "source": [
    "2. Let's view the **production** configurations. Note the following:\n",
    "\n",
    "```YAML\n",
    "  production:\n",
    "    mode: production\n",
    "    workspace:\n",
    "      # host: https://dbc-d9be2316-40bd.cloud.databricks.com/\n",
    "      root_path: /Workspace/Users/${workspace.current_user.userName}/.bundle/${bundle.name}/${bundle.target}\n",
    "\n",
    "    ## Change variable values when in the production environment to use the production catalog username_3_prod\n",
    "    variables:\n",
    "        target_catalog: ${var.catalog_prod}\n",
    "```\n",
    "\n",
    "  - Here, we are modifying the variable `target_catalog` to reference our variable `catalog_prod` that references our production catalog. This overrides the default job parameter in the **./resources/demo_03_job.job.yml** file.\n",
    "\n",
    "  - We are not adding any overrides regarding the cluster to use for our job. Since we do not provide any overrides, it will use the default set in the **./resources/demo_03_job.job.yml** file, which is using Serverless compute."
   ]
  },
  {
   "cell_type": "markdown",
   "metadata": {
    "application/vnd.databricks.v1+cell": {
     "cellMetadata": {},
     "inputWidgets": {},
     "nuid": "857e9f40-8368-41f0-ae82-ce17ff09b38b",
     "showTitle": false,
     "tableResultSettingsMap": {},
     "title": ""
    }
   },
   "source": [
    "3. Let's deploy the bundle to the **production** environment using the specified configurations."
   ]
  },
  {
   "cell_type": "code",
   "execution_count": 0,
   "metadata": {
    "application/vnd.databricks.v1+cell": {
     "cellMetadata": {},
     "inputWidgets": {},
     "nuid": "85236a45-5266-40df-a6b4-2a1b37e66910",
     "showTitle": false,
     "tableResultSettingsMap": {},
     "title": ""
    }
   },
   "outputs": [],
   "source": [
    "%sh\n",
    "databricks bundle deploy -t production"
   ]
  },
  {
   "cell_type": "markdown",
   "metadata": {
    "application/vnd.databricks.v1+cell": {
     "cellMetadata": {},
     "inputWidgets": {},
     "nuid": "837b45d5-7a4a-43fe-9e88-d1ca05fc31f2",
     "showTitle": false,
     "tableResultSettingsMap": {},
     "title": ""
    }
   },
   "source": [
    "4. When the cell above completes (in about a minute), view the deployed job named `production_demo3_dab_<username>`.\n",
    "\n",
    "In the job, check the following:\n",
    "\n",
    "- Select the job tasks and confirm that each task is using Serverless compute.\n",
    "\n",
    "- Find the **Job parameters** section in the right details pane. Note the following values:\n",
    "\n",
    "    **Job parameters**\n",
    "    - **catalog_name** - `<username>_3_prod`\n",
    "    - **display_target** - `production`\n",
    "\n",
    "Recall that we deployed the job in production mode, and it’s using the configuration we specified in the **databricks.yml** file to read from and write to our production catalog, and to use Serverless compute."
   ]
  },
  {
   "cell_type": "markdown",
   "metadata": {
    "application/vnd.databricks.v1+cell": {
     "cellMetadata": {},
     "inputWidgets": {},
     "nuid": "ecac0b69-2e38-479e-8aaf-72f88d8b3b79",
     "showTitle": false,
     "tableResultSettingsMap": {},
     "title": ""
    }
   },
   "source": [
    "5. Run the production job using the Databricks CLI."
   ]
  },
  {
   "cell_type": "code",
   "execution_count": 0,
   "metadata": {
    "application/vnd.databricks.v1+cell": {
     "cellMetadata": {},
     "inputWidgets": {},
     "nuid": "31ad4cae-2461-4a29-8570-6278c74666f7",
     "showTitle": false,
     "tableResultSettingsMap": {},
     "title": ""
    }
   },
   "outputs": [],
   "source": [
    "%sh\n",
    "databricks bundle run -t production demo03_job"
   ]
  },
  {
   "cell_type": "markdown",
   "metadata": {
    "application/vnd.databricks.v1+cell": {
     "cellMetadata": {},
     "inputWidgets": {},
     "nuid": "bf610119-9838-46c7-a0e5-aad3c135e739",
     "showTitle": false,
     "tableResultSettingsMap": {},
     "title": ""
    }
   },
   "source": [
    "6. While the job is running, let's view where the Databricks assets were bundled.\n",
    "\n",
    "    a. In the main navigation bar, right-click on **Workspace** and select *Open in a New Tab*.\n",
    "\n",
    "    b. Navigate to **Workspace > Users > your user name**.\n",
    "\n",
    "    c. Open the **.bundle** folder. Here, you should see the names of the bundles you have deployed (**demo01_bundle** and **demo03_bundle**).\n",
    "\n",
    "    d. Open the deployed **demo03_bundle** (the bundle name we specified in the **databricks.yml** file for this demonstration).\n",
    "\n",
    "    e. Here, we can see that we deployed to the **development** and **production** targets. \n",
    "\n",
    "    f. Select the **production** folder. You will see the **artifacts**, **files**, and **state** folders.\n",
    "\n",
    "    g. Select the **files** folder.\n",
    "\n",
    "    h. Notice that all of the files we deployed have been added to this location for the production mode deployment within the Workspace.\n",
    "\n",
    "    i. Close this tab."
   ]
  },
  {
   "cell_type": "markdown",
   "metadata": {
    "application/vnd.databricks.v1+cell": {
     "cellMetadata": {},
     "inputWidgets": {},
     "nuid": "3849321f-8923-4e54-8b8e-7b348a5b107d",
     "showTitle": false,
     "tableResultSettingsMap": {},
     "title": ""
    }
   },
   "source": [
    "7. By now, the **production** job should be completed. Navigate to the job and confirm it executed successfully."
   ]
  },
  {
   "cell_type": "markdown",
   "metadata": {
    "application/vnd.databricks.v1+cell": {
     "cellMetadata": {},
     "inputWidgets": {},
     "nuid": "f3bc39ce-01a1-4eb0-a904-06c9390817d5",
     "showTitle": false,
     "tableResultSettingsMap": {},
     "title": ""
    }
   },
   "source": [
    "8. Run the following code to view the tables in your `<username>_3_prod` catalog. Notice that the production job created the production tables `health_bronze_demo03` and `health_silver_demo03`."
   ]
  },
  {
   "cell_type": "code",
   "execution_count": 0,
   "metadata": {
    "application/vnd.databricks.v1+cell": {
     "cellMetadata": {},
     "inputWidgets": {},
     "nuid": "4aac2067-5987-4468-a6fa-73a90b96da44",
     "showTitle": false,
     "tableResultSettingsMap": {},
     "title": ""
    }
   },
   "outputs": [],
   "source": [
    "spark.sql(f'SHOW TABLES IN {DA.catalog_prod}.default').display()"
   ]
  },
  {
   "cell_type": "markdown",
   "metadata": {
    "application/vnd.databricks.v1+cell": {
     "cellMetadata": {},
     "inputWidgets": {},
     "nuid": "9df103b0-a26a-4a62-b0d1-77ebe231d9f6",
     "showTitle": false,
     "tableResultSettingsMap": {},
     "title": ""
    }
   },
   "source": [
    "9. Count the number of rows in the `health_bronze_demo03` table in the `<username>_3_prod` catalog. Notice that it contains over 70,692 rows because it's read from the production data and writing to the production catalog."
   ]
  },
  {
   "cell_type": "code",
   "execution_count": 0,
   "metadata": {
    "application/vnd.databricks.v1+cell": {
     "cellMetadata": {},
     "inputWidgets": {},
     "nuid": "e2e5a150-615c-4232-9ab6-b93f8ca79cfc",
     "showTitle": false,
     "tableResultSettingsMap": {},
     "title": ""
    }
   },
   "outputs": [],
   "source": [
    "spark.sql(f'''\n",
    "          SELECT count(*) \n",
    "          FROM {DA.catalog_prod}.default.health_bronze_demo03'''\n",
    "          ).display()"
   ]
  },
  {
   "cell_type": "markdown",
   "metadata": {
    "application/vnd.databricks.v1+cell": {
     "cellMetadata": {},
     "inputWidgets": {},
     "nuid": "4ca90a09-47c2-484b-8981-25acdbac11c8",
     "showTitle": false,
     "tableResultSettingsMap": {},
     "title": ""
    }
   },
   "source": [
    "## D. Destroy the Bundles\n",
    "Lastly since we are finished with this bundle, let's delete it using the `databricks bundle destroy` command.\n",
    "\n",
    "\n",
    "  By default, you are prompted to confirm permanent deletion of the previously-deployed jobs, pipelines, and artifacts. To skip these prompts and perform automatic permanent deletion, add the `--auto-approve` option to the bundle destroy command.\n",
    "\n",
    "  **Warning:** Destroying a bundle permanently deletes a bundle’s previously-deployed jobs, pipelines, and artifacts. This action cannot be undone. For more information view [Destroy the bundle](https://docs.databricks.com/en/dev-tools/bundles/work-tasks.html#step-6-destroy-the-bundle)"
   ]
  },
  {
   "cell_type": "markdown",
   "metadata": {
    "application/vnd.databricks.v1+cell": {
     "cellMetadata": {},
     "inputWidgets": {},
     "nuid": "8acf9331-8458-4f9a-9cb3-de5eadac6545",
     "showTitle": false,
     "tableResultSettingsMap": {},
     "title": ""
    }
   },
   "source": [
    "1. Delete the bundles!"
   ]
  },
  {
   "cell_type": "code",
   "execution_count": 0,
   "metadata": {
    "application/vnd.databricks.v1+cell": {
     "cellMetadata": {},
     "inputWidgets": {},
     "nuid": "41bec9cb-64a4-4977-9657-a9bf43df0dd9",
     "showTitle": false,
     "tableResultSettingsMap": {},
     "title": ""
    }
   },
   "outputs": [],
   "source": [
    "%sh\n",
    "databricks bundle destroy --auto-approve\n",
    "databricks bundle destroy -t production --auto-approve"
   ]
  },
  {
   "cell_type": "markdown",
   "metadata": {
    "application/vnd.databricks.v1+cell": {
     "cellMetadata": {},
     "inputWidgets": {},
     "nuid": "b973be70-6688-40d4-9475-f98dc4d4e463",
     "showTitle": false,
     "tableResultSettingsMap": {},
     "title": ""
    }
   },
   "source": [
    "\n",
    "&copy; 2025 Databricks, Inc. All rights reserved.<br/>\n",
    "Apache, Apache Spark, Spark and the Spark logo are trademarks of the \n",
    "<a href=\"https://www.apache.org/\">Apache Software Foundation</a>.<br/>\n",
    "<br/><a href=\"https://databricks.com/privacy-policy\">Privacy Policy</a> | \n",
    "<a href=\"https://databricks.com/terms-of-use\">Terms of Use</a> | \n",
    "<a href=\"https://help.databricks.com/\">Support</a>"
   ]
  }
 ],
 "metadata": {
  "application/vnd.databricks.v1+notebook": {
   "computePreferences": null,
   "dashboards": [],
   "environmentMetadata": null,
   "inputWidgetPreferences": null,
   "language": "python",
   "notebookMetadata": {},
   "notebookName": "Demo - Deploying a DAB to Multiple Environments",
   "widgets": {}
  },
  "language_info": {
   "name": "python"
  }
 },
 "nbformat": 4,
 "nbformat_minor": 0
}