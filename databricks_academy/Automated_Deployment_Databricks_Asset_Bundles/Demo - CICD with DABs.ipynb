{
 "cells": [
  {
   "cell_type": "markdown",
   "metadata": {
    "application/vnd.databricks.v1+cell": {
     "cellMetadata": {},
     "inputWidgets": {},
     "nuid": "ff9d484b-f0cb-49af-b6cc-2238190cba39",
     "showTitle": false,
     "tableResultSettingsMap": {},
     "title": ""
    }
   },
   "source": [
    "\n",
    "<div style=\"text-align: center; line-height: 0; padding-top: 9px;\">\n",
    "  <img src=\"https://databricks.com/wp-content/uploads/2018/03/db-academy-rgb-1200px.png\" alt=\"Databricks Learning\">\n",
    "</div>\n"
   ]
  },
  {
   "cell_type": "markdown",
   "metadata": {
    "application/vnd.databricks.v1+cell": {
     "cellMetadata": {},
     "inputWidgets": {},
     "nuid": "3b42bb2c-9c51-426d-aa0a-09c9aef64027",
     "showTitle": false,
     "tableResultSettingsMap": {},
     "title": ""
    }
   },
   "source": [
    "# CI/CD with DABs\n",
    "## Overview\n",
    "\n",
    "In this section, we will build on our understanding of DABs and apply our knowledge to a CI/CD workflow.\n",
    "\n",
    "In this lesson, you will learn about continuous deployment using Databricks Asset Bundles (DABs) within a workflow that features a more complex architecture.\n",
    "\n",
    "## Learning Objectives:\n",
    "_By the end of the demonstration, you will be able to do the following:_\n",
    "- Understand how to set variables for a bundle\n",
    "- Perform unit and integration tests with a DLT pipeline by deploying a DAB\n",
    "- Deploy across multiple environments (catalogs): development, staging, and production."
   ]
  },
  {
   "cell_type": "markdown",
   "metadata": {
    "application/vnd.databricks.v1+cell": {
     "cellMetadata": {},
     "inputWidgets": {},
     "nuid": "28dcd0a7-ed56-4aba-8f53-fd9b6fb25d6d",
     "showTitle": false,
     "tableResultSettingsMap": {},
     "title": ""
    }
   },
   "source": [
    "## REQUIRED - SELECT CLASSIC COMPUTE\n",
    "\n",
    "Before executing cells in this notebook, please select your classic compute cluster in the lab. Be aware that **Serverless** is enabled by default.\n",
    "\n",
    "Follow these steps to select the classic compute cluster:\n",
    "\n",
    "1. Navigate to the top-right of this notebook and click the drop-down menu to select your cluster. By default, the notebook will use **Serverless**.\n",
    "\n",
    "1. If your cluster is available, select it and continue to the next cell. If the cluster is not shown:\n",
    "\n",
    "  - In the drop-down, select **More**.\n",
    "\n",
    "  - In the **Attach to an existing compute resource** pop-up, select the first drop-down. You will see a unique cluster name in that drop-down. Please select that cluster.\n",
    "\n",
    "**NOTE:** If your cluster has terminated, you might need to restart it in order to select it. To do this:\n",
    "\n",
    "1. Right-click on **Compute** in the left navigation pane and select *Open in new tab*.\n",
    "\n",
    "1. Find the triangle icon to the right of your compute cluster name and click it.\n",
    "\n",
    "1. Wait a few minutes for the cluster to start.\n",
    "\n",
    "1. Once the cluster is running, complete the steps above to select your cluster."
   ]
  },
  {
   "cell_type": "markdown",
   "metadata": {
    "application/vnd.databricks.v1+cell": {
     "cellMetadata": {},
     "inputWidgets": {},
     "nuid": "fbe0ba85-c99d-416d-b434-74d44bcfa5fd",
     "showTitle": false,
     "tableResultSettingsMap": {},
     "title": ""
    }
   },
   "source": [
    "## A. Classroom Setup\n",
    "\n",
    "Run the following cell to configure your working environment for this course. \n",
    "\n",
    "**NOTE:** The `DA` object is only used in Databricks Academy courses and is not available outside of these courses. It will dynamically reference the information needed to run the course."
   ]
  },
  {
   "cell_type": "code",
   "execution_count": 0,
   "metadata": {
    "application/vnd.databricks.v1+cell": {
     "cellMetadata": {},
     "inputWidgets": {},
     "nuid": "a2b970f3-3a72-4db7-a0c7-c87d62afdafb",
     "showTitle": false,
     "tableResultSettingsMap": {},
     "title": ""
    }
   },
   "outputs": [],
   "source": [
    "%run ../Includes/Classroom-Setup-06"
   ]
  },
  {
   "cell_type": "markdown",
   "metadata": {
    "application/vnd.databricks.v1+cell": {
     "cellMetadata": {},
     "inputWidgets": {},
     "nuid": "3a73b663-566d-4a6a-83fa-f7d9a25c4d50",
     "showTitle": false,
     "tableResultSettingsMap": {},
     "title": ""
    }
   },
   "source": [
    "## IMPORTANT LAB INFORMATION\n",
    "\n",
    "Recall that your credentials are stored in a file when running [0 - REQUIRED - Course Setup and Authentication]($../0 - REQUIRED - Course Setup and Authentication).\n",
    "\n",
    "If you end your lab or your lab session times out, your environment will be reset.\n",
    "\n",
    "If you encounter an error regarding unavailable catalogs or if your Databricks CLI is not authenticated, you will need to rerun the [0 - REQUIRED - Course Setup and Authentication]($../0 - REQUIRED - Course Setup and Authentication) notebook to recreate the catalogs and your Databricks CLI credentials.\n",
    "\n",
    "**Use classic compute to use the CLI through a notebook.**"
   ]
  },
  {
   "cell_type": "markdown",
   "metadata": {
    "application/vnd.databricks.v1+cell": {
     "cellMetadata": {},
     "inputWidgets": {},
     "nuid": "e9d2abd3-5d02-4d23-b236-6c9b7520437d",
     "showTitle": false,
     "tableResultSettingsMap": {},
     "title": ""
    }
   },
   "source": [
    "Run the Databricks CLI command below to confirm the Databricks CLI is authenticated.\n",
    "\n",
    "<br></br>\n",
    "##### DATABRICKS CLI ERROR TROUBLESHOOTING:\n",
    "  - If you encounter an Databricks CLI authentication error, it means you haven't created the PAT token specified in notebook **0 - REQUIRED - Course Setup and Authentication**. You will need to set up Databricks CLI authentication as shown in that notebook.\n",
    "\n",
    "  - If you encounter the error below, it means your `databricks.yml` file is invalid due to a modification. Even for non-DAB CLI commands, the `databricks.yml` file is still required, as it may contain important authentication details, such as the host and profile, which are utilized by the CLI commands.\n",
    "\n",
    "![CLI Invalid YAML](../Includes/images/databricks_cli_error_invalid_yaml.png)"
   ]
  },
  {
   "cell_type": "code",
   "execution_count": 0,
   "metadata": {
    "application/vnd.databricks.v1+cell": {
     "cellMetadata": {},
     "inputWidgets": {},
     "nuid": "e4bf65d4-7de6-4317-b504-330ca301d862",
     "showTitle": false,
     "tableResultSettingsMap": {},
     "title": ""
    }
   },
   "outputs": [],
   "source": [
    "%sh\n",
    "databricks catalogs list"
   ]
  },
  {
   "cell_type": "markdown",
   "metadata": {
    "application/vnd.databricks.v1+cell": {
     "cellMetadata": {},
     "inputWidgets": {},
     "nuid": "bad0d74d-8d61-45e0-935d-4c24e62e65c1",
     "showTitle": false,
     "tableResultSettingsMap": {},
     "title": ""
    }
   },
   "source": [
    "## B. Inspect Pre-Configured YAML Files\n",
    "\n",
    "Our goal is to deploy our project to the **dev**, **stage** and **prod** environments for our CI/CD pipeline. In this example, the project is a simple workflow that contains unit tests, a DLT pipeline and a notebook visualization. \n",
    "\n",
    "![Workflow](./images/06_Final_Workflow_Desc.png)\n",
    "\n",
    "\n",
    "**NOTE:** In this advanced-level course, we assume prerequisites of essential DevOps concepts like code modularization, custom Python functions, unit testing with pytest, and integration tests with DLT. For more information on these topics, you can review the Databricks course: **DevOps Essentials for Data Engineering**. We will briefly explore each of these here, but will not spend much time on those fundamentals. The focus of this course is deployment with Databricks Asset Bundles.\n",
    "\n",
    "\n"
   ]
  },
  {
   "cell_type": "markdown",
   "metadata": {
    "application/vnd.databricks.v1+cell": {
     "cellMetadata": {},
     "inputWidgets": {},
     "nuid": "2fc3fef7-b3d3-49e1-ac9a-7148e9a2d4d3",
     "showTitle": false,
     "tableResultSettingsMap": {},
     "title": ""
    }
   },
   "source": [
    "Let's explore our project folder called **Full Project**. This folder contains all of our Databricks resources to deploy.\n",
    "\n",
    "You will find the following in the root folder:\n",
    "\n",
    "  - **src**\n",
    "  - **resources**\n",
    "  - **databricks.yml**\n",
    "  - **tests**\n",
    "\n",
    "1. In a new tab, open the **databricks.yml**.\n",
    "\n",
    "    - It begins by defining the bundle name under the **bundle** mapping.\n",
    "    \n",
    "    - Then it defines the resources to include under the **include** mapping. All the YAML configuration files are in the **resources** folder.\n",
    "\n",
    "    - Under the **targets** top-level mapping, you will see three defined targets and a variety of configuration specifics for each: development, stage, and production.\n",
    "        - All three targets have a `root_path`.\n",
    "        - All three targets have specific configurations.\n",
    "        - The target environments **stage** and **production** will have additional variables that we need to configure, such as `target_catalog` and `raw_data_path` to specify the correct data.\n",
    "\n",
    "\n",
    "2. In the new tab open **resources**. \n",
    "\n",
    "    - Here, you will find two folders: **job** and **pipeline**.\n",
    "\n",
    "    - Click on the YAML file named **variables.yml**. You will find a pre-defined variables for the resources to be deployed when deploying the bundle. These include things like the job name, notebook paths, and parameters to pass to the notebooks.\n",
    "\n",
    "    - The **health_etl_pipeline.pipeline.yml** file (located in the **pipeline** folder) describes the DLT pipeline configuration.\n",
    "\n",
    "    - The **dabs_workflow.job.yml** file (located in the **job** folder) describes the different tasks that will be created. Notice that there are 3 tasks: **Unit_Tests**, **Visualization**, and **Health_ETL**. While **Health_ETL** is listed after **Visualization**, it depends on **Unit_Tests**. The order of the tasks doesn't matter, as the `depends_on` key configures the dependencies.\n",
    "\n",
    "3. In the new tab navigate back to **src** in the root folder. This folder contains other folders and notebooks that are called from the YAML files you inspected in the previous steps. These notebooks will be chained together as part of the workflow we will deploy below.\n",
    "\n",
    "    - **dlt_pipelines**: This folder contains two DLT notebooks (**gold_tables_dlt** and **ingests-bronze-silver_dlt**). You can inspect these notebooks to understand their role in the **Health_ETL** workflow.\n",
    "    \n",
    "    - **Final Visualization**: This notebook will be the final task in our workflow. It creates a stacked bar chart of cholesterol distribution by age group.\n",
    "\n",
    "    - **helpers**: Contains a .py file with custom python methods for the transformation of the data in the DLT pipeline."
   ]
  },
  {
   "cell_type": "markdown",
   "metadata": {
    "application/vnd.databricks.v1+cell": {
     "cellMetadata": {},
     "inputWidgets": {},
     "nuid": "9dc5c0e0-de3f-40b2-a3d7-cedafe3852d8",
     "showTitle": false,
     "tableResultSettingsMap": {},
     "title": ""
    }
   },
   "source": [
    "## C. Explore and Update YAML Configuration Files\n",
    "We will update our YAML files to better understand how to point to the assets and variables needed to configure the bundle before validation using the Databricks CLI."
   ]
  },
  {
   "cell_type": "markdown",
   "metadata": {
    "application/vnd.databricks.v1+cell": {
     "cellMetadata": {},
     "inputWidgets": {},
     "nuid": "fe41867b-c3a5-4df8-b979-db1ae3ed3a20",
     "showTitle": false,
     "tableResultSettingsMap": {},
     "title": ""
    }
   },
   "source": [
    "### C1: Explore the databricks.yml Configuration\n",
    "\n",
    "Recall that to use a variable called `my_variable` in a bundle, refer to it using `${var.my_variable}`.\n",
    "\n",
    "#### Instructions\n",
    "\n",
    "1. Navigate to the folder named **Full Project**.\n",
    "   \n",
    "2. Click on the file **databricks.yml** and explore the bundle configuration.\n",
    "\n",
    "3. Locate the mapping **targets**. \n",
    "   - Each target is a unique collection of artifacts, Databricks workspace settings, and Databricks job or pipeline details.\n",
    "   - The targets mapping consists of one or more target mappings, which must each have a unique programmatic (or logical) name.\n",
    "\n",
    "4. Locate the **development** target and examine the configuration. Notice the following:\n",
    "   - The value for `default` is set to `True`.\n",
    "   - The value for `existing_cluster_id` uses the variable `cluster_id`.\n",
    "   - The **tasks** are set to use our lab compute cluster.\n",
    "\n",
    "5. Locate the **stage** target and examine the configuration. Notice the following:\n",
    "   - The `target_catalog` variable uses the variable `catalog_stage`.\n",
    "   - The `raw_data_path` variable uses the volume `health` in `catalog_stage`.\n",
    "   - The **tasks** are set to use our lab compute cluster.\n",
    "\n",
    "6. Locate the **production** target and examine the configuration. Notice the following:\n",
    "   - The `target_catalog` variable uses the variable `catalog_stage`.\n",
    "   - The `raw_data_path` variable uses the volume `health` in `catalog_stage`.\n",
    "   - No compute cluster is specified for the job. The default compute will use Serverless in production.\n"
   ]
  },
  {
   "cell_type": "code",
   "execution_count": 0,
   "metadata": {
    "application/vnd.databricks.v1+cell": {
     "cellMetadata": {},
     "inputWidgets": {},
     "nuid": "c8f7c4b6-699f-4ecf-87fd-6cf68e29ba6a",
     "showTitle": false,
     "tableResultSettingsMap": {},
     "title": ""
    }
   },
   "outputs": [],
   "source": [
    "print(f'Your user name: {DA.catalog_name}')"
   ]
  },
  {
   "cell_type": "markdown",
   "metadata": {
    "application/vnd.databricks.v1+cell": {
     "cellMetadata": {},
     "inputWidgets": {},
     "nuid": "a8695225-3aa6-4447-a0ad-a6f8b27e2df0",
     "showTitle": false,
     "tableResultSettingsMap": {},
     "title": ""
    }
   },
   "source": [
    "### C2: Update **variables.yml**\n",
    "\n",
    "Next, we will update the file **variables.yml**.\n",
    "\n",
    "#### Instructions\n",
    "\n",
    "1. Navigate to the **resources** folder.\n",
    "\n",
    "2. Click on the file **variables.yml**.\n",
    "\n",
    "3. Fill in the following details for the variables:\n",
    "\n",
    "   - **TO DO**: `username`: Add your username here. Your username can be found in the cell above for your lab.\n",
    "      - Use `${workspace.current_user.short_name}`\n",
    "\n",
    "   - **TO DO**: `my_email`: Enter your email address here. This will be used to send notifications.\n",
    "      - Use your email address\n",
    "\n",
    "   - **TO DO**: `cluster_id`: \n",
    "      - You can use the `lookup` function with your username to obtain the cluster ID value.\n",
    "      - Paste the value from cell 13 for the lookup cluster id variable\n",
    "\n",
    "---\n",
    "\n",
    "**NOTES:**\n",
    "1. The file **variables_solution.yml** contains an example solution in case you need help.\n",
    "\n",
    "2. In the Vocareum environment, all catalogs, clusters, and usernames match and have no spaces by default. If using this method outside the Vocareum environment, be cautious."
   ]
  },
  {
   "cell_type": "markdown",
   "metadata": {
    "application/vnd.databricks.v1+cell": {
     "cellMetadata": {},
     "inputWidgets": {},
     "nuid": "5c39e890-57d1-42bb-a71e-c31acc5145f0",
     "showTitle": false,
     "tableResultSettingsMap": {},
     "title": ""
    }
   },
   "source": [
    "### D. Visualizing the Bundle's Assets\n",
    "\n",
    "Here we will look at how to manually update our YAML files to help get acquainted with the setup. Since we are bringing in a pre-configured bundle, it's worth looking at the structure of files we'll be interacting with. Below is a diagram representing how the variables for the development catalog will be used. \n",
    "\n",
    "![Full DLT Pipeline](./images/06_img1.png)"
   ]
  },
  {
   "cell_type": "markdown",
   "metadata": {
    "application/vnd.databricks.v1+cell": {
     "cellMetadata": {},
     "inputWidgets": {},
     "nuid": "b53b0a79-e086-40c0-8588-8378cb62bb20",
     "showTitle": false,
     "tableResultSettingsMap": {},
     "title": ""
    }
   },
   "source": [
    "## E. Notebook Execution\n",
    "\n",
    "Now that we are familiar with the various folders and files that make up our bundle, let's make sure the CLI is installed by authenticating."
   ]
  },
  {
   "cell_type": "markdown",
   "metadata": {
    "application/vnd.databricks.v1+cell": {
     "cellMetadata": {},
     "inputWidgets": {},
     "nuid": "27658b55-d81b-47a0-a871-7514d662cde9",
     "showTitle": false,
     "tableResultSettingsMap": {},
     "title": "--i18n-d0b9eb16-9b01-11ee-b9d1-0242ac120002"
    }
   },
   "source": [
    "\n",
    "### Databricks CLI Authentication\n",
    "\n",
    "Usually, you would need to set up authentication for the CLI. However, in this training environment, that has already been taken care of for you.\n",
    "\n",
    "Verify the credentials by executing the following cell, which displays the contents of the `/Users` workspace directory."
   ]
  },
  {
   "cell_type": "code",
   "execution_count": 0,
   "metadata": {
    "application/vnd.databricks.v1+cell": {
     "cellMetadata": {},
     "inputWidgets": {},
     "nuid": "1eb82cdc-f413-4d03-9d0c-494eeadd44a0",
     "showTitle": false,
     "tableResultSettingsMap": {},
     "title": ""
    }
   },
   "outputs": [],
   "source": [
    "%sh databricks workspace list /Users"
   ]
  },
  {
   "cell_type": "markdown",
   "metadata": {
    "application/vnd.databricks.v1+cell": {
     "cellMetadata": {},
     "inputWidgets": {},
     "nuid": "2d0514fa-20bd-4968-95cd-e2b8057d520a",
     "showTitle": false,
     "tableResultSettingsMap": {},
     "title": ""
    }
   },
   "source": [
    "### E1. Development Bundle\n",
    "\n",
    "Here is what the configuration of our target mapping for development looks like in the databricks.yml file. \n",
    "```YAML\n",
    "targets:\n",
    "\n",
    "  development:\n",
    "    mode: development\n",
    "    default: true\n",
    "    # In Development, we will use classic compute for our tasks \n",
    "    resources:\n",
    "      jobs:\n",
    "        health_etl_workflow:    \n",
    "          name: health_etl_workflow_${bundle.target} \n",
    "          tasks:\n",
    "            - task_key: Unit_Tests\n",
    "              existing_cluster_id: ${var.cluster_id}\n",
    "            - task_key: Visualization\n",
    "              existing_cluster_id: ${var.cluster_id}\n",
    "    workspace:\n",
    "      root_path: /Workspace/Users/${workspace.current_user.userName}/.bundle/${bundle.name}/${bundle.target}\n",
    "...\n",
    "```\n",
    "\n",
    "**NOTE:** Recall that with **development** and **stage** target environments we are using a mix of serverless and classic compute at the task level."
   ]
  },
  {
   "cell_type": "markdown",
   "metadata": {
    "application/vnd.databricks.v1+cell": {
     "cellMetadata": {},
     "inputWidgets": {},
     "nuid": "c58ab3cd-0d67-4e56-afe7-7df85e59ec13",
     "showTitle": false,
     "tableResultSettingsMap": {},
     "title": ""
    }
   },
   "source": [
    "To validate the bundle, run the following cell. This uses all the default values from **variables.yml** (see diagram above)."
   ]
  },
  {
   "cell_type": "code",
   "execution_count": 0,
   "metadata": {
    "application/vnd.databricks.v1+cell": {
     "cellMetadata": {},
     "inputWidgets": {},
     "nuid": "958a28b9-6df6-4c70-8380-5bc2d85c51f5",
     "showTitle": true,
     "tableResultSettingsMap": {},
     "title": "Validate Development"
    }
   },
   "outputs": [],
   "source": [
    "%sh \n",
    "cd \"Full Project\" \n",
    "pwd;\n",
    "databricks bundle validate -t development"
   ]
  },
  {
   "cell_type": "markdown",
   "metadata": {
    "application/vnd.databricks.v1+cell": {
     "cellMetadata": {},
     "inputWidgets": {},
     "nuid": "99c62f63-aeb2-4908-b2df-eaca002a0786",
     "showTitle": false,
     "tableResultSettingsMap": {},
     "title": ""
    }
   },
   "source": [
    "After the development target validates, deploy the bundle to the development environment."
   ]
  },
  {
   "cell_type": "code",
   "execution_count": 0,
   "metadata": {
    "application/vnd.databricks.v1+cell": {
     "cellMetadata": {},
     "inputWidgets": {},
     "nuid": "e0be4f8e-ce1c-4824-809d-935efe6d1cac",
     "showTitle": true,
     "tableResultSettingsMap": {},
     "title": "Deploy to Development"
    }
   },
   "outputs": [],
   "source": [
    "%sh\n",
    "cd \"Full Project\" \n",
    "databricks bundle deploy -t development"
   ]
  },
  {
   "cell_type": "markdown",
   "metadata": {
    "application/vnd.databricks.v1+cell": {
     "cellMetadata": {},
     "inputWidgets": {},
     "nuid": "4c4a26e0-2ca2-4f27-9a7a-bf403e7bd0c5",
     "showTitle": false,
     "tableResultSettingsMap": {},
     "title": ""
    }
   },
   "source": [
    "To run the bundle, using the Databricks CLI, run the following cell. This is the name of the job. Note that the job will show `[dev <username>] health_etl_workflow_<target>` within **Workflows**. \n",
    "\n",
    "This makes sense when you refer back to the structure of the **dabs_workflow.job.yml** file located in **resources**: \n",
    "```YAML\n",
    "resources:\n",
    "  jobs:\n",
    "    health_etl_workflow: # <----- Name of job to run\n",
    "      name: health_etl_workflow${bundle.target}\n",
    "      description: Final Workflow SDK\n",
    "```"
   ]
  },
  {
   "cell_type": "code",
   "execution_count": 0,
   "metadata": {
    "application/vnd.databricks.v1+cell": {
     "cellMetadata": {},
     "inputWidgets": {},
     "nuid": "d13b928c-dcbb-452f-9d39-2d647fae7a5e",
     "showTitle": true,
     "tableResultSettingsMap": {},
     "title": "Run Bundle in Development"
    }
   },
   "outputs": [],
   "source": [
    "%sh\n",
    "cd \"Full Project\" \n",
    "databricks bundle run health_etl_workflow"
   ]
  },
  {
   "cell_type": "markdown",
   "metadata": {
    "application/vnd.databricks.v1+cell": {
     "cellMetadata": {},
     "inputWidgets": {},
     "nuid": "413dca82-62c7-48be-9606-14dd2f8f2185",
     "showTitle": false,
     "tableResultSettingsMap": {},
     "title": ""
    }
   },
   "source": [
    "#### Summary - Development\n",
    "While the job is running, examine the tasks when using the **development** target. Note the following:\n",
    "- Unit tests passed\n",
    "- DLT pipeline ETL and integration tests passed on a small sample of 7,500 rows of dev data.\n",
    "- Visualization was created using the small sample of 7,500 rows of dev data."
   ]
  },
  {
   "cell_type": "markdown",
   "metadata": {
    "application/vnd.databricks.v1+cell": {
     "cellMetadata": {},
     "inputWidgets": {},
     "nuid": "d4aa04f8-55a1-4133-9f58-134b1317aaa9",
     "showTitle": false,
     "tableResultSettingsMap": {},
     "title": ""
    }
   },
   "source": [
    "### E2. Staging Bundle\n",
    "\n",
    "Here is what the configuration of our target mapping for stage looks like in the databricks.yml file.\n",
    "```YAML\n",
    "  ...\n",
    "\n",
    "  stage:\n",
    "    mode: development\n",
    "      # In stage, we will use classic compute for our tasks \n",
    "    resources:\n",
    "      jobs:\n",
    "        health_etl_workflow:   \n",
    "          name: health_etl_workflow_${bundle.target}  \n",
    "          tasks:\n",
    "            - task_key: Unit_Tests\n",
    "              existing_cluster_id: ${var.cluster_id}\n",
    "            - task_key: Visualization\n",
    "              existing_cluster_id: ${var.cluster_id}\n",
    "    workspace:\n",
    "      root_path: /Workspace/Users/${workspace.current_user.userName}/.bundle/${bundle.name}/${bundle.target}\n",
    "    variables:\n",
    "      target_catalog: ${var.catalog_stage}\n",
    "      raw_data_path: /Volumes/${var.catalog_stage}/default/health\n",
    "```\n",
    "\n",
    "<br></br>\n",
    "\n",
    "Imagine you've reviewed your code, analyzed coverage, etc., and are ready to deploy and test in a staging environment. DABs simplifies this by adjusting a few parameter values. Run the following cells to validate, deploy, and run with `stage` as the target.\n",
    "\n",
    "<br></br>\n",
    "\n",
    "In this example, since `target_catalog` and `raw_data_path` have default values, we can override them when deploying to other targets like stage within the **targets** mapping. This specifies reading data from the staging catalog.\n",
    "\n",
    "\n",
    "#### BONUS\n",
    "You can also override variable values through the Databricks CLI for DABs. For example, you can run `databricks bundle validate --var=\"target_catalog=<username>_2_stage\" -t stage`. Keep in mind this will just reproduce the same job you went through a moment ago."
   ]
  },
  {
   "cell_type": "code",
   "execution_count": 0,
   "metadata": {
    "application/vnd.databricks.v1+cell": {
     "cellMetadata": {},
     "inputWidgets": {},
     "nuid": "7f42a30e-5fd1-4007-b36b-1acdc160fc86",
     "showTitle": true,
     "tableResultSettingsMap": {},
     "title": "Validate Staging"
    }
   },
   "outputs": [],
   "source": [
    "%sh\n",
    "cd \"Full Project\" \n",
    "databricks bundle validate -t stage"
   ]
  },
  {
   "cell_type": "code",
   "execution_count": 0,
   "metadata": {
    "application/vnd.databricks.v1+cell": {
     "cellMetadata": {},
     "inputWidgets": {},
     "nuid": "208531ee-fc4c-4872-9c8a-07c823d14104",
     "showTitle": true,
     "tableResultSettingsMap": {},
     "title": "Deploy to Staging"
    }
   },
   "outputs": [],
   "source": [
    "%sh\n",
    "cd \"Full Project\" \n",
    "databricks bundle deploy -t stage"
   ]
  },
  {
   "cell_type": "code",
   "execution_count": 0,
   "metadata": {
    "application/vnd.databricks.v1+cell": {
     "cellMetadata": {},
     "inputWidgets": {},
     "nuid": "105e5478-cacf-44f2-9897-25410bd93345",
     "showTitle": true,
     "tableResultSettingsMap": {},
     "title": "Run Bundle in Staging"
    }
   },
   "outputs": [],
   "source": [
    "%sh\n",
    "cd \"Full Project\" \n",
    "databricks bundle run health_etl_workflow -t stage"
   ]
  },
  {
   "cell_type": "markdown",
   "metadata": {
    "application/vnd.databricks.v1+cell": {
     "cellMetadata": {},
     "inputWidgets": {},
     "nuid": "706c5259-eaae-4f3a-a7da-d4d512d19646",
     "showTitle": false,
     "tableResultSettingsMap": {},
     "title": ""
    }
   },
   "source": [
    "#### Summary - Stage\n",
    "While the job is running, examine the tasks when using the **development** target. Note the following:\n",
    "- Unit tests passed\n",
    "- DLT pipeline ETL and integration tests passed on a small sample of 35,000 rows of dev data.\n",
    "- Visualization was created using the small sample of 35,000 rows of dev data."
   ]
  },
  {
   "cell_type": "markdown",
   "metadata": {
    "application/vnd.databricks.v1+cell": {
     "cellMetadata": {},
     "inputWidgets": {},
     "nuid": "abfc9d01-d9a3-4cc7-80b4-100772bf44f7",
     "showTitle": false,
     "tableResultSettingsMap": {},
     "title": ""
    }
   },
   "source": [
    "### E3. Production\n",
    "Here is what the configuration of our target mapping for production looks like in the databricks.yml file.\n",
    "```YAML\n",
    "  production:\n",
    "    mode: production\n",
    "    workspace:\n",
    "      # host: can change host if isolating by workspace\n",
    "      root_path: /Workspace/Users/${workspace.current_user.userName}/.bundle/${bundle.name}/${bundle.target}\n",
    "    variables:\n",
    "      target_catalog: ${var.catalog_prod}\n",
    "      raw_data_path: /Volumes/${var.catalog_prod}/default/health\n",
    "```\n",
    "\n",
    "Here, we'll repeat the same bash commands using `%sh`. However, note that all production compute will run on serverless instead of classic compute, as we're not overriding the default compute.\n",
    "\n",
    "You can verify this by deploying the job and inspecting the tasks.\n"
   ]
  },
  {
   "cell_type": "code",
   "execution_count": 0,
   "metadata": {
    "application/vnd.databricks.v1+cell": {
     "cellMetadata": {},
     "inputWidgets": {},
     "nuid": "7255e934-19cf-4d70-a956-6fdd856e9cb5",
     "showTitle": true,
     "tableResultSettingsMap": {},
     "title": "Validate Production"
    }
   },
   "outputs": [],
   "source": [
    "%sh\n",
    "cd \"Full Project\" \n",
    "databricks bundle validate -t production"
   ]
  },
  {
   "cell_type": "code",
   "execution_count": 0,
   "metadata": {
    "application/vnd.databricks.v1+cell": {
     "cellMetadata": {},
     "inputWidgets": {},
     "nuid": "0ae6b869-dc97-457f-9cdc-7c457cb31db8",
     "showTitle": true,
     "tableResultSettingsMap": {},
     "title": "Deploy to Production"
    }
   },
   "outputs": [],
   "source": [
    "%sh\n",
    "cd \"Full Project\" \n",
    "databricks bundle deploy -t production"
   ]
  },
  {
   "cell_type": "code",
   "execution_count": 0,
   "metadata": {
    "application/vnd.databricks.v1+cell": {
     "cellMetadata": {},
     "inputWidgets": {},
     "nuid": "15077902-b073-403a-ab14-052934e8096c",
     "showTitle": true,
     "tableResultSettingsMap": {},
     "title": "Run Bundle in Production"
    }
   },
   "outputs": [],
   "source": [
    "%sh\n",
    "cd \"Full Project\" \n",
    "databricks bundle run health_etl_workflow -t production"
   ]
  },
  {
   "cell_type": "markdown",
   "metadata": {
    "application/vnd.databricks.v1+cell": {
     "cellMetadata": {},
     "inputWidgets": {},
     "nuid": "88f089b8-724d-475b-a482-3bd0b90bdf46",
     "showTitle": false,
     "tableResultSettingsMap": {},
     "title": ""
    }
   },
   "source": [
    "## E4. Destroy all bundles"
   ]
  },
  {
   "cell_type": "code",
   "execution_count": 0,
   "metadata": {
    "application/vnd.databricks.v1+cell": {
     "cellMetadata": {},
     "inputWidgets": {},
     "nuid": "caa66ee8-711d-4bf3-9786-12dd23cd0905",
     "showTitle": false,
     "tableResultSettingsMap": {},
     "title": ""
    }
   },
   "outputs": [],
   "source": [
    "%sh\n",
    "cd \"Full Project\";\n",
    "databricks bundle destroy -t development --auto-approve;\n",
    "databricks bundle destroy -t stage --auto-approve;\n",
    "databricks bundle destroy -t production --auto-approve;"
   ]
  },
  {
   "cell_type": "markdown",
   "metadata": {
    "application/vnd.databricks.v1+cell": {
     "cellMetadata": {},
     "inputWidgets": {},
     "nuid": "2a714f95-df74-4332-ac3c-33d5645ab684",
     "showTitle": false,
     "tableResultSettingsMap": {},
     "title": ""
    }
   },
   "source": [
    "# Next Steps\n",
    "\n",
    "![ci_cd](./images/ci_cd_overview.png)\n",
    "Think about how you can use DABs to accelerate development by designing programmatic management of your workflows. With DABs you can create, manage, and deploy your different assets and artifacts in a consistent and repeatable manner for CI/CD workflows. You can continue to learn about DABs by completing the next lab, where you will have a chance to practice attaching a machine learning model to your workflow as a part of the Dev workflow."
   ]
  },
  {
   "cell_type": "markdown",
   "metadata": {
    "application/vnd.databricks.v1+cell": {
     "cellMetadata": {},
     "inputWidgets": {},
     "nuid": "affa5c37-1443-4ca1-82d1-979613d8a109",
     "showTitle": false,
     "tableResultSettingsMap": {},
     "title": ""
    }
   },
   "source": [
    "\n",
    "&copy; 2025 Databricks, Inc. All rights reserved.<br/>\n",
    "Apache, Apache Spark, Spark and the Spark logo are trademarks of the \n",
    "<a href=\"https://www.apache.org/\">Apache Software Foundation</a>.<br/>\n",
    "<br/><a href=\"https://databricks.com/privacy-policy\">Privacy Policy</a> | \n",
    "<a href=\"https://databricks.com/terms-of-use\">Terms of Use</a> | \n",
    "<a href=\"https://help.databricks.com/\">Support</a>"
   ]
  }
 ],
 "metadata": {
  "application/vnd.databricks.v1+notebook": {
   "computePreferences": null,
   "dashboards": [],
   "environmentMetadata": null,
   "inputWidgetPreferences": null,
   "language": "python",
   "notebookMetadata": {},
   "notebookName": "Demo - CICD with DABs",
   "widgets": {}
  },
  "language_info": {
   "name": "python"
  }
 },
 "nbformat": 4,
 "nbformat_minor": 0
}