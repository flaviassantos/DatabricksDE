{
 "cells": [
  {
   "cell_type": "markdown",
   "metadata": {
    "application/vnd.databricks.v1+cell": {
     "cellMetadata": {},
     "inputWidgets": {},
     "nuid": "b2cbc3b2-f089-439f-8197-1476d3d5c4b4",
     "showTitle": false,
     "tableResultSettingsMap": {},
     "title": ""
    }
   },
   "source": [
    "\n",
    "<div style=\"text-align: center; line-height: 0; padding-top: 9px;\">\n",
    "  <img src=\"https://databricks.com/wp-content/uploads/2018/03/db-academy-rgb-1200px.png\" alt=\"Databricks Learning\">\n",
    "</div>\n"
   ]
  },
  {
   "cell_type": "markdown",
   "metadata": {
    "application/vnd.databricks.v1+cell": {
     "cellMetadata": {},
     "inputWidgets": {},
     "nuid": "b2b7e47f-640d-4e6d-b4eb-fa5431a9c390",
     "showTitle": false,
     "tableResultSettingsMap": {},
     "title": ""
    }
   },
   "source": [
    "# 01 - Deploying a Simple Databricks Asset Bundle (DABs)\n",
    "\n",
    "\n",
    "In this demonstration, we will create a simple job, examine its YAML configuration, and then learn how to validate, deploy, and run the job using DABs (Databricks Asset Bundles) to the development environment.\n",
    "\n",
    "### Objectives\n",
    "- Explain the purpose of the databricks.yml configuration file in the context of DABs.\n",
    "- Identify key components in the YAML configuration of a DAB.\n",
    "- Validate, deploy, and execute a job using a DAB."
   ]
  },
  {
   "cell_type": "markdown",
   "metadata": {
    "application/vnd.databricks.v1+cell": {
     "cellMetadata": {},
     "inputWidgets": {},
     "nuid": "74ebb87f-3091-4a08-b295-0127afb4a90a",
     "showTitle": false,
     "tableResultSettingsMap": {},
     "title": ""
    }
   },
   "source": [
    "## REQUIRED - SELECT CLASSIC COMPUTE\n",
    "\n",
    "Before executing cells in this notebook, please select your classic compute cluster in the lab. Be aware that **Serverless** is enabled by default.\n",
    "\n",
    "Follow these steps to select the classic compute cluster:\n",
    "\n",
    "1. Navigate to the top-right of this notebook and click the drop-down menu to select your cluster. By default, the notebook will use **Serverless**.\n",
    "\n",
    "1. If your cluster is available, select it and continue to the next cell. If the cluster is not shown:\n",
    "\n",
    "  - In the drop-down, select **More**.\n",
    "\n",
    "  - In the **Attach to an existing compute resource** pop-up, select the first drop-down. You will see a unique cluster name in that drop-down. Please select that cluster.\n",
    "\n",
    "**NOTE:** If your cluster has terminated, you might need to restart it in order to select it. To do this:\n",
    "\n",
    "1. Right-click on **Compute** in the left navigation pane and select *Open in new tab*.\n",
    "\n",
    "1. Find the triangle icon to the right of your compute cluster name and click it.\n",
    "\n",
    "1. Wait a few minutes for the cluster to start.\n",
    "\n",
    "1. Once the cluster is running, complete the steps above to select your cluster."
   ]
  },
  {
   "cell_type": "markdown",
   "metadata": {
    "application/vnd.databricks.v1+cell": {
     "cellMetadata": {},
     "inputWidgets": {},
     "nuid": "2d6b1dbb-e5cc-4f4d-995c-b170b836d6af",
     "showTitle": false,
     "tableResultSettingsMap": {},
     "title": ""
    }
   },
   "source": [
    "## A. Classroom Setup\n",
    "\n",
    "Run the following cell to configure your working environment for this course.\n",
    "\n",
    "**NOTE:** The `DA` object is only used in Databricks Academy courses and is not available outside of these courses. It will dynamically reference the information needed to run the course."
   ]
  },
  {
   "cell_type": "code",
   "execution_count": 0,
   "metadata": {
    "application/vnd.databricks.v1+cell": {
     "cellMetadata": {},
     "inputWidgets": {},
     "nuid": "890c8b01-0098-4fc9-ade9-2c48c1d1ff43",
     "showTitle": false,
     "tableResultSettingsMap": {},
     "title": ""
    }
   },
   "outputs": [],
   "source": [
    "%run ../Includes/Classroom-Setup-01"
   ]
  },
  {
   "cell_type": "markdown",
   "metadata": {
    "application/vnd.databricks.v1+cell": {
     "cellMetadata": {},
     "inputWidgets": {},
     "nuid": "6991eb6c-9263-4f46-aa37-4e3ba602be4f",
     "showTitle": false,
     "tableResultSettingsMap": {},
     "title": ""
    }
   },
   "source": [
    "## IMPORTANT LAB INFORMATION\n",
    "\n",
    "Recall that your credentials are stored in a file when running [0 - REQUIRED - Course Setup and Authentication]($../0 - REQUIRED - Course Setup and Authentication).\n",
    "\n",
    "If you end your lab or your lab session times out, your environment will be reset.\n",
    "\n",
    "If you encounter an error regarding unavailable catalogs or if your Databricks CLI is not authenticated, you will need to rerun the [0 - REQUIRED - Course Setup and Authentication]($../0 - REQUIRED - Course Setup and Authentication) notebook to recreate the catalogs and your Databricks CLI credentials.\n",
    "\n",
    "**Use classic compute to use the CLI through a notebook.**"
   ]
  },
  {
   "cell_type": "markdown",
   "metadata": {
    "application/vnd.databricks.v1+cell": {
     "cellMetadata": {},
     "inputWidgets": {},
     "nuid": "4acdd0cb-24db-4380-b4b5-da30de3d387c",
     "showTitle": false,
     "tableResultSettingsMap": {},
     "title": ""
    }
   },
   "source": [
    "## B. Create a Simple Job"
   ]
  },
  {
   "cell_type": "markdown",
   "metadata": {
    "application/vnd.databricks.v1+cell": {
     "cellMetadata": {},
     "inputWidgets": {},
     "nuid": "607d0b2a-61c3-4881-bf74-c32eae1afb1d",
     "showTitle": false,
     "tableResultSettingsMap": {},
     "title": ""
    }
   },
   "source": [
    "1. During development, it's easier to manually create the job you want to automatically deploy with Databricks Asset Bundles in order to get the necessary YAML configuration for deployment.\n",
    "\n",
    "    Run the cell below and confirm that the job was created.\n",
    "\n",
    "    **NOTE:** To save time, we will use the Databricks Academy `DAJobConfig` class, which was created using the Databricks SDK to automatically create our job for this demonstration. In a typical development cycle, you would create the job manually."
   ]
  },
  {
   "cell_type": "code",
   "execution_count": 0,
   "metadata": {
    "application/vnd.databricks.v1+cell": {
     "cellMetadata": {},
     "inputWidgets": {},
     "nuid": "e35509e7-76a2-4324-9ad3-6a30683e7f41",
     "showTitle": false,
     "tableResultSettingsMap": {},
     "title": ""
    }
   },
   "outputs": [],
   "source": [
    "job_tasks = [\n",
    "    {\n",
    "        'task_name': 'create_bronze_table',\n",
    "        'notebook_path': '/01 - Deploying a Simple DAB/src/create_bronze_table',\n",
    "        'depends_on': None\n",
    "    },\n",
    "    {\n",
    "        'task_name': 'create_silver_table',\n",
    "        'notebook_path': '/01 - Deploying a Simple DAB/src/create_silver_table',\n",
    "        'depends_on': [{'task_key': 'create_bronze_table'}]\n",
    "    }\n",
    "]\n",
    "\n",
    "myjob = DAJobConfig(job_name=f'demo1_simple_dab_ui_{DA.catalog_name}',\n",
    "                    job_tasks=job_tasks,\n",
    "                    job_parameters=[\n",
    "                      {'name':'display_target', 'default':'development'},\n",
    "                      {'name':'catalog_name', 'default':DA.catalog_dev}\n",
    "                    ])"
   ]
  },
  {
   "cell_type": "markdown",
   "metadata": {
    "application/vnd.databricks.v1+cell": {
     "cellMetadata": {},
     "inputWidgets": {},
     "nuid": "1a4ec77d-9323-4d32-afab-656461972cd2",
     "showTitle": false,
     "tableResultSettingsMap": {},
     "title": ""
    }
   },
   "source": [
    "2. Complete the following steps to explore the YAML configuration of the job:\n",
    "\n",
    "   a. In the left main navigation bar, right-click on **Workflows** and select *Open in a new tab*.\n",
    "\n",
    "   b. Locate your deployed job named **demo1_simple_dab_ui_username**.\n",
    "\n",
    "   c. Select your job.\n",
    "\n",
    "   **NOTE:** During development it would be beneficial to run and confirm the job works. For the purpose of this demonstration the job has been tested and validated.\n",
    "\n",
    "   d. In the right **Job details** pane, scroll to the bottom and find **Job parameters**. Notice that two parameters have been set for this job:\n",
    "   \n",
    "    - **catalog_name** - references your **username_1_dev** catalog.\n",
    "    \n",
    "    - **display_target** - specifies the environment where the job is running. In this example, we are as **development**.\n",
    "\n",
    "   e. In the top navigation bar, select **Tasks**. Notice that this job has two tasks:\n",
    "\n",
    "    - **TASK 1**: **create_bronze_table** reads from the development CSV file in the **username_1_dev** catalog (specified using job parameter **catalog_name**) and creates a table named **health_bronze_demo_1**.\n",
    "    \n",
    "    - **TASK 2**: **create_silver_table** reads from the bronze table in the **username_1_dev** catalog (specified using job parameter **catalog_name**) and creates a table named **health_silver_demo_1**. Task 2 depends on Task 1 to complete successfully.\n",
    "    \n",
    "    - Both tasks use Serverless compute.\n",
    "\n",
    "   f. Leave the job page open and move to the next task."
   ]
  },
  {
   "cell_type": "markdown",
   "metadata": {
    "application/vnd.databricks.v1+cell": {
     "cellMetadata": {},
     "inputWidgets": {},
     "nuid": "52306a43-122d-4a93-8eae-2dbea492a2f2",
     "showTitle": false,
     "tableResultSettingsMap": {},
     "title": ""
    }
   },
   "source": [
    "3. Complete the following steps to view the YAML configuration for the job:\n",
    "\n",
    "   a. Go back to your job.\n",
    "\n",
    "   b. At the top right of the job, select the kebab menu (three vertical dots icon near the **Run now** button).\n",
    "\n",
    "   c. Select **Edit as YAML**.\n",
    "\n",
    "   d. Notice that you can now view the YAML configuration for the job. This is a great way to easily get the necessary values for the YAML deployment for your Databricks Asset Bundles (DABs).\n",
    "\n",
    "   e. Copy the configuration.\n",
    "   \n",
    "   f. In the top right, select **Close editor**.\n",
    "\n",
    "   g. Leave the tab with your job open. We use this copied YAML configuration in a later section.\n",
    "\n",
    "\n",
    "\n",
    "**Example YAML Configuration (yours will differ slightly)**\n",
    "```\n",
    "resources:\n",
    "  jobs:\n",
    "    demo1_simple_dab_ui_labuser123:\n",
    "      name: demo1_simple_dab_ui_labuser123\n",
    "      tasks:\n",
    "        - task_key: create_bronze_table\n",
    "          notebook_task:\n",
    "            notebook_path: /Workspace/Shared/databricks-asset-bundles-source/Source/Automated\n",
    "              Deployment with Databricks Asset Bundles/01 - Simple\n",
    "              DAB/src/create_bronze_table\n",
    "            source: WORKSPACE\n",
    "        - task_key: create_silver_table\n",
    "          depends_on:\n",
    "            - task_key: create_bronze_table\n",
    "          notebook_task:\n",
    "            notebook_path: /Workspace/Shared/databricks-asset-bundles-source/Source/Automated\n",
    "              Deployment with Databricks Asset Bundles/01 - Simple\n",
    "              DAB/src/create_silver_table\n",
    "            source: WORKSPACE\n",
    "      parameters:\n",
    "        - name: display_target\n",
    "          default: development\n",
    "        - name: catalog_name\n",
    "          default: labuser123_1_dev\n",
    "```"
   ]
  },
  {
   "cell_type": "markdown",
   "metadata": {
    "application/vnd.databricks.v1+cell": {
     "cellMetadata": {},
     "inputWidgets": {},
     "nuid": "f2d85e96-12c4-4de1-b059-d1b73e37f9d9",
     "showTitle": false,
     "tableResultSettingsMap": {},
     "title": ""
    }
   },
   "source": [
    "## C. Deploying your Job Using Databricks Asset Bundles (DABs)"
   ]
  },
  {
   "cell_type": "markdown",
   "metadata": {
    "application/vnd.databricks.v1+cell": {
     "cellMetadata": {},
     "inputWidgets": {},
     "nuid": "8e8c05b6-b4c1-4b57-9a84-3e00c3e0467e",
     "showTitle": false,
     "tableResultSettingsMap": {},
     "title": ""
    }
   },
   "source": [
    "1. Run the `databricks -v` command to view the version of the Databricks CLI. Confirm that the cell returns version **v0.240.0**.\n",
    "\n",
    "<br></br>\n",
    "##### DATABRICKS CLI ERROR TROUBLESHOOTING:\n",
    "  - If you encounter an Databricks CLI authentication error, it means you haven't created the PAT token specified in notebook **0 - REQUIRED - Course Setup and Authentication**. You will need to set up Databricks CLI authentication as shown in that notebook.\n",
    "\n",
    "  - If you encounter the error below, it means your `databricks.yml` file is invalid due to a modification. Even for non-DAB CLI commands, the `databricks.yml` file is still required, as it may contain important authentication details, such as the host and profile, which are utilized by the CLI commands.\n",
    "\n",
    "![CLI Invalid YAML](../Includes/images/databricks_cli_error_invalid_yaml.png)"
   ]
  },
  {
   "cell_type": "code",
   "execution_count": 0,
   "metadata": {
    "application/vnd.databricks.v1+cell": {
     "cellMetadata": {},
     "inputWidgets": {},
     "nuid": "b7e63d4f-d941-4fc5-95ff-27f39d16ff88",
     "showTitle": false,
     "tableResultSettingsMap": {},
     "title": ""
    }
   },
   "outputs": [],
   "source": [
    "%sh\n",
    "databricks -v"
   ]
  },
  {
   "cell_type": "markdown",
   "metadata": {
    "application/vnd.databricks.v1+cell": {
     "cellMetadata": {},
     "inputWidgets": {},
     "nuid": "e65d8891-3920-4e94-b729-d00496d13f17",
     "showTitle": false,
     "tableResultSettingsMap": {},
     "title": ""
    }
   },
   "source": [
    "2. Use the `pwd` command to view the current working directory. It should display that you are in the folder **01 - Deploying a Simple DAB**. The CLI is using the current directory of this notebook."
   ]
  },
  {
   "cell_type": "code",
   "execution_count": 0,
   "metadata": {
    "application/vnd.databricks.v1+cell": {
     "cellMetadata": {},
     "inputWidgets": {},
     "nuid": "d5ea6232-50fa-4b26-9754-a41da4c88772",
     "showTitle": false,
     "tableResultSettingsMap": {},
     "title": ""
    }
   },
   "outputs": [],
   "source": [
    "%sh\n",
    "pwd"
   ]
  },
  {
   "cell_type": "markdown",
   "metadata": {
    "application/vnd.databricks.v1+cell": {
     "cellMetadata": {},
     "inputWidgets": {},
     "nuid": "3d9c0d5a-ff2b-4f1d-ac63-c3e3764e671b",
     "showTitle": false,
     "tableResultSettingsMap": {},
     "title": ""
    }
   },
   "source": [
    "3. Use the `ls` command to view the available files in the current directory. Confirm that you see the **databricks.yml** file.\n",
    "\n",
    "**NOTE:** A bundle configuration file must be in YAML format and must contain at least the top-level `bundle` mapping. That is, in the `databricks.yml` file you will find the first mapping `bundle`. We will discuss other mappings shortly. In addition, each bundle must contain exactly one bundle configuration file named **databricks.yml**."
   ]
  },
  {
   "cell_type": "code",
   "execution_count": 0,
   "metadata": {
    "application/vnd.databricks.v1+cell": {
     "cellMetadata": {},
     "inputWidgets": {},
     "nuid": "69fa1f8d-2a40-412c-ac8d-861683c8f84d",
     "showTitle": false,
     "tableResultSettingsMap": {},
     "title": ""
    }
   },
   "outputs": [],
   "source": [
    "%sh\n",
    "ls"
   ]
  },
  {
   "cell_type": "markdown",
   "metadata": {
    "application/vnd.databricks.v1+cell": {
     "cellMetadata": {},
     "inputWidgets": {},
     "nuid": "a982f10d-abf5-462b-bd63-8861bbaf2b0f",
     "showTitle": false,
     "tableResultSettingsMap": {},
     "title": ""
    }
   },
   "source": [
    "4. Now that we have confirmed we are in the working directory of the **databricks.yml** file, let's open the bundle configuration file in a new tab and explore the bundle configuration.\n",
    "\n",
    "   a. In the right navigation, select the folder icon and confirm you are in the **01 - Deploying a Simple DAB** folder. Right-click on the **databricks.yml** file and select *Open in a new tab*.\n",
    "\n",
    "   b. In the **databricks.yml** file, a bundle configuration must contain only one top-level **bundle** mapping that associates the bundle’s contents with Databricks settings. This is a very simple bundle example.\n",
    "   \n",
    "   **NOTE:** For a list of all [bundle mappings](https://docs.databricks.com/en/dev-tools/bundles/settings.html#mappings) view the documentation. We will explore more of these mappings later in the course.\n",
    "\n",
    "   c. The **bundle** mapping is required and must include a bundle **name**. \n",
    "\n",
    "   d. The **resources** mapping (notice this is blank in the YAML) specifies information about the Databricks resources used by the bundle. This bundle configuration defines a job resource. We will add our specific job in the next section and review the configuration.\n",
    "\n",
    "   e. The **targets** mapping specifies one or more target environments in which to run Databricks workflow. Each target is a unique collection of artifacts, Databricks workspace settings, and Databricks job or pipeline details. In this example, we have one target named **development** and it uses a simple configuration.\n",
    "\n",
    "    - The **mode:** *development* mapping defines this target as development mode. Development mode implements a variety of behaviors. One behavior is that it prepends all resources that are not deployed as files or notebooks with the prefix **[dev ${workspace.current_user.short_name}]** and tags each deployed job and pipeline with a dev Databricks tag. For more behaviors, visit the [Development mode](https://docs.databricks.com/en/dev-tools/bundles/deployment-modes.html#development-mode) documentation.\n",
    "\n",
    "    - The **default:** *true* mapping specifies that this is the default target environment if multiple targets are available. Setting the default to the **development** run helps avoid accidentally deploying to a production environment.\n",
    "\n",
    "    - In the **workspace** mapping the following are specified:\n",
    "      - **host** specifies the Workspace to run this in. By default it will use the current workspace. We will leave this commented out.\n",
    "      - **root_path** specifies where the files will be deployed."
   ]
  },
  {
   "cell_type": "markdown",
   "metadata": {
    "application/vnd.databricks.v1+cell": {
     "cellMetadata": {},
     "inputWidgets": {},
     "nuid": "fab93141-9d7a-46af-8434-c14f14a39f10",
     "showTitle": false,
     "tableResultSettingsMap": {},
     "title": ""
    }
   },
   "source": [
    "5. After examining the bundle configuration in the **databricks.yml** file, let's go back to our job and copy the YAML configuration (if necessary). Then paste the YAML configuration in the **resources** mapping with your specific job YAML configuration (under the RESOURCES comment)."
   ]
  },
  {
   "cell_type": "markdown",
   "metadata": {
    "application/vnd.databricks.v1+cell": {
     "cellMetadata": {},
     "inputWidgets": {},
     "nuid": "ef43441d-0ca2-4933-9814-7f48aa991ead",
     "showTitle": false,
     "tableResultSettingsMap": {},
     "title": ""
    }
   },
   "source": [
    "6. After pasting your specific job configuration to your **databricks.yml** file, let's modify some of the paths to make them relative paths, add the notebook extensions, and give it an easy job key name.\n",
    "\n",
    "   a. Under **resources**, then **jobs** you will see a key named **demo1_simple_dab_ui_username**. Replace that key with **demo01_simple_dab**.\n",
    "\n",
    "   ```\n",
    "   resources:\n",
    "      jobs:\n",
    "        demo1_simple_dab_ui_labuser1234:    ## <--------MODIFY THIS VALUE HERE TO demo01_simple_dab\n",
    "          name: demo1_simple_dab_ui_labuser1234\n",
    "   ```\n",
    "\n",
    "   b. For the **task_key: create_bronze_table** modify the **notebook_path** to `./src/create_bronze_table.py`.\n",
    "\n",
    "   c. For the **task_key: create_silver_table** modify the **notebook_path** to ` ./src/create_silver_table.py`.\n",
    "\n",
    "   d. Close the **databricks.yml** file.\n",
    "\n",
    "\n",
    "<br></br>\n",
    "**Example of the resource mapping configuration (yours will have a different name)**\n",
    "```\n",
    "...\n",
    "resources:\n",
    "  jobs:\n",
    "    demo01_simple_dab:\n",
    "      name: l1_simple_dab_labuser1234\n",
    "      tasks:\n",
    "        - task_key: create_bronze_table\n",
    "          notebook_task:\n",
    "            notebook_path: ./src/create_bronze_table.py\n",
    "            source: WORKSPACE\n",
    "        - task_key: create_silver_table\n",
    "          depends_on:\n",
    "            - task_key: create_bronze_table\n",
    "          notebook_task:\n",
    "            notebook_path: ./src/create_silver_table.py\n",
    "            source: WORKSPACE\n",
    "      parameters:\n",
    "        - name: display_target\n",
    "          default: development\n",
    "        - name: catalog_name\n",
    "          default: labuser1234_1_dev\n",
    "...\n",
    "```\n",
    "\n",
    "\n",
    "### NOTE - PLEASE READ!\n",
    "\n",
    "Starting December 20, 2024, the [default format for new notebooks is now IPYNB (Jupyter) format](https://docs.databricks.com/en/release-notes/product/2024/december.html#the-default-format-for-new-notebooks-is-now-ipynb-jupyter-format). This may cause issues when referencing notebooks with DABs, as you must specify the file extension.\n",
    "\n",
    "For the purpose of this course, all notebooks will be in either **.py** or **.sql** format. However, to confirm the file extension of a notebook, complete the following steps:\n",
    "\n",
    "- In the top navigation bar, below the notebook name, select **File**.\n",
    "\n",
    "- Scroll down and find the **Notebook format** option, then select it.\n",
    "\n",
    "- Here, you should see the notebook format listed as **Source (.scala, .py, .sql, .r)**.\n",
    "\n",
    "\n",
    "\n"
   ]
  },
  {
   "cell_type": "markdown",
   "metadata": {
    "application/vnd.databricks.v1+cell": {
     "cellMetadata": {},
     "inputWidgets": {},
     "nuid": "461c026a-5802-499c-a1f0-92e04422027c",
     "showTitle": false,
     "tableResultSettingsMap": {},
     "title": ""
    }
   },
   "source": [
    "7. Let's validate our **databricks.yml** bundle configuration file using the Databricks CLI. Run the cell and confirm the validation of the bundle was successful."
   ]
  },
  {
   "cell_type": "code",
   "execution_count": 0,
   "metadata": {
    "application/vnd.databricks.v1+cell": {
     "cellMetadata": {},
     "inputWidgets": {},
     "nuid": "97312734-ab4a-4f3d-a79b-2813a09f823d",
     "showTitle": false,
     "tableResultSettingsMap": {},
     "title": ""
    }
   },
   "outputs": [],
   "source": [
    "%sh\n",
    "databricks bundle validate"
   ]
  },
  {
   "cell_type": "markdown",
   "metadata": {
    "application/vnd.databricks.v1+cell": {
     "cellMetadata": {},
     "inputWidgets": {},
     "nuid": "0cd8253b-bb4e-4c91-8366-dc16a4b72280",
     "showTitle": false,
     "tableResultSettingsMap": {},
     "title": ""
    }
   },
   "source": [
    "8. Let's deploy the bundle using the Databricks CLI!\n",
    "\n",
    "    Run the command below to deploy the bundle. The command `databricks bundle deploy -t development` specifies to deploy the bundle to the development environment. By default if we did not specify the target environment it would use the default target we specified earlier.\n",
    "\n",
    "    **NOTE:** This will take about a minute to complete."
   ]
  },
  {
   "cell_type": "code",
   "execution_count": 0,
   "metadata": {
    "application/vnd.databricks.v1+cell": {
     "cellMetadata": {},
     "inputWidgets": {},
     "nuid": "e32451f9-1078-41fa-881c-b0a1988047a3",
     "showTitle": false,
     "tableResultSettingsMap": {},
     "title": ""
    }
   },
   "outputs": [],
   "source": [
    "%sh\n",
    "databricks bundle deploy -t development"
   ]
  },
  {
   "cell_type": "markdown",
   "metadata": {
    "application/vnd.databricks.v1+cell": {
     "cellMetadata": {},
     "inputWidgets": {},
     "nuid": "b59980bd-b761-4b43-ac2c-18ec7162edd2",
     "showTitle": false,
     "tableResultSettingsMap": {},
     "title": ""
    }
   },
   "source": [
    "9. Let's view where the Databricks assets were deployed.\n",
    "\n",
    "    a. In the main navigation bar, right-click on **Workspace** and select *Open in a New Tab*.\n",
    "\n",
    "    b. Navigate to **Workspace > Users > your user name**.\n",
    "\n",
    "    c. Open the **.bundle** folder.\n",
    "\n",
    "    d. Open the deployed bundle **demo01_bundle** (the bundle name we specified in **databricks.yml**).\n",
    "\n",
    "    e. Here, we can see that we deployed the **development** target. Within the **development** folder, there will be a variety of folders and files.\n",
    "\n",
    "    **NOTE:** Since you are in the workspace, the bundle deployed as a \"Source-linked deployment\" (from the note in the cell above) when deploying to development. This means the files weren't moved into the target directory specified in the **databricks.yml** file. You can confirm this by checking the folder `.bundle/demo01_bundle/development/files` to verify that it's empty. If deploying from outside the workspace, the files would have been copied into that location. However, if you were to deploy to production while _in_ a Databricks Workspace, you would see that `.bundle/demo01_bundle/development/files` is non-empty and contains the relevant files. \n",
    "\n",
    "\n",
    "    f. Close the Workspace tab."
   ]
  },
  {
   "cell_type": "markdown",
   "metadata": {
    "application/vnd.databricks.v1+cell": {
     "cellMetadata": {},
     "inputWidgets": {},
     "nuid": "599710ff-09b5-4817-ae8f-2eb41dfa8147",
     "showTitle": false,
     "tableResultSettingsMap": {},
     "title": ""
    }
   },
   "source": [
    "10. Complete the following steps to explore the job we deployed with a DAB.\n",
    "\n",
    "    a. In the left main navigation bar, right-click on **Workflows** and select *Open in a new tab*.\n",
    "\n",
    "    b. Find your deployed job named **[dev username] demo01_simple_dab**.\n",
    "\n",
    "      - By default, development mode prepends all resources that are not deployed as files or notebooks with the prefix `[dev ${workspace.current_user.short_name}]` and tags each deployed job and pipeline with a dev Databricks tag.\n",
    "\n",
    "      - For other [development mode](https://docs.databricks.com/en/dev-tools/bundles/deployment-modes.html#development-mode) behaviors, view the documentation.\n",
    "\n",
    "    c. Select the job.\n",
    "\n",
    "    d. Notice the note at the top of the job: **Connected to Databricks Asset Bundles**. Select the link **Learn more**.\n",
    "\n",
    "    e. In the left navigation pane, scroll down to **Job parameters**. Notice that the parameters **catalog_name** and **display_target** are specified using the development specifications.\n",
    "\n",
    "    f. Leave the job tab open.\n"
   ]
  },
  {
   "cell_type": "markdown",
   "metadata": {
    "application/vnd.databricks.v1+cell": {
     "cellMetadata": {},
     "inputWidgets": {},
     "nuid": "04112424-a020-46af-a85f-b1ac1da84afe",
     "showTitle": false,
     "tableResultSettingsMap": {},
     "title": ""
    }
   },
   "source": [
    "11. Let's run the job! Run the cell below to run the job from the **databricks.yml** file using the CLI command. Run the cell and confirm the job runs successfully. \n",
    "\n",
    "      - `databricks bundle run -t development demo01_simple_dab` specifies to run this job in the development environment. \n",
    "\n",
    "      - This job key can be found under the **resources** mapping in the **databricks.yml** file.\n",
    "\n",
    "    **NOTE:** This will take about a 1-2 minutes to complete. If you get an error you must likely did not change the key within the **resources** mapping. View the example below.\n",
    "\n",
    "**Example (your actual job name will differ)**:\n",
    "```\n",
    "resources:\n",
    "  jobs:\n",
    "    demo01_simple_dab:    # <--- The job key name here. Your job key should be named: demo01_simple_dab\n",
    "      name: l1_simple_dab_labuser1234\n",
    "```"
   ]
  },
  {
   "cell_type": "code",
   "execution_count": 0,
   "metadata": {
    "application/vnd.databricks.v1+cell": {
     "cellMetadata": {},
     "inputWidgets": {},
     "nuid": "6634cf50-fb8d-442b-9b13-f21ae9b594ca",
     "showTitle": false,
     "tableResultSettingsMap": {},
     "title": ""
    }
   },
   "outputs": [],
   "source": [
    "%sh\n",
    "databricks bundle run -t development demo01_simple_dab"
   ]
  },
  {
   "cell_type": "markdown",
   "metadata": {
    "application/vnd.databricks.v1+cell": {
     "cellMetadata": {},
     "inputWidgets": {},
     "nuid": "4e56424f-da18-485c-bcde-37371cf4f7b4",
     "showTitle": false,
     "tableResultSettingsMap": {},
     "title": ""
    }
   },
   "source": [
    "12. After the job was successfully run, navigate back to the job tab. Notice that the cell above automatically ran the specified job using our development catalog that we specified within the job parameters."
   ]
  },
  {
   "cell_type": "markdown",
   "metadata": {
    "application/vnd.databricks.v1+cell": {
     "cellMetadata": {},
     "inputWidgets": {},
     "nuid": "2a045846-4acf-4509-b2f7-c37f9b485f23",
     "showTitle": false,
     "tableResultSettingsMap": {},
     "title": ""
    }
   },
   "source": [
    "13. Run the cell below and confirm the tables **health_bronze_demo_01** and **health_silver_demo_01** were created successfully in your dev catalog."
   ]
  },
  {
   "cell_type": "code",
   "execution_count": 0,
   "metadata": {
    "application/vnd.databricks.v1+cell": {
     "cellMetadata": {},
     "inputWidgets": {},
     "nuid": "140b1c35-cd77-49f9-8645-a0af0ec87418",
     "showTitle": false,
     "tableResultSettingsMap": {},
     "title": ""
    }
   },
   "outputs": [],
   "source": [
    "tables = spark.sql(f'''\n",
    "SHOW TABLES IN {DA.catalog_dev}.default\n",
    "''')\n",
    "\n",
    "tables.display()"
   ]
  },
  {
   "cell_type": "markdown",
   "metadata": {
    "application/vnd.databricks.v1+cell": {
     "cellMetadata": {},
     "inputWidgets": {},
     "nuid": "d3b47c46-ec7e-4849-8284-71675292b4cb",
     "showTitle": false,
     "tableResultSettingsMap": {},
     "title": ""
    }
   },
   "source": [
    "14. Let's make a change to our bundle configuration in the **databricks.yml** file. \n",
    "\n",
    "    a. Right click on the **databricks.yml** file and select *Open in a new tab*.\n",
    "\n",
    "    b. In the **resources** mapping modify the default value of the job parameter **display_target** to *development_new_parameter_value*.\n",
    "\n",
    "    c. Run the cell below to validate and deploy the new bundle. Wait until the cell completes (about 1 minute).\n",
    "\n",
    "**NOTE:** If you make a change to your configuration file you will have to redeploy the bundle. After you modify the **databricks.yml** file wait about 30 seconds for the auto save to save the file before redeploying.\n",
    "\n"
   ]
  },
  {
   "cell_type": "code",
   "execution_count": 0,
   "metadata": {
    "application/vnd.databricks.v1+cell": {
     "cellMetadata": {},
     "inputWidgets": {},
     "nuid": "ea342c37-8569-4ca5-bbe7-909f1a2483bf",
     "showTitle": false,
     "tableResultSettingsMap": {},
     "title": ""
    }
   },
   "outputs": [],
   "source": [
    "%sh\n",
    "databricks bundle validate\n",
    "databricks bundle deploy -t development"
   ]
  },
  {
   "cell_type": "markdown",
   "metadata": {
    "application/vnd.databricks.v1+cell": {
     "cellMetadata": {},
     "inputWidgets": {},
     "nuid": "74b9d0d3-2499-434c-9acd-1bfa938dd425",
     "showTitle": false,
     "tableResultSettingsMap": {},
     "title": ""
    }
   },
   "source": [
    "15. After the deployment completes, view the new deployed job by navigating back to your job and view the **Job parameters** (if the page is already open, refresh the page). \n",
    "\n",
    "    Notice that the default value for the **display_target** parameter has been updated based on the change we made in the **databricks.yml** file."
   ]
  },
  {
   "cell_type": "markdown",
   "metadata": {
    "application/vnd.databricks.v1+cell": {
     "cellMetadata": {},
     "inputWidgets": {},
     "nuid": "9dd62e70-e5e4-4050-894c-fd20eb483af4",
     "showTitle": false,
     "tableResultSettingsMap": {},
     "title": ""
    }
   },
   "source": [
    "16. Lastly since we are finished with this bundle, let's delete it using the `databricks bundle destroy` command.\n",
    "\n",
    "    By default, you are prompted to confirm permanent deletion of the previously-deployed jobs, pipelines, and artifacts. To skip these prompts and perform automatic permanent deletion, add the `--auto-approve` option to the bundle destroy command.\n",
    "\n",
    "  **Warning:** Destroying a bundle permanently deletes a bundle’s previously-deployed jobs, pipelines, and artifacts. This action cannot be undone. For more information view [Destroy the bundle](https://docs.databricks.com/en/dev-tools/bundles/work-tasks.html#step-6-destroy-the-bundle)"
   ]
  },
  {
   "cell_type": "code",
   "execution_count": 0,
   "metadata": {
    "application/vnd.databricks.v1+cell": {
     "cellMetadata": {},
     "inputWidgets": {},
     "nuid": "ff26bf50-8b73-4a1f-a361-9840aa508738",
     "showTitle": false,
     "tableResultSettingsMap": {},
     "title": ""
    }
   },
   "outputs": [],
   "source": [
    "%sh\n",
    "databricks bundle destroy --auto-approve"
   ]
  },
  {
   "cell_type": "markdown",
   "metadata": {
    "application/vnd.databricks.v1+cell": {
     "cellMetadata": {},
     "inputWidgets": {},
     "nuid": "7b37d8aa-4951-4e9b-9da2-f9e4dd6f180e",
     "showTitle": false,
     "tableResultSettingsMap": {},
     "title": ""
    }
   },
   "source": [
    "## Next Steps\n",
    "This was a quick introduction into bundle modification, validation, and deployment within Databricks. This demonstration was simple and meant as an introductory lesson into how you can perform automatic updates to your workflow using simple bash commands and configuring a YAML file. \n",
    "\n",
    "How can we use Databricks Asset Bundles to easily deploy to multiple environments? Can we dynamically change values using variables?"
   ]
  },
  {
   "cell_type": "markdown",
   "metadata": {
    "application/vnd.databricks.v1+cell": {
     "cellMetadata": {},
     "inputWidgets": {},
     "nuid": "be13c6c6-ab8c-47ef-874e-3332abf0d5b2",
     "showTitle": false,
     "tableResultSettingsMap": {},
     "title": ""
    }
   },
   "source": [
    "\n",
    "&copy; 2025 Databricks, Inc. All rights reserved.<br/>\n",
    "Apache, Apache Spark, Spark and the Spark logo are trademarks of the \n",
    "<a href=\"https://www.apache.org/\">Apache Software Foundation</a>.<br/>\n",
    "<br/><a href=\"https://databricks.com/privacy-policy\">Privacy Policy</a> | \n",
    "<a href=\"https://databricks.com/terms-of-use\">Terms of Use</a> | \n",
    "<a href=\"https://help.databricks.com/\">Support</a>"
   ]
  }
 ],
 "metadata": {
  "application/vnd.databricks.v1+notebook": {
   "computePreferences": null,
   "dashboards": [],
   "environmentMetadata": null,
   "inputWidgetPreferences": null,
   "language": "python",
   "notebookMetadata": {},
   "notebookName": "Demo - Deploying a Simple DAB",
   "widgets": {}
  },
  "language_info": {
   "name": "python"
  }
 },
 "nbformat": 4,
 "nbformat_minor": 0
}