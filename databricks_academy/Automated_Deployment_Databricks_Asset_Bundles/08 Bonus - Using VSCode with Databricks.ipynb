{
 "cells": [
  {
   "cell_type": "markdown",
   "metadata": {
    "application/vnd.databricks.v1+cell": {
     "cellMetadata": {},
     "inputWidgets": {},
     "nuid": "7da4cd06-1cb8-467e-9765-0f5cbf16eaeb",
     "showTitle": false,
     "tableResultSettingsMap": {},
     "title": ""
    }
   },
   "source": [
    "\n",
    "<div style=\"text-align: center; line-height: 0; padding-top: 9px;\">\n",
    "  <img src=\"https://databricks.com/wp-content/uploads/2018/03/db-academy-rgb-1200px.png\" alt=\"Databricks Learning\">\n",
    "</div>\n"
   ]
  },
  {
   "cell_type": "markdown",
   "metadata": {
    "application/vnd.databricks.v1+cell": {
     "cellMetadata": {},
     "inputWidgets": {},
     "nuid": "ecd4c568-3589-433b-bd71-f7bd6d041d81",
     "showTitle": false,
     "tableResultSettingsMap": {},
     "title": ""
    }
   },
   "source": [
    "# 08 Bonus - Using VSCode with Databricks"
   ]
  },
  {
   "cell_type": "markdown",
   "metadata": {
    "application/vnd.databricks.v1+cell": {
     "cellMetadata": {},
     "inputWidgets": {},
     "nuid": "3e3d0a5c-8597-4e84-8186-f7b42cafab7d",
     "showTitle": false,
     "tableResultSettingsMap": {},
     "title": ""
    }
   },
   "source": [
    "1. Open a simple text editor on your computer. Paste the Databricks URL and Personal Access Token (PAT) in the text editor to use for authentication with VSCode.\n"
   ]
  },
  {
   "cell_type": "markdown",
   "metadata": {
    "application/vnd.databricks.v1+cell": {
     "cellMetadata": {},
     "inputWidgets": {},
     "nuid": "88f6b35d-e18d-4347-baee-8ac66b22a3cc",
     "showTitle": false,
     "tableResultSettingsMap": {},
     "title": ""
    }
   },
   "source": [
    "2. Run the following cell to display your Databricks lab URL. Leave this cell open as you will need it to authenticate to Databricks with VSCode.\n",
    "\n",
    "    Paste the URL into your text editor."
   ]
  },
  {
   "cell_type": "code",
   "execution_count": 0,
   "metadata": {
    "application/vnd.databricks.v1+cell": {
     "cellMetadata": {},
     "inputWidgets": {},
     "nuid": "3daf8b84-bc73-43c5-9f07-8ea1e762e217",
     "showTitle": false,
     "tableResultSettingsMap": {},
     "title": ""
    }
   },
   "outputs": [],
   "source": [
    "lab_databricks_url = f'{spark.conf.get(\"spark.databricks.workspaceUrl\")}/'\n",
    "print(lab_databricks_url)"
   ]
  },
  {
   "cell_type": "markdown",
   "metadata": {
    "application/vnd.databricks.v1+cell": {
     "cellMetadata": {},
     "inputWidgets": {},
     "nuid": "87be41a5-6442-4f54-9700-dd00f6c1a011",
     "showTitle": false,
     "tableResultSettingsMap": {},
     "title": ""
    }
   },
   "source": [
    "2. Complete the following steps to create a PAT in Databricks for use with VSCode.\n",
    "\n",
    "   a. First, create a personal access token (PAT) for use with the Databricks CLI in the Databricks Academy Lab.\n",
    "\n",
    "   b. Click on your username in the top bar, right-click on **User Settings** from the drop-down menu and select *Open in a New Tab*.\n",
    "\n",
    "   c. In **Settings**, select **Developer**, then, to the left of **Access tokens**, select **Manage**.\n",
    "\n",
    "   d. Click **Generate new token**.\n",
    "\n",
    "   e. Specify the following:\n",
    "      - A comment describing the purpose of the token (e.g., *CLI Demo*).\n",
    "      - The lifetime of the token; estimate the number of days you anticipate needing to complete this module.\n",
    "\n",
    "   f. Click **Generate**.\n",
    "\n",
    "   g. Copy the displayed token to the clipboard. You will not be able to view the token again. If you lose the token, you will need to delete it and create a new one.\n",
    "\n",
    "   h. Paste the PAT in your text editor below the Databricks URL.\n",
    "\n",
    "   **NOTE:** Sometimes, Vocareum has issues with the copy button. Highlight your PAT and copy it manually. Confirm it was copied successfully.\n",
    "\n"
   ]
  },
  {
   "cell_type": "markdown",
   "metadata": {
    "application/vnd.databricks.v1+cell": {
     "cellMetadata": {},
     "inputWidgets": {},
     "nuid": "0f40d898-f563-4491-9134-4141a7f79901",
     "showTitle": false,
     "tableResultSettingsMap": {},
     "title": ""
    }
   },
   "source": [
    "\n",
    "#### **NOTE:** Make sure to open the VSCode lab in a new tab. You will need both the Workspace and VSCode open.\n",
    "\n",
    "3. To access VSCode in your lab environment, navigate to the drop-down menu, right-click on **VSCode**, and select *Open in a New Tab*. Leave your text editor open, as you will need the URL and PAT.\n",
    "\n",
    "   Follow the provided instructions in VSCode.\n",
    "\n",
    "\n",
    "\n",
    "![VSCode Access](./images/vscode_lab.png)"
   ]
  },
  {
   "cell_type": "markdown",
   "metadata": {
    "application/vnd.databricks.v1+cell": {
     "cellMetadata": {},
     "inputWidgets": {},
     "nuid": "60402ed8-90d7-4769-ba13-f25623ce7974",
     "showTitle": false,
     "tableResultSettingsMap": {},
     "title": ""
    }
   },
   "source": [
    "\n",
    "&copy; 2025 Databricks, Inc. All rights reserved.<br/>\n",
    "Apache, Apache Spark, Spark and the Spark logo are trademarks of the \n",
    "<a href=\"https://www.apache.org/\">Apache Software Foundation</a>.<br/>\n",
    "<br/><a href=\"https://databricks.com/privacy-policy\">Privacy Policy</a> | \n",
    "<a href=\"https://databricks.com/terms-of-use\">Terms of Use</a> | \n",
    "<a href=\"https://help.databricks.com/\">Support</a>"
   ]
  }
 ],
 "metadata": {
  "application/vnd.databricks.v1+notebook": {
   "computePreferences": null,
   "dashboards": [],
   "environmentMetadata": null,
   "inputWidgetPreferences": null,
   "language": "python",
   "notebookMetadata": {},
   "notebookName": "08 Bonus - Using VSCode with Databricks",
   "widgets": {}
  },
  "language_info": {
   "name": "python"
  }
 },
 "nbformat": 4,
 "nbformat_minor": 0
}