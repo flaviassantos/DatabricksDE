{
 "cells": [
  {
   "cell_type": "markdown",
   "metadata": {
    "application/vnd.databricks.v1+cell": {
     "cellMetadata": {},
     "inputWidgets": {},
     "nuid": "d948f3c8-f80e-45f2-a726-e333aa845603",
     "showTitle": false,
     "tableResultSettingsMap": {},
     "title": ""
    }
   },
   "source": [
    "\n",
    "<div style=\"text-align: center; line-height: 0; padding-top: 9px;\">\n",
    "  <img src=\"https://databricks.com/wp-content/uploads/2018/03/db-academy-rgb-1200px.png\" alt=\"Databricks Learning\">\n",
    "</div>\n"
   ]
  },
  {
   "cell_type": "markdown",
   "metadata": {
    "application/vnd.databricks.v1+cell": {
     "cellMetadata": {},
     "inputWidgets": {},
     "nuid": "c1858df7-58ec-440a-a1f4-05846c615e76",
     "showTitle": false,
     "tableResultSettingsMap": {},
     "title": ""
    }
   },
   "source": [
    "## Automated Deployment with Databricks Asset Bundles\n",
    "\n",
    "### Course Agenda\n",
    "The following modules are part of the Data Engineer Learning Path by Databricks Academy.\n",
    "| # | Module Name |\n",
    "| --- | --- |\n",
    "| 0 | [0 - REQUIRED - Course Setup and Authentication]($./0 - REQUIRED - Course Setup and Authentication) |\n",
    "| 1 | [01 - Deploying a simple DAB]($./01 - Deploying a Simple DAB) |\n",
    "| 2 | [02L - Deploy a Simple DAB]($./02L - Deploy a Simple DAB) |\n",
    "| 3 | [03 - Deploying a DAB to Multiple Environments]($./03 - Deploying a DAB to Multiple Environments) |\n",
    "| 4 | [04L - Deploy a DAB to Multiple Environments]($./04L - Deploy a DAB to Multiple Environments) |\n",
    "| 5 | [05L - Use a Databricks Default DAB Template]($./05L - Use a Databricks Default DAB Template) |\n",
    "| 6 | [06- Continuous Integration and Continuous Deployment with DABs]($./06- Continuous Integration and Continuous Deployment with DABs) |\n",
    "| 7 | [07L - Adding ML to Engineering Workflows with DABs]($./07L - Adding ML to Engineering Workflows with DABs) |\n",
    "| 8 | [08 Bonus - Using VSCode with Databricks]($./08 Bonus - Using VSCode with Databricks) |\n",
    "\n",
    "### Requirements\n",
    "\n",
    "Please review the following requirements before starting the lesson:\n",
    "\n",
    "* To run demo and lab notebooks, you need to use the following Databricks runtime: **16.0.x-scala2.12**\n",
    "\n"
   ]
  },
  {
   "cell_type": "markdown",
   "metadata": {
    "application/vnd.databricks.v1+cell": {
     "cellMetadata": {},
     "inputWidgets": {},
     "nuid": "7c5a094f-89e0-44b8-8a51-0f428d2c6a3b",
     "showTitle": false,
     "tableResultSettingsMap": {},
     "title": ""
    }
   },
   "source": [
    "\n",
    "&copy; 2025 Databricks, Inc. All rights reserved.<br/>\n",
    "Apache, Apache Spark, Spark and the Spark logo are trademarks of the \n",
    "<a href=\"https://www.apache.org/\">Apache Software Foundation</a>.<br/>\n",
    "<br/><a href=\"https://databricks.com/privacy-policy\">Privacy Policy</a> | \n",
    "<a href=\"https://databricks.com/terms-of-use\">Terms of Use</a> | \n",
    "<a href=\"https://help.databricks.com/\">Support</a>"
   ]
  }
 ],
 "metadata": {
  "application/vnd.databricks.v1+notebook": {
   "computePreferences": null,
   "dashboards": [],
   "environmentMetadata": null,
   "inputWidgetPreferences": null,
   "language": "python",
   "notebookMetadata": {},
   "notebookName": "AGENDA",
   "widgets": {}
  },
  "language_info": {
   "name": "python"
  }
 },
 "nbformat": 4,
 "nbformat_minor": 0
}