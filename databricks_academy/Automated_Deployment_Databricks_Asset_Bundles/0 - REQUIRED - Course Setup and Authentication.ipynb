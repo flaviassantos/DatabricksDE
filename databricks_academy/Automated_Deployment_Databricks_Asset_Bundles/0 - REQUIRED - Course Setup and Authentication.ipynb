{
 "cells": [
  {
   "cell_type": "markdown",
   "metadata": {
    "application/vnd.databricks.v1+cell": {
     "cellMetadata": {},
     "inputWidgets": {},
     "nuid": "f1478c16-e968-42e4-93be-c47ddcea6b9a",
     "showTitle": false,
     "tableResultSettingsMap": {},
     "title": ""
    }
   },
   "source": [
    "\n",
    "<div style=\"text-align: center; line-height: 0; padding-top: 9px;\">\n",
    "  <img src=\"https://databricks.com/wp-content/uploads/2018/03/db-academy-rgb-1200px.png\" alt=\"Databricks Learning\">\n",
    "</div>\n"
   ]
  },
  {
   "cell_type": "markdown",
   "metadata": {
    "application/vnd.databricks.v1+cell": {
     "cellMetadata": {},
     "inputWidgets": {},
     "nuid": "06235dfa-2e7a-42d5-afcb-8cf353fc308f",
     "showTitle": false,
     "tableResultSettingsMap": {},
     "title": ""
    }
   },
   "source": [
    "# 0 - REQUIRED - Course Setup and Authentication\n",
    "\n",
    "This notebook will set up your lab environment for this course. You must run this notebook to create the necessary catalogs, data and authentication for the Databricks CLI.\n"
   ]
  },
  {
   "cell_type": "markdown",
   "metadata": {
    "application/vnd.databricks.v1+cell": {
     "cellMetadata": {},
     "inputWidgets": {},
     "nuid": "b09a7599-0b0a-4c47-aa0c-f1f4b4576656",
     "showTitle": false,
     "tableResultSettingsMap": {},
     "title": ""
    }
   },
   "source": [
    "## REQUIRED - SELECT CLASSIC COMPUTE\n",
    "\n",
    "Before executing cells in this notebook, please select your classic compute cluster in the lab. Be aware that **Serverless** is enabled by default.\n",
    "\n",
    "Follow these steps to select the classic compute cluster:\n",
    "\n",
    "1. Navigate to the top-right of this notebook and click the drop-down menu to select your cluster. By default, the notebook will use **Serverless**.\n",
    "\n",
    "1. If your cluster is available, select it and continue to the next cell. If the cluster is not shown:\n",
    "\n",
    "  - In the drop-down, select **More**.\n",
    "\n",
    "  - In the **Attach to an existing compute resource** pop-up, select the first drop-down. You will see a unique cluster name in that drop-down. Please select that cluster.\n",
    "\n",
    "**NOTE:** If your cluster has terminated, you might need to restart it in order to select it. To do this:\n",
    "\n",
    "1. Right-click on **Compute** in the left navigation pane and select *Open in new tab*.\n",
    "\n",
    "1. Find the triangle icon to the right of your compute cluster name and click it.\n",
    "\n",
    "1. Wait a few minutes for the cluster to start.\n",
    "\n",
    "1. Once the cluster is running, complete the steps above to select your cluster."
   ]
  },
  {
   "cell_type": "markdown",
   "metadata": {
    "application/vnd.databricks.v1+cell": {
     "cellMetadata": {},
     "inputWidgets": {},
     "nuid": "91424a4a-3cc0-45d0-adf4-564ae7b55456",
     "showTitle": false,
     "tableResultSettingsMap": {},
     "title": ""
    }
   },
   "source": [
    "## A. Classroom Setup\n",
    "\n",
    "Run the following cell to configure your working environment for this course. \n",
    "\n",
    "It will create the following catalogs, volumes and files:\n",
    "\n",
    "- Catalog: **username_1_dev**\n",
    "  - Schema: **default**\n",
    "    - Volume: **health**\n",
    "      - *dev_health.csv* : Small subset of prod data, anonymized *PII*, 7,500 rows\n",
    "\n",
    "- Catalog: **username_2_stage**\n",
    "  - Schema: **default**\n",
    "    - Volume: **health**\n",
    "      - *stage_health.csv* : Subset of prod data, 35,000 rows\n",
    "\n",
    "- Catalog: **username_3_prod**\n",
    "  - Schema: **default**\n",
    "    - Volume: **health**\n",
    "      - *2025-01-01_health.csv*\n",
    "      - *2025-01-02_health.csv*\n",
    "      - *2025-01-03_health.csv*\n",
    "      - CSV files are added to this cloud storage location daily.\n",
    "\n",
    "\n",
    "\n",
    "**NOTES:** The `DA` object is only used in Databricks Academy courses and is not available outside of these courses. It will dynamically reference the information needed to run the course."
   ]
  },
  {
   "cell_type": "code",
   "execution_count": 0,
   "metadata": {
    "application/vnd.databricks.v1+cell": {
     "cellMetadata": {},
     "inputWidgets": {},
     "nuid": "15e756e0-c5ba-4736-b91e-518cb70f7241",
     "showTitle": false,
     "tableResultSettingsMap": {},
     "title": ""
    }
   },
   "outputs": [],
   "source": [
    "%run ./Includes/Classroom-Setup-0-catalog-setup-REQUIRED"
   ]
  },
  {
   "cell_type": "markdown",
   "metadata": {
    "application/vnd.databricks.v1+cell": {
     "cellMetadata": {},
     "inputWidgets": {},
     "nuid": "3cf9679a-31fb-42f7-876a-49050632352e",
     "showTitle": false,
     "tableResultSettingsMap": {},
     "title": ""
    }
   },
   "source": [
    "## B. Explore Your Environment\n"
   ]
  },
  {
   "cell_type": "markdown",
   "metadata": {
    "application/vnd.databricks.v1+cell": {
     "cellMetadata": {},
     "inputWidgets": {},
     "nuid": "0901398a-fbd8-4029-a0e8-3458be2090c6",
     "showTitle": false,
     "tableResultSettingsMap": {},
     "title": ""
    }
   },
   "source": [
    "1. Let's quickly explore the course folder structure and files.\n",
    "\n",
    "    a. In the left navigation bar, select the folder icon.\n",
    "\n",
    "    b. Ensure you are in the main course folder named **Automated Deployment with Databricks Asset Bundles**.\n",
    "    \n",
    "    c. In the main course folder, you will see various folders, each folder contains specific files for each demonstration or lab."
   ]
  },
  {
   "cell_type": "markdown",
   "metadata": {
    "application/vnd.databricks.v1+cell": {
     "cellMetadata": {},
     "inputWidgets": {},
     "nuid": "56970f38-a8ae-4372-acd5-b64b5b16f7d4",
     "showTitle": false,
     "tableResultSettingsMap": {},
     "title": ""
    }
   },
   "source": [
    "2. Manually view your catalogs and data for this course.\n",
    "\n",
    "    a. In the navigation bar on the left, select the catalog icon.\n",
    "\n",
    "    b. Confirm the classroom setup script has created three new catalogs for you:\n",
    "      - **unique_name_1_dev**\n",
    "      - **unique_name_2_stage**\n",
    "      - **unique_name_3_prod**\n",
    "\n",
    "    c. Expand each catalog and notice a volume named **health** was created and contains one or more CSV files for the specific environment (development, stage, and production)."
   ]
  },
  {
   "cell_type": "markdown",
   "metadata": {
    "application/vnd.databricks.v1+cell": {
     "cellMetadata": {},
     "inputWidgets": {},
     "nuid": "017ad620-57e2-4a7d-a117-26ff0c0839a5",
     "showTitle": false,
     "tableResultSettingsMap": {},
     "title": ""
    }
   },
   "source": [
    "3. Throughout the course, the following Python variables will be used to dynamically reference your course catalogs:\n",
    "    - `DA.catalog_dev`\n",
    "    - `DA.catalog_stage`\n",
    "    - `DA.catalog_prod`\n",
    "\n",
    "    Run the code below and confirm the variables refer to your catalog names.\n"
   ]
  },
  {
   "cell_type": "code",
   "execution_count": 0,
   "metadata": {
    "application/vnd.databricks.v1+cell": {
     "cellMetadata": {},
     "inputWidgets": {},
     "nuid": "438585f7-1bb7-4b1e-b31d-b35269965e3b",
     "showTitle": false,
     "tableResultSettingsMap": {},
     "title": ""
    }
   },
   "outputs": [],
   "source": [
    "print(f'DA.catalog_dev: {DA.catalog_dev}')\n",
    "print(f'DA.catalog_stage: {DA.catalog_stage}')\n",
    "print(f'DA.catalog_prod: {DA.catalog_prod}')"
   ]
  },
  {
   "cell_type": "markdown",
   "metadata": {
    "application/vnd.databricks.v1+cell": {
     "cellMetadata": {},
     "inputWidgets": {},
     "nuid": "85c4ed47-5f96-4a89-99c6-23ba39095c50",
     "showTitle": false,
     "tableResultSettingsMap": {},
     "title": ""
    }
   },
   "source": [
    "## C. Generate Tokens for Authentication to the Databricks CLI\n",
    "In this section, you will generate credentials for working with the Databricks CLI for this course.\n",
    "\n",
    "Throughout the course, we will use the Databricks CLI from within a notebook. Since we are in a learning environment, we will save a credentials file in the workspace within a folder called **var_your_user_name**.\n",
    "\n",
    "**NOTE: In the \"real world,\" we recommend that you follow your organization's security policies for storing credentials. Do not store your credentials in a file.**\n",
    "\n",
    "View the [Secret management](https://docs.databricks.com/en/security/secrets/index.html) documentation for more information on using secrets."
   ]
  },
  {
   "cell_type": "markdown",
   "metadata": {
    "application/vnd.databricks.v1+cell": {
     "cellMetadata": {},
     "inputWidgets": {},
     "nuid": "802d1606-2e41-46b8-a0a6-555dd085acd8",
     "showTitle": false,
     "tableResultSettingsMap": {},
     "title": ""
    }
   },
   "source": [
    "\n",
    "### C1. Store the Databricks CLI Credentials\n",
    "\n",
    "A token is just like a username and password, so you should treat it with the same level of security as your own credentials. If you ever suspect a token has leaked, you should delete it immediately.\n",
    "\n",
    "For the purpose of this training, we are going to create a landing pad in this notebook to record and store the credentials within the workspace. When using credentials in production, you will want to follow the security practices of your organization. \n",
    "\n",
    "Run the following cell. Notice that it creates two text fields which you will populate in the next section.\n",
    "\n",
    "**NOTES:** \n",
    "- In your organization, you do not want to store your PAT in a file. Instead, you want to use secret scopes. For the purpose of the lab, we are storing the PAT in a folder called **var_your_user_name** for demonstration purposes. Please follow all company security best practices."
   ]
  },
  {
   "cell_type": "code",
   "execution_count": 0,
   "metadata": {
    "application/vnd.databricks.v1+cell": {
     "cellMetadata": {},
     "inputWidgets": {},
     "nuid": "58f3556f-1436-4515-bd21-033d62fca730",
     "showTitle": false,
     "tableResultSettingsMap": {},
     "title": ""
    }
   },
   "outputs": [],
   "source": [
    "DA.get_credentials()"
   ]
  },
  {
   "cell_type": "markdown",
   "metadata": {
    "application/vnd.databricks.v1+cell": {
     "cellMetadata": {},
     "inputWidgets": {},
     "nuid": "0cb21621-adeb-4075-8ee2-c749412053e8",
     "showTitle": false,
     "tableResultSettingsMap": {},
     "title": ""
    }
   },
   "source": [
    "\n",
    "### C2. Generate Credentials\n",
    "Create an personal access token (PAT) for use with the Databricks CLI in the Databricks Academy Lab. \n",
    "\n",
    "1. Click on your username in the top bar, right-click on **User Settings** from the drop-down menu, and select *Open in a New Tab*.\n",
    "\n",
    "2. In **Settings**, select **Developer**, then to the left of **Access tokens**, select **Manage**.\n",
    "\n",
    "3. Click **Generate new token**.\n",
    "\n",
    "4. Specify the following:\n",
    "   - A comment describing the purpose of the token (e.g., *CLI Demo*).\n",
    "   - The lifetime of the token; estimate the number of days you anticipate needing to complete this module.\n",
    "\n",
    "5. Click **Generate**.\n",
    "\n",
    "6. Copy the displayed token to the clipboard. You will not be able to view the token again. If you lose the token, you will need to delete it and create a new one.\n",
    "\n",
    "**NOTE:** Sometimes vocareum has issues with the copy button. So highlight your PAT and copy it. Confirm it was copied successfully.\n",
    "\n",
    "7. Paste the token into the **Token** field above.\n",
    "\n",
    "8. The host value should already by populated for you.\n",
    "\n",
    "9. Click outside of the cell. You should see the result *Credentials stored (132 bytes written).*\n",
    "\n",
    "10. In the main course folder **Automated Deployment with Databricks Asset Bundles** you should see a new folder called **var_your_user_name**.\n",
    "- **NOTE:** You might have to refresh folder. You can do that by selecting any folder and then navigating back to the main course folder.\n",
    "\n",
    "\n",
    "**NOTES:** \n",
    "- Personal Access Token (PAT) must be enabled in the workspace.\n",
    "- Typically, use secret scopes. For the purpose of the course, we are storing the PAT in a folder called **var_your_user_name** for demonstration purposes."
   ]
  },
  {
   "cell_type": "markdown",
   "metadata": {
    "application/vnd.databricks.v1+cell": {
     "cellMetadata": {},
     "inputWidgets": {},
     "nuid": "9449e2aa-de3f-4e98-b07f-0007aeb7a00b",
     "showTitle": false,
     "tableResultSettingsMap": {},
     "title": ""
    }
   },
   "source": [
    "Run the following cell to load the credentials. These values will be recorded as follows:\n",
    "- In the environment variables **`DATABRICKS_HOST`** and **`DATABRICKS_TOKEN`** for [authentication](https://docs.databricks.com/en/dev-tools/auth/index.html) by the Databricks CLI used in subsequent notebooks.\n",
    "- Since environment variables are limited in scope to the current execution context, the values are persisted to a [file in your workspace](https://docs.databricks.com/en/files/workspace.html#) for use by subsequent notebooks."
   ]
  },
  {
   "cell_type": "code",
   "execution_count": 0,
   "metadata": {
    "application/vnd.databricks.v1+cell": {
     "cellMetadata": {},
     "inputWidgets": {},
     "nuid": "1a8a6e9d-8ddd-4e84-9cde-7da2645fcdff",
     "showTitle": false,
     "tableResultSettingsMap": {},
     "title": ""
    }
   },
   "outputs": [],
   "source": [
    "creds = DA.load_credentials()"
   ]
  },
  {
   "cell_type": "markdown",
   "metadata": {
    "application/vnd.databricks.v1+cell": {
     "cellMetadata": {},
     "inputWidgets": {},
     "nuid": "14db58d3-404e-4947-8974-2425a42bd3c5",
     "showTitle": false,
     "tableResultSettingsMap": {},
     "title": ""
    }
   },
   "source": [
    "Install the CLI to use with a Databricks Notebook. For this course, we will install it using a notebook we setup for you.\n",
    "\n",
    "For more information to install the Databricks CLI, view the [Install or update the Databricks CLI](https://docs.databricks.com/aws/en/dev-tools/cli/install) documentation."
   ]
  },
  {
   "cell_type": "code",
   "execution_count": 0,
   "metadata": {
    "application/vnd.databricks.v1+cell": {
     "cellMetadata": {},
     "inputWidgets": {},
     "nuid": "648f76c9-bc36-490a-b30c-463cd2a16afc",
     "showTitle": false,
     "tableResultSettingsMap": {},
     "title": ""
    }
   },
   "outputs": [],
   "source": [
    "%run ./Includes/Classroom-Setup-Common-Install-CLI"
   ]
  },
  {
   "cell_type": "markdown",
   "metadata": {
    "application/vnd.databricks.v1+cell": {
     "cellMetadata": {},
     "inputWidgets": {},
     "nuid": "6febd9d5-4f2e-4027-b666-dd48c9ac26ef",
     "showTitle": false,
     "tableResultSettingsMap": {},
     "title": ""
    }
   },
   "source": [
    "Run the following cell to view the version of the CLI. You should see that you are using **Databricks CLI v0.240.0**.\n",
    "\n",
    "\n",
    "**NOTE:** View the documentation on running shell commands in Databricks [Code languages in notebooks](https://docs.databricks.com/aws/en/notebooks/notebooks-code#code-languages-in-notebooks)."
   ]
  },
  {
   "cell_type": "code",
   "execution_count": 0,
   "metadata": {
    "application/vnd.databricks.v1+cell": {
     "cellMetadata": {},
     "inputWidgets": {},
     "nuid": "e0e169dc-c122-4a01-a826-b9d11bb43007",
     "showTitle": false,
     "tableResultSettingsMap": {},
     "title": ""
    }
   },
   "outputs": [],
   "source": [
    "%sh\n",
    "databricks -v"
   ]
  },
  {
   "cell_type": "markdown",
   "metadata": {
    "application/vnd.databricks.v1+cell": {
     "cellMetadata": {},
     "inputWidgets": {},
     "nuid": "1b1ff665-48fa-4ed1-8fb2-2ba47b124c02",
     "showTitle": false,
     "tableResultSettingsMap": {},
     "title": ""
    }
   },
   "source": [
    "Run the `--help` command to view documentation for the Databrick CLI.\n",
    "\n",
    "[Databricks CLI commands](https://docs.databricks.com/en/dev-tools/cli/commands.html#databricks-cli-commands) documentation."
   ]
  },
  {
   "cell_type": "code",
   "execution_count": 0,
   "metadata": {
    "application/vnd.databricks.v1+cell": {
     "cellMetadata": {},
     "inputWidgets": {},
     "nuid": "d49e3098-927f-498f-b4b1-b312b8a8aecf",
     "showTitle": false,
     "tableResultSettingsMap": {},
     "title": ""
    }
   },
   "outputs": [],
   "source": [
    "%sh\n",
    "databricks --help"
   ]
  },
  {
   "cell_type": "markdown",
   "metadata": {
    "application/vnd.databricks.v1+cell": {
     "cellMetadata": {},
     "inputWidgets": {},
     "nuid": "9302de08-92dd-42c5-9dc3-99ba4e5f694b",
     "showTitle": false,
     "tableResultSettingsMap": {},
     "title": ""
    }
   },
   "source": [
    "View help for commands to manage catalogs."
   ]
  },
  {
   "cell_type": "code",
   "execution_count": 0,
   "metadata": {
    "application/vnd.databricks.v1+cell": {
     "cellMetadata": {},
     "inputWidgets": {},
     "nuid": "93618c66-082b-4150-b43a-0dd4cc75026e",
     "showTitle": false,
     "tableResultSettingsMap": {},
     "title": ""
    }
   },
   "outputs": [],
   "source": [
    "%sh\n",
    "databricks catalogs --help"
   ]
  },
  {
   "cell_type": "markdown",
   "metadata": {
    "application/vnd.databricks.v1+cell": {
     "cellMetadata": {},
     "inputWidgets": {},
     "nuid": "96bd40c0-f1c2-45f2-a736-e6391aabbcdd",
     "showTitle": false,
     "tableResultSettingsMap": {},
     "title": ""
    }
   },
   "source": [
    "View available catalogs using the Databricks CLI."
   ]
  },
  {
   "cell_type": "code",
   "execution_count": 0,
   "metadata": {
    "application/vnd.databricks.v1+cell": {
     "cellMetadata": {},
     "inputWidgets": {},
     "nuid": "d9e1805b-6eeb-4ba5-89fc-c4a22b59286b",
     "showTitle": false,
     "tableResultSettingsMap": {},
     "title": ""
    }
   },
   "outputs": [],
   "source": [
    "%sh\n",
    "databricks catalogs list"
   ]
  },
  {
   "cell_type": "markdown",
   "metadata": {
    "application/vnd.databricks.v1+cell": {
     "cellMetadata": {},
     "inputWidgets": {},
     "nuid": "74b6cc85-839b-4bc6-a8bd-eab58e15b8cc",
     "showTitle": false,
     "tableResultSettingsMap": {},
     "title": ""
    }
   },
   "source": [
    "\n",
    "&copy; 2025 Databricks, Inc. All rights reserved.<br/>\n",
    "Apache, Apache Spark, Spark and the Spark logo are trademarks of the \n",
    "<a href=\"https://www.apache.org/\">Apache Software Foundation</a>.<br/>\n",
    "<br/><a href=\"https://databricks.com/privacy-policy\">Privacy Policy</a> | \n",
    "<a href=\"https://databricks.com/terms-of-use\">Terms of Use</a> | \n",
    "<a href=\"https://help.databricks.com/\">Support</a>"
   ]
  }
 ],
 "metadata": {
  "application/vnd.databricks.v1+notebook": {
   "computePreferences": null,
   "dashboards": [],
   "environmentMetadata": null,
   "inputWidgetPreferences": null,
   "language": "python",
   "notebookMetadata": {
    "pythonIndentUnit": 4
   },
   "notebookName": "0 - REQUIRED - Course Setup and Authentication",
   "widgets": {}
  },
  "language_info": {
   "name": "python"
  }
 },
 "nbformat": 4,
 "nbformat_minor": 0
}