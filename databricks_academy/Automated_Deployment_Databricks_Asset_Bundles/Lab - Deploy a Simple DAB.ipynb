{
 "cells": [
  {
   "cell_type": "markdown",
   "metadata": {
    "application/vnd.databricks.v1+cell": {
     "cellMetadata": {},
     "inputWidgets": {},
     "nuid": "22cb043f-94be-43c7-8d9a-42716f59b832",
     "showTitle": false,
     "tableResultSettingsMap": {},
     "title": ""
    }
   },
   "source": [
    "\n",
    "<div style=\"text-align: center; line-height: 0; padding-top: 9px;\">\n",
    "  <img src=\"https://databricks.com/wp-content/uploads/2018/03/db-academy-rgb-1200px.png\" alt=\"Databricks Learning\">\n",
    "</div>\n"
   ]
  },
  {
   "cell_type": "markdown",
   "metadata": {
    "application/vnd.databricks.v1+cell": {
     "cellMetadata": {},
     "inputWidgets": {},
     "nuid": "90eb5fe7-b4ec-42cb-801a-b57c79deb8fe",
     "showTitle": false,
     "tableResultSettingsMap": {},
     "title": ""
    }
   },
   "source": [
    "# 02 - Deploy a Simple DAB\n",
    "\n",
    "### Estimated Duration: 15-20 minutes\n",
    "\n",
    "In this lab, you will:\n",
    "\n",
    "1. Create a simple job using the UI.\n",
    "\n",
    "2. Examine its YAML configuration.\n",
    "\n",
    "3. Use the YAML configuration to update the **databricks.yml** configuration file.\n",
    "\n",
    "4. Use the Databricks CLI to run the following DAB commands:\n",
    "    - Validate the job\n",
    "    - Deploy the job\n",
    "    - Run the job\n"
   ]
  },
  {
   "cell_type": "markdown",
   "metadata": {
    "application/vnd.databricks.v1+cell": {
     "cellMetadata": {},
     "inputWidgets": {},
     "nuid": "7e19b27c-ac12-4f98-8b49-e6a470a43dbe",
     "showTitle": false,
     "tableResultSettingsMap": {},
     "title": ""
    }
   },
   "source": [
    "## REQUIRED - SELECT CLASSIC COMPUTE\n",
    "\n",
    "Before executing cells in this notebook, please select your classic compute cluster in the lab. Be aware that **Serverless** is enabled by default.\n",
    "\n",
    "Follow these steps to select the classic compute cluster:\n",
    "\n",
    "1. Navigate to the top-right of this notebook and click the drop-down menu to select your cluster. By default, the notebook will use **Serverless**.\n",
    "\n",
    "1. If your cluster is available, select it and continue to the next cell. If the cluster is not shown:\n",
    "\n",
    "  - In the drop-down, select **More**.\n",
    "\n",
    "  - In the **Attach to an existing compute resource** pop-up, select the first drop-down. You will see a unique cluster name in that drop-down. Please select that cluster.\n",
    "\n",
    "**NOTE:** If your cluster has terminated, you might need to restart it in order to select it. To do this:\n",
    "\n",
    "1. Right-click on **Compute** in the left navigation pane and select *Open in new tab*.\n",
    "\n",
    "1. Find the triangle icon to the right of your compute cluster name and click it.\n",
    "\n",
    "1. Wait a few minutes for the cluster to start.\n",
    "\n",
    "1. Once the cluster is running, complete the steps above to select your cluster."
   ]
  },
  {
   "cell_type": "markdown",
   "metadata": {
    "application/vnd.databricks.v1+cell": {
     "cellMetadata": {},
     "inputWidgets": {},
     "nuid": "f9b0fdc3-dc3d-4077-94d9-52c5eebaf292",
     "showTitle": false,
     "tableResultSettingsMap": {},
     "title": ""
    }
   },
   "source": [
    "## A. Classroom Setup\n",
    "\n",
    "Run the following cell to configure your working environment for this course.\n",
    "\n",
    "**NOTE:** The `DA` object is only used in Databricks Academy courses and is not available outside of these courses. It will dynamically reference the information needed to run the course."
   ]
  },
  {
   "cell_type": "code",
   "execution_count": 0,
   "metadata": {
    "application/vnd.databricks.v1+cell": {
     "cellMetadata": {},
     "inputWidgets": {},
     "nuid": "e4b9f81a-0d49-4793-94a7-bd2fba1240bb",
     "showTitle": false,
     "tableResultSettingsMap": {},
     "title": ""
    }
   },
   "outputs": [],
   "source": [
    "%run ../Includes/Classroom-Setup-02L"
   ]
  },
  {
   "cell_type": "markdown",
   "metadata": {
    "application/vnd.databricks.v1+cell": {
     "cellMetadata": {},
     "inputWidgets": {},
     "nuid": "a611a090-068b-43b9-a797-e643312e464d",
     "showTitle": false,
     "tableResultSettingsMap": {},
     "title": ""
    }
   },
   "source": [
    "## IMPORTANT LAB INFORMATION\n",
    "\n",
    "Recall that your credentials are stored in a file when running [0 - REQUIRED - Course Setup and Authentication]($../0 - REQUIRED - Course Setup and Authentication).\n",
    "\n",
    "If you end your lab or your lab session times out, your environment will be reset.\n",
    "\n",
    "If you encounter an error regarding unavailable catalogs or if your Databricks CLI is not authenticated, you will need to rerun the [0 - REQUIRED - Course Setup and Authentication]($../0 - REQUIRED - Course Setup and Authentication) notebook to recreate the catalogs and your Databricks CLI credentials.\n",
    "\n",
    "**Use classic compute to use the CLI through a notebook.**"
   ]
  },
  {
   "cell_type": "markdown",
   "metadata": {
    "application/vnd.databricks.v1+cell": {
     "cellMetadata": {},
     "inputWidgets": {},
     "nuid": "af48c2f6-22b1-4caf-a6a6-8c687bf464a4",
     "showTitle": false,
     "tableResultSettingsMap": {},
     "title": ""
    }
   },
   "source": [
    "## SCENARIO\n",
    "\n",
    "You are in charge of deploying Databricks projects for your CI/CD pipelines in your organization using Databricks Asset Bundles. A coworker has sent you a notebook located in **./src/our_project_code**, and they want your help to begin the CI/CD process to deploy their project.\n",
    "\n",
    "To start, let's first deploy the project to the development environment. Your task is to retrieve the YAML job configuration and update the **databricks.yml** bundle file located in the **02L - Deploy a Simple DAB** folder. The notebook given to you simply creates a simple bronze table and silver table using the development data **nyctaxi_raw** within your **username_1_dev** catalog. The dev catalog will be specified within the job parameters.\n",
    "\n",
    "Follow the instructions below to complete your task.\n"
   ]
  },
  {
   "cell_type": "markdown",
   "metadata": {
    "application/vnd.databricks.v1+cell": {
     "cellMetadata": {},
     "inputWidgets": {},
     "nuid": "236b85ec-e206-4c5d-a727-6fbaeeaf699e",
     "showTitle": false,
     "tableResultSettingsMap": {},
     "title": ""
    }
   },
   "source": [
    "## B. Preview the Development Data\n",
    "Preview the **nyctaxi_raw** data in your **username_1_dev** catalog. Notice that the development data contains a small sample of the production data (100 rows)."
   ]
  },
  {
   "cell_type": "code",
   "execution_count": 0,
   "metadata": {
    "application/vnd.databricks.v1+cell": {
     "cellMetadata": {},
     "inputWidgets": {},
     "nuid": "84c4f64d-7b95-47a5-8957-c9b5c25dd5e2",
     "showTitle": false,
     "tableResultSettingsMap": {},
     "title": ""
    }
   },
   "outputs": [],
   "source": [
    "spark.sql(f'''\n",
    "SELECT *\n",
    "FROM {DA.catalog_dev}.default.nyctaxi_raw\n",
    "''').display()"
   ]
  },
  {
   "cell_type": "markdown",
   "metadata": {
    "application/vnd.databricks.v1+cell": {
     "cellMetadata": {},
     "inputWidgets": {},
     "nuid": "a1b65f95-79d7-4a0d-98c0-06afbee9175e",
     "showTitle": false,
     "tableResultSettingsMap": {},
     "title": ""
    }
   },
   "source": [
    "## C. TO DO: STEPS\n",
    "\n"
   ]
  },
  {
   "cell_type": "markdown",
   "metadata": {
    "application/vnd.databricks.v1+cell": {
     "cellMetadata": {},
     "inputWidgets": {},
     "nuid": "7ae53175-95d8-48c1-af3c-ddf9e63a693b",
     "showTitle": false,
     "tableResultSettingsMap": {},
     "title": ""
    }
   },
   "source": [
    "1. Run the following cell to obtain your cluster id for the lab. You will need this for the YAML configuration.\n",
    "\n",
    "    **NOTE:** By default, if you create the job using the UI and specify the required cluster, the cluster ID will already by shown in the YAML configuration. You can also obtain it using the code below."
   ]
  },
  {
   "cell_type": "code",
   "execution_count": 0,
   "metadata": {
    "application/vnd.databricks.v1+cell": {
     "cellMetadata": {},
     "inputWidgets": {},
     "nuid": "65457ad4-2cd0-4bb7-bc86-adc87de79c8b",
     "showTitle": false,
     "tableResultSettingsMap": {},
     "title": ""
    }
   },
   "outputs": [],
   "source": [
    "spark.conf.get(\"spark.databricks.clusterUsageTags.clusterId\")"
   ]
  },
  {
   "cell_type": "markdown",
   "metadata": {
    "application/vnd.databricks.v1+cell": {
     "cellMetadata": {},
     "inputWidgets": {},
     "nuid": "e89677c8-5eca-44b4-b2f7-92e1cf2c68ff",
     "showTitle": false,
     "tableResultSettingsMap": {},
     "title": ""
    }
   },
   "source": [
    "2. Get the YAML configuration for the job to deploy the notebook **./src/our_project_code** by creating the job using the UI.\n",
    "\n",
    "    **HINT:** The best way to get the necessary YAML job configuration is to manually create the job and copy the configuration. You can also refer to the [Databricks REST API reference](https://docs.databricks.com/api/workspace/introduction) for additional help.\n",
    "\n",
    "    The job has the following requirements:\n",
    "\n",
    "   - Name the job **lab02_job_yourfirstname**.\n",
    "\n",
    "   - Create a job with a single task named **create_nyc_tables** using the **./02L - Deploy a Simple DAB/src/our_project_code** notebook.\n",
    "\n",
    "   - Use your current lab cluster for the job's compute (selecting your lab compute cluster will automatically return the cluster ID in the YAML configuration).\n",
    "\n",
    "   - Add two **Job parameters** (make sure these are for the job, not the task):\n",
    "\n",
    "     - **catalog_name** referencing the catalog shown in **Step A**.\n",
    "     \n",
    "     - **display_target** with the value **Development**.\n",
    "\n",
    "   - (Optional) Under **Job notifications**, send an email notification to yourself when the **Job** completes successfully (ensure the notification is for the job, not the task)."
   ]
  },
  {
   "cell_type": "markdown",
   "metadata": {
    "application/vnd.databricks.v1+cell": {
     "cellMetadata": {},
     "inputWidgets": {},
     "nuid": "7fcd8e24-e1da-40f2-8629-484e3fe8758e",
     "showTitle": false,
     "tableResultSettingsMap": {},
     "title": ""
    }
   },
   "source": [
    "3. Once you have created the job, copy the YAML configuration.\n",
    "\n",
    "    **NOTE:** You can also test the configuration by running the job if you would like."
   ]
  },
  {
   "cell_type": "markdown",
   "metadata": {
    "application/vnd.databricks.v1+cell": {
     "cellMetadata": {},
     "inputWidgets": {},
     "nuid": "5923b29a-5324-4a85-8dc3-79970b441228",
     "showTitle": false,
     "tableResultSettingsMap": {},
     "title": ""
    }
   },
   "source": [
    "4. Modify the **databricks.yml** configuration file for your Databricks Asset Bundle (DAB) in the folder **02 - Deploy a Simple DAB**. Complete the following steps:\n",
    "\n",
    "   - Add the job YAML configuration from the previous step under the RESOURCES comment in the **databricks.yml** file. In the job configuration:\n",
    "\n",
    "     - Ensure the correct extension for the notebook is included (**HINT:** The notebook is an SQL notebook).\n",
    "     \n",
    "     - Modify the notebook path to use a relative path. (**HINT: ./src/our_project_code.sql**)\n",
    "     \n",
    "\n",
    "\n",
    "   - In the **target** mapping, create a target environment called **dev** with the following configurations:\n",
    "     \n",
    "     - Set **dev** as the default target.\n",
    "     \n",
    "     - Set it to development mode.\n",
    "     \n",
    "     - For **Workspace** within **targets**, add the following:\n",
    "       \n",
    "```yaml\n",
    "workspace:\n",
    "  root_path: /Workspace/Users/${workspace.current_user.userName}/.bundle/${bundle.name}/${bundle.target}\n",
    "```\n",
    "\n",
    "**HINT:** View the Databricks Asset Bundles [Mappings](https://docs.databricks.com/en/dev-tools/bundles/settings.html#mappings) documentation for additional information. An example solution to the **databricks.yml** file can be found in the accompanying **solution** folder.\n",
    "\n",
    "\n",
    "<br></br>\n",
    "### NOTE - PLEASE READ!\n",
    "\n",
    "Starting December 20, 2024, the [default format for new notebooks is now IPYNB (Jupyter) format](https://docs.databricks.com/en/release-notes/product/2024/december.html#the-default-format-for-new-notebooks-is-now-ipynb-jupyter-format). This may cause issues when referencing notebooks with DABs, as you must specify the file extension.\n",
    "\n",
    "For the purpose of this course, all notebooks will be in either **.py** or **.sql** format. However, to confirm the file extension of a notebook, complete the following steps:\n",
    "\n",
    "- In the top navigation bar, below the notebook name, select **File**.\n",
    "\n",
    "- Scroll down and find the **Notebook format** option, then select it.\n",
    "\n",
    "- Here, you should see the notebook format listed as **Source (.scala, .py, .sql, .r)**.\n"
   ]
  },
  {
   "cell_type": "markdown",
   "metadata": {
    "application/vnd.databricks.v1+cell": {
     "cellMetadata": {},
     "inputWidgets": {},
     "nuid": "4dc00ccd-b40a-4b48-bf25-f91fcadce5a2",
     "showTitle": false,
     "tableResultSettingsMap": {},
     "title": ""
    }
   },
   "source": [
    "## Deploy the DAB to the Development Environment"
   ]
  },
  {
   "cell_type": "markdown",
   "metadata": {
    "application/vnd.databricks.v1+cell": {
     "cellMetadata": {},
     "inputWidgets": {},
     "nuid": "445cc270-7147-4f56-ac71-ac6abf3a9436",
     "showTitle": false,
     "tableResultSettingsMap": {},
     "title": ""
    }
   },
   "source": [
    "1. Run the Databricks CLI command below to confirm the Databricks CLI is authenticated.\n",
    "\n",
    "<br></br>\n",
    "##### DATABRICKS CLI ERROR TROUBLESHOOTING:\n",
    "  - If you encounter an Databricks CLI authentication error, it means you haven't created the PAT token specified in notebook **0 - REQUIRED - Course Setup and Authentication**. You will need to set up Databricks CLI authentication as shown in that notebook.\n",
    "\n",
    "  - If you encounter the error below, it means your `databricks.yml` file is invalid due to a modification. Even for non-DAB CLI commands, the `databricks.yml` file is still required, as it may contain important authentication details, such as the host and profile, which are utilized by the CLI commands.\n",
    "\n",
    "![CLI Invalid YAML](../Includes/images/databricks_cli_error_invalid_yaml.png)"
   ]
  },
  {
   "cell_type": "code",
   "execution_count": 0,
   "metadata": {
    "application/vnd.databricks.v1+cell": {
     "cellMetadata": {},
     "inputWidgets": {},
     "nuid": "bdf2d44c-4638-447d-bd12-b4cca0460bf0",
     "showTitle": false,
     "tableResultSettingsMap": {},
     "title": ""
    }
   },
   "outputs": [],
   "source": [
    "%sh\n",
    "databricks catalogs list"
   ]
  },
  {
   "cell_type": "markdown",
   "metadata": {
    "application/vnd.databricks.v1+cell": {
     "cellMetadata": {},
     "inputWidgets": {},
     "nuid": "678dfc14-2073-4f3e-bd4d-24c445e00f03",
     "showTitle": false,
     "tableResultSettingsMap": {},
     "title": ""
    }
   },
   "source": [
    "2. Check the version of the Databricks CLI. Confirm that the version is **v0.240.0**."
   ]
  },
  {
   "cell_type": "code",
   "execution_count": 0,
   "metadata": {
    "application/vnd.databricks.v1+cell": {
     "cellMetadata": {},
     "inputWidgets": {},
     "nuid": "0c7dbf0f-3208-4f6b-a4bd-8c05f3883207",
     "showTitle": false,
     "tableResultSettingsMap": {},
     "title": ""
    }
   },
   "outputs": [],
   "source": [
    "%sh\n",
    "databricks -v"
   ]
  },
  {
   "cell_type": "markdown",
   "metadata": {
    "application/vnd.databricks.v1+cell": {
     "cellMetadata": {},
     "inputWidgets": {},
     "nuid": "c8022b0a-04eb-42c1-aa50-941d9be78189",
     "showTitle": false,
     "tableResultSettingsMap": {},
     "title": ""
    }
   },
   "source": [
    "3. Use the `ls` command to view the available files in the current directory. Confirm that you see the **databricks.yml** file, the **src** folder, and the **02L - Deploy a Simple DAB** notebook."
   ]
  },
  {
   "cell_type": "code",
   "execution_count": 0,
   "metadata": {
    "application/vnd.databricks.v1+cell": {
     "cellMetadata": {},
     "inputWidgets": {},
     "nuid": "dd68d5cd-c450-4583-8eb9-50c39bb2c45d",
     "showTitle": false,
     "tableResultSettingsMap": {},
     "title": ""
    }
   },
   "outputs": [],
   "source": [
    "%sh\n",
    "ls"
   ]
  },
  {
   "cell_type": "markdown",
   "metadata": {
    "application/vnd.databricks.v1+cell": {
     "cellMetadata": {},
     "inputWidgets": {},
     "nuid": "f1b45e11-3d97-4b5e-950a-9ee5437734fc",
     "showTitle": false,
     "tableResultSettingsMap": {},
     "title": ""
    }
   },
   "source": [
    "4. Validate your **databricks.yml** bundle configuration file using the Databricks CLI. Run the cell and confirm that the validation was successful. If there is an error, fix it.\n",
    "\n",
    "    **HINT:** You can refer to the documentation for the [bundle command group](https://docs.databricks.com/en/dev-tools/cli/bundle-commands.html) for help with validating, deploying, running, and destroying a bundle."
   ]
  },
  {
   "cell_type": "code",
   "execution_count": 0,
   "metadata": {
    "application/vnd.databricks.v1+cell": {
     "cellMetadata": {},
     "inputWidgets": {},
     "nuid": "9951db90-50cf-459e-8234-4251ff529743",
     "showTitle": false,
     "tableResultSettingsMap": {},
     "title": ""
    }
   },
   "outputs": [],
   "source": [
    "%sh\n",
    "databricks bundle validate"
   ]
  },
  {
   "cell_type": "markdown",
   "metadata": {
    "application/vnd.databricks.v1+cell": {
     "cellMetadata": {},
     "inputWidgets": {},
     "nuid": "097eb65c-ed9c-46a2-acc2-69dca8e6127a",
     "showTitle": false,
     "tableResultSettingsMap": {},
     "title": ""
    }
   },
   "source": [
    "5. Deploy the bundle using the development environment target with the Databricks CLI.\n",
    "\n",
    "    After the cell completes, manually check to see if the job was created successfully. The job name will be **[dev user_name] lab02_job_firstname**.\n",
    "\n",
    "    Specifically:\n",
    "    - check the task and make sure the notebook is referenced correctly\n",
    "    - check the job parameters and confirm they are referencing the correct catalog\n",
    "\n",
    "    **NOTE:** This will take about a minute to complete.\n",
    "\n",
    "    **HINT:** You can refer to the documentation for the [bundle command group](https://docs.databricks.com/en/dev-tools/cli/bundle-commands.html) for help with validating, deploying, running, and destroying a bundle.\n"
   ]
  },
  {
   "cell_type": "code",
   "execution_count": 0,
   "metadata": {
    "application/vnd.databricks.v1+cell": {
     "cellMetadata": {},
     "inputWidgets": {},
     "nuid": "e7db2498-ac98-4b9d-9fb9-9f18d6b87706",
     "showTitle": false,
     "tableResultSettingsMap": {},
     "title": ""
    }
   },
   "outputs": [],
   "source": [
    "%sh\n",
    "databricks bundle deploy -t dev"
   ]
  },
  {
   "cell_type": "markdown",
   "metadata": {
    "application/vnd.databricks.v1+cell": {
     "cellMetadata": {},
     "inputWidgets": {},
     "nuid": "a7bfe7de-bce6-499e-8ed7-26146f489b04",
     "showTitle": false,
     "tableResultSettingsMap": {},
     "title": ""
    }
   },
   "source": [
    "6. Run the bundle using the target development environment with the Databricks CLI.\n",
    "\n",
    "    **NOTE:** This will take about 1-2 minutes to complete.\n",
    "\n",
    "    **HINT:** You can refer to the documentation for the [bundle command group](https://docs.databricks.com/en/dev-tools/cli/bundle-commands.html) for help with validating, deploying, running, and destroying a bundle.\n",
    "\n",
    "    **HINT:** Remember to use the key name from the resources mapping in the **databricks.yml** file (your name will differ):\n",
    "\n",
    "```\n",
    "resources:\n",
    "  jobs:\n",
    "    lab02_job_yourfirstname:    # <--- The job key name here\n",
    "      name: lab02_job_yourfirstname\n",
    "```\n"
   ]
  },
  {
   "cell_type": "code",
   "execution_count": 0,
   "metadata": {
    "application/vnd.databricks.v1+cell": {
     "cellMetadata": {},
     "inputWidgets": {},
     "nuid": "2a713d7e-091b-439c-84ae-2e4cb5537499",
     "showTitle": false,
     "tableResultSettingsMap": {},
     "title": ""
    }
   },
   "outputs": [],
   "source": [
    "%sh\n",
    "databricks bundle run -t dev lab02_job_peter"
   ]
  },
  {
   "cell_type": "markdown",
   "metadata": {
    "application/vnd.databricks.v1+cell": {
     "cellMetadata": {},
     "inputWidgets": {},
     "nuid": "7dbba84c-1ff1-4095-8129-37f711f32c5b",
     "showTitle": false,
     "tableResultSettingsMap": {},
     "title": ""
    }
   },
   "source": [
    "7. After the job successfully completes, run the following cell to confirm that the bronze table from your job was created correctly.\n",
    "\n",
    "**NOTE:** The job created two tables in your **username_1_dev** catalog, **nyctaxi_bronze** and **nyctaxi_silver**. We will simply check the number of rows in the bronze table."
   ]
  },
  {
   "cell_type": "code",
   "execution_count": 0,
   "metadata": {
    "application/vnd.databricks.v1+cell": {
     "cellMetadata": {},
     "inputWidgets": {},
     "nuid": "ca6e30c5-17b3-477f-b45f-9d8f89ce9b46",
     "showTitle": false,
     "tableResultSettingsMap": {},
     "title": ""
    }
   },
   "outputs": [],
   "source": [
    "check_nyctaxi_bronze_table(user_catalog = DA.catalog_dev, total_count=100)"
   ]
  },
  {
   "cell_type": "markdown",
   "metadata": {
    "application/vnd.databricks.v1+cell": {
     "cellMetadata": {},
     "inputWidgets": {},
     "nuid": "18ee0483-2a22-4ea9-9e41-220562c9160f",
     "showTitle": false,
     "tableResultSettingsMap": {},
     "title": ""
    }
   },
   "source": [
    "8. Lastly, destroy the bundle you created for this lab.\n",
    "\n",
    "    **HINT:** You can refer to the documentation for the [bundle command group](https://docs.databricks.com/en/dev-tools/cli/bundle-commands.html) for help with validating, deploying, running, and destroying a bundle.\n"
   ]
  },
  {
   "cell_type": "code",
   "execution_count": 0,
   "metadata": {
    "application/vnd.databricks.v1+cell": {
     "cellMetadata": {},
     "inputWidgets": {},
     "nuid": "be88d81e-6e17-4c2a-bf60-1a55392a738d",
     "showTitle": false,
     "tableResultSettingsMap": {},
     "title": ""
    }
   },
   "outputs": [],
   "source": [
    "%sh\n",
    "databricks bundle destroy --auto-approve"
   ]
  },
  {
   "cell_type": "markdown",
   "metadata": {
    "application/vnd.databricks.v1+cell": {
     "cellMetadata": {},
     "inputWidgets": {},
     "nuid": "9be3386b-b258-49dd-93f5-577457da27ea",
     "showTitle": false,
     "tableResultSettingsMap": {},
     "title": ""
    }
   },
   "source": [
    "\n",
    "&copy; 2025 Databricks, Inc. All rights reserved.<br/>\n",
    "Apache, Apache Spark, Spark and the Spark logo are trademarks of the \n",
    "<a href=\"https://www.apache.org/\">Apache Software Foundation</a>.<br/>\n",
    "<br/><a href=\"https://databricks.com/privacy-policy\">Privacy Policy</a> | \n",
    "<a href=\"https://databricks.com/terms-of-use\">Terms of Use</a> | \n",
    "<a href=\"https://help.databricks.com/\">Support</a>"
   ]
  }
 ],
 "metadata": {
  "application/vnd.databricks.v1+notebook": {
   "computePreferences": null,
   "dashboards": [],
   "environmentMetadata": null,
   "inputWidgetPreferences": null,
   "language": "python",
   "notebookMetadata": {},
   "notebookName": "Lab - Deploy a Simple DAB",
   "widgets": {}
  },
  "language_info": {
   "name": "python"
  }
 },
 "nbformat": 4,
 "nbformat_minor": 0
}